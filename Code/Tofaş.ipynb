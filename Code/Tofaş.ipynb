{
 "cells": [
  {
   "cell_type": "code",
   "execution_count": 1,
   "id": "f84892e5",
   "metadata": {},
   "outputs": [],
   "source": [
    "import pandas as pd\n",
    "import seaborn as sns\n",
    "import matplotlib.pyplot as plt\n",
    "import numpy as np\n",
    "from sklearn.metrics import mean_absolute_error, mean_squared_error, accuracy_score\n",
    "from xgboost import XGBRegressor\n",
    "from lightgbm import LGBMRegressor\n",
    "from sklearn.ensemble import RandomForestRegressor, GradientBoostingRegressor\n",
    "from sklearn.linear_model import LinearRegression\n",
    "from sklearn.model_selection import GridSearchCV, cross_val_score,cross_validate, RandomizedSearchCV, train_test_split\n",
    "import optuna\n",
    "import xgboost as xgb\n",
    "from sklearn.metrics import r2_score \n",
    "import joblib"
   ]
  },
  {
   "cell_type": "code",
   "execution_count": 2,
   "id": "d0babef9",
   "metadata": {},
   "outputs": [],
   "source": [
    "df2 = pd.read_excel(\"../markaFile/Tofaş.xlsx\",sheet_name=\"Sheet1\")"
   ]
  },
  {
   "cell_type": "code",
   "execution_count": 3,
   "id": "a8beca20",
   "metadata": {},
   "outputs": [],
   "source": [
    "df2.drop(df2[(df2[\"Fiyat\"] > 500000)].index, axis=0, inplace=True)"
   ]
  },
  {
   "cell_type": "code",
   "execution_count": 4,
   "id": "1d7c78af",
   "metadata": {},
   "outputs": [],
   "source": [
    "df2.drop(df2[(df2[\"Fiyat\"] < 60000)].index, axis=0, inplace=True)"
   ]
  },
  {
   "cell_type": "code",
   "execution_count": 5,
   "id": "f5dc9aab",
   "metadata": {
    "scrolled": true
   },
   "outputs": [],
   "source": [
    "df2.drop(\"Unnamed: 0\",axis=1, inplace=True)"
   ]
  },
  {
   "cell_type": "code",
   "execution_count": 6,
   "id": "a96cc1ca",
   "metadata": {},
   "outputs": [
    {
     "data": {
      "text/html": [
       "<div>\n",
       "<style scoped>\n",
       "    .dataframe tbody tr th:only-of-type {\n",
       "        vertical-align: middle;\n",
       "    }\n",
       "\n",
       "    .dataframe tbody tr th {\n",
       "        vertical-align: top;\n",
       "    }\n",
       "\n",
       "    .dataframe thead th {\n",
       "        text-align: right;\n",
       "    }\n",
       "</style>\n",
       "<table border=\"1\" class=\"dataframe\">\n",
       "  <thead>\n",
       "    <tr style=\"text-align: right;\">\n",
       "      <th></th>\n",
       "      <th>Fiyat</th>\n",
       "      <th>Yıl</th>\n",
       "      <th>Motor Gücü</th>\n",
       "      <th>Motor Hacmi</th>\n",
       "      <th>Kilometre</th>\n",
       "      <th>Boya</th>\n",
       "      <th>Değişen</th>\n",
       "      <th>Seri_Doğan</th>\n",
       "      <th>Seri_Kartal</th>\n",
       "      <th>Seri_Murat</th>\n",
       "      <th>...</th>\n",
       "      <th>Model_Kartal 5 Vites</th>\n",
       "      <th>Model_L</th>\n",
       "      <th>Model_S</th>\n",
       "      <th>Model_SL</th>\n",
       "      <th>Model_SLX</th>\n",
       "      <th>Model_SLX ie</th>\n",
       "      <th>Model_Şahin 5 Vites</th>\n",
       "      <th>Yakıt Tipi_Benzin</th>\n",
       "      <th>Yakıt Tipi_LPG &amp; Benzin</th>\n",
       "      <th>Vites Tipi_Düz</th>\n",
       "    </tr>\n",
       "  </thead>\n",
       "  <tbody>\n",
       "    <tr>\n",
       "      <th>0</th>\n",
       "      <td>125000</td>\n",
       "      <td>-1.000000</td>\n",
       "      <td>-0.527778</td>\n",
       "      <td>0.100962</td>\n",
       "      <td>-0.823970</td>\n",
       "      <td>NaN</td>\n",
       "      <td>NaN</td>\n",
       "      <td>0</td>\n",
       "      <td>0</td>\n",
       "      <td>0</td>\n",
       "      <td>...</td>\n",
       "      <td>0</td>\n",
       "      <td>0</td>\n",
       "      <td>0</td>\n",
       "      <td>0</td>\n",
       "      <td>0</td>\n",
       "      <td>0</td>\n",
       "      <td>0</td>\n",
       "      <td>0</td>\n",
       "      <td>1</td>\n",
       "      <td>1</td>\n",
       "    </tr>\n",
       "    <tr>\n",
       "      <th>1</th>\n",
       "      <td>105000</td>\n",
       "      <td>-1.363636</td>\n",
       "      <td>-0.527778</td>\n",
       "      <td>0.100962</td>\n",
       "      <td>-0.224719</td>\n",
       "      <td>NaN</td>\n",
       "      <td>NaN</td>\n",
       "      <td>0</td>\n",
       "      <td>1</td>\n",
       "      <td>0</td>\n",
       "      <td>...</td>\n",
       "      <td>1</td>\n",
       "      <td>0</td>\n",
       "      <td>0</td>\n",
       "      <td>0</td>\n",
       "      <td>0</td>\n",
       "      <td>0</td>\n",
       "      <td>0</td>\n",
       "      <td>0</td>\n",
       "      <td>1</td>\n",
       "      <td>1</td>\n",
       "    </tr>\n",
       "    <tr>\n",
       "      <th>2</th>\n",
       "      <td>170000</td>\n",
       "      <td>-1.545455</td>\n",
       "      <td>-1.416667</td>\n",
       "      <td>0.100962</td>\n",
       "      <td>0.067416</td>\n",
       "      <td>NaN</td>\n",
       "      <td>NaN</td>\n",
       "      <td>0</td>\n",
       "      <td>0</td>\n",
       "      <td>0</td>\n",
       "      <td>...</td>\n",
       "      <td>0</td>\n",
       "      <td>0</td>\n",
       "      <td>0</td>\n",
       "      <td>0</td>\n",
       "      <td>0</td>\n",
       "      <td>0</td>\n",
       "      <td>0</td>\n",
       "      <td>0</td>\n",
       "      <td>1</td>\n",
       "      <td>1</td>\n",
       "    </tr>\n",
       "    <tr>\n",
       "      <th>3</th>\n",
       "      <td>240000</td>\n",
       "      <td>-1.181818</td>\n",
       "      <td>-0.166667</td>\n",
       "      <td>0.100962</td>\n",
       "      <td>-0.617633</td>\n",
       "      <td>NaN</td>\n",
       "      <td>NaN</td>\n",
       "      <td>1</td>\n",
       "      <td>0</td>\n",
       "      <td>0</td>\n",
       "      <td>...</td>\n",
       "      <td>0</td>\n",
       "      <td>0</td>\n",
       "      <td>0</td>\n",
       "      <td>0</td>\n",
       "      <td>0</td>\n",
       "      <td>1</td>\n",
       "      <td>0</td>\n",
       "      <td>0</td>\n",
       "      <td>1</td>\n",
       "      <td>1</td>\n",
       "    </tr>\n",
       "    <tr>\n",
       "      <th>4</th>\n",
       "      <td>168000</td>\n",
       "      <td>-1.636364</td>\n",
       "      <td>-0.527778</td>\n",
       "      <td>0.100962</td>\n",
       "      <td>-0.606742</td>\n",
       "      <td>9.0</td>\n",
       "      <td>3.0</td>\n",
       "      <td>1</td>\n",
       "      <td>0</td>\n",
       "      <td>0</td>\n",
       "      <td>...</td>\n",
       "      <td>0</td>\n",
       "      <td>0</td>\n",
       "      <td>0</td>\n",
       "      <td>0</td>\n",
       "      <td>1</td>\n",
       "      <td>0</td>\n",
       "      <td>0</td>\n",
       "      <td>0</td>\n",
       "      <td>1</td>\n",
       "      <td>1</td>\n",
       "    </tr>\n",
       "  </tbody>\n",
       "</table>\n",
       "<p>5 rows × 29 columns</p>\n",
       "</div>"
      ],
      "text/plain": [
       "    Fiyat       Yıl  Motor Gücü  Motor Hacmi  Kilometre  Boya  Değişen  \\\n",
       "0  125000 -1.000000   -0.527778     0.100962  -0.823970   NaN      NaN   \n",
       "1  105000 -1.363636   -0.527778     0.100962  -0.224719   NaN      NaN   \n",
       "2  170000 -1.545455   -1.416667     0.100962   0.067416   NaN      NaN   \n",
       "3  240000 -1.181818   -0.166667     0.100962  -0.617633   NaN      NaN   \n",
       "4  168000 -1.636364   -0.527778     0.100962  -0.606742   9.0      3.0   \n",
       "\n",
       "   Seri_Doğan  Seri_Kartal  Seri_Murat  ...  Model_Kartal 5 Vites  Model_L  \\\n",
       "0           0            0           0  ...                     0        0   \n",
       "1           0            1           0  ...                     1        0   \n",
       "2           0            0           0  ...                     0        0   \n",
       "3           1            0           0  ...                     0        0   \n",
       "4           1            0           0  ...                     0        0   \n",
       "\n",
       "   Model_S  Model_SL  Model_SLX  Model_SLX ie  Model_Şahin 5 Vites  \\\n",
       "0        0         0          0             0                    0   \n",
       "1        0         0          0             0                    0   \n",
       "2        0         0          0             0                    0   \n",
       "3        0         0          0             1                    0   \n",
       "4        0         0          1             0                    0   \n",
       "\n",
       "   Yakıt Tipi_Benzin  Yakıt Tipi_LPG & Benzin  Vites Tipi_Düz  \n",
       "0                  0                        1               1  \n",
       "1                  0                        1               1  \n",
       "2                  0                        1               1  \n",
       "3                  0                        1               1  \n",
       "4                  0                        1               1  \n",
       "\n",
       "[5 rows x 29 columns]"
      ]
     },
     "execution_count": 6,
     "metadata": {},
     "output_type": "execute_result"
    }
   ],
   "source": [
    "df2.head()"
   ]
  },
  {
   "cell_type": "code",
   "execution_count": 7,
   "id": "db61cfeb",
   "metadata": {},
   "outputs": [],
   "source": [
    "y = df2[\"Fiyat\"]\n",
    "X = df2.drop([\"Fiyat\"], axis=1)"
   ]
  },
  {
   "cell_type": "code",
   "execution_count": 8,
   "id": "67d342e0",
   "metadata": {},
   "outputs": [],
   "source": [
    "X_train, X_test, y_train, y_test = train_test_split(X, y, test_size=0.30, random_state=42)"
   ]
  },
  {
   "cell_type": "code",
   "execution_count": 9,
   "id": "2c86d3fb",
   "metadata": {},
   "outputs": [],
   "source": [
    "def set_model(model_list, X_train, X_test, y_train, y_test):\n",
    "    dataf = pd.DataFrame()\n",
    "\n",
    "    for i in range(len(model_list)):\n",
    "        algo_name = model_list[i][0]\n",
    "        algo = model_list[i][1]\n",
    "\n",
    "        model = algo.fit(X_train, y_train)\n",
    "\n",
    "        cv_result = cross_val_score(model,\n",
    "                                    X_train, y_train,\n",
    "                                    cv=5,\n",
    "                                    scoring=\"neg_mean_squared_error\")\n",
    "\n",
    "        y_pred = model.predict(X_test)\n",
    "        rmse = np.mean(np.sqrt(-cv_result))\n",
    "        data_list = {\"Model\": algo_name,\n",
    "                     \"TestDeger\": rmse,\n",
    "                     \"MSE\":mean_squared_error(y_test, y_pred),\n",
    "                     \"RMSE\": (np.sqrt(mean_squared_error(y_test, y_pred))),\n",
    "                     \"MAE\": mean_absolute_error(y_test, y_pred)}\n",
    "        dataf = dataf.append(data_list, ignore_index=True)\n",
    "\n",
    "    return dataf"
   ]
  },
  {
   "cell_type": "code",
   "execution_count": 10,
   "id": "980a2b64",
   "metadata": {},
   "outputs": [],
   "source": [
    "models = []\n",
    "#models.append(('Gradient Boosting Regressor', GradientBoostingRegressor()))\n",
    "models.append(('XGBModel', XGBRegressor(objective=\"reg:squarederror\",use_label_encoder=False)))\n",
    "#models.append(('LGBMModel', LGBMRegressor(use_missing=False)))\n",
    "#models.append(('LRModel', LinearRegression()))\n",
    "#models.append(('RFModel', RandomForestRegressor()))"
   ]
  },
  {
   "cell_type": "code",
   "execution_count": 11,
   "id": "e5f2ee92",
   "metadata": {},
   "outputs": [
    {
     "name": "stderr",
     "output_type": "stream",
     "text": [
      "C:\\Users\\senab\\AppData\\Local\\Temp\\ipykernel_1328\\3059390516.py:22: FutureWarning: The frame.append method is deprecated and will be removed from pandas in a future version. Use pandas.concat instead.\n",
      "  dataf = dataf.append(data_list, ignore_index=True)\n"
     ]
    },
    {
     "data": {
      "text/html": [
       "<div>\n",
       "<style scoped>\n",
       "    .dataframe tbody tr th:only-of-type {\n",
       "        vertical-align: middle;\n",
       "    }\n",
       "\n",
       "    .dataframe tbody tr th {\n",
       "        vertical-align: top;\n",
       "    }\n",
       "\n",
       "    .dataframe thead th {\n",
       "        text-align: right;\n",
       "    }\n",
       "</style>\n",
       "<table border=\"1\" class=\"dataframe\">\n",
       "  <thead>\n",
       "    <tr style=\"text-align: right;\">\n",
       "      <th></th>\n",
       "      <th>Model</th>\n",
       "      <th>TestDeger</th>\n",
       "      <th>MSE</th>\n",
       "      <th>RMSE</th>\n",
       "      <th>MAE</th>\n",
       "    </tr>\n",
       "  </thead>\n",
       "  <tbody>\n",
       "    <tr>\n",
       "      <th>0</th>\n",
       "      <td>XGBModel</td>\n",
       "      <td>35463.599025</td>\n",
       "      <td>1.131910e+09</td>\n",
       "      <td>33643.86382</td>\n",
       "      <td>25389.559469</td>\n",
       "    </tr>\n",
       "  </tbody>\n",
       "</table>\n",
       "</div>"
      ],
      "text/plain": [
       "      Model     TestDeger           MSE         RMSE           MAE\n",
       "0  XGBModel  35463.599025  1.131910e+09  33643.86382  25389.559469"
      ]
     },
     "execution_count": 11,
     "metadata": {},
     "output_type": "execute_result"
    }
   ],
   "source": [
    "df2_model = set_model(models, X_train, X_test, y_train, y_test)\n",
    "df2_model"
   ]
  },
  {
   "cell_type": "code",
   "execution_count": 12,
   "id": "11d3a13d",
   "metadata": {},
   "outputs": [],
   "source": [
    "def objective(n_trials):\n",
    "  params = {\n",
    "        'colsample_bytree': n_trials.suggest_categorical('colsample_bytree', [0.3,0.4,0.5,0.6,0.7,0.8,0.9, 1.0]),\n",
    "        'subsample': n_trials.suggest_categorical('subsample', [0.4,0.5,0.6,0.7,0.8,1.0]),\n",
    "        \"learning_rate\": n_trials.suggest_float(\"learning_rate\", 1e-4, 0.5, log=True),\n",
    "        'n_estimators': 10000,\n",
    "        \"max_depth\": n_trials.suggest_int(\"max_depth\", 3, 15),\n",
    "        'min_child_weight': n_trials.suggest_int('min_child_weight', 1, 300),\n",
    "    }\n",
    "  dtrain = xgb.DMatrix(data = X_train, label = y_train)\n",
    "  dval = xgb.DMatrix(data = X_test, label = y_test)\n",
    "\n",
    "  regressor = xgb.train(params, dtrain) \n",
    "  y_pred = regressor.predict(dval)\n",
    "  rmse = mean_squared_error(y_test, y_pred, squared=False)\n",
    "\n",
    "  return rmse"
   ]
  },
  {
   "cell_type": "code",
   "execution_count": 13,
   "id": "9290e414",
   "metadata": {},
   "outputs": [
    {
     "name": "stderr",
     "output_type": "stream",
     "text": [
      "\u001b[32m[I 2023-05-23 21:33:31,471]\u001b[0m A new study created in memory with name: no-name-3a0e9056-7678-4651-80db-4738fa1ff1d2\u001b[0m\n",
      "\u001b[32m[I 2023-05-23 21:33:31,560]\u001b[0m Trial 0 finished with value: 31599.182558129123 and parameters: {'colsample_bytree': 0.9, 'subsample': 0.5, 'learning_rate': 0.372726077258899, 'max_depth': 9, 'min_child_weight': 184}. Best is trial 0 with value: 31599.182558129123.\u001b[0m\n",
      "\u001b[32m[I 2023-05-23 21:33:31,572]\u001b[0m Trial 1 finished with value: 136896.34414579856 and parameters: {'colsample_bytree': 0.3, 'subsample': 1.0, 'learning_rate': 0.0004468485705255912, 'max_depth': 5, 'min_child_weight': 68}. Best is trial 0 with value: 31599.182558129123.\u001b[0m\n",
      "\u001b[32m[I 2023-05-23 21:33:31,585]\u001b[0m Trial 5 finished with value: 135867.58236838615 and parameters: {'colsample_bytree': 0.9, 'subsample': 0.5, 'learning_rate': 0.0012659546877637506, 'max_depth': 7, 'min_child_weight': 217}. Best is trial 0 with value: 31599.182558129123.\u001b[0m\n",
      "\u001b[32m[I 2023-05-23 21:33:31,590]\u001b[0m Trial 7 finished with value: 134905.56072832656 and parameters: {'colsample_bytree': 0.4, 'subsample': 0.4, 'learning_rate': 0.0020848333158060826, 'max_depth': 9, 'min_child_weight': 168}. Best is trial 0 with value: 31599.182558129123.\u001b[0m\n",
      "\u001b[32m[I 2023-05-23 21:33:31,597]\u001b[0m Trial 4 finished with value: 91196.44161321883 and parameters: {'colsample_bytree': 0.4, 'subsample': 0.6, 'learning_rate': 0.04656808696113012, 'max_depth': 5, 'min_child_weight': 295}. Best is trial 0 with value: 31599.182558129123.\u001b[0m\n",
      "\u001b[32m[I 2023-05-23 21:33:31,606]\u001b[0m Trial 2 finished with value: 137042.06255721286 and parameters: {'colsample_bytree': 0.8, 'subsample': 0.4, 'learning_rate': 0.000330682972229224, 'max_depth': 15, 'min_child_weight': 109}. Best is trial 0 with value: 31599.182558129123.\u001b[0m\n",
      "\u001b[32m[I 2023-05-23 21:33:31,607]\u001b[0m Trial 3 finished with value: 42422.61427190884 and parameters: {'colsample_bytree': 0.9, 'subsample': 0.4, 'learning_rate': 0.1455257086663689, 'max_depth': 7, 'min_child_weight': 29}. Best is trial 0 with value: 31599.182558129123.\u001b[0m\n",
      "\u001b[32m[I 2023-05-23 21:33:31,616]\u001b[0m Trial 6 finished with value: 133133.72872972934 and parameters: {'colsample_bytree': 1.0, 'subsample': 0.6, 'learning_rate': 0.0034513790841427063, 'max_depth': 3, 'min_child_weight': 158}. Best is trial 0 with value: 31599.182558129123.\u001b[0m\n",
      "\u001b[32m[I 2023-05-23 21:33:31,713]\u001b[0m Trial 8 finished with value: 82706.87758406257 and parameters: {'colsample_bytree': 0.3, 'subsample': 0.6, 'learning_rate': 0.05863442424103849, 'max_depth': 6, 'min_child_weight': 257}. Best is trial 0 with value: 31599.182558129123.\u001b[0m\n",
      "\u001b[32m[I 2023-05-23 21:33:31,726]\u001b[0m Trial 11 finished with value: 123227.43685278259 and parameters: {'colsample_bytree': 0.3, 'subsample': 0.4, 'learning_rate': 0.012338021309738859, 'max_depth': 6, 'min_child_weight': 292}. Best is trial 0 with value: 31599.182558129123.\u001b[0m\n",
      "\u001b[32m[I 2023-05-23 21:33:31,750]\u001b[0m Trial 10 finished with value: 39819.64482285413 and parameters: {'colsample_bytree': 0.9, 'subsample': 0.4, 'learning_rate': 0.18400816485121343, 'max_depth': 15, 'min_child_weight': 220}. Best is trial 0 with value: 31599.182558129123.\u001b[0m\n",
      "\u001b[32m[I 2023-05-23 21:33:31,770]\u001b[0m Trial 9 finished with value: 39159.587854604884 and parameters: {'colsample_bytree': 0.7, 'subsample': 0.8, 'learning_rate': 0.17318252115168184, 'max_depth': 15, 'min_child_weight': 220}. Best is trial 0 with value: 31599.182558129123.\u001b[0m\n",
      "\u001b[32m[I 2023-05-23 21:33:31,812]\u001b[0m Trial 15 finished with value: 117330.35690885306 and parameters: {'colsample_bytree': 0.6, 'subsample': 0.5, 'learning_rate': 0.01749070249540746, 'max_depth': 9, 'min_child_weight': 186}. Best is trial 0 with value: 31599.182558129123.\u001b[0m\n",
      "\u001b[32m[I 2023-05-23 21:33:31,832]\u001b[0m Trial 13 finished with value: 136079.36125921438 and parameters: {'colsample_bytree': 0.7, 'subsample': 1.0, 'learning_rate': 0.0010854100692382104, 'max_depth': 14, 'min_child_weight': 86}. Best is trial 0 with value: 31599.182558129123.\u001b[0m\n",
      "\u001b[32m[I 2023-05-23 21:33:31,848]\u001b[0m Trial 12 finished with value: 137197.6316333472 and parameters: {'colsample_bytree': 0.4, 'subsample': 0.4, 'learning_rate': 0.0002118102388253289, 'max_depth': 13, 'min_child_weight': 147}. Best is trial 0 with value: 31599.182558129123.\u001b[0m\n",
      "\u001b[32m[I 2023-05-23 21:33:31,939]\u001b[0m Trial 14 finished with value: 58163.01497180865 and parameters: {'colsample_bytree': 0.9, 'subsample': 0.8, 'learning_rate': 0.09613637612157938, 'max_depth': 9, 'min_child_weight': 27}. Best is trial 0 with value: 31599.182558129123.\u001b[0m\n",
      "\u001b[32m[I 2023-05-23 21:33:31,987]\u001b[0m Trial 16 finished with value: 136728.10181078932 and parameters: {'colsample_bytree': 0.4, 'subsample': 0.8, 'learning_rate': 0.0005843435809188051, 'max_depth': 8, 'min_child_weight': 74}. Best is trial 0 with value: 31599.182558129123.\u001b[0m\n",
      "\u001b[32m[I 2023-05-23 21:33:32,021]\u001b[0m Trial 17 finished with value: 32408.42656116513 and parameters: {'colsample_bytree': 0.5, 'subsample': 0.5, 'learning_rate': 0.4774657831998803, 'max_depth': 14, 'min_child_weight': 198}. Best is trial 0 with value: 31599.182558129123.\u001b[0m\n",
      "\u001b[32m[I 2023-05-23 21:33:32,057]\u001b[0m Trial 19 finished with value: 30790.102810096112 and parameters: {'colsample_bytree': 0.7, 'subsample': 0.8, 'learning_rate': 0.4450691703804879, 'max_depth': 12, 'min_child_weight': 111}. Best is trial 19 with value: 30790.102810096112.\u001b[0m\n",
      "\u001b[32m[I 2023-05-23 21:33:32,067]\u001b[0m Trial 18 finished with value: 30770.60757812903 and parameters: {'colsample_bytree': 0.7, 'subsample': 0.8, 'learning_rate': 0.4399912912521323, 'max_depth': 12, 'min_child_weight': 112}. Best is trial 18 with value: 30770.60757812903.\u001b[0m\n",
      "\u001b[32m[I 2023-05-23 21:33:32,069]\u001b[0m Trial 21 finished with value: 32381.008411175244 and parameters: {'colsample_bytree': 0.5, 'subsample': 0.8, 'learning_rate': 0.3582255365497745, 'max_depth': 12, 'min_child_weight': 219}. Best is trial 18 with value: 30770.60757812903.\u001b[0m\n",
      "\u001b[32m[I 2023-05-23 21:33:32,071]\u001b[0m Trial 20 finished with value: 31247.62860481677 and parameters: {'colsample_bytree': 0.7, 'subsample': 0.8, 'learning_rate': 0.45257384052731015, 'max_depth': 12, 'min_child_weight': 223}. Best is trial 18 with value: 30770.60757812903.\u001b[0m\n",
      "\u001b[32m[I 2023-05-23 21:33:32,101]\u001b[0m Trial 22 finished with value: 31863.508598349814 and parameters: {'colsample_bytree': 0.5, 'subsample': 0.8, 'learning_rate': 0.4822295070897207, 'max_depth': 12, 'min_child_weight': 222}. Best is trial 18 with value: 30770.60757812903.\u001b[0m\n",
      "\u001b[32m[I 2023-05-23 21:33:32,134]\u001b[0m Trial 23 finished with value: 33929.70723678783 and parameters: {'colsample_bytree': 0.5, 'subsample': 0.7, 'learning_rate': 0.2636119970218021, 'max_depth': 13, 'min_child_weight': 223}. Best is trial 18 with value: 30770.60757812903.\u001b[0m\n",
      "\u001b[32m[I 2023-05-23 21:33:32,201]\u001b[0m Trial 24 finished with value: 31866.233258212585 and parameters: {'colsample_bytree': 0.5, 'subsample': 0.7, 'learning_rate': 0.4554829442702746, 'max_depth': 12, 'min_child_weight': 212}. Best is trial 18 with value: 30770.60757812903.\u001b[0m\n",
      "\u001b[32m[I 2023-05-23 21:33:32,244]\u001b[0m Trial 25 finished with value: 31431.727370748908 and parameters: {'colsample_bytree': 0.5, 'subsample': 0.5, 'learning_rate': 0.48561764864658985, 'max_depth': 12, 'min_child_weight': 121}. Best is trial 18 with value: 30770.60757812903.\u001b[0m\n",
      "\u001b[32m[I 2023-05-23 21:33:32,329]\u001b[0m Trial 26 finished with value: 31929.852361256384 and parameters: {'colsample_bytree': 0.7, 'subsample': 0.7, 'learning_rate': 0.2711749974003717, 'max_depth': 11, 'min_child_weight': 126}. Best is trial 18 with value: 30770.60757812903.\u001b[0m\n",
      "\u001b[32m[I 2023-05-23 21:33:32,375]\u001b[0m Trial 27 finished with value: 34493.44327873005 and parameters: {'colsample_bytree': 0.7, 'subsample': 0.7, 'learning_rate': 0.21129380473232273, 'max_depth': 11, 'min_child_weight': 128}. Best is trial 18 with value: 30770.60757812903.\u001b[0m\n",
      "\u001b[32m[I 2023-05-23 21:33:32,391]\u001b[0m Trial 28 finished with value: 34879.35171559827 and parameters: {'colsample_bytree': 0.7, 'subsample': 0.7, 'learning_rate': 0.20580511468751256, 'max_depth': 11, 'min_child_weight': 127}. Best is trial 18 with value: 30770.60757812903.\u001b[0m\n",
      "\u001b[32m[I 2023-05-23 21:33:32,422]\u001b[0m Trial 29 finished with value: 96377.00763279463 and parameters: {'colsample_bytree': 0.7, 'subsample': 0.7, 'learning_rate': 0.03893118239678537, 'max_depth': 11, 'min_child_weight': 133}. Best is trial 18 with value: 30770.60757812903.\u001b[0m\n"
     ]
    },
    {
     "name": "stderr",
     "output_type": "stream",
     "text": [
      "\u001b[32m[I 2023-05-23 21:33:32,447]\u001b[0m Trial 30 finished with value: 72669.38032002955 and parameters: {'colsample_bytree': 0.7, 'subsample': 0.8, 'learning_rate': 0.07104651231564943, 'max_depth': 11, 'min_child_weight': 134}. Best is trial 18 with value: 30770.60757812903.\u001b[0m\n",
      "\u001b[32m[I 2023-05-23 21:33:32,480]\u001b[0m Trial 31 finished with value: 62953.955978801714 and parameters: {'colsample_bytree': 0.7, 'subsample': 0.8, 'learning_rate': 0.08845338058295855, 'max_depth': 11, 'min_child_weight': 129}. Best is trial 18 with value: 30770.60757812903.\u001b[0m\n",
      "\u001b[32m[I 2023-05-23 21:33:32,484]\u001b[0m Trial 32 finished with value: 62067.366320703295 and parameters: {'colsample_bytree': 0.7, 'subsample': 0.8, 'learning_rate': 0.09025649675804644, 'max_depth': 11, 'min_child_weight': 125}. Best is trial 18 with value: 30770.60757812903.\u001b[0m\n",
      "\u001b[32m[I 2023-05-23 21:33:32,494]\u001b[0m Trial 33 finished with value: 59742.802098844964 and parameters: {'colsample_bytree': 0.7, 'subsample': 0.8, 'learning_rate': 0.09445085845772079, 'max_depth': 11, 'min_child_weight': 99}. Best is trial 18 with value: 30770.60757812903.\u001b[0m\n",
      "\u001b[32m[I 2023-05-23 21:33:32,619]\u001b[0m Trial 34 finished with value: 70716.46342726638 and parameters: {'colsample_bytree': 0.7, 'subsample': 0.8, 'learning_rate': 0.07372671601350153, 'max_depth': 11, 'min_child_weight': 94}. Best is trial 18 with value: 30770.60757812903.\u001b[0m\n",
      "\u001b[32m[I 2023-05-23 21:33:32,686]\u001b[0m Trial 35 finished with value: 72187.82879184585 and parameters: {'colsample_bytree': 0.7, 'subsample': 0.8, 'learning_rate': 0.07129469291887701, 'max_depth': 10, 'min_child_weight': 94}. Best is trial 18 with value: 30770.60757812903.\u001b[0m\n",
      "\u001b[32m[I 2023-05-23 21:33:32,719]\u001b[0m Trial 36 finished with value: 62383.849370270866 and parameters: {'colsample_bytree': 0.7, 'subsample': 0.8, 'learning_rate': 0.08884676539989969, 'max_depth': 10, 'min_child_weight': 60}. Best is trial 18 with value: 30770.60757812903.\u001b[0m\n",
      "\u001b[32m[I 2023-05-23 21:33:32,737]\u001b[0m Trial 37 finished with value: 55052.00124631425 and parameters: {'colsample_bytree': 0.7, 'subsample': 0.8, 'learning_rate': 0.10525162514247603, 'max_depth': 13, 'min_child_weight': 105}. Best is trial 18 with value: 30770.60757812903.\u001b[0m\n",
      "\u001b[32m[I 2023-05-23 21:33:32,771]\u001b[0m Trial 38 finished with value: 56171.819845934246 and parameters: {'colsample_bytree': 0.8, 'subsample': 0.8, 'learning_rate': 0.10145825823323223, 'max_depth': 13, 'min_child_weight': 67}. Best is trial 18 with value: 30770.60757812903.\u001b[0m\n",
      "\u001b[32m[I 2023-05-23 21:33:32,796]\u001b[0m Trial 41 finished with value: 30893.26529989258 and parameters: {'colsample_bytree': 0.8, 'subsample': 0.5, 'learning_rate': 0.2985458416125964, 'max_depth': 13, 'min_child_weight': 65}. Best is trial 18 with value: 30770.60757812903.\u001b[0m\n",
      "\u001b[32m[I 2023-05-23 21:33:32,804]\u001b[0m Trial 40 finished with value: 30914.189885654367 and parameters: {'colsample_bytree': 0.8, 'subsample': 0.5, 'learning_rate': 0.2950719803062965, 'max_depth': 13, 'min_child_weight': 59}. Best is trial 18 with value: 30770.60757812903.\u001b[0m\n",
      "\u001b[32m[I 2023-05-23 21:33:32,819]\u001b[0m Trial 39 finished with value: 31964.612990817324 and parameters: {'colsample_bytree': 0.8, 'subsample': 0.5, 'learning_rate': 0.36156165827625936, 'max_depth': 13, 'min_child_weight': 171}. Best is trial 18 with value: 30770.60757812903.\u001b[0m\n",
      "\u001b[32m[I 2023-05-23 21:33:32,922]\u001b[0m Trial 42 finished with value: 30728.917364792473 and parameters: {'colsample_bytree': 0.8, 'subsample': 0.5, 'learning_rate': 0.30196006580088536, 'max_depth': 13, 'min_child_weight': 65}. Best is trial 42 with value: 30728.917364792473.\u001b[0m\n",
      "\u001b[32m[I 2023-05-23 21:33:32,975]\u001b[0m Trial 43 finished with value: 31779.567522086396 and parameters: {'colsample_bytree': 1.0, 'subsample': 0.5, 'learning_rate': 0.3215825805600801, 'max_depth': 14, 'min_child_weight': 169}. Best is trial 42 with value: 30728.917364792473.\u001b[0m\n",
      "\u001b[32m[I 2023-05-23 21:33:33,038]\u001b[0m Trial 44 finished with value: 30250.81945646871 and parameters: {'colsample_bytree': 1.0, 'subsample': 0.5, 'learning_rate': 0.29168015452878737, 'max_depth': 14, 'min_child_weight': 8}. Best is trial 44 with value: 30250.81945646871.\u001b[0m\n",
      "\u001b[32m[I 2023-05-23 21:33:33,039]\u001b[0m Trial 45 finished with value: 30983.777622101716 and parameters: {'colsample_bytree': 0.8, 'subsample': 0.5, 'learning_rate': 0.27315597931683966, 'max_depth': 14, 'min_child_weight': 47}. Best is trial 44 with value: 30250.81945646871.\u001b[0m\n",
      "\u001b[32m[I 2023-05-23 21:33:33,092]\u001b[0m Trial 46 finished with value: 30428.41087912483 and parameters: {'colsample_bytree': 1.0, 'subsample': 0.5, 'learning_rate': 0.2989878706266915, 'max_depth': 14, 'min_child_weight': 46}. Best is trial 44 with value: 30250.81945646871.\u001b[0m\n",
      "\u001b[32m[I 2023-05-23 21:33:33,140]\u001b[0m Trial 47 finished with value: 30540.37375867635 and parameters: {'colsample_bytree': 0.8, 'subsample': 0.5, 'learning_rate': 0.2843769692292325, 'max_depth': 14, 'min_child_weight': 8}. Best is trial 44 with value: 30250.81945646871.\u001b[0m\n",
      "\u001b[32m[I 2023-05-23 21:33:33,148]\u001b[0m Trial 48 finished with value: 31007.18421201856 and parameters: {'colsample_bytree': 0.8, 'subsample': 0.5, 'learning_rate': 0.2679118221247587, 'max_depth': 14, 'min_child_weight': 43}. Best is trial 44 with value: 30250.81945646871.\u001b[0m\n",
      "\u001b[32m[I 2023-05-23 21:33:33,188]\u001b[0m Trial 49 finished with value: 31214.984282463356 and parameters: {'colsample_bytree': 0.8, 'subsample': 0.5, 'learning_rate': 0.2808582911603581, 'max_depth': 14, 'min_child_weight': 4}. Best is trial 44 with value: 30250.81945646871.\u001b[0m\n",
      "\u001b[32m[I 2023-05-23 21:33:33,260]\u001b[0m Trial 50 finished with value: 40534.243806062674 and parameters: {'colsample_bytree': 0.8, 'subsample': 0.5, 'learning_rate': 0.15480781136478913, 'max_depth': 14, 'min_child_weight': 2}. Best is trial 44 with value: 30250.81945646871.\u001b[0m\n",
      "\u001b[32m[I 2023-05-23 21:33:33,291]\u001b[0m Trial 51 finished with value: 38895.2315151172 and parameters: {'colsample_bytree': 0.8, 'subsample': 0.5, 'learning_rate': 0.1638146240714144, 'max_depth': 14, 'min_child_weight': 2}. Best is trial 44 with value: 30250.81945646871.\u001b[0m\n",
      "\u001b[32m[I 2023-05-23 21:33:33,352]\u001b[0m Trial 53 finished with value: 42754.33668617914 and parameters: {'colsample_bytree': 1.0, 'subsample': 1.0, 'learning_rate': 0.14351384704400463, 'max_depth': 15, 'min_child_weight': 1}. Best is trial 44 with value: 30250.81945646871.\u001b[0m\n",
      "\u001b[32m[I 2023-05-23 21:33:33,354]\u001b[0m Trial 52 finished with value: 37774.77001838298 and parameters: {'colsample_bytree': 1.0, 'subsample': 1.0, 'learning_rate': 0.16543997391352902, 'max_depth': 15, 'min_child_weight': 8}. Best is trial 44 with value: 30250.81945646871.\u001b[0m\n",
      "\u001b[32m[I 2023-05-23 21:33:33,442]\u001b[0m Trial 54 finished with value: 39709.41182407131 and parameters: {'colsample_bytree': 1.0, 'subsample': 1.0, 'learning_rate': 0.15671286470841167, 'max_depth': 15, 'min_child_weight': 5}. Best is trial 44 with value: 30250.81945646871.\u001b[0m\n",
      "\u001b[32m[I 2023-05-23 21:33:33,454]\u001b[0m Trial 55 finished with value: 43084.9257399173 and parameters: {'colsample_bytree': 1.0, 'subsample': 1.0, 'learning_rate': 0.1397172786537161, 'max_depth': 15, 'min_child_weight': 19}. Best is trial 44 with value: 30250.81945646871.\u001b[0m\n",
      "\u001b[32m[I 2023-05-23 21:33:33,458]\u001b[0m Trial 56 finished with value: 42917.586954958424 and parameters: {'colsample_bytree': 1.0, 'subsample': 1.0, 'learning_rate': 0.14130031569421883, 'max_depth': 15, 'min_child_weight': 4}. Best is trial 44 with value: 30250.81945646871.\u001b[0m\n",
      "\u001b[32m[I 2023-05-23 21:33:33,509]\u001b[0m Trial 57 finished with value: 42044.045789171316 and parameters: {'colsample_bytree': 1.0, 'subsample': 1.0, 'learning_rate': 0.14408724039131582, 'max_depth': 15, 'min_child_weight': 20}. Best is trial 44 with value: 30250.81945646871.\u001b[0m\n",
      "\u001b[32m[I 2023-05-23 21:33:33,601]\u001b[0m Trial 58 finished with value: 35999.010220753946 and parameters: {'colsample_bytree': 1.0, 'subsample': 1.0, 'learning_rate': 0.1767122666434995, 'max_depth': 15, 'min_child_weight': 22}. Best is trial 44 with value: 30250.81945646871.\u001b[0m\n",
      "\u001b[32m[I 2023-05-23 21:33:33,616]\u001b[0m Trial 59 finished with value: 46513.65985850053 and parameters: {'colsample_bytree': 1.0, 'subsample': 1.0, 'learning_rate': 0.1270588169250561, 'max_depth': 15, 'min_child_weight': 27}. Best is trial 44 with value: 30250.81945646871.\u001b[0m\n"
     ]
    },
    {
     "name": "stderr",
     "output_type": "stream",
     "text": [
      "\u001b[32m[I 2023-05-23 21:33:33,670]\u001b[0m Trial 61 finished with value: 34912.10633288292 and parameters: {'colsample_bytree': 1.0, 'subsample': 0.6, 'learning_rate': 0.19123250979180734, 'max_depth': 3, 'min_child_weight': 40}. Best is trial 44 with value: 30250.81945646871.\u001b[0m\n",
      "\u001b[32m[I 2023-05-23 21:33:33,679]\u001b[0m Trial 60 finished with value: 33949.0894953884 and parameters: {'colsample_bytree': 1.0, 'subsample': 0.5, 'learning_rate': 0.19873338591710815, 'max_depth': 15, 'min_child_weight': 42}. Best is trial 44 with value: 30250.81945646871.\u001b[0m\n",
      "\u001b[32m[I 2023-05-23 21:33:33,768]\u001b[0m Trial 62 finished with value: 33267.09313641426 and parameters: {'colsample_bytree': 0.6, 'subsample': 0.6, 'learning_rate': 0.21774020026683705, 'max_depth': 12, 'min_child_weight': 35}. Best is trial 44 with value: 30250.81945646871.\u001b[0m\n",
      "\u001b[32m[I 2023-05-23 21:33:33,788]\u001b[0m Trial 63 finished with value: 30967.704119691138 and parameters: {'colsample_bytree': 0.6, 'subsample': 0.6, 'learning_rate': 0.3871938495247832, 'max_depth': 12, 'min_child_weight': 39}. Best is trial 44 with value: 30250.81945646871.\u001b[0m\n",
      "\u001b[32m[I 2023-05-23 21:33:33,802]\u001b[0m Trial 64 finished with value: 31974.534535346433 and parameters: {'colsample_bytree': 0.3, 'subsample': 0.6, 'learning_rate': 0.3591351119933037, 'max_depth': 12, 'min_child_weight': 43}. Best is trial 44 with value: 30250.81945646871.\u001b[0m\n",
      "\u001b[32m[I 2023-05-23 21:33:33,842]\u001b[0m Trial 65 finished with value: 31706.412997459724 and parameters: {'colsample_bytree': 0.6, 'subsample': 0.4, 'learning_rate': 0.3850877067985634, 'max_depth': 3, 'min_child_weight': 79}. Best is trial 44 with value: 30250.81945646871.\u001b[0m\n",
      "\u001b[32m[I 2023-05-23 21:33:33,914]\u001b[0m Trial 67 finished with value: 30710.984724476246 and parameters: {'colsample_bytree': 0.9, 'subsample': 0.6, 'learning_rate': 0.414166113929485, 'max_depth': 13, 'min_child_weight': 79}. Best is trial 44 with value: 30250.81945646871.\u001b[0m\n",
      "\u001b[32m[I 2023-05-23 21:33:33,934]\u001b[0m Trial 66 finished with value: 31437.01255923532 and parameters: {'colsample_bytree': 0.6, 'subsample': 0.6, 'learning_rate': 0.3989048143584218, 'max_depth': 13, 'min_child_weight': 81}. Best is trial 44 with value: 30250.81945646871.\u001b[0m\n",
      "\u001b[32m[I 2023-05-23 21:33:33,989]\u001b[0m Trial 69 finished with value: 30878.451595071016 and parameters: {'colsample_bytree': 0.6, 'subsample': 0.5, 'learning_rate': 0.3512459110817404, 'max_depth': 13, 'min_child_weight': 53}. Best is trial 44 with value: 30250.81945646871.\u001b[0m\n",
      "\u001b[32m[I 2023-05-23 21:33:34,007]\u001b[0m Trial 68 finished with value: 32890.472097501275 and parameters: {'colsample_bytree': 0.3, 'subsample': 0.5, 'learning_rate': 0.36057101192058066, 'max_depth': 13, 'min_child_weight': 76}. Best is trial 44 with value: 30250.81945646871.\u001b[0m\n",
      "\u001b[32m[I 2023-05-23 21:33:34,101]\u001b[0m Trial 71 finished with value: 30570.539086442892 and parameters: {'colsample_bytree': 0.9, 'subsample': 0.5, 'learning_rate': 0.48761016610005387, 'max_depth': 13, 'min_child_weight': 56}. Best is trial 44 with value: 30250.81945646871.\u001b[0m\n",
      "\u001b[32m[I 2023-05-23 21:33:34,108]\u001b[0m Trial 70 finished with value: 32376.82933999265 and parameters: {'colsample_bytree': 0.3, 'subsample': 0.5, 'learning_rate': 0.3933782256105382, 'max_depth': 13, 'min_child_weight': 54}. Best is trial 44 with value: 30250.81945646871.\u001b[0m\n",
      "\u001b[32m[I 2023-05-23 21:33:34,147]\u001b[0m Trial 72 finished with value: 30716.303681595167 and parameters: {'colsample_bytree': 0.9, 'subsample': 0.5, 'learning_rate': 0.4069987689054914, 'max_depth': 13, 'min_child_weight': 113}. Best is trial 44 with value: 30250.81945646871.\u001b[0m\n",
      "\u001b[32m[I 2023-05-23 21:33:34,184]\u001b[0m Trial 73 finished with value: 33992.56396215037 and parameters: {'colsample_bytree': 0.9, 'subsample': 0.5, 'learning_rate': 0.22883084742939425, 'max_depth': 13, 'min_child_weight': 148}. Best is trial 44 with value: 30250.81945646871.\u001b[0m\n",
      "\u001b[32m[I 2023-05-23 21:33:34,245]\u001b[0m Trial 74 finished with value: 31002.082884036747 and parameters: {'colsample_bytree': 0.9, 'subsample': 0.5, 'learning_rate': 0.4748941538223815, 'max_depth': 10, 'min_child_weight': 116}. Best is trial 44 with value: 30250.81945646871.\u001b[0m\n",
      "\u001b[32m[I 2023-05-23 21:33:34,301]\u001b[0m Trial 75 finished with value: 31002.08273673357 and parameters: {'colsample_bytree': 0.9, 'subsample': 0.5, 'learning_rate': 0.4748953585063563, 'max_depth': 10, 'min_child_weight': 116}. Best is trial 44 with value: 30250.81945646871.\u001b[0m\n",
      "\u001b[32m[I 2023-05-23 21:33:34,307]\u001b[0m Trial 76 finished with value: 30890.425620485075 and parameters: {'colsample_bytree': 0.9, 'subsample': 0.5, 'learning_rate': 0.4752799420040711, 'max_depth': 10, 'min_child_weight': 117}. Best is trial 44 with value: 30250.81945646871.\u001b[0m\n",
      "\u001b[32m[I 2023-05-23 21:33:34,327]\u001b[0m Trial 77 finished with value: 30962.71417031469 and parameters: {'colsample_bytree': 0.9, 'subsample': 0.4, 'learning_rate': 0.4900053985297194, 'max_depth': 10, 'min_child_weight': 113}. Best is trial 44 with value: 30250.81945646871.\u001b[0m\n",
      "\u001b[32m[I 2023-05-23 21:33:34,468]\u001b[0m Trial 79 finished with value: 30652.945340213 and parameters: {'colsample_bytree': 0.9, 'subsample': 0.5, 'learning_rate': 0.4749897530527129, 'max_depth': 14, 'min_child_weight': 88}. Best is trial 44 with value: 30250.81945646871.\u001b[0m\n",
      "\u001b[32m[I 2023-05-23 21:33:34,471]\u001b[0m Trial 78 finished with value: 30463.129151991063 and parameters: {'colsample_bytree': 0.9, 'subsample': 0.5, 'learning_rate': 0.4904650097503386, 'max_depth': 14, 'min_child_weight': 111}. Best is trial 44 with value: 30250.81945646871.\u001b[0m\n",
      "\u001b[32m[I 2023-05-23 21:33:34,488]\u001b[0m Trial 80 finished with value: 30349.308977622004 and parameters: {'colsample_bytree': 0.9, 'subsample': 0.5, 'learning_rate': 0.4949182494221419, 'max_depth': 14, 'min_child_weight': 70}. Best is trial 44 with value: 30250.81945646871.\u001b[0m\n",
      "\u001b[32m[I 2023-05-23 21:33:34,536]\u001b[0m Trial 81 finished with value: 30394.951276658267 and parameters: {'colsample_bytree': 0.9, 'subsample': 0.5, 'learning_rate': 0.487989811767665, 'max_depth': 14, 'min_child_weight': 87}. Best is trial 44 with value: 30250.81945646871.\u001b[0m\n",
      "\u001b[32m[I 2023-05-23 21:33:34,613]\u001b[0m Trial 82 finished with value: 30486.916896667048 and parameters: {'colsample_bytree': 0.9, 'subsample': 0.5, 'learning_rate': 0.4914393079248346, 'max_depth': 14, 'min_child_weight': 86}. Best is trial 44 with value: 30250.81945646871.\u001b[0m\n",
      "\u001b[32m[I 2023-05-23 21:33:34,633]\u001b[0m Trial 84 finished with value: 32808.14288996937 and parameters: {'colsample_bytree': 0.9, 'subsample': 0.5, 'learning_rate': 0.22646794607273635, 'max_depth': 14, 'min_child_weight': 89}. Best is trial 44 with value: 30250.81945646871.\u001b[0m\n",
      "\u001b[32m[I 2023-05-23 21:33:34,671]\u001b[0m Trial 83 finished with value: 33669.22949244342 and parameters: {'colsample_bytree': 0.9, 'subsample': 0.4, 'learning_rate': 0.2365513084402723, 'max_depth': 14, 'min_child_weight': 104}. Best is trial 44 with value: 30250.81945646871.\u001b[0m\n",
      "\u001b[32m[I 2023-05-23 21:33:34,677]\u001b[0m Trial 85 finished with value: 32232.545941704862 and parameters: {'colsample_bytree': 0.9, 'subsample': 0.5, 'learning_rate': 0.24738465345280702, 'max_depth': 14, 'min_child_weight': 93}. Best is trial 44 with value: 30250.81945646871.\u001b[0m\n",
      "\u001b[32m[I 2023-05-23 21:33:34,790]\u001b[0m Trial 86 finished with value: 32169.277127039142 and parameters: {'colsample_bytree': 0.9, 'subsample': 0.5, 'learning_rate': 0.2431019211311848, 'max_depth': 14, 'min_child_weight': 88}. Best is trial 44 with value: 30250.81945646871.\u001b[0m\n",
      "\u001b[32m[I 2023-05-23 21:33:34,827]\u001b[0m Trial 88 finished with value: 32028.235535456482 and parameters: {'colsample_bytree': 0.9, 'subsample': 0.5, 'learning_rate': 0.24837895313344735, 'max_depth': 14, 'min_child_weight': 89}. Best is trial 44 with value: 30250.81945646871.\u001b[0m\n",
      "\u001b[32m[I 2023-05-23 21:33:34,841]\u001b[0m Trial 87 finished with value: 32449.801548584666 and parameters: {'colsample_bytree': 0.9, 'subsample': 0.5, 'learning_rate': 0.23575586599774864, 'max_depth': 14, 'min_child_weight': 92}. Best is trial 44 with value: 30250.81945646871.\u001b[0m\n",
      "\u001b[32m[I 2023-05-23 21:33:34,888]\u001b[0m Trial 89 finished with value: 32642.91868133949 and parameters: {'colsample_bytree': 0.9, 'subsample': 0.5, 'learning_rate': 0.22993641982777938, 'max_depth': 14, 'min_child_weight': 89}. Best is trial 44 with value: 30250.81945646871.\u001b[0m\n"
     ]
    },
    {
     "name": "stderr",
     "output_type": "stream",
     "text": [
      "\u001b[32m[I 2023-05-23 21:33:34,951]\u001b[0m Trial 90 finished with value: 32441.520187590224 and parameters: {'colsample_bytree': 0.9, 'subsample': 0.5, 'learning_rate': 0.23417811775138314, 'max_depth': 14, 'min_child_weight': 71}. Best is trial 44 with value: 30250.81945646871.\u001b[0m\n",
      "\u001b[32m[I 2023-05-23 21:33:34,973]\u001b[0m Trial 91 finished with value: 32028.77678593821 and parameters: {'colsample_bytree': 0.9, 'subsample': 0.5, 'learning_rate': 0.24808026947967154, 'max_depth': 14, 'min_child_weight': 71}. Best is trial 44 with value: 30250.81945646871.\u001b[0m\n",
      "\u001b[32m[I 2023-05-23 21:33:35,028]\u001b[0m Trial 92 finished with value: 32961.408213837174 and parameters: {'colsample_bytree': 0.4, 'subsample': 0.5, 'learning_rate': 0.3276396721742886, 'max_depth': 14, 'min_child_weight': 139}. Best is trial 44 with value: 30250.81945646871.\u001b[0m\n",
      "\u001b[32m[I 2023-05-23 21:33:35,033]\u001b[0m Trial 93 finished with value: 30452.54064736976 and parameters: {'colsample_bytree': 0.4, 'subsample': 0.5, 'learning_rate': 0.28143887361723047, 'max_depth': 14, 'min_child_weight': 12}. Best is trial 44 with value: 30250.81945646871.\u001b[0m\n",
      "\u001b[32m[I 2023-05-23 21:33:35,144]\u001b[0m Trial 94 finished with value: 32383.59596724201 and parameters: {'colsample_bytree': 0.4, 'subsample': 0.5, 'learning_rate': 0.3181627275187454, 'max_depth': 8, 'min_child_weight': 71}. Best is trial 44 with value: 30250.81945646871.\u001b[0m\n",
      "\u001b[32m[I 2023-05-23 21:33:35,177]\u001b[0m Trial 96 finished with value: 32869.932088356254 and parameters: {'colsample_bytree': 0.4, 'subsample': 0.5, 'learning_rate': 0.31644165984372724, 'max_depth': 14, 'min_child_weight': 103}. Best is trial 44 with value: 30250.81945646871.\u001b[0m\n",
      "\u001b[32m[I 2023-05-23 21:33:35,195]\u001b[0m Trial 95 finished with value: 30989.354628591445 and parameters: {'colsample_bytree': 0.9, 'subsample': 0.5, 'learning_rate': 0.29298613709775523, 'max_depth': 6, 'min_child_weight': 70}. Best is trial 44 with value: 30250.81945646871.\u001b[0m\n",
      "\u001b[32m[I 2023-05-23 21:33:35,243]\u001b[0m Trial 97 finished with value: 29964.783588719252 and parameters: {'colsample_bytree': 0.4, 'subsample': 0.5, 'learning_rate': 0.31704644414161204, 'max_depth': 15, 'min_child_weight': 15}. Best is trial 97 with value: 29964.783588719252.\u001b[0m\n",
      "\u001b[32m[I 2023-05-23 21:33:35,299]\u001b[0m Trial 99 finished with value: 31529.931752184402 and parameters: {'colsample_bytree': 0.4, 'subsample': 0.5, 'learning_rate': 0.326524158041685, 'max_depth': 15, 'min_child_weight': 31}. Best is trial 97 with value: 29964.783588719252.\u001b[0m\n",
      "\u001b[32m[I 2023-05-23 21:33:35,329]\u001b[0m Trial 98 finished with value: 30311.88609997625 and parameters: {'colsample_bytree': 0.4, 'subsample': 0.5, 'learning_rate': 0.3110004040219294, 'max_depth': 15, 'min_child_weight': 12}. Best is trial 97 with value: 29964.783588719252.\u001b[0m\n",
      "\u001b[32m[I 2023-05-23 21:33:35,403]\u001b[0m Trial 101 finished with value: 30307.359096602264 and parameters: {'colsample_bytree': 0.4, 'subsample': 0.5, 'learning_rate': 0.33890402874979914, 'max_depth': 8, 'min_child_weight': 17}. Best is trial 97 with value: 29964.783588719252.\u001b[0m\n",
      "\u001b[32m[I 2023-05-23 21:33:35,416]\u001b[0m Trial 100 finished with value: 30003.116246542657 and parameters: {'colsample_bytree': 0.4, 'subsample': 0.5, 'learning_rate': 0.3162126375800539, 'max_depth': 15, 'min_child_weight': 16}. Best is trial 97 with value: 29964.783588719252.\u001b[0m\n",
      "\u001b[32m[I 2023-05-23 21:33:35,521]\u001b[0m Trial 102 finished with value: 29964.72025960951 and parameters: {'colsample_bytree': 0.4, 'subsample': 0.5, 'learning_rate': 0.3409522229524913, 'max_depth': 15, 'min_child_weight': 13}. Best is trial 102 with value: 29964.72025960951.\u001b[0m\n",
      "\u001b[32m[I 2023-05-23 21:33:35,662]\u001b[0m Trial 104 finished with value: 30418.079918320793 and parameters: {'colsample_bytree': 0.4, 'subsample': 0.5, 'learning_rate': 0.34023541764432486, 'max_depth': 15, 'min_child_weight': 23}. Best is trial 102 with value: 29964.72025960951.\u001b[0m\n",
      "\u001b[32m[I 2023-05-23 21:33:35,701]\u001b[0m Trial 103 finished with value: 30443.166781503092 and parameters: {'colsample_bytree': 0.4, 'subsample': 0.5, 'learning_rate': 0.48525825316358917, 'max_depth': 15, 'min_child_weight': 9}. Best is trial 102 with value: 29964.72025960951.\u001b[0m\n",
      "\u001b[32m[I 2023-05-23 21:33:35,903]\u001b[0m Trial 105 finished with value: 34954.209331763166 and parameters: {'colsample_bytree': 0.4, 'subsample': 0.5, 'learning_rate': 0.19394192574618094, 'max_depth': 15, 'min_child_weight': 16}. Best is trial 102 with value: 29964.72025960951.\u001b[0m\n",
      "\u001b[32m[I 2023-05-23 21:33:35,906]\u001b[0m Trial 106 finished with value: 34847.14317273186 and parameters: {'colsample_bytree': 0.4, 'subsample': 0.5, 'learning_rate': 0.19336839171222558, 'max_depth': 8, 'min_child_weight': 13}. Best is trial 102 with value: 29964.72025960951.\u001b[0m\n",
      "\u001b[32m[I 2023-05-23 21:33:35,989]\u001b[0m Trial 107 finished with value: 34624.405684508485 and parameters: {'colsample_bytree': 0.4, 'subsample': 0.7, 'learning_rate': 0.19365765369984078, 'max_depth': 8, 'min_child_weight': 13}. Best is trial 102 with value: 29964.72025960951.\u001b[0m\n",
      "\u001b[32m[I 2023-05-23 21:33:35,994]\u001b[0m Trial 108 finished with value: 36303.39841347427 and parameters: {'colsample_bytree': 0.4, 'subsample': 0.5, 'learning_rate': 0.18079586807082723, 'max_depth': 7, 'min_child_weight': 14}. Best is trial 102 with value: 29964.72025960951.\u001b[0m\n",
      "\u001b[32m[I 2023-05-23 21:33:36,072]\u001b[0m Trial 110 finished with value: 34807.79519628342 and parameters: {'colsample_bytree': 0.4, 'subsample': 0.7, 'learning_rate': 0.19143262617924847, 'max_depth': 15, 'min_child_weight': 13}. Best is trial 102 with value: 29964.72025960951.\u001b[0m\n",
      "\u001b[32m[I 2023-05-23 21:33:36,083]\u001b[0m Trial 109 finished with value: 35894.93021123091 and parameters: {'colsample_bytree': 0.4, 'subsample': 0.5, 'learning_rate': 0.1839664097114717, 'max_depth': 7, 'min_child_weight': 14}. Best is trial 102 with value: 29964.72025960951.\u001b[0m\n",
      "\u001b[32m[I 2023-05-23 21:33:36,167]\u001b[0m Trial 111 finished with value: 30376.155798590145 and parameters: {'colsample_bytree': 0.4, 'subsample': 0.7, 'learning_rate': 0.3708112850715408, 'max_depth': 8, 'min_child_weight': 27}. Best is trial 102 with value: 29964.72025960951.\u001b[0m\n",
      "\u001b[32m[I 2023-05-23 21:33:36,227]\u001b[0m Trial 112 finished with value: 36171.492632164765 and parameters: {'colsample_bytree': 0.4, 'subsample': 0.7, 'learning_rate': 0.1849783521438892, 'max_depth': 15, 'min_child_weight': 23}. Best is trial 102 with value: 29964.72025960951.\u001b[0m\n",
      "\u001b[32m[I 2023-05-23 21:33:36,306]\u001b[0m Trial 113 finished with value: 30513.7247358437 and parameters: {'colsample_bytree': 0.4, 'subsample': 0.7, 'learning_rate': 0.38354230431419567, 'max_depth': 15, 'min_child_weight': 25}. Best is trial 102 with value: 29964.72025960951.\u001b[0m\n",
      "\u001b[32m[I 2023-05-23 21:33:36,329]\u001b[0m Trial 114 finished with value: 30254.45993056728 and parameters: {'colsample_bytree': 0.4, 'subsample': 0.7, 'learning_rate': 0.3889199124493198, 'max_depth': 15, 'min_child_weight': 28}. Best is trial 102 with value: 29964.72025960951.\u001b[0m\n",
      "\u001b[32m[I 2023-05-23 21:33:36,356]\u001b[0m Trial 116 finished with value: 30569.802600285224 and parameters: {'colsample_bytree': 0.4, 'subsample': 0.5, 'learning_rate': 0.3813809797398687, 'max_depth': 15, 'min_child_weight': 25}. Best is trial 102 with value: 29964.72025960951.\u001b[0m\n",
      "\u001b[32m[I 2023-05-23 21:33:36,358]\u001b[0m Trial 115 finished with value: 31315.041836116536 and parameters: {'colsample_bytree': 0.4, 'subsample': 0.5, 'learning_rate': 0.3628486738987599, 'max_depth': 15, 'min_child_weight': 28}. Best is trial 102 with value: 29964.72025960951.\u001b[0m\n",
      "\u001b[32m[I 2023-05-23 21:33:36,446]\u001b[0m Trial 117 finished with value: 31201.729354181356 and parameters: {'colsample_bytree': 0.4, 'subsample': 0.5, 'learning_rate': 0.3817955835167144, 'max_depth': 15, 'min_child_weight': 33}. Best is trial 102 with value: 29964.72025960951.\u001b[0m\n",
      "\u001b[32m[I 2023-05-23 21:33:36,511]\u001b[0m Trial 118 finished with value: 30967.753674675303 and parameters: {'colsample_bytree': 0.4, 'subsample': 0.5, 'learning_rate': 0.36587707740933983, 'max_depth': 9, 'min_child_weight': 32}. Best is trial 102 with value: 29964.72025960951.\u001b[0m\n",
      "\u001b[32m[I 2023-05-23 21:33:36,547]\u001b[0m Trial 119 finished with value: 30627.56015827023 and parameters: {'colsample_bytree': 0.4, 'subsample': 0.7, 'learning_rate': 0.3825008613876962, 'max_depth': 9, 'min_child_weight': 35}. Best is trial 102 with value: 29964.72025960951.\u001b[0m\n"
     ]
    },
    {
     "name": "stderr",
     "output_type": "stream",
     "text": [
      "\u001b[32m[I 2023-05-23 21:33:36,606]\u001b[0m Trial 120 finished with value: 30653.0911686089 and parameters: {'colsample_bytree': 0.4, 'subsample': 0.7, 'learning_rate': 0.37881830764320723, 'max_depth': 9, 'min_child_weight': 35}. Best is trial 102 with value: 29964.72025960951.\u001b[0m\n",
      "\u001b[32m[I 2023-05-23 21:33:36,685]\u001b[0m Trial 121 finished with value: 31526.578146608113 and parameters: {'colsample_bytree': 0.4, 'subsample': 0.5, 'learning_rate': 0.356043521344409, 'max_depth': 8, 'min_child_weight': 50}. Best is trial 102 with value: 29964.72025960951.\u001b[0m\n",
      "\u001b[32m[I 2023-05-23 21:33:36,708]\u001b[0m Trial 122 finished with value: 31552.461204858228 and parameters: {'colsample_bytree': 0.4, 'subsample': 0.7, 'learning_rate': 0.3108259224231466, 'max_depth': 8, 'min_child_weight': 50}. Best is trial 102 with value: 29964.72025960951.\u001b[0m\n",
      "\u001b[32m[I 2023-05-23 21:33:36,725]\u001b[0m Trial 124 finished with value: 49178.805888748546 and parameters: {'colsample_bytree': 0.4, 'subsample': 0.7, 'learning_rate': 0.1252812418501093, 'max_depth': 9, 'min_child_weight': 50}. Best is trial 102 with value: 29964.72025960951.\u001b[0m\n",
      "\u001b[32m[I 2023-05-23 21:33:36,741]\u001b[0m Trial 123 finished with value: 31314.835663021713 and parameters: {'colsample_bytree': 0.4, 'subsample': 0.7, 'learning_rate': 0.3135763974593124, 'max_depth': 9, 'min_child_weight': 49}. Best is trial 102 with value: 29964.72025960951.\u001b[0m\n",
      "\u001b[32m[I 2023-05-23 21:33:36,822]\u001b[0m Trial 125 finished with value: 48116.99317364057 and parameters: {'colsample_bytree': 0.4, 'subsample': 0.7, 'learning_rate': 0.12449230252744574, 'max_depth': 8, 'min_child_weight': 8}. Best is trial 102 with value: 29964.72025960951.\u001b[0m\n",
      "\u001b[32m[I 2023-05-23 21:33:36,893]\u001b[0m Trial 127 finished with value: 50327.998507816425 and parameters: {'colsample_bytree': 0.5, 'subsample': 0.7, 'learning_rate': 0.12035667221389551, 'max_depth': 15, 'min_child_weight': 49}. Best is trial 102 with value: 29964.72025960951.\u001b[0m\n",
      "\u001b[32m[I 2023-05-23 21:33:36,894]\u001b[0m Trial 126 finished with value: 48403.83890052365 and parameters: {'colsample_bytree': 0.4, 'subsample': 0.7, 'learning_rate': 0.1234177505950585, 'max_depth': 15, 'min_child_weight': 9}. Best is trial 102 with value: 29964.72025960951.\u001b[0m\n",
      "\u001b[32m[I 2023-05-23 21:33:36,988]\u001b[0m Trial 128 finished with value: 30833.40342738872 and parameters: {'colsample_bytree': 0.4, 'subsample': 0.7, 'learning_rate': 0.3078514413298104, 'max_depth': 4, 'min_child_weight': 21}. Best is trial 102 with value: 29964.72025960951.\u001b[0m\n",
      "\u001b[32m[I 2023-05-23 21:33:37,081]\u001b[0m Trial 130 finished with value: 30939.829918401334 and parameters: {'colsample_bytree': 0.5, 'subsample': 0.4, 'learning_rate': 0.27976950589692223, 'max_depth': 15, 'min_child_weight': 20}. Best is trial 102 with value: 29964.72025960951.\u001b[0m\n",
      "\u001b[32m[I 2023-05-23 21:33:37,100]\u001b[0m Trial 132 finished with value: 31498.40746336582 and parameters: {'colsample_bytree': 0.5, 'subsample': 0.4, 'learning_rate': 0.2747802403924006, 'max_depth': 15, 'min_child_weight': 21}. Best is trial 102 with value: 29964.72025960951.\u001b[0m\n",
      "\u001b[32m[I 2023-05-23 21:33:37,111]\u001b[0m Trial 129 finished with value: 30489.81418471541 and parameters: {'colsample_bytree': 0.4, 'subsample': 0.7, 'learning_rate': 0.29659963260733163, 'max_depth': 15, 'min_child_weight': 19}. Best is trial 102 with value: 29964.72025960951.\u001b[0m\n",
      "\u001b[32m[I 2023-05-23 21:33:37,137]\u001b[0m Trial 131 finished with value: 31030.151386456346 and parameters: {'colsample_bytree': 0.5, 'subsample': 0.4, 'learning_rate': 0.27528779870538145, 'max_depth': 15, 'min_child_weight': 19}. Best is trial 102 with value: 29964.72025960951.\u001b[0m\n",
      "\u001b[32m[I 2023-05-23 21:33:37,229]\u001b[0m Trial 133 finished with value: 30275.941486026135 and parameters: {'colsample_bytree': 1.0, 'subsample': 0.4, 'learning_rate': 0.4101046880722263, 'max_depth': 15, 'min_child_weight': 19}. Best is trial 102 with value: 29964.72025960951.\u001b[0m\n",
      "\u001b[32m[I 2023-05-23 21:33:37,304]\u001b[0m Trial 134 finished with value: 30809.220348476956 and parameters: {'colsample_bytree': 1.0, 'subsample': 0.4, 'learning_rate': 0.27669298238395185, 'max_depth': 15, 'min_child_weight': 20}. Best is trial 102 with value: 29964.72025960951.\u001b[0m\n",
      "\u001b[32m[I 2023-05-23 21:33:37,318]\u001b[0m Trial 135 finished with value: 30387.868639313714 and parameters: {'colsample_bytree': 1.0, 'subsample': 0.4, 'learning_rate': 0.4161084281750057, 'max_depth': 15, 'min_child_weight': 20}. Best is trial 102 with value: 29964.72025960951.\u001b[0m\n",
      "\u001b[32m[I 2023-05-23 21:33:37,385]\u001b[0m Trial 136 finished with value: 30156.819665838146 and parameters: {'colsample_bytree': 1.0, 'subsample': 0.4, 'learning_rate': 0.2729509948406243, 'max_depth': 15, 'min_child_weight': 8}. Best is trial 102 with value: 29964.72025960951.\u001b[0m\n",
      "\u001b[32m[I 2023-05-23 21:33:37,483]\u001b[0m Trial 137 finished with value: 33349.88023703229 and parameters: {'colsample_bytree': 1.0, 'subsample': 0.5, 'learning_rate': 0.42744498475831166, 'max_depth': 15, 'min_child_weight': 264}. Best is trial 102 with value: 29964.72025960951.\u001b[0m\n",
      "\u001b[32m[I 2023-05-23 21:33:37,500]\u001b[0m Trial 140 finished with value: 30530.481603298234 and parameters: {'colsample_bytree': 1.0, 'subsample': 0.5, 'learning_rate': 0.4197236621369168, 'max_depth': 7, 'min_child_weight': 40}. Best is trial 102 with value: 29964.72025960951.\u001b[0m\n",
      "\u001b[32m[I 2023-05-23 21:33:37,509]\u001b[0m Trial 138 finished with value: 32999.359789270144 and parameters: {'colsample_bytree': 1.0, 'subsample': 0.5, 'learning_rate': 0.4256166384961551, 'max_depth': 15, 'min_child_weight': 2}. Best is trial 102 with value: 29964.72025960951.\u001b[0m\n",
      "\u001b[32m[I 2023-05-23 21:33:37,538]\u001b[0m Trial 139 finished with value: 34135.108467125705 and parameters: {'colsample_bytree': 1.0, 'subsample': 0.5, 'learning_rate': 0.4351911837599101, 'max_depth': 15, 'min_child_weight': 1}. Best is trial 102 with value: 29964.72025960951.\u001b[0m\n",
      "\u001b[32m[I 2023-05-23 21:33:37,610]\u001b[0m Trial 141 finished with value: 39260.94582389011 and parameters: {'colsample_bytree': 1.0, 'subsample': 0.4, 'learning_rate': 0.4296898822736709, 'max_depth': 15, 'min_child_weight': 274}. Best is trial 102 with value: 29964.72025960951.\u001b[0m\n",
      "\u001b[32m[I 2023-05-23 21:33:37,671]\u001b[0m Trial 142 finished with value: 31980.79918602777 and parameters: {'colsample_bytree': 1.0, 'subsample': 0.4, 'learning_rate': 0.425057616297662, 'max_depth': 7, 'min_child_weight': 3}. Best is trial 102 with value: 29964.72025960951.\u001b[0m\n",
      "\u001b[32m[I 2023-05-23 21:33:37,686]\u001b[0m Trial 143 finished with value: 33496.45947468632 and parameters: {'colsample_bytree': 1.0, 'subsample': 0.4, 'learning_rate': 0.4332176268579674, 'max_depth': 15, 'min_child_weight': 4}. Best is trial 102 with value: 29964.72025960951.\u001b[0m\n",
      "\u001b[32m[I 2023-05-23 21:33:37,774]\u001b[0m Trial 144 finished with value: 31046.15649968333 and parameters: {'colsample_bytree': 1.0, 'subsample': 0.4, 'learning_rate': 0.45380918912291407, 'max_depth': 15, 'min_child_weight': 28}. Best is trial 102 with value: 29964.72025960951.\u001b[0m\n",
      "\u001b[32m[I 2023-05-23 21:33:37,876]\u001b[0m Trial 145 finished with value: 30751.211228223445 and parameters: {'colsample_bytree': 1.0, 'subsample': 0.4, 'learning_rate': 0.42630860224624567, 'max_depth': 15, 'min_child_weight': 25}. Best is trial 102 with value: 29964.72025960951.\u001b[0m\n",
      "\u001b[32m[I 2023-05-23 21:33:37,903]\u001b[0m Trial 147 finished with value: 30651.660092560396 and parameters: {'colsample_bytree': 1.0, 'subsample': 0.4, 'learning_rate': 0.3256174140938876, 'max_depth': 14, 'min_child_weight': 28}. Best is trial 102 with value: 29964.72025960951.\u001b[0m\n",
      "\u001b[32m[I 2023-05-23 21:33:37,949]\u001b[0m Trial 148 finished with value: 32684.02736770277 and parameters: {'colsample_bytree': 1.0, 'subsample': 0.4, 'learning_rate': 0.22197833512973414, 'max_depth': 14, 'min_child_weight': 26}. Best is trial 102 with value: 29964.72025960951.\u001b[0m\n",
      "\u001b[32m[I 2023-05-23 21:33:37,953]\u001b[0m Trial 146 finished with value: 32527.09868279741 and parameters: {'colsample_bytree': 1.0, 'subsample': 0.4, 'learning_rate': 0.22240939351377856, 'max_depth': 14, 'min_child_weight': 29}. Best is trial 102 with value: 29964.72025960951.\u001b[0m\n",
      "\u001b[32m[I 2023-05-23 21:33:38,033]\u001b[0m Trial 149 finished with value: 32626.155185788593 and parameters: {'colsample_bytree': 1.0, 'subsample': 0.4, 'learning_rate': 0.2206934459529336, 'max_depth': 14, 'min_child_weight': 30}. Best is trial 102 with value: 29964.72025960951.\u001b[0m\n"
     ]
    },
    {
     "name": "stderr",
     "output_type": "stream",
     "text": [
      "\u001b[32m[I 2023-05-23 21:33:38,122]\u001b[0m Trial 150 finished with value: 32289.038623662604 and parameters: {'colsample_bytree': 1.0, 'subsample': 0.4, 'learning_rate': 0.23015101571268895, 'max_depth': 14, 'min_child_weight': 38}. Best is trial 102 with value: 29964.72025960951.\u001b[0m\n",
      "\u001b[32m[I 2023-05-23 21:33:38,145]\u001b[0m Trial 152 finished with value: 32711.112993469025 and parameters: {'colsample_bytree': 0.3, 'subsample': 0.4, 'learning_rate': 0.3390762429746347, 'max_depth': 14, 'min_child_weight': 43}. Best is trial 102 with value: 29964.72025960951.\u001b[0m\n",
      "\u001b[32m[I 2023-05-23 21:33:38,180]\u001b[0m Trial 151 finished with value: 32622.641425831644 and parameters: {'colsample_bytree': 1.0, 'subsample': 0.4, 'learning_rate': 0.22886362829914764, 'max_depth': 14, 'min_child_weight': 62}. Best is trial 102 with value: 29964.72025960951.\u001b[0m\n",
      "\u001b[32m[I 2023-05-23 21:33:38,289]\u001b[0m Trial 153 finished with value: 37884.52502497781 and parameters: {'colsample_bytree': 0.3, 'subsample': 0.4, 'learning_rate': 0.22309892813940596, 'max_depth': 14, 'min_child_weight': 157}. Best is trial 102 with value: 29964.72025960951.\u001b[0m\n",
      "\u001b[32m[I 2023-05-23 21:33:38,341]\u001b[0m Trial 154 finished with value: 34651.547627322 and parameters: {'colsample_bytree': 0.3, 'subsample': 0.4, 'learning_rate': 0.25341383407658663, 'max_depth': 14, 'min_child_weight': 43}. Best is trial 102 with value: 29964.72025960951.\u001b[0m\n",
      "\u001b[32m[I 2023-05-23 21:33:38,385]\u001b[0m Trial 155 finished with value: 40652.73280262596 and parameters: {'colsample_bytree': 0.3, 'subsample': 0.5, 'learning_rate': 0.16063944954177267, 'max_depth': 15, 'min_child_weight': 9}. Best is trial 102 with value: 29964.72025960951.\u001b[0m\n",
      "\u001b[32m[I 2023-05-23 21:33:38,386]\u001b[0m Trial 156 finished with value: 40721.96839840064 and parameters: {'colsample_bytree': 0.3, 'subsample': 0.5, 'learning_rate': 0.15993781942495378, 'max_depth': 15, 'min_child_weight': 11}. Best is trial 102 with value: 29964.72025960951.\u001b[0m\n",
      "\u001b[32m[I 2023-05-23 21:33:38,483]\u001b[0m Trial 157 finished with value: 30402.10066157363 and parameters: {'colsample_bytree': 0.3, 'subsample': 0.5, 'learning_rate': 0.33054005195152525, 'max_depth': 15, 'min_child_weight': 9}. Best is trial 102 with value: 29964.72025960951.\u001b[0m\n",
      "\u001b[32m[I 2023-05-23 21:33:38,562]\u001b[0m Trial 159 finished with value: 30024.07409995609 and parameters: {'colsample_bytree': 0.4, 'subsample': 0.5, 'learning_rate': 0.32913447483374586, 'max_depth': 15, 'min_child_weight': 9}. Best is trial 102 with value: 29964.72025960951.\u001b[0m\n",
      "\u001b[32m[I 2023-05-23 21:33:38,589]\u001b[0m Trial 158 finished with value: 30114.350027783268 and parameters: {'colsample_bytree': 0.3, 'subsample': 0.5, 'learning_rate': 0.3376493065216215, 'max_depth': 15, 'min_child_weight': 10}. Best is trial 102 with value: 29964.72025960951.\u001b[0m\n",
      "\u001b[32m[I 2023-05-23 21:33:38,612]\u001b[0m Trial 160 finished with value: 30063.324618229966 and parameters: {'colsample_bytree': 0.4, 'subsample': 0.5, 'learning_rate': 0.3365184681544188, 'max_depth': 15, 'min_child_weight': 9}. Best is trial 102 with value: 29964.72025960951.\u001b[0m\n",
      "\u001b[32m[I 2023-05-23 21:33:38,713]\u001b[0m Trial 161 finished with value: 29926.186087708407 and parameters: {'colsample_bytree': 0.4, 'subsample': 0.5, 'learning_rate': 0.495793981559818, 'max_depth': 15, 'min_child_weight': 16}. Best is trial 161 with value: 29926.186087708407.\u001b[0m\n",
      "\u001b[32m[I 2023-05-23 21:33:38,744]\u001b[0m Trial 162 finished with value: 29818.85733001183 and parameters: {'colsample_bytree': 0.4, 'subsample': 0.5, 'learning_rate': 0.34324018931906913, 'max_depth': 15, 'min_child_weight': 16}. Best is trial 162 with value: 29818.85733001183.\u001b[0m\n",
      "\u001b[32m[I 2023-05-23 21:33:38,789]\u001b[0m Trial 164 finished with value: 29829.84032936952 and parameters: {'colsample_bytree': 0.4, 'subsample': 0.5, 'learning_rate': 0.3371830407655231, 'max_depth': 15, 'min_child_weight': 16}. Best is trial 162 with value: 29818.85733001183.\u001b[0m\n",
      "\u001b[32m[I 2023-05-23 21:33:38,830]\u001b[0m Trial 163 finished with value: 29775.548209457877 and parameters: {'colsample_bytree': 0.4, 'subsample': 0.5, 'learning_rate': 0.32577245854811243, 'max_depth': 15, 'min_child_weight': 16}. Best is trial 163 with value: 29775.548209457877.\u001b[0m\n",
      "\u001b[32m[I 2023-05-23 21:33:38,901]\u001b[0m Trial 165 finished with value: 87026.36884012602 and parameters: {'colsample_bytree': 0.4, 'subsample': 0.5, 'learning_rate': 0.05043613231475807, 'max_depth': 15, 'min_child_weight': 16}. Best is trial 163 with value: 29775.548209457877.\u001b[0m\n",
      "\u001b[32m[I 2023-05-23 21:33:38,990]\u001b[0m Trial 167 finished with value: 29759.60613289884 and parameters: {'colsample_bytree': 0.3, 'subsample': 0.5, 'learning_rate': 0.4974236426476558, 'max_depth': 15, 'min_child_weight': 16}. Best is trial 167 with value: 29759.60613289884.\u001b[0m\n",
      "\u001b[32m[I 2023-05-23 21:33:38,999]\u001b[0m Trial 166 finished with value: 29817.388397724055 and parameters: {'colsample_bytree': 0.4, 'subsample': 0.5, 'learning_rate': 0.3467828311367958, 'max_depth': 15, 'min_child_weight': 14}. Best is trial 167 with value: 29759.60613289884.\u001b[0m\n",
      "\u001b[32m[I 2023-05-23 21:33:39,050]\u001b[0m Trial 168 finished with value: 30018.892965284947 and parameters: {'colsample_bytree': 0.3, 'subsample': 0.5, 'learning_rate': 0.3398260405234222, 'max_depth': 15, 'min_child_weight': 13}. Best is trial 167 with value: 29759.60613289884.\u001b[0m\n",
      "\u001b[32m[I 2023-05-23 21:33:39,170]\u001b[0m Trial 169 finished with value: 30778.14782150967 and parameters: {'colsample_bytree': 0.4, 'subsample': 0.5, 'learning_rate': 0.49716992648622654, 'max_depth': 15, 'min_child_weight': 9}. Best is trial 167 with value: 29759.60613289884.\u001b[0m\n",
      "\u001b[32m[I 2023-05-23 21:33:39,198]\u001b[0m Trial 170 finished with value: 128629.41747734895 and parameters: {'colsample_bytree': 0.4, 'subsample': 0.5, 'learning_rate': 0.0072395829672782476, 'max_depth': 15, 'min_child_weight': 16}. Best is trial 167 with value: 29759.60613289884.\u001b[0m\n",
      "\u001b[32m[I 2023-05-23 21:33:39,249]\u001b[0m Trial 172 finished with value: 30239.471341379205 and parameters: {'colsample_bytree': 0.4, 'subsample': 0.5, 'learning_rate': 0.28574549850710634, 'max_depth': 15, 'min_child_weight': 16}. Best is trial 167 with value: 29759.60613289884.\u001b[0m\n",
      "\u001b[32m[I 2023-05-23 21:33:39,251]\u001b[0m Trial 171 finished with value: 130726.25245741989 and parameters: {'colsample_bytree': 0.4, 'subsample': 0.5, 'learning_rate': 0.005480745967279444, 'max_depth': 15, 'min_child_weight': 12}. Best is trial 167 with value: 29759.60613289884.\u001b[0m\n",
      "\u001b[32m[I 2023-05-23 21:33:39,350]\u001b[0m Trial 173 finished with value: 30331.529241711636 and parameters: {'colsample_bytree': 0.4, 'subsample': 0.5, 'learning_rate': 0.2748231207670788, 'max_depth': 15, 'min_child_weight': 6}. Best is trial 167 with value: 29759.60613289884.\u001b[0m\n",
      "\u001b[32m[I 2023-05-23 21:33:39,371]\u001b[0m Trial 175 finished with value: 117397.77214997257 and parameters: {'colsample_bytree': 0.4, 'subsample': 0.5, 'learning_rate': 0.01721499206703812, 'max_depth': 15, 'min_child_weight': 7}. Best is trial 167 with value: 29759.60613289884.\u001b[0m\n",
      "\u001b[32m[I 2023-05-23 21:33:39,438]\u001b[0m Trial 176 finished with value: 31114.40171467046 and parameters: {'colsample_bytree': 0.3, 'subsample': 0.5, 'learning_rate': 0.2763145243489882, 'max_depth': 15, 'min_child_weight': 7}. Best is trial 167 with value: 29759.60613289884.\u001b[0m\n",
      "\u001b[32m[I 2023-05-23 21:33:39,475]\u001b[0m Trial 174 finished with value: 30428.508758510805 and parameters: {'colsample_bytree': 0.4, 'subsample': 0.5, 'learning_rate': 0.2680209829190838, 'max_depth': 15, 'min_child_weight': 5}. Best is trial 167 with value: 29759.60613289884.\u001b[0m\n",
      "\u001b[32m[I 2023-05-23 21:33:39,562]\u001b[0m Trial 177 finished with value: 104802.95031558587 and parameters: {'colsample_bytree': 0.3, 'subsample': 0.5, 'learning_rate': 0.029946644491307198, 'max_depth': 15, 'min_child_weight': 1}. Best is trial 167 with value: 29759.60613289884.\u001b[0m\n",
      "\u001b[32m[I 2023-05-23 21:33:39,615]\u001b[0m Trial 178 finished with value: 108645.57035997038 and parameters: {'colsample_bytree': 0.3, 'subsample': 0.5, 'learning_rate': 0.026428271795948942, 'max_depth': 15, 'min_child_weight': 234}. Best is trial 167 with value: 29759.60613289884.\u001b[0m\n",
      "\u001b[32m[I 2023-05-23 21:33:39,654]\u001b[0m Trial 180 finished with value: 31563.89969547042 and parameters: {'colsample_bytree': 0.3, 'subsample': 0.5, 'learning_rate': 0.2690794557182025, 'max_depth': 15, 'min_child_weight': 17}. Best is trial 167 with value: 29759.60613289884.\u001b[0m\n"
     ]
    },
    {
     "name": "stderr",
     "output_type": "stream",
     "text": [
      "\u001b[32m[I 2023-05-23 21:33:39,657]\u001b[0m Trial 179 finished with value: 30572.429194649234 and parameters: {'colsample_bytree': 0.3, 'subsample': 0.5, 'learning_rate': 0.2785832696896221, 'max_depth': 15, 'min_child_weight': 1}. Best is trial 167 with value: 29759.60613289884.\u001b[0m\n",
      "\u001b[32m[I 2023-05-23 21:33:39,808]\u001b[0m Trial 182 finished with value: 30254.2745780682 and parameters: {'colsample_bytree': 0.3, 'subsample': 0.5, 'learning_rate': 0.32977786824339245, 'max_depth': 15, 'min_child_weight': 16}. Best is trial 167 with value: 29759.60613289884.\u001b[0m\n",
      "\u001b[32m[I 2023-05-23 21:33:39,822]\u001b[0m Trial 181 finished with value: 31505.938682449338 and parameters: {'colsample_bytree': 0.3, 'subsample': 0.5, 'learning_rate': 0.26665910312097607, 'max_depth': 15, 'min_child_weight': 16}. Best is trial 167 with value: 29759.60613289884.\u001b[0m\n",
      "\u001b[32m[I 2023-05-23 21:33:39,871]\u001b[0m Trial 183 finished with value: 30187.98741133366 and parameters: {'colsample_bytree': 0.3, 'subsample': 0.5, 'learning_rate': 0.3402274818707062, 'max_depth': 15, 'min_child_weight': 15}. Best is trial 167 with value: 29759.60613289884.\u001b[0m\n",
      "\u001b[32m[I 2023-05-23 21:33:39,912]\u001b[0m Trial 184 finished with value: 30187.936669535986 and parameters: {'colsample_bytree': 0.3, 'subsample': 0.5, 'learning_rate': 0.35077645207398434, 'max_depth': 15, 'min_child_weight': 16}. Best is trial 167 with value: 29759.60613289884.\u001b[0m\n",
      "\u001b[32m[I 2023-05-23 21:33:39,988]\u001b[0m Trial 185 finished with value: 30153.285377383276 and parameters: {'colsample_bytree': 0.3, 'subsample': 0.5, 'learning_rate': 0.3626300234454187, 'max_depth': 15, 'min_child_weight': 15}. Best is trial 167 with value: 29759.60613289884.\u001b[0m\n",
      "\u001b[32m[I 2023-05-23 21:33:39,990]\u001b[0m Trial 186 finished with value: 29906.579888199147 and parameters: {'colsample_bytree': 0.4, 'subsample': 0.5, 'learning_rate': 0.3564047418184295, 'max_depth': 15, 'min_child_weight': 16}. Best is trial 167 with value: 29759.60613289884.\u001b[0m\n",
      "\u001b[32m[I 2023-05-23 21:33:40,075]\u001b[0m Trial 188 finished with value: 29961.38125250415 and parameters: {'colsample_bytree': 0.4, 'subsample': 0.5, 'learning_rate': 0.3421307435206115, 'max_depth': 15, 'min_child_weight': 13}. Best is trial 167 with value: 29759.60613289884.\u001b[0m\n",
      "\u001b[32m[I 2023-05-23 21:33:40,091]\u001b[0m Trial 187 finished with value: 29957.913002994457 and parameters: {'colsample_bytree': 0.4, 'subsample': 0.5, 'learning_rate': 0.343428046368094, 'max_depth': 15, 'min_child_weight': 13}. Best is trial 167 with value: 29759.60613289884.\u001b[0m\n",
      "\u001b[32m[I 2023-05-23 21:33:40,238]\u001b[0m Trial 189 finished with value: 30372.551632675357 and parameters: {'colsample_bytree': 0.4, 'subsample': 0.5, 'learning_rate': 0.35037332342339045, 'max_depth': 15, 'min_child_weight': 23}. Best is trial 167 with value: 29759.60613289884.\u001b[0m\n",
      "\u001b[32m[I 2023-05-23 21:33:40,239]\u001b[0m Trial 190 finished with value: 30111.432959687976 and parameters: {'colsample_bytree': 0.4, 'subsample': 0.5, 'learning_rate': 0.3539579622702261, 'max_depth': 15, 'min_child_weight': 13}. Best is trial 167 with value: 29759.60613289884.\u001b[0m\n",
      "\u001b[32m[I 2023-05-23 21:33:40,303]\u001b[0m Trial 191 finished with value: 30172.12936599348 and parameters: {'colsample_bytree': 0.3, 'subsample': 0.5, 'learning_rate': 0.3579420733379972, 'max_depth': 15, 'min_child_weight': 12}. Best is trial 167 with value: 29759.60613289884.\u001b[0m\n",
      "\u001b[32m[I 2023-05-23 21:33:40,307]\u001b[0m Trial 192 finished with value: 30740.02949690717 and parameters: {'colsample_bytree': 0.3, 'subsample': 0.5, 'learning_rate': 0.339310425923038, 'max_depth': 15, 'min_child_weight': 22}. Best is trial 167 with value: 29759.60613289884.\u001b[0m\n",
      "\u001b[32m[I 2023-05-23 21:33:40,390]\u001b[0m Trial 193 finished with value: 30807.383548092388 and parameters: {'colsample_bytree': 0.3, 'subsample': 0.5, 'learning_rate': 0.35098396070521304, 'max_depth': 15, 'min_child_weight': 23}. Best is trial 167 with value: 29759.60613289884.\u001b[0m\n",
      "\u001b[32m[I 2023-05-23 21:33:40,426]\u001b[0m Trial 194 finished with value: 30977.668313880848 and parameters: {'colsample_bytree': 0.3, 'subsample': 0.5, 'learning_rate': 0.33922508039268107, 'max_depth': 15, 'min_child_weight': 23}. Best is trial 167 with value: 29759.60613289884.\u001b[0m\n",
      "\u001b[32m[I 2023-05-23 21:33:40,499]\u001b[0m Trial 195 finished with value: 29990.76013197916 and parameters: {'colsample_bytree': 0.3, 'subsample': 0.5, 'learning_rate': 0.372437359489339, 'max_depth': 15, 'min_child_weight': 10}. Best is trial 167 with value: 29759.60613289884.\u001b[0m\n",
      "\u001b[32m[I 2023-05-23 21:33:40,544]\u001b[0m Trial 196 finished with value: 30066.60520937564 and parameters: {'colsample_bytree': 0.4, 'subsample': 0.5, 'learning_rate': 0.33552240288512913, 'max_depth': 15, 'min_child_weight': 9}. Best is trial 167 with value: 29759.60613289884.\u001b[0m\n",
      "\u001b[32m[I 2023-05-23 21:33:40,681]\u001b[0m Trial 198 finished with value: 30006.3976505798 and parameters: {'colsample_bytree': 0.4, 'subsample': 0.5, 'learning_rate': 0.3567697648390597, 'max_depth': 15, 'min_child_weight': 10}. Best is trial 167 with value: 29759.60613289884.\u001b[0m\n",
      "\u001b[32m[I 2023-05-23 21:33:40,705]\u001b[0m Trial 197 finished with value: 30063.913204453434 and parameters: {'colsample_bytree': 0.4, 'subsample': 0.5, 'learning_rate': 0.3665294920881452, 'max_depth': 15, 'min_child_weight': 10}. Best is trial 167 with value: 29759.60613289884.\u001b[0m\n",
      "\u001b[32m[I 2023-05-23 21:33:40,716]\u001b[0m Trial 200 finished with value: 30895.17143967524 and parameters: {'colsample_bytree': 0.4, 'subsample': 0.5, 'learning_rate': 0.49367430818646824, 'max_depth': 15, 'min_child_weight': 9}. Best is trial 167 with value: 29759.60613289884.\u001b[0m\n",
      "\u001b[32m[I 2023-05-23 21:33:40,761]\u001b[0m Trial 199 finished with value: 30237.25573365178 and parameters: {'colsample_bytree': 0.4, 'subsample': 0.5, 'learning_rate': 0.38119348137002373, 'max_depth': 15, 'min_child_weight': 11}. Best is trial 167 with value: 29759.60613289884.\u001b[0m\n",
      "\u001b[32m[I 2023-05-23 21:33:40,808]\u001b[0m Trial 201 finished with value: 30359.72261768249 and parameters: {'colsample_bytree': 0.4, 'subsample': 0.5, 'learning_rate': 0.3921884222496676, 'max_depth': 15, 'min_child_weight': 9}. Best is trial 167 with value: 29759.60613289884.\u001b[0m\n",
      "\u001b[32m[I 2023-05-23 21:33:40,840]\u001b[0m Trial 202 finished with value: 31308.486298867836 and parameters: {'colsample_bytree': 0.4, 'subsample': 0.5, 'learning_rate': 0.4899335848107614, 'max_depth': 15, 'min_child_weight': 11}. Best is trial 167 with value: 29759.60613289884.\u001b[0m\n",
      "\u001b[32m[I 2023-05-23 21:33:40,976]\u001b[0m Trial 203 finished with value: 30852.476305655648 and parameters: {'colsample_bytree': 0.4, 'subsample': 0.5, 'learning_rate': 0.4891618590425506, 'max_depth': 15, 'min_child_weight': 6}. Best is trial 167 with value: 29759.60613289884.\u001b[0m\n",
      "\u001b[32m[I 2023-05-23 21:33:40,983]\u001b[0m Trial 204 finished with value: 31120.01671469362 and parameters: {'colsample_bytree': 0.4, 'subsample': 0.5, 'learning_rate': 0.40761569323845387, 'max_depth': 15, 'min_child_weight': 1}. Best is trial 167 with value: 29759.60613289884.\u001b[0m\n",
      "\u001b[32m[I 2023-05-23 21:33:41,109]\u001b[0m Trial 205 finished with value: 75611.43686862485 and parameters: {'colsample_bytree': 0.4, 'subsample': 0.5, 'learning_rate': 0.06665975901766204, 'max_depth': 15, 'min_child_weight': 1}. Best is trial 167 with value: 29759.60613289884.\u001b[0m\n",
      "\u001b[32m[I 2023-05-23 21:33:41,142]\u001b[0m Trial 206 finished with value: 64993.84285953997 and parameters: {'colsample_bytree': 0.4, 'subsample': 0.5, 'learning_rate': 0.08456830511712955, 'max_depth': 15, 'min_child_weight': 4}. Best is trial 167 with value: 29759.60613289884.\u001b[0m\n",
      "\u001b[32m[I 2023-05-23 21:33:41,175]\u001b[0m Trial 207 finished with value: 31087.454915314305 and parameters: {'colsample_bytree': 0.4, 'subsample': 0.5, 'learning_rate': 0.41604820660622716, 'max_depth': 15, 'min_child_weight': 2}. Best is trial 167 with value: 29759.60613289884.\u001b[0m\n",
      "\u001b[32m[I 2023-05-23 21:33:41,192]\u001b[0m Trial 208 finished with value: 30867.917102807376 and parameters: {'colsample_bytree': 0.4, 'subsample': 0.5, 'learning_rate': 0.41700191825852284, 'max_depth': 15, 'min_child_weight': 32}. Best is trial 167 with value: 29759.60613289884.\u001b[0m\n",
      "\u001b[32m[I 2023-05-23 21:33:41,235]\u001b[0m Trial 210 finished with value: 30850.72441007476 and parameters: {'colsample_bytree': 0.4, 'subsample': 0.5, 'learning_rate': 0.30233454358713574, 'max_depth': 15, 'min_child_weight': 20}. Best is trial 167 with value: 29759.60613289884.\u001b[0m\n"
     ]
    },
    {
     "name": "stderr",
     "output_type": "stream",
     "text": [
      "\u001b[32m[I 2023-05-23 21:33:41,261]\u001b[0m Trial 209 finished with value: 31188.381365759476 and parameters: {'colsample_bytree': 0.4, 'subsample': 0.5, 'learning_rate': 0.42578143225813186, 'max_depth': 15, 'min_child_weight': 33}. Best is trial 167 with value: 29759.60613289884.\u001b[0m\n",
      "\u001b[32m[I 2023-05-23 21:33:41,404]\u001b[0m Trial 212 finished with value: 30027.63122633168 and parameters: {'colsample_bytree': 0.4, 'subsample': 0.5, 'learning_rate': 0.3101100662139149, 'max_depth': 15, 'min_child_weight': 15}. Best is trial 167 with value: 29759.60613289884.\u001b[0m\n",
      "\u001b[32m[I 2023-05-23 21:33:41,449]\u001b[0m Trial 211 finished with value: 33553.74314007957 and parameters: {'colsample_bytree': 0.4, 'subsample': 0.6, 'learning_rate': 0.31179482350118354, 'max_depth': 15, 'min_child_weight': 194}. Best is trial 167 with value: 29759.60613289884.\u001b[0m\n",
      "\u001b[32m[I 2023-05-23 21:33:41,575]\u001b[0m Trial 215 finished with value: 30467.63139264062 and parameters: {'colsample_bytree': 0.4, 'subsample': 0.6, 'learning_rate': 0.3138941303875159, 'max_depth': 15, 'min_child_weight': 14}. Best is trial 167 with value: 29759.60613289884.\u001b[0m\n",
      "\u001b[32m[I 2023-05-23 21:33:41,576]\u001b[0m Trial 214 finished with value: 30458.791828420613 and parameters: {'colsample_bytree': 0.4, 'subsample': 0.6, 'learning_rate': 0.30827020555972245, 'max_depth': 15, 'min_child_weight': 12}. Best is trial 167 with value: 29759.60613289884.\u001b[0m\n",
      "\u001b[32m[I 2023-05-23 21:33:41,587]\u001b[0m Trial 213 finished with value: 30713.607355895252 and parameters: {'colsample_bytree': 0.4, 'subsample': 0.6, 'learning_rate': 0.29540613110362157, 'max_depth': 15, 'min_child_weight': 14}. Best is trial 167 with value: 29759.60613289884.\u001b[0m\n",
      "\u001b[32m[I 2023-05-23 21:33:41,595]\u001b[0m Trial 216 finished with value: 30032.15392552758 and parameters: {'colsample_bytree': 0.4, 'subsample': 0.5, 'learning_rate': 0.3030459208991306, 'max_depth': 15, 'min_child_weight': 15}. Best is trial 167 with value: 29759.60613289884.\u001b[0m\n",
      "\u001b[32m[I 2023-05-23 21:33:41,681]\u001b[0m Trial 217 finished with value: 135948.5641439614 and parameters: {'colsample_bytree': 0.4, 'subsample': 0.6, 'learning_rate': 0.001203393817038395, 'max_depth': 15, 'min_child_weight': 14}. Best is trial 167 with value: 29759.60613289884.\u001b[0m\n",
      "\u001b[32m[I 2023-05-23 21:33:41,701]\u001b[0m Trial 218 finished with value: 30694.119909138488 and parameters: {'colsample_bytree': 0.4, 'subsample': 0.6, 'learning_rate': 0.32038425185395897, 'max_depth': 15, 'min_child_weight': 13}. Best is trial 167 with value: 29759.60613289884.\u001b[0m\n",
      "\u001b[32m[I 2023-05-23 21:33:41,827]\u001b[0m Trial 219 finished with value: 30474.474927173378 and parameters: {'colsample_bytree': 0.4, 'subsample': 0.5, 'learning_rate': 0.32575323939554307, 'max_depth': 15, 'min_child_weight': 23}. Best is trial 167 with value: 29759.60613289884.\u001b[0m\n",
      "\u001b[32m[I 2023-05-23 21:33:41,849]\u001b[0m Trial 220 finished with value: 31750.549439924816 and parameters: {'colsample_bytree': 0.4, 'subsample': 0.5, 'learning_rate': 0.24747025203834386, 'max_depth': 15, 'min_child_weight': 21}. Best is trial 167 with value: 29759.60613289884.\u001b[0m\n",
      "\u001b[32m[I 2023-05-23 21:33:42,005]\u001b[0m Trial 224 finished with value: 34391.094283283746 and parameters: {'colsample_bytree': 0.4, 'subsample': 0.5, 'learning_rate': 0.20605943384807032, 'max_depth': 15, 'min_child_weight': 22}. Best is trial 167 with value: 29759.60613289884.\u001b[0m\n",
      "\u001b[32m[I 2023-05-23 21:33:42,040]\u001b[0m Trial 223 finished with value: 32501.32459777078 and parameters: {'colsample_bytree': 0.4, 'subsample': 0.5, 'learning_rate': 0.23159576256799733, 'max_depth': 15, 'min_child_weight': 20}. Best is trial 167 with value: 29759.60613289884.\u001b[0m\n",
      "\u001b[32m[I 2023-05-23 21:33:42,041]\u001b[0m Trial 221 finished with value: 32052.55149610561 and parameters: {'colsample_bytree': 0.4, 'subsample': 0.5, 'learning_rate': 0.24104415848006586, 'max_depth': 15, 'min_child_weight': 20}. Best is trial 167 with value: 29759.60613289884.\u001b[0m\n",
      "\u001b[32m[I 2023-05-23 21:33:42,051]\u001b[0m Trial 222 finished with value: 33476.34031042889 and parameters: {'colsample_bytree': 0.4, 'subsample': 0.5, 'learning_rate': 0.20647615740619824, 'max_depth': 15, 'min_child_weight': 8}. Best is trial 167 with value: 29759.60613289884.\u001b[0m\n",
      "\u001b[32m[I 2023-05-23 21:33:42,110]\u001b[0m Trial 225 finished with value: 33503.687263928914 and parameters: {'colsample_bytree': 0.4, 'subsample': 0.8, 'learning_rate': 0.20397107889789032, 'max_depth': 15, 'min_child_weight': 7}. Best is trial 167 with value: 29759.60613289884.\u001b[0m\n",
      "\u001b[32m[I 2023-05-23 21:33:42,145]\u001b[0m Trial 226 finished with value: 31300.290148872173 and parameters: {'colsample_bytree': 0.6, 'subsample': 0.8, 'learning_rate': 0.2464567487660562, 'max_depth': 15, 'min_child_weight': 8}. Best is trial 167 with value: 29759.60613289884.\u001b[0m\n",
      "\u001b[32m[I 2023-05-23 21:33:42,282]\u001b[0m Trial 228 finished with value: 34217.7346246274 and parameters: {'colsample_bytree': 0.6, 'subsample': 0.5, 'learning_rate': 0.2059026316333267, 'max_depth': 15, 'min_child_weight': 28}. Best is trial 167 with value: 29759.60613289884.\u001b[0m\n",
      "\u001b[32m[I 2023-05-23 21:33:42,324]\u001b[0m Trial 227 finished with value: 34276.149363180906 and parameters: {'colsample_bytree': 0.6, 'subsample': 0.5, 'learning_rate': 0.20484798595978942, 'max_depth': 15, 'min_child_weight': 26}. Best is trial 167 with value: 29759.60613289884.\u001b[0m\n",
      "\u001b[32m[I 2023-05-23 21:33:42,454]\u001b[0m Trial 230 finished with value: 136397.87055366946 and parameters: {'colsample_bytree': 0.4, 'subsample': 0.8, 'learning_rate': 0.0008410724663630605, 'max_depth': 14, 'min_child_weight': 28}. Best is trial 167 with value: 29759.60613289884.\u001b[0m\n",
      "\u001b[32m[I 2023-05-23 21:33:42,485]\u001b[0m Trial 231 finished with value: 30288.489228867995 and parameters: {'colsample_bytree': 0.6, 'subsample': 0.8, 'learning_rate': 0.36937052540875787, 'max_depth': 14, 'min_child_weight': 17}. Best is trial 167 with value: 29759.60613289884.\u001b[0m\n",
      "\u001b[32m[I 2023-05-23 21:33:42,510]\u001b[0m Trial 229 finished with value: 31229.7117407511 and parameters: {'colsample_bytree': 0.6, 'subsample': 0.5, 'learning_rate': 0.23959642493763122, 'max_depth': 14, 'min_child_weight': 17}. Best is trial 167 with value: 29759.60613289884.\u001b[0m\n",
      "\u001b[32m[I 2023-05-23 21:33:42,547]\u001b[0m Trial 233 finished with value: 29792.969904219066 and parameters: {'colsample_bytree': 0.4, 'subsample': 0.5, 'learning_rate': 0.37689967725748935, 'max_depth': 14, 'min_child_weight': 15}. Best is trial 167 with value: 29759.60613289884.\u001b[0m\n",
      "\u001b[32m[I 2023-05-23 21:33:42,549]\u001b[0m Trial 232 finished with value: 30287.22745469678 and parameters: {'colsample_bytree': 0.6, 'subsample': 0.5, 'learning_rate': 0.3917405595886445, 'max_depth': 14, 'min_child_weight': 16}. Best is trial 167 with value: 29759.60613289884.\u001b[0m\n",
      "\u001b[32m[I 2023-05-23 21:33:42,605]\u001b[0m Trial 234 finished with value: 30571.64902879473 and parameters: {'colsample_bytree': 0.4, 'subsample': 0.5, 'learning_rate': 0.38864879546482706, 'max_depth': 14, 'min_child_weight': 17}. Best is trial 167 with value: 29759.60613289884.\u001b[0m\n",
      "\u001b[32m[I 2023-05-23 21:33:42,740]\u001b[0m Trial 235 finished with value: 30332.97846265516 and parameters: {'colsample_bytree': 0.4, 'subsample': 1.0, 'learning_rate': 0.39666245182414184, 'max_depth': 14, 'min_child_weight': 10}. Best is trial 167 with value: 29759.60613289884.\u001b[0m\n",
      "\u001b[32m[I 2023-05-23 21:33:42,781]\u001b[0m Trial 236 finished with value: 30161.34506754926 and parameters: {'colsample_bytree': 0.4, 'subsample': 1.0, 'learning_rate': 0.40019000247262815, 'max_depth': 14, 'min_child_weight': 8}. Best is trial 167 with value: 29759.60613289884.\u001b[0m\n",
      "\u001b[32m[I 2023-05-23 21:33:42,905]\u001b[0m Trial 237 finished with value: 30025.174407237326 and parameters: {'colsample_bytree': 0.4, 'subsample': 0.5, 'learning_rate': 0.37175411016731336, 'max_depth': 15, 'min_child_weight': 10}. Best is trial 167 with value: 29759.60613289884.\u001b[0m\n",
      "\u001b[32m[I 2023-05-23 21:33:42,953]\u001b[0m Trial 239 finished with value: 29923.478762825667 and parameters: {'colsample_bytree': 0.4, 'subsample': 0.5, 'learning_rate': 0.37384402396002503, 'max_depth': 15, 'min_child_weight': 9}. Best is trial 167 with value: 29759.60613289884.\u001b[0m\n",
      "\u001b[32m[I 2023-05-23 21:33:42,979]\u001b[0m Trial 240 finished with value: 137157.3114347493 and parameters: {'colsample_bytree': 0.4, 'subsample': 0.5, 'learning_rate': 0.0002401112009781175, 'max_depth': 15, 'min_child_weight': 11}. Best is trial 167 with value: 29759.60613289884.\u001b[0m\n"
     ]
    },
    {
     "name": "stderr",
     "output_type": "stream",
     "text": [
      "\u001b[32m[I 2023-05-23 21:33:42,994]\u001b[0m Trial 238 finished with value: 30106.160768260437 and parameters: {'colsample_bytree': 0.4, 'subsample': 0.5, 'learning_rate': 0.37513257205283934, 'max_depth': 15, 'min_child_weight': 11}. Best is trial 167 with value: 29759.60613289884.\u001b[0m\n",
      "\u001b[32m[I 2023-05-23 21:33:43,025]\u001b[0m Trial 241 finished with value: 135406.78193664426 and parameters: {'colsample_bytree': 0.4, 'subsample': 1.0, 'learning_rate': 0.0016168710418460208, 'max_depth': 15, 'min_child_weight': 12}. Best is trial 167 with value: 29759.60613289884.\u001b[0m\n",
      "\u001b[32m[I 2023-05-23 21:33:43,069]\u001b[0m Trial 242 finished with value: 29971.027146754506 and parameters: {'colsample_bytree': 0.4, 'subsample': 1.0, 'learning_rate': 0.2986787806098927, 'max_depth': 15, 'min_child_weight': 11}. Best is trial 167 with value: 29759.60613289884.\u001b[0m\n",
      "\u001b[32m[I 2023-05-23 21:33:43,188]\u001b[0m Trial 244 finished with value: 33024.87458912565 and parameters: {'colsample_bytree': 0.4, 'subsample': 0.5, 'learning_rate': 0.49546180383051547, 'max_depth': 15, 'min_child_weight': 1}. Best is trial 167 with value: 29759.60613289884.\u001b[0m\n",
      "\u001b[32m[I 2023-05-23 21:33:43,222]\u001b[0m Trial 243 finished with value: 31202.278913957347 and parameters: {'colsample_bytree': 0.4, 'subsample': 0.5, 'learning_rate': 0.49518707538815, 'max_depth': 15, 'min_child_weight': 4}. Best is trial 167 with value: 29759.60613289884.\u001b[0m\n",
      "\u001b[32m[I 2023-05-23 21:33:43,300]\u001b[0m Trial 245 finished with value: 30193.76998247397 and parameters: {'colsample_bytree': 0.4, 'subsample': 0.5, 'learning_rate': 0.2918594841149089, 'max_depth': 15, 'min_child_weight': 5}. Best is trial 167 with value: 29759.60613289884.\u001b[0m\n",
      "\u001b[32m[I 2023-05-23 21:33:43,311]\u001b[0m Trial 247 finished with value: 30074.4481376948 and parameters: {'colsample_bytree': 0.4, 'subsample': 0.5, 'learning_rate': 0.2972153982817341, 'max_depth': 15, 'min_child_weight': 6}. Best is trial 167 with value: 29759.60613289884.\u001b[0m\n",
      "\u001b[32m[I 2023-05-23 21:33:43,314]\u001b[0m Trial 246 finished with value: 30506.94614461982 and parameters: {'colsample_bytree': 0.4, 'subsample': 0.5, 'learning_rate': 0.2878085715058985, 'max_depth': 15, 'min_child_weight': 3}. Best is trial 167 with value: 29759.60613289884.\u001b[0m\n",
      "\u001b[32m[I 2023-05-23 21:33:43,315]\u001b[0m Trial 249 finished with value: 30423.881513140135 and parameters: {'colsample_bytree': 0.4, 'subsample': 0.5, 'learning_rate': 0.4995903815748062, 'max_depth': 15, 'min_child_weight': 20}. Best is trial 167 with value: 29759.60613289884.\u001b[0m\n",
      "\u001b[32m[I 2023-05-23 21:33:43,319]\u001b[0m Trial 248 finished with value: 30570.348878835597 and parameters: {'colsample_bytree': 0.4, 'subsample': 0.5, 'learning_rate': 0.47666855584552803, 'max_depth': 15, 'min_child_weight': 5}. Best is trial 167 with value: 29759.60613289884.\u001b[0m\n"
     ]
    }
   ],
   "source": [
    "study = optuna.create_study(direction=\"minimize\")\n",
    "study.optimize(objective, n_trials=250, n_jobs=-1)"
   ]
  },
  {
   "cell_type": "code",
   "execution_count": 14,
   "id": "4955c851",
   "metadata": {},
   "outputs": [
    {
     "name": "stdout",
     "output_type": "stream",
     "text": [
      "Optimized RMSE: 29759.6061\n",
      "Best params:\n",
      "\tcolsample_bytree: 0.3\n",
      "\tsubsample: 0.5\n",
      "\tlearning_rate: 0.4974236426476558\n",
      "\tmax_depth: 15\n",
      "\tmin_child_weight: 16\n"
     ]
    }
   ],
   "source": [
    "print(f\"Optimized RMSE: {study.best_value:.4f}\")\n",
    "print(\"Best params:\")\n",
    "for key, value in study.best_params.items():\n",
    "    print(f\"\\t{key}: {value}\")"
   ]
  },
  {
   "cell_type": "code",
   "execution_count": 15,
   "id": "f88ca3b4",
   "metadata": {},
   "outputs": [
    {
     "name": "stdout",
     "output_type": "stream",
     "text": [
      "Fitting 3 folds for each of 12 candidates, totalling 36 fits\n",
      "BEST PARAMS:  {'colsample_bytree': 0.3, 'learning_rate': 0.3, 'max_depth': 15, 'min_child_weight': 16, 'n_estimators': 500, 'subsample': 0.5}\n",
      "{'TestDeger': 36233.431130925936, 'MSE': 1202334401.1510684, 'RMSE': 34674.69395901092, 'MAE': 26609.182710981637}\n"
     ]
    }
   ],
   "source": [
    "model = XGBRegressor(objective=\"reg:squarederror\",use_label_encoder=False)\n",
    "grid_params = {\"learning_rate\": [0.3, 0.4],\n",
    "                  \"max_depth\": [10,15],\n",
    "                  \"n_estimators\": [500,750,1000],\n",
    "               'colsample_bytree': [0.3],\n",
    "               'subsample': [0.5],\n",
    "               'min_child_weight': [16]\n",
    "              }\n",
    "\n",
    "grid_model = GridSearchCV(estimator=model,\n",
    "                                  param_grid=grid_params,\n",
    "                                  cv=3,\n",
    "                                  verbose=True,\n",
    "                                  n_jobs=1).fit(X_train,y_train)\n",
    "\n",
    "\n",
    "grid_final_model = model.set_params(**grid_model.best_params_).fit(X_train,y_train)\n",
    "    \n",
    "cv_results = cross_validate(grid_final_model,\n",
    "                            X_train, y_train,\n",
    "                            cv=5,\n",
    "                            scoring=\"neg_mean_squared_error\")\n",
    "print(\"BEST PARAMS: \", grid_model.best_params_)\n",
    "    \n",
    "y_pred = grid_final_model.predict(X_test)\n",
    "\n",
    "rmse = (np.sqrt(-cv_results['test_score'])).mean()\n",
    "data_list = {\"TestDeger\": rmse,\n",
    "             \"MSE\":mean_squared_error(y_test, y_pred),\n",
    "             \"RMSE\": (np.sqrt(mean_squared_error(y_test, y_pred))),\n",
    "             \"MAE\": mean_absolute_error(y_test, y_pred)}\n",
    "\n",
    "print(data_list)"
   ]
  },
  {
   "cell_type": "code",
   "execution_count": 16,
   "id": "7f4ad0bd",
   "metadata": {},
   "outputs": [
    {
     "data": {
      "text/plain": [
       "0.21103114898019826"
      ]
     },
     "execution_count": 16,
     "metadata": {},
     "output_type": "execute_result"
    }
   ],
   "source": [
    "r2 = r2_score(y_test, y_pred)\n",
    "r2"
   ]
  },
  {
   "cell_type": "code",
   "execution_count": 17,
   "id": "4ebb366e",
   "metadata": {},
   "outputs": [
    {
     "data": {
      "text/plain": [
       "0.1927740185433764"
      ]
     },
     "execution_count": 17,
     "metadata": {},
     "output_type": "execute_result"
    }
   ],
   "source": [
    "n= len(X_train)\n",
    "p =len(X.columns)\n",
    "adj_R2 = 1- ((1-r2) * (n-1)/(n-p-1))\n",
    "adj_R2"
   ]
  },
  {
   "cell_type": "code",
   "execution_count": 26,
   "id": "afcb6239",
   "metadata": {},
   "outputs": [],
   "source": [
    "marka_model = joblib.dump(grid_final_model, \"Tofaş.pkl\")"
   ]
  },
  {
   "cell_type": "code",
   "execution_count": 18,
   "id": "c60f66fc",
   "metadata": {},
   "outputs": [
    {
     "data": {
      "image/png": "[encoded data removed]",
      "text/plain": [
       "<Figure size 700x700 with 1 Axes>"
      ]
     },
     "metadata": {},
     "output_type": "display_data"
    }
   ],
   "source": [
    "def plot_importance(model, features, num=len(X), save=False):\n",
    "    feature_imp = pd.DataFrame({\"Value\": model.feature_importances_, \"Feature\": features.columns})\n",
    "    plt.figure(figsize=(7, 7))\n",
    "    sns.set(font_scale=1)\n",
    "    sns.barplot(x=\"Value\", y=\"Feature\", data=feature_imp.sort_values(by=\"Value\", ascending=False)[0:15])\n",
    "    plt.title(\"Features\")\n",
    "    plt.tight_layout()\n",
    "    plt.show()\n",
    "    if save:\n",
    "        plt.savefig(\"importances.png\")\n",
    "plot_importance(grid_final_model,X)"
   ]
  },
  {
   "cell_type": "code",
   "execution_count": null,
   "id": "e2b387bc",
   "metadata": {},
   "outputs": [],
   "source": []
  },
  {
   "cell_type": "code",
   "execution_count": 19,
   "id": "c3d984cb",
   "metadata": {},
   "outputs": [
    {
     "data": {
      "text/plain": [
       "(1770, 29)"
      ]
     },
     "execution_count": 19,
     "metadata": {},
     "output_type": "execute_result"
    }
   ],
   "source": [
    "df2.shape"
   ]
  },
  {
   "cell_type": "code",
   "execution_count": 20,
   "id": "2ac512e9",
   "metadata": {},
   "outputs": [],
   "source": [
    "y_test2 = list(y_test)"
   ]
  },
  {
   "cell_type": "code",
   "execution_count": 21,
   "id": "d3a108c8",
   "metadata": {},
   "outputs": [],
   "source": [
    "df3 = pd.DataFrame(list(zip(y_test, y_pred,(y_pred-y_test))),\n",
    "               columns =['test', 'pred',\"fark\"])"
   ]
  },
  {
   "cell_type": "code",
   "execution_count": 22,
   "id": "67b7d162",
   "metadata": {},
   "outputs": [
    {
     "data": {
      "text/html": [
       "<div>\n",
       "<style scoped>\n",
       "    .dataframe tbody tr th:only-of-type {\n",
       "        vertical-align: middle;\n",
       "    }\n",
       "\n",
       "    .dataframe tbody tr th {\n",
       "        vertical-align: top;\n",
       "    }\n",
       "\n",
       "    .dataframe thead th {\n",
       "        text-align: right;\n",
       "    }\n",
       "</style>\n",
       "<table border=\"1\" class=\"dataframe\">\n",
       "  <thead>\n",
       "    <tr style=\"text-align: right;\">\n",
       "      <th></th>\n",
       "      <th>test</th>\n",
       "      <th>pred</th>\n",
       "      <th>fark</th>\n",
       "    </tr>\n",
       "  </thead>\n",
       "  <tbody>\n",
       "    <tr>\n",
       "      <th>0</th>\n",
       "      <td>70000</td>\n",
       "      <td>48435.898438</td>\n",
       "      <td>-21564.101562</td>\n",
       "    </tr>\n",
       "    <tr>\n",
       "      <th>1</th>\n",
       "      <td>150000</td>\n",
       "      <td>104354.757812</td>\n",
       "      <td>-45645.242188</td>\n",
       "    </tr>\n",
       "    <tr>\n",
       "      <th>2</th>\n",
       "      <td>167000</td>\n",
       "      <td>146957.328125</td>\n",
       "      <td>-20042.671875</td>\n",
       "    </tr>\n",
       "    <tr>\n",
       "      <th>3</th>\n",
       "      <td>130000</td>\n",
       "      <td>131179.234375</td>\n",
       "      <td>1179.234375</td>\n",
       "    </tr>\n",
       "    <tr>\n",
       "      <th>4</th>\n",
       "      <td>79500</td>\n",
       "      <td>128611.765625</td>\n",
       "      <td>49111.765625</td>\n",
       "    </tr>\n",
       "    <tr>\n",
       "      <th>5</th>\n",
       "      <td>155000</td>\n",
       "      <td>101895.773438</td>\n",
       "      <td>-53104.226562</td>\n",
       "    </tr>\n",
       "    <tr>\n",
       "      <th>6</th>\n",
       "      <td>112000</td>\n",
       "      <td>128745.007812</td>\n",
       "      <td>16745.007812</td>\n",
       "    </tr>\n",
       "    <tr>\n",
       "      <th>7</th>\n",
       "      <td>187500</td>\n",
       "      <td>157369.968750</td>\n",
       "      <td>-30130.031250</td>\n",
       "    </tr>\n",
       "    <tr>\n",
       "      <th>8</th>\n",
       "      <td>113000</td>\n",
       "      <td>75056.429688</td>\n",
       "      <td>-37943.570312</td>\n",
       "    </tr>\n",
       "    <tr>\n",
       "      <th>9</th>\n",
       "      <td>135000</td>\n",
       "      <td>208858.812500</td>\n",
       "      <td>73858.812500</td>\n",
       "    </tr>\n",
       "    <tr>\n",
       "      <th>10</th>\n",
       "      <td>220000</td>\n",
       "      <td>201233.718750</td>\n",
       "      <td>-18766.281250</td>\n",
       "    </tr>\n",
       "    <tr>\n",
       "      <th>11</th>\n",
       "      <td>92000</td>\n",
       "      <td>113563.468750</td>\n",
       "      <td>21563.468750</td>\n",
       "    </tr>\n",
       "    <tr>\n",
       "      <th>12</th>\n",
       "      <td>200000</td>\n",
       "      <td>257707.218750</td>\n",
       "      <td>57707.218750</td>\n",
       "    </tr>\n",
       "    <tr>\n",
       "      <th>13</th>\n",
       "      <td>76750</td>\n",
       "      <td>94410.992188</td>\n",
       "      <td>17660.992188</td>\n",
       "    </tr>\n",
       "    <tr>\n",
       "      <th>14</th>\n",
       "      <td>170000</td>\n",
       "      <td>157869.046875</td>\n",
       "      <td>-12130.953125</td>\n",
       "    </tr>\n",
       "  </tbody>\n",
       "</table>\n",
       "</div>"
      ],
      "text/plain": [
       "      test           pred          fark\n",
       "0    70000   48435.898438 -21564.101562\n",
       "1   150000  104354.757812 -45645.242188\n",
       "2   167000  146957.328125 -20042.671875\n",
       "3   130000  131179.234375   1179.234375\n",
       "4    79500  128611.765625  49111.765625\n",
       "5   155000  101895.773438 -53104.226562\n",
       "6   112000  128745.007812  16745.007812\n",
       "7   187500  157369.968750 -30130.031250\n",
       "8   113000   75056.429688 -37943.570312\n",
       "9   135000  208858.812500  73858.812500\n",
       "10  220000  201233.718750 -18766.281250\n",
       "11   92000  113563.468750  21563.468750\n",
       "12  200000  257707.218750  57707.218750\n",
       "13   76750   94410.992188  17660.992188\n",
       "14  170000  157869.046875 -12130.953125"
      ]
     },
     "execution_count": 22,
     "metadata": {},
     "output_type": "execute_result"
    }
   ],
   "source": [
    "df3.head(15)"
   ]
  },
  {
   "cell_type": "code",
   "execution_count": 23,
   "id": "d30d8bef",
   "metadata": {},
   "outputs": [
    {
     "data": {
      "text/html": [
       "<div>\n",
       "<style scoped>\n",
       "    .dataframe tbody tr th:only-of-type {\n",
       "        vertical-align: middle;\n",
       "    }\n",
       "\n",
       "    .dataframe tbody tr th {\n",
       "        vertical-align: top;\n",
       "    }\n",
       "\n",
       "    .dataframe thead th {\n",
       "        text-align: right;\n",
       "    }\n",
       "</style>\n",
       "<table border=\"1\" class=\"dataframe\">\n",
       "  <thead>\n",
       "    <tr style=\"text-align: right;\">\n",
       "      <th></th>\n",
       "      <th>count</th>\n",
       "      <th>mean</th>\n",
       "      <th>std</th>\n",
       "      <th>min</th>\n",
       "      <th>5%</th>\n",
       "      <th>25%</th>\n",
       "      <th>50%</th>\n",
       "      <th>75%</th>\n",
       "      <th>90%</th>\n",
       "      <th>99%</th>\n",
       "      <th>max</th>\n",
       "    </tr>\n",
       "  </thead>\n",
       "  <tbody>\n",
       "    <tr>\n",
       "      <th>test</th>\n",
       "      <td>531.0</td>\n",
       "      <td>131800.286252</td>\n",
       "      <td>39074.374422</td>\n",
       "      <td>60000.000000</td>\n",
       "      <td>77875.000000</td>\n",
       "      <td>104999.500000</td>\n",
       "      <td>128000.000000</td>\n",
       "      <td>155000.000000</td>\n",
       "      <td>179000.00000</td>\n",
       "      <td>250000.000000</td>\n",
       "      <td>325000.00000</td>\n",
       "    </tr>\n",
       "    <tr>\n",
       "      <th>pred</th>\n",
       "      <td>531.0</td>\n",
       "      <td>129916.140625</td>\n",
       "      <td>36088.609375</td>\n",
       "      <td>43284.480469</td>\n",
       "      <td>76691.531250</td>\n",
       "      <td>102712.941406</td>\n",
       "      <td>129157.429688</td>\n",
       "      <td>153453.335938</td>\n",
       "      <td>176137.03125</td>\n",
       "      <td>218328.945313</td>\n",
       "      <td>276706.00000</td>\n",
       "    </tr>\n",
       "    <tr>\n",
       "      <th>fark</th>\n",
       "      <td>531.0</td>\n",
       "      <td>-1884.150593</td>\n",
       "      <td>34656.113963</td>\n",
       "      <td>-154581.921875</td>\n",
       "      <td>-57997.269531</td>\n",
       "      <td>-23175.615234</td>\n",
       "      <td>-383.046875</td>\n",
       "      <td>18538.054688</td>\n",
       "      <td>39095.46875</td>\n",
       "      <td>76644.284375</td>\n",
       "      <td>109832.15625</td>\n",
       "    </tr>\n",
       "  </tbody>\n",
       "</table>\n",
       "</div>"
      ],
      "text/plain": [
       "      count           mean           std            min            5%  \\\n",
       "test  531.0  131800.286252  39074.374422   60000.000000  77875.000000   \n",
       "pred  531.0  129916.140625  36088.609375   43284.480469  76691.531250   \n",
       "fark  531.0   -1884.150593  34656.113963 -154581.921875 -57997.269531   \n",
       "\n",
       "                25%            50%            75%           90%  \\\n",
       "test  104999.500000  128000.000000  155000.000000  179000.00000   \n",
       "pred  102712.941406  129157.429688  153453.335938  176137.03125   \n",
       "fark  -23175.615234    -383.046875   18538.054688   39095.46875   \n",
       "\n",
       "                99%           max  \n",
       "test  250000.000000  325000.00000  \n",
       "pred  218328.945313  276706.00000  \n",
       "fark   76644.284375  109832.15625  "
      ]
     },
     "execution_count": 23,
     "metadata": {},
     "output_type": "execute_result"
    }
   ],
   "source": [
    "df3.describe([0.05,0.25, 0.75,0.90,0.99]).T"
   ]
  },
  {
   "cell_type": "code",
   "execution_count": 81,
   "id": "db3d197d",
   "metadata": {},
   "outputs": [
    {
     "data": {
      "text/plain": [
       "325000"
      ]
     },
     "execution_count": 81,
     "metadata": {},
     "output_type": "execute_result"
    }
   ],
   "source": [
    "df3[\"test\"].max()"
   ]
  },
  {
   "cell_type": "code",
   "execution_count": 24,
   "id": "a84db0de",
   "metadata": {},
   "outputs": [
    {
     "data": {
      "text/plain": [
       "109832.15625"
      ]
     },
     "execution_count": 24,
     "metadata": {},
     "output_type": "execute_result"
    }
   ],
   "source": [
    "df3[\"fark\"].max()"
   ]
  },
  {
   "cell_type": "code",
   "execution_count": 25,
   "id": "33c040ef",
   "metadata": {},
   "outputs": [
    {
     "data": {
      "text/html": [
       "<div>\n",
       "<style scoped>\n",
       "    .dataframe tbody tr th:only-of-type {\n",
       "        vertical-align: middle;\n",
       "    }\n",
       "\n",
       "    .dataframe tbody tr th {\n",
       "        vertical-align: top;\n",
       "    }\n",
       "\n",
       "    .dataframe thead th {\n",
       "        text-align: right;\n",
       "    }\n",
       "</style>\n",
       "<table border=\"1\" class=\"dataframe\">\n",
       "  <thead>\n",
       "    <tr style=\"text-align: right;\">\n",
       "      <th></th>\n",
       "      <th>test</th>\n",
       "      <th>pred</th>\n",
       "      <th>fark</th>\n",
       "    </tr>\n",
       "  </thead>\n",
       "  <tbody>\n",
       "    <tr>\n",
       "      <th>69</th>\n",
       "      <td>155000</td>\n",
       "      <td>264832.15625</td>\n",
       "      <td>109832.15625</td>\n",
       "    </tr>\n",
       "  </tbody>\n",
       "</table>\n",
       "</div>"
      ],
      "text/plain": [
       "      test          pred          fark\n",
       "69  155000  264832.15625  109832.15625"
      ]
     },
     "execution_count": 25,
     "metadata": {},
     "output_type": "execute_result"
    }
   ],
   "source": [
    "df3[df3[\"fark\"]==109832.15625]"
   ]
  },
  {
   "cell_type": "code",
   "execution_count": 82,
   "id": "7f0893de",
   "metadata": {},
   "outputs": [
    {
     "data": {
      "text/html": [
       "<div>\n",
       "<style scoped>\n",
       "    .dataframe tbody tr th:only-of-type {\n",
       "        vertical-align: middle;\n",
       "    }\n",
       "\n",
       "    .dataframe tbody tr th {\n",
       "        vertical-align: top;\n",
       "    }\n",
       "\n",
       "    .dataframe thead th {\n",
       "        text-align: right;\n",
       "    }\n",
       "</style>\n",
       "<table border=\"1\" class=\"dataframe\">\n",
       "  <thead>\n",
       "    <tr style=\"text-align: right;\">\n",
       "      <th></th>\n",
       "      <th>test</th>\n",
       "      <th>pred</th>\n",
       "      <th>fark</th>\n",
       "    </tr>\n",
       "  </thead>\n",
       "  <tbody>\n",
       "    <tr>\n",
       "      <th>523</th>\n",
       "      <td>325000</td>\n",
       "      <td>172351.75</td>\n",
       "      <td>-152648.25</td>\n",
       "    </tr>\n",
       "  </tbody>\n",
       "</table>\n",
       "</div>"
      ],
      "text/plain": [
       "       test       pred       fark\n",
       "523  325000  172351.75 -152648.25"
      ]
     },
     "execution_count": 82,
     "metadata": {},
     "output_type": "execute_result"
    }
   ],
   "source": [
    "df3[df3[\"test\"]==325000]"
   ]
  },
  {
   "cell_type": "code",
   "execution_count": 37,
   "id": "c8a8d208",
   "metadata": {},
   "outputs": [
    {
     "data": {
      "text/html": [
       "<div>\n",
       "<style scoped>\n",
       "    .dataframe tbody tr th:only-of-type {\n",
       "        vertical-align: middle;\n",
       "    }\n",
       "\n",
       "    .dataframe tbody tr th {\n",
       "        vertical-align: top;\n",
       "    }\n",
       "\n",
       "    .dataframe thead th {\n",
       "        text-align: right;\n",
       "    }\n",
       "</style>\n",
       "<table border=\"1\" class=\"dataframe\">\n",
       "  <thead>\n",
       "    <tr style=\"text-align: right;\">\n",
       "      <th></th>\n",
       "      <th>test</th>\n",
       "      <th>pred</th>\n",
       "      <th>fark</th>\n",
       "    </tr>\n",
       "  </thead>\n",
       "  <tbody>\n",
       "  </tbody>\n",
       "</table>\n",
       "</div>"
      ],
      "text/plain": [
       "Empty DataFrame\n",
       "Columns: [test, pred, fark]\n",
       "Index: []"
      ]
     },
     "execution_count": 37,
     "metadata": {},
     "output_type": "execute_result"
    }
   ],
   "source": [
    "df3[df3[\"test\"] > 400000]"
   ]
  },
  {
   "cell_type": "code",
   "execution_count": 31,
   "id": "6167d863",
   "metadata": {},
   "outputs": [],
   "source": [
    "y_train2 = list(y_train)"
   ]
  },
  {
   "cell_type": "code",
   "execution_count": 34,
   "id": "6cf3e71c",
   "metadata": {},
   "outputs": [
    {
     "name": "stdout",
     "output_type": "stream",
     "text": [
      "440000\n",
      "500000\n"
     ]
    }
   ],
   "source": [
    "for i in y_train2:\n",
    "    if i > 400000:\n",
    "        print(i)"
   ]
  },
  {
   "cell_type": "code",
   "execution_count": null,
   "id": "20a7d3cb",
   "metadata": {},
   "outputs": [],
   "source": []
  }
 ],
 "metadata": {
  "kernelspec": {
   "display_name": "Python 3 (ipykernel)",
   "language": "python",
   "name": "python3"
  },
  "language_info": {
   "codemirror_mode": {
    "name": "ipython",
    "version": 3
   },
   "file_extension": ".py",
   "mimetype": "text/x-python",
   "name": "python",
   "nbconvert_exporter": "python",
   "pygments_lexer": "ipython3",
   "version": "3.8.8"
  }
 },
 "nbformat": 4,
 "nbformat_minor": 5
}
