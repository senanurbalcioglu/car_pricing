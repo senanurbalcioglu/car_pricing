{
 "cells": [
  {
   "cell_type": "code",
   "execution_count": 1,
   "id": "f84892e5",
   "metadata": {},
   "outputs": [],
   "source": [
    "import pandas as pd\n",
    "import seaborn as sns\n",
    "import matplotlib.pyplot as plt\n",
    "import numpy as np\n",
    "from sklearn.metrics import mean_absolute_error, mean_squared_error, accuracy_score\n",
    "from xgboost import XGBRegressor\n",
    "from lightgbm import LGBMRegressor\n",
    "from sklearn.ensemble import RandomForestRegressor, GradientBoostingRegressor\n",
    "from sklearn.linear_model import LinearRegression\n",
    "from sklearn.model_selection import GridSearchCV, cross_val_score,cross_validate, RandomizedSearchCV, train_test_split\n",
    "import optuna\n",
    "import xgboost as xgb\n",
    "from sklearn.metrics import r2_score \n",
    "import joblib"
   ]
  },
  {
   "cell_type": "code",
   "execution_count": 2,
   "id": "d0babef9",
   "metadata": {},
   "outputs": [],
   "source": [
    "df2 = pd.read_excel(\"../markaFile/Tofaş.xlsx\",sheet_name=\"Sheet1\")"
   ]
  },
  {
   "cell_type": "code",
   "execution_count": 3,
   "id": "a8beca20",
   "metadata": {},
   "outputs": [],
   "source": [
    "df2.drop(df2[(df2[\"Fiyat\"] > 500000)].index, axis=0, inplace=True)"
   ]
  },
  {
   "cell_type": "code",
   "execution_count": 4,
   "id": "1d7c78af",
   "metadata": {},
   "outputs": [],
   "source": [
    "df2.drop(df2[(df2[\"Fiyat\"] < 60000)].index, axis=0, inplace=True)"
   ]
  },
  {
   "cell_type": "code",
   "execution_count": 5,
   "id": "f5dc9aab",
   "metadata": {
    "scrolled": true
   },
   "outputs": [],
   "source": [
    "df2.drop(\"Unnamed: 0\",axis=1, inplace=True)"
   ]
  },
  {
   "cell_type": "code",
   "execution_count": 6,
   "id": "a96cc1ca",
   "metadata": {},
   "outputs": [
    {
     "data": {
      "text/html": [
       "<div>\n",
       "<style scoped>\n",
       "    .dataframe tbody tr th:only-of-type {\n",
       "        vertical-align: middle;\n",
       "    }\n",
       "\n",
       "    .dataframe tbody tr th {\n",
       "        vertical-align: top;\n",
       "    }\n",
       "\n",
       "    .dataframe thead th {\n",
       "        text-align: right;\n",
       "    }\n",
       "</style>\n",
       "<table border=\"1\" class=\"dataframe\">\n",
       "  <thead>\n",
       "    <tr style=\"text-align: right;\">\n",
       "      <th></th>\n",
       "      <th>Fiyat</th>\n",
       "      <th>Yıl</th>\n",
       "      <th>Motor Gücü</th>\n",
       "      <th>Motor Hacmi</th>\n",
       "      <th>Kilometre</th>\n",
       "      <th>Boya</th>\n",
       "      <th>Değişen</th>\n",
       "      <th>Seri_Doğan</th>\n",
       "      <th>Seri_Kartal</th>\n",
       "      <th>Seri_Murat</th>\n",
       "      <th>...</th>\n",
       "      <th>Model_Kartal 5 Vites</th>\n",
       "      <th>Model_L</th>\n",
       "      <th>Model_S</th>\n",
       "      <th>Model_SL</th>\n",
       "      <th>Model_SLX</th>\n",
       "      <th>Model_SLX ie</th>\n",
       "      <th>Model_Şahin 5 Vites</th>\n",
       "      <th>Yakıt Tipi_Benzin</th>\n",
       "      <th>Yakıt Tipi_LPG &amp; Benzin</th>\n",
       "      <th>Vites Tipi_Düz</th>\n",
       "    </tr>\n",
       "  </thead>\n",
       "  <tbody>\n",
       "    <tr>\n",
       "      <th>0</th>\n",
       "      <td>125000</td>\n",
       "      <td>2000</td>\n",
       "      <td>83</td>\n",
       "      <td>1581</td>\n",
       "      <td>70000</td>\n",
       "      <td>NaN</td>\n",
       "      <td>NaN</td>\n",
       "      <td>0</td>\n",
       "      <td>0</td>\n",
       "      <td>0</td>\n",
       "      <td>...</td>\n",
       "      <td>0</td>\n",
       "      <td>0</td>\n",
       "      <td>0</td>\n",
       "      <td>0</td>\n",
       "      <td>0</td>\n",
       "      <td>0</td>\n",
       "      <td>0</td>\n",
       "      <td>0</td>\n",
       "      <td>1</td>\n",
       "      <td>1</td>\n",
       "    </tr>\n",
       "    <tr>\n",
       "      <th>1</th>\n",
       "      <td>105000</td>\n",
       "      <td>1996</td>\n",
       "      <td>83</td>\n",
       "      <td>1581</td>\n",
       "      <td>150000</td>\n",
       "      <td>NaN</td>\n",
       "      <td>NaN</td>\n",
       "      <td>0</td>\n",
       "      <td>1</td>\n",
       "      <td>0</td>\n",
       "      <td>...</td>\n",
       "      <td>1</td>\n",
       "      <td>0</td>\n",
       "      <td>0</td>\n",
       "      <td>0</td>\n",
       "      <td>0</td>\n",
       "      <td>0</td>\n",
       "      <td>0</td>\n",
       "      <td>0</td>\n",
       "      <td>1</td>\n",
       "      <td>1</td>\n",
       "    </tr>\n",
       "    <tr>\n",
       "      <th>2</th>\n",
       "      <td>170000</td>\n",
       "      <td>1994</td>\n",
       "      <td>51</td>\n",
       "      <td>1581</td>\n",
       "      <td>189000</td>\n",
       "      <td>NaN</td>\n",
       "      <td>NaN</td>\n",
       "      <td>0</td>\n",
       "      <td>0</td>\n",
       "      <td>0</td>\n",
       "      <td>...</td>\n",
       "      <td>0</td>\n",
       "      <td>0</td>\n",
       "      <td>0</td>\n",
       "      <td>0</td>\n",
       "      <td>0</td>\n",
       "      <td>0</td>\n",
       "      <td>0</td>\n",
       "      <td>0</td>\n",
       "      <td>1</td>\n",
       "      <td>1</td>\n",
       "    </tr>\n",
       "    <tr>\n",
       "      <th>3</th>\n",
       "      <td>240000</td>\n",
       "      <td>1998</td>\n",
       "      <td>96</td>\n",
       "      <td>1581</td>\n",
       "      <td>97546</td>\n",
       "      <td>NaN</td>\n",
       "      <td>NaN</td>\n",
       "      <td>1</td>\n",
       "      <td>0</td>\n",
       "      <td>0</td>\n",
       "      <td>...</td>\n",
       "      <td>0</td>\n",
       "      <td>0</td>\n",
       "      <td>0</td>\n",
       "      <td>0</td>\n",
       "      <td>0</td>\n",
       "      <td>1</td>\n",
       "      <td>0</td>\n",
       "      <td>0</td>\n",
       "      <td>1</td>\n",
       "      <td>1</td>\n",
       "    </tr>\n",
       "    <tr>\n",
       "      <th>4</th>\n",
       "      <td>168000</td>\n",
       "      <td>1993</td>\n",
       "      <td>83</td>\n",
       "      <td>1581</td>\n",
       "      <td>99000</td>\n",
       "      <td>9.0</td>\n",
       "      <td>3.0</td>\n",
       "      <td>1</td>\n",
       "      <td>0</td>\n",
       "      <td>0</td>\n",
       "      <td>...</td>\n",
       "      <td>0</td>\n",
       "      <td>0</td>\n",
       "      <td>0</td>\n",
       "      <td>0</td>\n",
       "      <td>1</td>\n",
       "      <td>0</td>\n",
       "      <td>0</td>\n",
       "      <td>0</td>\n",
       "      <td>1</td>\n",
       "      <td>1</td>\n",
       "    </tr>\n",
       "  </tbody>\n",
       "</table>\n",
       "<p>5 rows × 29 columns</p>\n",
       "</div>"
      ],
      "text/plain": [
       "    Fiyat   Yıl  Motor Gücü  Motor Hacmi  Kilometre  Boya  Değişen  \\\n",
       "0  125000  2000          83         1581      70000   NaN      NaN   \n",
       "1  105000  1996          83         1581     150000   NaN      NaN   \n",
       "2  170000  1994          51         1581     189000   NaN      NaN   \n",
       "3  240000  1998          96         1581      97546   NaN      NaN   \n",
       "4  168000  1993          83         1581      99000   9.0      3.0   \n",
       "\n",
       "   Seri_Doğan  Seri_Kartal  Seri_Murat  ...  Model_Kartal 5 Vites  Model_L  \\\n",
       "0           0            0           0  ...                     0        0   \n",
       "1           0            1           0  ...                     1        0   \n",
       "2           0            0           0  ...                     0        0   \n",
       "3           1            0           0  ...                     0        0   \n",
       "4           1            0           0  ...                     0        0   \n",
       "\n",
       "   Model_S  Model_SL  Model_SLX  Model_SLX ie  Model_Şahin 5 Vites  \\\n",
       "0        0         0          0             0                    0   \n",
       "1        0         0          0             0                    0   \n",
       "2        0         0          0             0                    0   \n",
       "3        0         0          0             1                    0   \n",
       "4        0         0          1             0                    0   \n",
       "\n",
       "   Yakıt Tipi_Benzin  Yakıt Tipi_LPG & Benzin  Vites Tipi_Düz  \n",
       "0                  0                        1               1  \n",
       "1                  0                        1               1  \n",
       "2                  0                        1               1  \n",
       "3                  0                        1               1  \n",
       "4                  0                        1               1  \n",
       "\n",
       "[5 rows x 29 columns]"
      ]
     },
     "execution_count": 6,
     "metadata": {},
     "output_type": "execute_result"
    }
   ],
   "source": [
    "df2.head()"
   ]
  },
  {
   "cell_type": "code",
   "execution_count": 7,
   "id": "db61cfeb",
   "metadata": {},
   "outputs": [],
   "source": [
    "y = df2[\"Fiyat\"]\n",
    "X = df2.drop([\"Fiyat\"], axis=1)"
   ]
  },
  {
   "cell_type": "code",
   "execution_count": 8,
   "id": "67d342e0",
   "metadata": {},
   "outputs": [],
   "source": [
    "X_train, X_test, y_train, y_test = train_test_split(X, y, test_size=0.30, random_state=42)"
   ]
  },
  {
   "cell_type": "code",
   "execution_count": 9,
   "id": "2c86d3fb",
   "metadata": {},
   "outputs": [],
   "source": [
    "def set_model(model_list, X_train, X_test, y_train, y_test):\n",
    "    dataf = pd.DataFrame()\n",
    "\n",
    "    for i in range(len(model_list)):\n",
    "        algo_name = model_list[i][0]\n",
    "        algo = model_list[i][1]\n",
    "\n",
    "        model = algo.fit(X_train, y_train)\n",
    "\n",
    "        cv_result = cross_val_score(model,\n",
    "                                    X_train, y_train,\n",
    "                                    cv=5,\n",
    "                                    scoring=\"neg_mean_squared_error\")\n",
    "\n",
    "        y_pred = model.predict(X_test)\n",
    "        rmse = np.mean(np.sqrt(-cv_result))\n",
    "        data_list = {\"Model\": algo_name,\n",
    "                     \"TestDeger\": rmse,\n",
    "                     \"MSE\":mean_squared_error(y_test, y_pred),\n",
    "                     \"RMSE\": (np.sqrt(mean_squared_error(y_test, y_pred))),\n",
    "                     \"MAE\": mean_absolute_error(y_test, y_pred)}\n",
    "        dataf = dataf.append(data_list, ignore_index=True)\n",
    "\n",
    "    return dataf"
   ]
  },
  {
   "cell_type": "code",
   "execution_count": 10,
   "id": "980a2b64",
   "metadata": {},
   "outputs": [],
   "source": [
    "models = []\n",
    "#models.append(('Gradient Boosting Regressor', GradientBoostingRegressor()))\n",
    "models.append(('XGBModel', XGBRegressor(objective=\"reg:squarederror\",use_label_encoder=False)))\n",
    "#models.append(('LGBMModel', LGBMRegressor(use_missing=False)))\n",
    "#models.append(('LRModel', LinearRegression()))\n",
    "#models.append(('RFModel', RandomForestRegressor()))"
   ]
  },
  {
   "cell_type": "code",
   "execution_count": 11,
   "id": "e5f2ee92",
   "metadata": {},
   "outputs": [
    {
     "name": "stderr",
     "output_type": "stream",
     "text": [
      "C:\\Users\\senab\\AppData\\Local\\Temp\\ipykernel_18308\\3059390516.py:22: FutureWarning: The frame.append method is deprecated and will be removed from pandas in a future version. Use pandas.concat instead.\n",
      "  dataf = dataf.append(data_list, ignore_index=True)\n"
     ]
    },
    {
     "data": {
      "text/html": [
       "<div>\n",
       "<style scoped>\n",
       "    .dataframe tbody tr th:only-of-type {\n",
       "        vertical-align: middle;\n",
       "    }\n",
       "\n",
       "    .dataframe tbody tr th {\n",
       "        vertical-align: top;\n",
       "    }\n",
       "\n",
       "    .dataframe thead th {\n",
       "        text-align: right;\n",
       "    }\n",
       "</style>\n",
       "<table border=\"1\" class=\"dataframe\">\n",
       "  <thead>\n",
       "    <tr style=\"text-align: right;\">\n",
       "      <th></th>\n",
       "      <th>Model</th>\n",
       "      <th>TestDeger</th>\n",
       "      <th>MSE</th>\n",
       "      <th>RMSE</th>\n",
       "      <th>MAE</th>\n",
       "    </tr>\n",
       "  </thead>\n",
       "  <tbody>\n",
       "    <tr>\n",
       "      <th>0</th>\n",
       "      <td>XGBModel</td>\n",
       "      <td>35486.774388</td>\n",
       "      <td>1.132092e+09</td>\n",
       "      <td>33646.581804</td>\n",
       "      <td>25391.555894</td>\n",
       "    </tr>\n",
       "  </tbody>\n",
       "</table>\n",
       "</div>"
      ],
      "text/plain": [
       "      Model     TestDeger           MSE          RMSE           MAE\n",
       "0  XGBModel  35486.774388  1.132092e+09  33646.581804  25391.555894"
      ]
     },
     "execution_count": 11,
     "metadata": {},
     "output_type": "execute_result"
    }
   ],
   "source": [
    "df2_model = set_model(models, X_train, X_test, y_train, y_test)\n",
    "df2_model"
   ]
  },
  {
   "cell_type": "code",
   "execution_count": 12,
   "id": "11d3a13d",
   "metadata": {},
   "outputs": [],
   "source": [
    "def objective(n_trials):\n",
    "  params = {\n",
    "        'colsample_bytree': n_trials.suggest_categorical('colsample_bytree', [0.3,0.4,0.5,0.6,0.7,0.8,0.9, 1.0]),\n",
    "        'subsample': n_trials.suggest_categorical('subsample', [0.4,0.5,0.6,0.7,0.8,1.0]),\n",
    "        \"learning_rate\": n_trials.suggest_float(\"learning_rate\", 1e-4, 0.5, log=True),\n",
    "        'n_estimators': 10000,\n",
    "        \"max_depth\": n_trials.suggest_int(\"max_depth\", 3, 15),\n",
    "        'min_child_weight': n_trials.suggest_int('min_child_weight', 1, 300),\n",
    "    }\n",
    "  dtrain = xgb.DMatrix(data = X_train, label = y_train)\n",
    "  dval = xgb.DMatrix(data = X_test, label = y_test)\n",
    "\n",
    "  regressor = xgb.train(params, dtrain) \n",
    "  y_pred = regressor.predict(dval)\n",
    "  rmse = mean_squared_error(y_test, y_pred, squared=False)\n",
    "\n",
    "  return rmse"
   ]
  },
  {
   "cell_type": "code",
   "execution_count": 13,
   "id": "9290e414",
   "metadata": {},
   "outputs": [
    {
     "name": "stderr",
     "output_type": "stream",
     "text": [
      "\u001b[32m[I 2023-10-08 14:24:39,071]\u001b[0m A new study created in memory with name: no-name-f46b04a9-959a-431f-8e7e-4aaf107fe923\u001b[0m\n",
      "\u001b[32m[I 2023-10-08 14:24:39,159]\u001b[0m Trial 3 finished with value: 33409.12028950601 and parameters: {'colsample_bytree': 0.3, 'subsample': 0.6, 'learning_rate': 0.42072015921650524, 'max_depth': 7, 'min_child_weight': 183}. Best is trial 3 with value: 33409.12028950601.\u001b[0m\n",
      "\u001b[32m[I 2023-10-08 14:24:39,159]\u001b[0m Trial 0 finished with value: 128668.9642818641 and parameters: {'colsample_bytree': 0.3, 'subsample': 0.7, 'learning_rate': 0.007341298477535498, 'max_depth': 14, 'min_child_weight': 185}. Best is trial 3 with value: 33409.12028950601.\u001b[0m\n",
      "\u001b[32m[I 2023-10-08 14:24:39,159]\u001b[0m Trial 2 finished with value: 130631.75396722755 and parameters: {'colsample_bytree': 0.7, 'subsample': 0.8, 'learning_rate': 0.005550754843032027, 'max_depth': 8, 'min_child_weight': 245}. Best is trial 3 with value: 33409.12028950601.\u001b[0m\n",
      "\u001b[32m[I 2023-10-08 14:24:39,172]\u001b[0m Trial 7 finished with value: 121278.70502413568 and parameters: {'colsample_bytree': 0.4, 'subsample': 0.5, 'learning_rate': 0.013922576378593171, 'max_depth': 4, 'min_child_weight': 202}. Best is trial 3 with value: 33409.12028950601.\u001b[0m\n",
      "\u001b[32m[I 2023-10-08 14:24:39,177]\u001b[0m Trial 6 finished with value: 124236.31457658035 and parameters: {'colsample_bytree': 0.4, 'subsample': 0.6, 'learning_rate': 0.011244243410287923, 'max_depth': 10, 'min_child_weight': 288}. Best is trial 3 with value: 33409.12028950601.\u001b[0m\n",
      "\u001b[32m[I 2023-10-08 14:24:39,189]\u001b[0m Trial 1 finished with value: 30923.269405251896 and parameters: {'colsample_bytree': 0.8, 'subsample': 0.7, 'learning_rate': 0.32650775645228275, 'max_depth': 10, 'min_child_weight': 117}. Best is trial 1 with value: 30923.269405251896.\u001b[0m\n",
      "\u001b[32m[I 2023-10-08 14:24:39,190]\u001b[0m Trial 4 finished with value: 133740.39925308543 and parameters: {'colsample_bytree': 1.0, 'subsample': 1.0, 'learning_rate': 0.002931548265441513, 'max_depth': 14, 'min_child_weight': 235}. Best is trial 1 with value: 30923.269405251896.\u001b[0m\n",
      "\u001b[32m[I 2023-10-08 14:24:39,204]\u001b[0m Trial 5 finished with value: 134641.21036559483 and parameters: {'colsample_bytree': 0.4, 'subsample': 1.0, 'learning_rate': 0.0022446222819852897, 'max_depth': 13, 'min_child_weight': 84}. Best is trial 1 with value: 30923.269405251896.\u001b[0m\n",
      "\u001b[32m[I 2023-10-08 14:24:39,277]\u001b[0m Trial 8 finished with value: 86064.21727225282 and parameters: {'colsample_bytree': 0.4, 'subsample': 0.5, 'learning_rate': 0.05337386936108889, 'max_depth': 10, 'min_child_weight': 207}. Best is trial 1 with value: 30923.269405251896.\u001b[0m\n",
      "\u001b[32m[I 2023-10-08 14:24:39,295]\u001b[0m Trial 13 finished with value: 135703.43624338316 and parameters: {'colsample_bytree': 0.3, 'subsample': 0.5, 'learning_rate': 0.0014288092624267425, 'max_depth': 15, 'min_child_weight': 234}. Best is trial 1 with value: 30923.269405251896.\u001b[0m\n",
      "\u001b[32m[I 2023-10-08 14:24:39,298]\u001b[0m Trial 9 finished with value: 128506.6918361912 and parameters: {'colsample_bytree': 0.3, 'subsample': 0.6, 'learning_rate': 0.007435279054492571, 'max_depth': 11, 'min_child_weight': 48}. Best is trial 1 with value: 30923.269405251896.\u001b[0m\n",
      "\u001b[32m[I 2023-10-08 14:24:39,299]\u001b[0m Trial 10 finished with value: 137254.46169978156 and parameters: {'colsample_bytree': 0.6, 'subsample': 0.6, 'learning_rate': 0.00016426655392828967, 'max_depth': 10, 'min_child_weight': 237}. Best is trial 1 with value: 30923.269405251896.\u001b[0m\n",
      "\u001b[32m[I 2023-10-08 14:24:39,311]\u001b[0m Trial 14 finished with value: 85731.67036548434 and parameters: {'colsample_bytree': 0.6, 'subsample': 0.8, 'learning_rate': 0.0526415483407131, 'max_depth': 6, 'min_child_weight': 138}. Best is trial 1 with value: 30923.269405251896.\u001b[0m\n",
      "\u001b[32m[I 2023-10-08 14:24:39,311]\u001b[0m Trial 12 finished with value: 112228.23276035028 and parameters: {'colsample_bytree': 0.4, 'subsample': 1.0, 'learning_rate': 0.022130274036469, 'max_depth': 13, 'min_child_weight': 132}. Best is trial 1 with value: 30923.269405251896.\u001b[0m\n",
      "\u001b[32m[I 2023-10-08 14:24:39,315]\u001b[0m Trial 11 finished with value: 135503.82865707448 and parameters: {'colsample_bytree': 0.9, 'subsample': 1.0, 'learning_rate': 0.0015484073960833913, 'max_depth': 3, 'min_child_weight': 251}. Best is trial 1 with value: 30923.269405251896.\u001b[0m\n",
      "\u001b[32m[I 2023-10-08 14:24:39,338]\u001b[0m Trial 15 finished with value: 136484.84245322776 and parameters: {'colsample_bytree': 1.0, 'subsample': 0.5, 'learning_rate': 0.0007678078340799221, 'max_depth': 9, 'min_child_weight': 141}. Best is trial 1 with value: 30923.269405251896.\u001b[0m\n",
      "\u001b[32m[I 2023-10-08 14:24:39,506]\u001b[0m Trial 16 finished with value: 137223.6939175698 and parameters: {'colsample_bytree': 0.7, 'subsample': 1.0, 'learning_rate': 0.00018607864192313328, 'max_depth': 8, 'min_child_weight': 296}. Best is trial 1 with value: 30923.269405251896.\u001b[0m\n",
      "\u001b[32m[I 2023-10-08 14:24:39,549]\u001b[0m Trial 18 finished with value: 31102.667506882175 and parameters: {'colsample_bytree': 0.8, 'subsample': 0.4, 'learning_rate': 0.4603731602730813, 'max_depth': 7, 'min_child_weight': 99}. Best is trial 1 with value: 30923.269405251896.\u001b[0m\n",
      "\u001b[32m[I 2023-10-08 14:24:39,579]\u001b[0m Trial 17 finished with value: 30352.47150052597 and parameters: {'colsample_bytree': 0.8, 'subsample': 0.7, 'learning_rate': 0.4616614156161177, 'max_depth': 8, 'min_child_weight': 92}. Best is trial 17 with value: 30352.47150052597.\u001b[0m\n",
      "\u001b[32m[I 2023-10-08 14:24:39,588]\u001b[0m Trial 20 finished with value: 30672.740183874157 and parameters: {'colsample_bytree': 0.8, 'subsample': 0.4, 'learning_rate': 0.4822639800233788, 'max_depth': 7, 'min_child_weight': 94}. Best is trial 17 with value: 30352.47150052597.\u001b[0m\n",
      "\u001b[32m[I 2023-10-08 14:24:39,605]\u001b[0m Trial 23 finished with value: 30360.94117012183 and parameters: {'colsample_bytree': 0.8, 'subsample': 0.4, 'learning_rate': 0.44852179370194256, 'max_depth': 6, 'min_child_weight': 94}. Best is trial 17 with value: 30352.47150052597.\u001b[0m\n",
      "\u001b[32m[I 2023-10-08 14:24:39,632]\u001b[0m Trial 22 finished with value: 30401.20710465456 and parameters: {'colsample_bytree': 0.8, 'subsample': 0.7, 'learning_rate': 0.34819727099106085, 'max_depth': 7, 'min_child_weight': 82}. Best is trial 17 with value: 30352.47150052597.\u001b[0m\n",
      "\u001b[32m[I 2023-10-08 14:24:39,691]\u001b[0m Trial 21 finished with value: 31470.504419302204 and parameters: {'colsample_bytree': 0.8, 'subsample': 0.7, 'learning_rate': 0.4903106121086925, 'max_depth': 7, 'min_child_weight': 5}. Best is trial 17 with value: 30352.47150052597.\u001b[0m\n",
      "\u001b[32m[I 2023-10-08 14:24:39,694]\u001b[0m Trial 19 finished with value: 32192.31501484916 and parameters: {'colsample_bytree': 0.8, 'subsample': 0.4, 'learning_rate': 0.477539792823155, 'max_depth': 7, 'min_child_weight': 1}. Best is trial 17 with value: 30352.47150052597.\u001b[0m\n",
      "\u001b[32m[I 2023-10-08 14:24:39,741]\u001b[0m Trial 24 finished with value: 29534.635959544008 and parameters: {'colsample_bytree': 0.8, 'subsample': 0.7, 'learning_rate': 0.3042044850654081, 'max_depth': 6, 'min_child_weight': 4}. Best is trial 24 with value: 29534.635959544008.\u001b[0m\n",
      "\u001b[32m[I 2023-10-08 14:24:39,825]\u001b[0m Trial 25 finished with value: 31720.213285665137 and parameters: {'colsample_bytree': 0.8, 'subsample': 0.4, 'learning_rate': 0.4702356218771993, 'max_depth': 5, 'min_child_weight': 3}. Best is trial 24 with value: 29534.635959544008.\u001b[0m\n",
      "\u001b[32m[I 2023-10-08 14:24:39,840]\u001b[0m Trial 26 finished with value: 33659.8485450162 and parameters: {'colsample_bytree': 0.8, 'subsample': 0.4, 'learning_rate': 0.21173944051251647, 'max_depth': 5, 'min_child_weight': 28}. Best is trial 24 with value: 29534.635959544008.\u001b[0m\n",
      "\u001b[32m[I 2023-10-08 14:24:39,847]\u001b[0m Trial 28 finished with value: 34317.76227088636 and parameters: {'colsample_bytree': 0.8, 'subsample': 0.7, 'learning_rate': 0.18879521763386928, 'max_depth': 5, 'min_child_weight': 6}. Best is trial 24 with value: 29534.635959544008.\u001b[0m\n",
      "\u001b[32m[I 2023-10-08 14:24:39,859]\u001b[0m Trial 27 finished with value: 39320.88625633014 and parameters: {'colsample_bytree': 0.8, 'subsample': 0.4, 'learning_rate': 0.1612009807050992, 'max_depth': 5, 'min_child_weight': 31}. Best is trial 24 with value: 29534.635959544008.\u001b[0m\n",
      "\u001b[32m[I 2023-10-08 14:24:39,964]\u001b[0m Trial 30 finished with value: 38388.19697929337 and parameters: {'colsample_bytree': 0.5, 'subsample': 0.7, 'learning_rate': 0.17129201933037644, 'max_depth': 5, 'min_child_weight': 37}. Best is trial 24 with value: 29534.635959544008.\u001b[0m\n"
     ]
    },
    {
     "name": "stderr",
     "output_type": "stream",
     "text": [
      "\u001b[32m[I 2023-10-08 14:24:39,993]\u001b[0m Trial 31 finished with value: 37696.62636585708 and parameters: {'colsample_bytree': 0.5, 'subsample': 0.7, 'learning_rate': 0.17647685548163533, 'max_depth': 5, 'min_child_weight': 42}. Best is trial 24 with value: 29534.635959544008.\u001b[0m\n",
      "\u001b[32m[I 2023-10-08 14:24:39,993]\u001b[0m Trial 29 finished with value: 37729.62572354191 and parameters: {'colsample_bytree': 0.5, 'subsample': 0.7, 'learning_rate': 0.1762359682543943, 'max_depth': 5, 'min_child_weight': 42}. Best is trial 24 with value: 29534.635959544008.\u001b[0m\n",
      "\u001b[32m[I 2023-10-08 14:24:40,043]\u001b[0m Trial 32 finished with value: 36767.1521773904 and parameters: {'colsample_bytree': 0.8, 'subsample': 0.7, 'learning_rate': 0.17361824046298122, 'max_depth': 5, 'min_child_weight': 34}. Best is trial 24 with value: 29534.635959544008.\u001b[0m\n",
      "\u001b[32m[I 2023-10-08 14:24:40,119]\u001b[0m Trial 33 finished with value: 43942.17354115144 and parameters: {'colsample_bytree': 0.5, 'subsample': 0.7, 'learning_rate': 0.1443995755733022, 'max_depth': 3, 'min_child_weight': 54}. Best is trial 24 with value: 29534.635959544008.\u001b[0m\n",
      "\u001b[32m[I 2023-10-08 14:24:40,119]\u001b[0m Trial 34 finished with value: 48049.02074524398 and parameters: {'colsample_bytree': 0.9, 'subsample': 0.7, 'learning_rate': 0.12286743726245476, 'max_depth': 4, 'min_child_weight': 58}. Best is trial 24 with value: 29534.635959544008.\u001b[0m\n",
      "\u001b[32m[I 2023-10-08 14:24:40,154]\u001b[0m Trial 36 finished with value: 52639.010975893165 and parameters: {'colsample_bytree': 0.5, 'subsample': 0.7, 'learning_rate': 0.11496996380786281, 'max_depth': 3, 'min_child_weight': 69}. Best is trial 24 with value: 29534.635959544008.\u001b[0m\n",
      "\u001b[32m[I 2023-10-08 14:24:40,168]\u001b[0m Trial 35 finished with value: 58531.73884477435 and parameters: {'colsample_bytree': 0.5, 'subsample': 0.7, 'learning_rate': 0.09945461510767668, 'max_depth': 3, 'min_child_weight': 63}. Best is trial 24 with value: 29534.635959544008.\u001b[0m\n",
      "\u001b[32m[I 2023-10-08 14:24:40,262]\u001b[0m Trial 37 finished with value: 59150.78551956387 and parameters: {'colsample_bytree': 0.9, 'subsample': 0.7, 'learning_rate': 0.09449927061867984, 'max_depth': 8, 'min_child_weight': 70}. Best is trial 24 with value: 29534.635959544008.\u001b[0m\n",
      "\u001b[32m[I 2023-10-08 14:24:40,313]\u001b[0m Trial 39 finished with value: 56386.03120678625 and parameters: {'colsample_bytree': 0.8, 'subsample': 0.7, 'learning_rate': 0.10113811410664723, 'max_depth': 8, 'min_child_weight': 70}. Best is trial 24 with value: 29534.635959544008.\u001b[0m\n",
      "\u001b[32m[I 2023-10-08 14:24:40,313]\u001b[0m Trial 38 finished with value: 64029.19653718179 and parameters: {'colsample_bytree': 0.9, 'subsample': 0.7, 'learning_rate': 0.08472237868227309, 'max_depth': 8, 'min_child_weight': 67}. Best is trial 24 with value: 29534.635959544008.\u001b[0m\n",
      "\u001b[32m[I 2023-10-08 14:24:40,355]\u001b[0m Trial 40 finished with value: 61506.83988128837 and parameters: {'colsample_bytree': 0.8, 'subsample': 0.7, 'learning_rate': 0.09065314537164419, 'max_depth': 8, 'min_child_weight': 115}. Best is trial 24 with value: 29534.635959544008.\u001b[0m\n",
      "\u001b[32m[I 2023-10-08 14:24:40,435]\u001b[0m Trial 41 finished with value: 31827.39788852006 and parameters: {'colsample_bytree': 0.8, 'subsample': 0.8, 'learning_rate': 0.2778271122948521, 'max_depth': 8, 'min_child_weight': 163}. Best is trial 24 with value: 29534.635959544008.\u001b[0m\n",
      "\u001b[32m[I 2023-10-08 14:24:40,450]\u001b[0m Trial 42 finished with value: 31317.20110156955 and parameters: {'colsample_bytree': 0.8, 'subsample': 0.8, 'learning_rate': 0.32533474760280157, 'max_depth': 9, 'min_child_weight': 169}. Best is trial 24 with value: 29534.635959544008.\u001b[0m\n",
      "\u001b[32m[I 2023-10-08 14:24:40,472]\u001b[0m Trial 44 finished with value: 31784.719922467717 and parameters: {'colsample_bytree': 0.8, 'subsample': 0.8, 'learning_rate': 0.28031287145426037, 'max_depth': 9, 'min_child_weight': 166}. Best is trial 24 with value: 29534.635959544008.\u001b[0m\n",
      "\u001b[32m[I 2023-10-08 14:24:40,490]\u001b[0m Trial 43 finished with value: 31195.356636405315 and parameters: {'colsample_bytree': 0.8, 'subsample': 0.8, 'learning_rate': 0.2826478195263277, 'max_depth': 9, 'min_child_weight': 110}. Best is trial 24 with value: 29534.635959544008.\u001b[0m\n",
      "\u001b[32m[I 2023-10-08 14:24:40,569]\u001b[0m Trial 45 finished with value: 31910.137581267503 and parameters: {'colsample_bytree': 0.8, 'subsample': 0.8, 'learning_rate': 0.2742385360420203, 'max_depth': 6, 'min_child_weight': 160}. Best is trial 24 with value: 29534.635959544008.\u001b[0m\n",
      "\u001b[32m[I 2023-10-08 14:24:40,594]\u001b[0m Trial 46 finished with value: 32028.27964809484 and parameters: {'colsample_bytree': 0.7, 'subsample': 0.8, 'learning_rate': 0.2876440498588257, 'max_depth': 6, 'min_child_weight': 162}. Best is trial 24 with value: 29534.635959544008.\u001b[0m\n",
      "\u001b[32m[I 2023-10-08 14:24:40,641]\u001b[0m Trial 47 finished with value: 31500.470227934955 and parameters: {'colsample_bytree': 1.0, 'subsample': 0.8, 'learning_rate': 0.27622428608864374, 'max_depth': 6, 'min_child_weight': 166}. Best is trial 24 with value: 29534.635959544008.\u001b[0m\n",
      "\u001b[32m[I 2023-10-08 14:24:40,662]\u001b[0m Trial 48 finished with value: 31306.421606571777 and parameters: {'colsample_bytree': 0.8, 'subsample': 0.4, 'learning_rate': 0.31036203416525265, 'max_depth': 6, 'min_child_weight': 89}. Best is trial 24 with value: 29534.635959544008.\u001b[0m\n",
      "\u001b[32m[I 2023-10-08 14:24:40,758]\u001b[0m Trial 49 finished with value: 31568.1286824512 and parameters: {'colsample_bytree': 0.7, 'subsample': 0.4, 'learning_rate': 0.3071879033135167, 'max_depth': 6, 'min_child_weight': 90}. Best is trial 24 with value: 29534.635959544008.\u001b[0m\n",
      "\u001b[32m[I 2023-10-08 14:24:40,784]\u001b[0m Trial 50 finished with value: 31743.131440658097 and parameters: {'colsample_bytree': 0.7, 'subsample': 0.4, 'learning_rate': 0.32920548373144426, 'max_depth': 6, 'min_child_weight': 89}. Best is trial 24 with value: 29534.635959544008.\u001b[0m\n",
      "\u001b[32m[I 2023-10-08 14:24:40,791]\u001b[0m Trial 52 finished with value: 31729.988974674914 and parameters: {'colsample_bytree': 0.7, 'subsample': 0.4, 'learning_rate': 0.3187628116275147, 'max_depth': 6, 'min_child_weight': 91}. Best is trial 24 with value: 29534.635959544008.\u001b[0m\n",
      "\u001b[32m[I 2023-10-08 14:24:40,796]\u001b[0m Trial 51 finished with value: 31595.530530917724 and parameters: {'colsample_bytree': 1.0, 'subsample': 0.4, 'learning_rate': 0.32230154312879467, 'max_depth': 6, 'min_child_weight': 87}. Best is trial 24 with value: 29534.635959544008.\u001b[0m\n",
      "\u001b[32m[I 2023-10-08 14:24:40,888]\u001b[0m Trial 53 finished with value: 31776.116488179596 and parameters: {'colsample_bytree': 0.7, 'subsample': 0.4, 'learning_rate': 0.3597112323158903, 'max_depth': 7, 'min_child_weight': 128}. Best is trial 24 with value: 29534.635959544008.\u001b[0m\n",
      "\u001b[32m[I 2023-10-08 14:24:40,924]\u001b[0m Trial 55 finished with value: 31627.067909717858 and parameters: {'colsample_bytree': 0.6, 'subsample': 0.4, 'learning_rate': 0.38969643568056395, 'max_depth': 7, 'min_child_weight': 87}. Best is trial 24 with value: 29534.635959544008.\u001b[0m\n",
      "\u001b[32m[I 2023-10-08 14:24:40,924]\u001b[0m Trial 54 finished with value: 31238.043098014132 and parameters: {'colsample_bytree': 1.0, 'subsample': 0.4, 'learning_rate': 0.3491757161121235, 'max_depth': 11, 'min_child_weight': 83}. Best is trial 24 with value: 29534.635959544008.\u001b[0m\n",
      "\u001b[32m[I 2023-10-08 14:24:40,978]\u001b[0m Trial 56 finished with value: 32105.681289375545 and parameters: {'colsample_bytree': 0.6, 'subsample': 0.4, 'learning_rate': 0.36179257491882993, 'max_depth': 7, 'min_child_weight': 126}. Best is trial 24 with value: 29534.635959544008.\u001b[0m\n",
      "\u001b[32m[I 2023-10-08 14:24:41,086]\u001b[0m Trial 57 finished with value: 31368.970070818246 and parameters: {'colsample_bytree': 0.6, 'subsample': 0.6, 'learning_rate': 0.499539122686904, 'max_depth': 12, 'min_child_weight': 126}. Best is trial 24 with value: 29534.635959544008.\u001b[0m\n",
      "\u001b[32m[I 2023-10-08 14:24:41,110]\u001b[0m Trial 59 finished with value: 31471.938626952917 and parameters: {'colsample_bytree': 0.6, 'subsample': 0.6, 'learning_rate': 0.43552882976157437, 'max_depth': 11, 'min_child_weight': 110}. Best is trial 24 with value: 29534.635959544008.\u001b[0m\n",
      "\u001b[32m[I 2023-10-08 14:24:41,120]\u001b[0m Trial 60 finished with value: 33313.336574138244 and parameters: {'colsample_bytree': 0.3, 'subsample': 0.6, 'learning_rate': 0.37652975145760215, 'max_depth': 12, 'min_child_weight': 115}. Best is trial 24 with value: 29534.635959544008.\u001b[0m\n"
     ]
    },
    {
     "name": "stderr",
     "output_type": "stream",
     "text": [
      "\u001b[32m[I 2023-10-08 14:24:41,130]\u001b[0m Trial 58 finished with value: 31464.165804291544 and parameters: {'colsample_bytree': 0.6, 'subsample': 0.5, 'learning_rate': 0.49406981411281314, 'max_depth': 11, 'min_child_weight': 109}. Best is trial 24 with value: 29534.635959544008.\u001b[0m\n",
      "\u001b[32m[I 2023-10-08 14:24:41,199]\u001b[0m Trial 61 finished with value: 31367.48907251997 and parameters: {'colsample_bytree': 0.6, 'subsample': 0.6, 'learning_rate': 0.4880293449854954, 'max_depth': 11, 'min_child_weight': 113}. Best is trial 24 with value: 29534.635959544008.\u001b[0m\n",
      "\u001b[32m[I 2023-10-08 14:24:41,229]\u001b[0m Trial 62 finished with value: 31805.70627998851 and parameters: {'colsample_bytree': 0.4, 'subsample': 0.6, 'learning_rate': 0.49596576360575273, 'max_depth': 11, 'min_child_weight': 112}. Best is trial 24 with value: 29534.635959544008.\u001b[0m\n",
      "\u001b[32m[I 2023-10-08 14:24:41,232]\u001b[0m Trial 63 finished with value: 31728.217929464987 and parameters: {'colsample_bytree': 0.4, 'subsample': 0.6, 'learning_rate': 0.47083359343297543, 'max_depth': 12, 'min_child_weight': 114}. Best is trial 24 with value: 29534.635959544008.\u001b[0m\n",
      "\u001b[32m[I 2023-10-08 14:24:41,299]\u001b[0m Trial 64 finished with value: 37689.442054338295 and parameters: {'colsample_bytree': 0.3, 'subsample': 0.6, 'learning_rate': 0.21071185668590686, 'max_depth': 12, 'min_child_weight': 105}. Best is trial 24 with value: 29534.635959544008.\u001b[0m\n",
      "\u001b[32m[I 2023-10-08 14:24:41,404]\u001b[0m Trial 65 finished with value: 37256.54084051635 and parameters: {'colsample_bytree': 0.3, 'subsample': 0.5, 'learning_rate': 0.21622556638893417, 'max_depth': 10, 'min_child_weight': 97}. Best is trial 24 with value: 29534.635959544008.\u001b[0m\n",
      "\u001b[32m[I 2023-10-08 14:24:41,449]\u001b[0m Trial 66 finished with value: 36325.33618517446 and parameters: {'colsample_bytree': 0.4, 'subsample': 0.5, 'learning_rate': 0.2201543364958539, 'max_depth': 10, 'min_child_weight': 145}. Best is trial 24 with value: 29534.635959544008.\u001b[0m\n",
      "\u001b[32m[I 2023-10-08 14:24:41,450]\u001b[0m Trial 67 finished with value: 34259.356240387504 and parameters: {'colsample_bytree': 0.8, 'subsample': 1.0, 'learning_rate': 0.19829369711563805, 'max_depth': 10, 'min_child_weight': 100}. Best is trial 24 with value: 29534.635959544008.\u001b[0m\n",
      "\u001b[32m[I 2023-10-08 14:24:41,457]\u001b[0m Trial 68 finished with value: 32668.55069541367 and parameters: {'colsample_bytree': 0.8, 'subsample': 0.7, 'learning_rate': 0.2119658411918362, 'max_depth': 10, 'min_child_weight': 19}. Best is trial 24 with value: 29534.635959544008.\u001b[0m\n",
      "\u001b[32m[I 2023-10-08 14:24:41,549]\u001b[0m Trial 69 finished with value: 32801.535576440736 and parameters: {'colsample_bytree': 0.8, 'subsample': 1.0, 'learning_rate': 0.21991230232643286, 'max_depth': 4, 'min_child_weight': 98}. Best is trial 24 with value: 29534.635959544008.\u001b[0m\n",
      "\u001b[32m[I 2023-10-08 14:24:41,582]\u001b[0m Trial 70 finished with value: 32069.432105276763 and parameters: {'colsample_bytree': 0.8, 'subsample': 1.0, 'learning_rate': 0.22043459827917808, 'max_depth': 7, 'min_child_weight': 20}. Best is trial 24 with value: 29534.635959544008.\u001b[0m\n",
      "\u001b[32m[I 2023-10-08 14:24:41,584]\u001b[0m Trial 72 finished with value: 32507.82688943349 and parameters: {'colsample_bytree': 0.8, 'subsample': 1.0, 'learning_rate': 0.21767505422664168, 'max_depth': 4, 'min_child_weight': 20}. Best is trial 24 with value: 29534.635959544008.\u001b[0m\n",
      "\u001b[32m[I 2023-10-08 14:24:41,601]\u001b[0m Trial 71 finished with value: 32588.434802010604 and parameters: {'colsample_bytree': 0.8, 'subsample': 1.0, 'learning_rate': 0.22360126982468706, 'max_depth': 4, 'min_child_weight': 100}. Best is trial 24 with value: 29534.635959544008.\u001b[0m\n",
      "\u001b[32m[I 2023-10-08 14:24:41,702]\u001b[0m Trial 73 finished with value: 32189.42289606053 and parameters: {'colsample_bytree': 0.8, 'subsample': 1.0, 'learning_rate': 0.22952753347314495, 'max_depth': 4, 'min_child_weight': 79}. Best is trial 24 with value: 29534.635959544008.\u001b[0m\n",
      "\u001b[32m[I 2023-10-08 14:24:41,772]\u001b[0m Trial 74 finished with value: 48072.956367126186 and parameters: {'colsample_bytree': 0.8, 'subsample': 0.7, 'learning_rate': 0.12348274611450029, 'max_depth': 4, 'min_child_weight': 78}. Best is trial 24 with value: 29534.635959544008.\u001b[0m\n",
      "\u001b[32m[I 2023-10-08 14:24:41,772]\u001b[0m Trial 75 finished with value: 73706.63723333845 and parameters: {'colsample_bytree': 0.8, 'subsample': 0.7, 'learning_rate': 0.06840948370800207, 'max_depth': 4, 'min_child_weight': 76}. Best is trial 24 with value: 29534.635959544008.\u001b[0m\n",
      "\u001b[32m[I 2023-10-08 14:24:41,772]\u001b[0m Trial 76 finished with value: 42376.81674469523 and parameters: {'colsample_bytree': 0.8, 'subsample': 0.7, 'learning_rate': 0.1444563372483361, 'max_depth': 7, 'min_child_weight': 77}. Best is trial 24 with value: 29534.635959544008.\u001b[0m\n",
      "\u001b[32m[I 2023-10-08 14:24:41,897]\u001b[0m Trial 78 finished with value: 41407.491525528334 and parameters: {'colsample_bytree': 0.8, 'subsample': 0.7, 'learning_rate': 0.15721741597240452, 'max_depth': 9, 'min_child_weight': 190}. Best is trial 24 with value: 29534.635959544008.\u001b[0m\n",
      "\u001b[32m[I 2023-10-08 14:24:41,926]\u001b[0m Trial 77 finished with value: 40042.81206900788 and parameters: {'colsample_bytree': 0.8, 'subsample': 0.7, 'learning_rate': 0.1559806298019617, 'max_depth': 9, 'min_child_weight': 78}. Best is trial 24 with value: 29534.635959544008.\u001b[0m\n",
      "\u001b[32m[I 2023-10-08 14:24:41,926]\u001b[0m Trial 79 finished with value: 43678.447923052714 and parameters: {'colsample_bytree': 0.8, 'subsample': 0.7, 'learning_rate': 0.13842152952567288, 'max_depth': 9, 'min_child_weight': 51}. Best is trial 24 with value: 29534.635959544008.\u001b[0m\n",
      "\u001b[32m[I 2023-10-08 14:24:41,949]\u001b[0m Trial 80 finished with value: 46640.50048111123 and parameters: {'colsample_bytree': 0.8, 'subsample': 0.7, 'learning_rate': 0.13363797880288958, 'max_depth': 9, 'min_child_weight': 197}. Best is trial 24 with value: 29534.635959544008.\u001b[0m\n",
      "\u001b[32m[I 2023-10-08 14:24:42,034]\u001b[0m Trial 81 finished with value: 45680.104194121246 and parameters: {'colsample_bytree': 0.8, 'subsample': 0.7, 'learning_rate': 0.137338436397595, 'max_depth': 9, 'min_child_weight': 190}. Best is trial 24 with value: 29534.635959544008.\u001b[0m\n",
      "\u001b[32m[I 2023-10-08 14:24:42,108]\u001b[0m Trial 83 finished with value: 40231.77944356532 and parameters: {'colsample_bytree': 0.8, 'subsample': 0.7, 'learning_rate': 0.15414339090105073, 'max_depth': 9, 'min_child_weight': 51}. Best is trial 24 with value: 29534.635959544008.\u001b[0m\n",
      "\u001b[32m[I 2023-10-08 14:24:42,139]\u001b[0m Trial 82 finished with value: 40458.04242533817 and parameters: {'colsample_bytree': 0.8, 'subsample': 0.7, 'learning_rate': 0.1530887893061158, 'max_depth': 9, 'min_child_weight': 58}. Best is trial 24 with value: 29534.635959544008.\u001b[0m\n",
      "\u001b[32m[I 2023-10-08 14:24:42,140]\u001b[0m Trial 84 finished with value: 41520.52145357775 and parameters: {'colsample_bytree': 0.8, 'subsample': 0.7, 'learning_rate': 0.14752371356958316, 'max_depth': 9, 'min_child_weight': 59}. Best is trial 24 with value: 29534.635959544008.\u001b[0m\n",
      "\u001b[32m[I 2023-10-08 14:24:42,251]\u001b[0m Trial 85 finished with value: 31596.388173639934 and parameters: {'colsample_bytree': 0.8, 'subsample': 0.4, 'learning_rate': 0.39862320887115693, 'max_depth': 8, 'min_child_weight': 135}. Best is trial 24 with value: 29534.635959544008.\u001b[0m\n",
      "\u001b[32m[I 2023-10-08 14:24:42,266]\u001b[0m Trial 87 finished with value: 31260.484409897294 and parameters: {'colsample_bytree': 1.0, 'subsample': 0.4, 'learning_rate': 0.39450081424351524, 'max_depth': 8, 'min_child_weight': 136}. Best is trial 24 with value: 29534.635959544008.\u001b[0m\n",
      "\u001b[32m[I 2023-10-08 14:24:42,274]\u001b[0m Trial 88 finished with value: 32022.677074400748 and parameters: {'colsample_bytree': 1.0, 'subsample': 0.4, 'learning_rate': 0.3466000756092388, 'max_depth': 8, 'min_child_weight': 139}. Best is trial 24 with value: 29534.635959544008.\u001b[0m\n",
      "\u001b[32m[I 2023-10-08 14:24:42,279]\u001b[0m Trial 86 finished with value: 32586.503632288826 and parameters: {'colsample_bytree': 0.8, 'subsample': 0.4, 'learning_rate': 0.26841823755299604, 'max_depth': 8, 'min_child_weight': 121}. Best is trial 24 with value: 29534.635959544008.\u001b[0m\n",
      "\u001b[32m[I 2023-10-08 14:24:42,397]\u001b[0m Trial 89 finished with value: 31489.53150648315 and parameters: {'colsample_bytree': 1.0, 'subsample': 0.4, 'learning_rate': 0.39528842771255224, 'max_depth': 8, 'min_child_weight': 139}. Best is trial 24 with value: 29534.635959544008.\u001b[0m\n"
     ]
    },
    {
     "name": "stderr",
     "output_type": "stream",
     "text": [
      "\u001b[32m[I 2023-10-08 14:24:42,454]\u001b[0m Trial 90 finished with value: 31236.56266721279 and parameters: {'colsample_bytree': 1.0, 'subsample': 0.4, 'learning_rate': 0.401112626832789, 'max_depth': 8, 'min_child_weight': 136}. Best is trial 24 with value: 29534.635959544008.\u001b[0m\n",
      "\u001b[32m[I 2023-10-08 14:24:42,502]\u001b[0m Trial 92 finished with value: 39266.17524300528 and parameters: {'colsample_bytree': 1.0, 'subsample': 0.4, 'learning_rate': 0.392499642990522, 'max_depth': 8, 'min_child_weight': 257}. Best is trial 24 with value: 29534.635959544008.\u001b[0m\n",
      "\u001b[32m[I 2023-10-08 14:24:42,502]\u001b[0m Trial 91 finished with value: 31200.810461716934 and parameters: {'colsample_bytree': 1.0, 'subsample': 0.4, 'learning_rate': 0.3913383459555681, 'max_depth': 8, 'min_child_weight': 122}. Best is trial 24 with value: 29534.635959544008.\u001b[0m\n",
      "\u001b[32m[I 2023-10-08 14:24:42,598]\u001b[0m Trial 94 finished with value: 30520.127100089736 and parameters: {'colsample_bytree': 1.0, 'subsample': 0.8, 'learning_rate': 0.3980610533487782, 'max_depth': 7, 'min_child_weight': 154}. Best is trial 24 with value: 29534.635959544008.\u001b[0m\n",
      "\u001b[32m[I 2023-10-08 14:24:42,598]\u001b[0m Trial 96 finished with value: 30410.151788790838 and parameters: {'colsample_bytree': 1.0, 'subsample': 0.8, 'learning_rate': 0.407055426886643, 'max_depth': 7, 'min_child_weight': 105}. Best is trial 24 with value: 29534.635959544008.\u001b[0m\n",
      "\u001b[32m[I 2023-10-08 14:24:42,614]\u001b[0m Trial 95 finished with value: 30701.56512053301 and parameters: {'colsample_bytree': 1.0, 'subsample': 0.8, 'learning_rate': 0.3883922456897738, 'max_depth': 7, 'min_child_weight': 105}. Best is trial 24 with value: 29534.635959544008.\u001b[0m\n",
      "\u001b[32m[I 2023-10-08 14:24:42,655]\u001b[0m Trial 93 finished with value: 30657.170874184794 and parameters: {'colsample_bytree': 1.0, 'subsample': 0.8, 'learning_rate': 0.3840051854899913, 'max_depth': 7, 'min_child_weight': 151}. Best is trial 24 with value: 29534.635959544008.\u001b[0m\n",
      "\u001b[32m[I 2023-10-08 14:24:42,759]\u001b[0m Trial 97 finished with value: 31799.871649976383 and parameters: {'colsample_bytree': 0.9, 'subsample': 0.8, 'learning_rate': 0.2871135190317052, 'max_depth': 7, 'min_child_weight': 151}. Best is trial 24 with value: 29534.635959544008.\u001b[0m\n",
      "\u001b[32m[I 2023-10-08 14:24:42,806]\u001b[0m Trial 98 finished with value: 32977.21918741676 and parameters: {'colsample_bytree': 1.0, 'subsample': 0.4, 'learning_rate': 0.28480866746130107, 'max_depth': 7, 'min_child_weight': 155}. Best is trial 24 with value: 29534.635959544008.\u001b[0m\n",
      "\u001b[32m[I 2023-10-08 14:24:42,864]\u001b[0m Trial 99 finished with value: 32251.898457441468 and parameters: {'colsample_bytree': 0.9, 'subsample': 0.8, 'learning_rate': 0.25688444326151716, 'max_depth': 7, 'min_child_weight': 154}. Best is trial 24 with value: 29534.635959544008.\u001b[0m\n",
      "\u001b[32m[I 2023-10-08 14:24:42,876]\u001b[0m Trial 100 finished with value: 31985.61757945857 and parameters: {'colsample_bytree': 0.9, 'subsample': 0.8, 'learning_rate': 0.26431475833673423, 'max_depth': 7, 'min_child_weight': 150}. Best is trial 24 with value: 29534.635959544008.\u001b[0m\n",
      "\u001b[32m[I 2023-10-08 14:24:42,973]\u001b[0m Trial 101 finished with value: 31868.854410649794 and parameters: {'colsample_bytree': 0.9, 'subsample': 0.8, 'learning_rate': 0.2744032912813987, 'max_depth': 7, 'min_child_weight': 151}. Best is trial 24 with value: 29534.635959544008.\u001b[0m\n",
      "\u001b[32m[I 2023-10-08 14:24:42,973]\u001b[0m Trial 103 finished with value: 31723.224439314352 and parameters: {'colsample_bytree': 1.0, 'subsample': 0.8, 'learning_rate': 0.2651357611505616, 'max_depth': 7, 'min_child_weight': 148}. Best is trial 24 with value: 29534.635959544008.\u001b[0m\n",
      "\u001b[32m[I 2023-10-08 14:24:42,973]\u001b[0m Trial 102 finished with value: 32136.980155454577 and parameters: {'colsample_bytree': 0.9, 'subsample': 0.8, 'learning_rate': 0.26753116090974466, 'max_depth': 7, 'min_child_weight': 177}. Best is trial 24 with value: 29534.635959544008.\u001b[0m\n",
      "\u001b[32m[I 2023-10-08 14:24:42,996]\u001b[0m Trial 104 finished with value: 31803.83844663275 and parameters: {'colsample_bytree': 1.0, 'subsample': 0.8, 'learning_rate': 0.2776700089984382, 'max_depth': 7, 'min_child_weight': 179}. Best is trial 24 with value: 29534.635959544008.\u001b[0m\n",
      "\u001b[32m[I 2023-10-08 14:24:43,143]\u001b[0m Trial 105 finished with value: 31774.546230642183 and parameters: {'colsample_bytree': 1.0, 'subsample': 0.8, 'learning_rate': 0.24877090160165125, 'max_depth': 6, 'min_child_weight': 95}. Best is trial 24 with value: 29534.635959544008.\u001b[0m\n",
      "\u001b[32m[I 2023-10-08 14:24:43,168]\u001b[0m Trial 106 finished with value: 32354.121268803832 and parameters: {'colsample_bytree': 1.0, 'subsample': 0.8, 'learning_rate': 0.25611124166025206, 'max_depth': 6, 'min_child_weight': 178}. Best is trial 24 with value: 29534.635959544008.\u001b[0m\n",
      "\u001b[32m[I 2023-10-08 14:24:43,239]\u001b[0m Trial 108 finished with value: 30359.170359835876 and parameters: {'colsample_bytree': 1.0, 'subsample': 0.8, 'learning_rate': 0.4308887865232621, 'max_depth': 6, 'min_child_weight': 94}. Best is trial 24 with value: 29534.635959544008.\u001b[0m\n",
      "\u001b[32m[I 2023-10-08 14:24:43,239]\u001b[0m Trial 107 finished with value: 30192.61817722842 and parameters: {'colsample_bytree': 1.0, 'subsample': 0.8, 'learning_rate': 0.4991864805055608, 'max_depth': 6, 'min_child_weight': 102}. Best is trial 24 with value: 29534.635959544008.\u001b[0m\n",
      "\u001b[32m[I 2023-10-08 14:24:43,317]\u001b[0m Trial 111 finished with value: 30499.029988141185 and parameters: {'colsample_bytree': 1.0, 'subsample': 0.8, 'learning_rate': 0.436796474486065, 'max_depth': 6, 'min_child_weight': 104}. Best is trial 24 with value: 29534.635959544008.\u001b[0m\n",
      "\u001b[32m[I 2023-10-08 14:24:43,340]\u001b[0m Trial 109 finished with value: 30133.546831247244 and parameters: {'colsample_bytree': 1.0, 'subsample': 0.8, 'learning_rate': 0.4966676420726597, 'max_depth': 6, 'min_child_weight': 104}. Best is trial 24 with value: 29534.635959544008.\u001b[0m\n",
      "\u001b[32m[I 2023-10-08 14:24:43,383]\u001b[0m Trial 112 finished with value: 30713.548331118778 and parameters: {'colsample_bytree': 1.0, 'subsample': 0.8, 'learning_rate': 0.3431947836992537, 'max_depth': 6, 'min_child_weight': 105}. Best is trial 24 with value: 29534.635959544008.\u001b[0m\n",
      "\u001b[32m[I 2023-10-08 14:24:43,398]\u001b[0m Trial 110 finished with value: 30273.86251646818 and parameters: {'colsample_bytree': 1.0, 'subsample': 0.8, 'learning_rate': 0.44367036898474066, 'max_depth': 6, 'min_child_weight': 93}. Best is trial 24 with value: 29534.635959544008.\u001b[0m\n",
      "\u001b[32m[I 2023-10-08 14:24:43,539]\u001b[0m Trial 114 finished with value: 31391.586835578182 and parameters: {'colsample_bytree': 0.5, 'subsample': 0.8, 'learning_rate': 0.4572220207873291, 'max_depth': 6, 'min_child_weight': 103}. Best is trial 24 with value: 29534.635959544008.\u001b[0m\n",
      "\u001b[32m[I 2023-10-08 14:24:43,560]\u001b[0m Trial 113 finished with value: 30291.759070086184 and parameters: {'colsample_bytree': 1.0, 'subsample': 0.8, 'learning_rate': 0.4312879675218614, 'max_depth': 6, 'min_child_weight': 93}. Best is trial 24 with value: 29534.635959544008.\u001b[0m\n",
      "\u001b[32m[I 2023-10-08 14:24:43,629]\u001b[0m Trial 115 finished with value: 30289.267105708434 and parameters: {'colsample_bytree': 1.0, 'subsample': 0.8, 'learning_rate': 0.45404054089950047, 'max_depth': 5, 'min_child_weight': 65}. Best is trial 24 with value: 29534.635959544008.\u001b[0m\n",
      "\u001b[32m[I 2023-10-08 14:24:43,654]\u001b[0m Trial 116 finished with value: 30947.498222776736 and parameters: {'colsample_bytree': 1.0, 'subsample': 0.8, 'learning_rate': 0.3396035044560827, 'max_depth': 5, 'min_child_weight': 84}. Best is trial 24 with value: 29534.635959544008.\u001b[0m\n",
      "\u001b[32m[I 2023-10-08 14:24:43,718]\u001b[0m Trial 117 finished with value: 30555.250038023805 and parameters: {'colsample_bytree': 1.0, 'subsample': 0.8, 'learning_rate': 0.4659129412860985, 'max_depth': 5, 'min_child_weight': 84}. Best is trial 24 with value: 29534.635959544008.\u001b[0m\n",
      "\u001b[32m[I 2023-10-08 14:24:43,736]\u001b[0m Trial 118 finished with value: 30593.382270465772 and parameters: {'colsample_bytree': 1.0, 'subsample': 0.8, 'learning_rate': 0.45059933878617503, 'max_depth': 5, 'min_child_weight': 84}. Best is trial 24 with value: 29534.635959544008.\u001b[0m\n",
      "\u001b[32m[I 2023-10-08 14:24:43,785]\u001b[0m Trial 120 finished with value: 30630.967557072963 and parameters: {'colsample_bytree': 1.0, 'subsample': 0.8, 'learning_rate': 0.44792897686240873, 'max_depth': 5, 'min_child_weight': 85}. Best is trial 24 with value: 29534.635959544008.\u001b[0m\n"
     ]
    },
    {
     "name": "stderr",
     "output_type": "stream",
     "text": [
      "\u001b[32m[I 2023-10-08 14:24:43,785]\u001b[0m Trial 119 finished with value: 30545.205770986566 and parameters: {'colsample_bytree': 1.0, 'subsample': 0.8, 'learning_rate': 0.4255880977127244, 'max_depth': 5, 'min_child_weight': 85}. Best is trial 24 with value: 29534.635959544008.\u001b[0m\n",
      "\u001b[32m[I 2023-10-08 14:24:43,905]\u001b[0m Trial 122 finished with value: 30513.85028271269 and parameters: {'colsample_bytree': 1.0, 'subsample': 0.8, 'learning_rate': 0.4379015220563105, 'max_depth': 5, 'min_child_weight': 68}. Best is trial 24 with value: 29534.635959544008.\u001b[0m\n",
      "\u001b[32m[I 2023-10-08 14:24:43,976]\u001b[0m Trial 121 finished with value: 30378.31856209048 and parameters: {'colsample_bytree': 1.0, 'subsample': 0.8, 'learning_rate': 0.4445850953881594, 'max_depth': 5, 'min_child_weight': 65}. Best is trial 24 with value: 29534.635959544008.\u001b[0m\n",
      "\u001b[32m[I 2023-10-08 14:24:44,022]\u001b[0m Trial 124 finished with value: 30232.098659400534 and parameters: {'colsample_bytree': 1.0, 'subsample': 0.8, 'learning_rate': 0.4644977860859075, 'max_depth': 6, 'min_child_weight': 67}. Best is trial 24 with value: 29534.635959544008.\u001b[0m\n",
      "\u001b[32m[I 2023-10-08 14:24:44,035]\u001b[0m Trial 123 finished with value: 30196.827857160508 and parameters: {'colsample_bytree': 1.0, 'subsample': 0.8, 'learning_rate': 0.4761679466459085, 'max_depth': 5, 'min_child_weight': 66}. Best is trial 24 with value: 29534.635959544008.\u001b[0m\n",
      "\u001b[32m[I 2023-10-08 14:24:44,126]\u001b[0m Trial 125 finished with value: 30514.26584556021 and parameters: {'colsample_bytree': 1.0, 'subsample': 0.8, 'learning_rate': 0.32404480407995506, 'max_depth': 6, 'min_child_weight': 67}. Best is trial 24 with value: 29534.635959544008.\u001b[0m\n",
      "\u001b[32m[I 2023-10-08 14:24:44,126]\u001b[0m Trial 126 finished with value: 30836.56138096939 and parameters: {'colsample_bytree': 1.0, 'subsample': 0.8, 'learning_rate': 0.33234106153322024, 'max_depth': 6, 'min_child_weight': 94}. Best is trial 24 with value: 29534.635959544008.\u001b[0m\n",
      "\u001b[32m[I 2023-10-08 14:24:44,150]\u001b[0m Trial 127 finished with value: 30584.1865360242 and parameters: {'colsample_bytree': 1.0, 'subsample': 0.8, 'learning_rate': 0.325163500877909, 'max_depth': 6, 'min_child_weight': 65}. Best is trial 24 with value: 29534.635959544008.\u001b[0m\n",
      "\u001b[32m[I 2023-10-08 14:24:44,188]\u001b[0m Trial 128 finished with value: 30518.041701664264 and parameters: {'colsample_bytree': 1.0, 'subsample': 0.8, 'learning_rate': 0.4966436002233383, 'max_depth': 6, 'min_child_weight': 68}. Best is trial 24 with value: 29534.635959544008.\u001b[0m\n",
      "\u001b[32m[I 2023-10-08 14:24:44,299]\u001b[0m Trial 129 finished with value: 30550.786188875187 and parameters: {'colsample_bytree': 1.0, 'subsample': 0.8, 'learning_rate': 0.3232161085335849, 'max_depth': 6, 'min_child_weight': 63}. Best is trial 24 with value: 29534.635959544008.\u001b[0m\n",
      "\u001b[32m[I 2023-10-08 14:24:44,372]\u001b[0m Trial 130 finished with value: 30398.92711889538 and parameters: {'colsample_bytree': 1.0, 'subsample': 0.8, 'learning_rate': 0.3214670064478266, 'max_depth': 6, 'min_child_weight': 73}. Best is trial 24 with value: 29534.635959544008.\u001b[0m\n",
      "\u001b[32m[I 2023-10-08 14:24:44,417]\u001b[0m Trial 132 finished with value: 29979.168255945813 and parameters: {'colsample_bytree': 1.0, 'subsample': 0.8, 'learning_rate': 0.320110261217037, 'max_depth': 6, 'min_child_weight': 43}. Best is trial 24 with value: 29534.635959544008.\u001b[0m\n",
      "\u001b[32m[I 2023-10-08 14:24:44,440]\u001b[0m Trial 131 finished with value: 30139.402026415173 and parameters: {'colsample_bytree': 1.0, 'subsample': 0.8, 'learning_rate': 0.3139497992410424, 'max_depth': 6, 'min_child_weight': 38}. Best is trial 24 with value: 29534.635959544008.\u001b[0m\n",
      "\u001b[32m[I 2023-10-08 14:24:44,520]\u001b[0m Trial 135 finished with value: 35177.45174634711 and parameters: {'colsample_bytree': 1.0, 'subsample': 0.5, 'learning_rate': 0.19007531622603363, 'max_depth': 5, 'min_child_weight': 73}. Best is trial 24 with value: 29534.635959544008.\u001b[0m\n",
      "\u001b[32m[I 2023-10-08 14:24:44,529]\u001b[0m Trial 134 finished with value: 34693.07278594229 and parameters: {'colsample_bytree': 1.0, 'subsample': 0.5, 'learning_rate': 0.19160050295290787, 'max_depth': 5, 'min_child_weight': 37}. Best is trial 24 with value: 29534.635959544008.\u001b[0m\n",
      "\u001b[32m[I 2023-10-08 14:24:44,552]\u001b[0m Trial 133 finished with value: 30187.52061172127 and parameters: {'colsample_bytree': 1.0, 'subsample': 0.5, 'learning_rate': 0.4979585081924481, 'max_depth': 5, 'min_child_weight': 39}. Best is trial 24 with value: 29534.635959544008.\u001b[0m\n",
      "\u001b[32m[I 2023-10-08 14:24:44,564]\u001b[0m Trial 136 finished with value: 32711.624203864052 and parameters: {'colsample_bytree': 0.3, 'subsample': 0.5, 'learning_rate': 0.33137300159444155, 'max_depth': 5, 'min_child_weight': 43}. Best is trial 24 with value: 29534.635959544008.\u001b[0m\n",
      "\u001b[32m[I 2023-10-08 14:24:44,699]\u001b[0m Trial 137 finished with value: 31688.711957370415 and parameters: {'colsample_bytree': 0.3, 'subsample': 0.8, 'learning_rate': 0.3279029323679981, 'max_depth': 5, 'min_child_weight': 42}. Best is trial 24 with value: 29534.635959544008.\u001b[0m\n",
      "\u001b[32m[I 2023-10-08 14:24:44,784]\u001b[0m Trial 138 finished with value: 30353.866873934177 and parameters: {'colsample_bytree': 1.0, 'subsample': 0.5, 'learning_rate': 0.4893411611962598, 'max_depth': 5, 'min_child_weight': 46}. Best is trial 24 with value: 29534.635959544008.\u001b[0m\n",
      "\u001b[32m[I 2023-10-08 14:24:44,827]\u001b[0m Trial 140 finished with value: 34148.93148493316 and parameters: {'colsample_bytree': 1.0, 'subsample': 0.8, 'learning_rate': 0.18991898154112738, 'max_depth': 5, 'min_child_weight': 10}. Best is trial 24 with value: 29534.635959544008.\u001b[0m\n",
      "\u001b[32m[I 2023-10-08 14:24:44,827]\u001b[0m Trial 139 finished with value: 34726.4049719481 and parameters: {'colsample_bytree': 1.0, 'subsample': 0.8, 'learning_rate': 0.18719793496961645, 'max_depth': 5, 'min_child_weight': 25}. Best is trial 24 with value: 29534.635959544008.\u001b[0m\n",
      "\u001b[32m[I 2023-10-08 14:24:44,923]\u001b[0m Trial 143 finished with value: 108335.7679947672 and parameters: {'colsample_bytree': 0.4, 'subsample': 0.5, 'learning_rate': 0.026260266230863104, 'max_depth': 6, 'min_child_weight': 26}. Best is trial 24 with value: 29534.635959544008.\u001b[0m\n",
      "\u001b[32m[I 2023-10-08 14:24:44,941]\u001b[0m Trial 141 finished with value: 31306.280170270657 and parameters: {'colsample_bytree': 0.3, 'subsample': 0.5, 'learning_rate': 0.4845682104091634, 'max_depth': 6, 'min_child_weight': 32}. Best is trial 24 with value: 29534.635959544008.\u001b[0m\n",
      "\u001b[32m[I 2023-10-08 14:24:44,960]\u001b[0m Trial 142 finished with value: 31149.464058676564 and parameters: {'colsample_bytree': 0.3, 'subsample': 0.5, 'learning_rate': 0.4847896643027602, 'max_depth': 6, 'min_child_weight': 26}. Best is trial 24 with value: 29534.635959544008.\u001b[0m\n",
      "\u001b[32m[I 2023-10-08 14:24:44,985]\u001b[0m Trial 144 finished with value: 30239.264592407435 and parameters: {'colsample_bytree': 0.4, 'subsample': 0.5, 'learning_rate': 0.4959081771897829, 'max_depth': 15, 'min_child_weight': 8}. Best is trial 24 with value: 29534.635959544008.\u001b[0m\n",
      "\u001b[32m[I 2023-10-08 14:24:45,107]\u001b[0m Trial 145 finished with value: 30427.61563970012 and parameters: {'colsample_bytree': 1.0, 'subsample': 0.5, 'learning_rate': 0.496383947810182, 'max_depth': 6, 'min_child_weight': 46}. Best is trial 24 with value: 29534.635959544008.\u001b[0m\n",
      "\u001b[32m[I 2023-10-08 14:24:45,193]\u001b[0m Trial 146 finished with value: 30515.8386694956 and parameters: {'colsample_bytree': 1.0, 'subsample': 0.5, 'learning_rate': 0.4886333496437504, 'max_depth': 6, 'min_child_weight': 47}. Best is trial 24 with value: 29534.635959544008.\u001b[0m\n",
      "\u001b[32m[I 2023-10-08 14:24:45,238]\u001b[0m Trial 147 finished with value: 30507.740517166603 and parameters: {'colsample_bytree': 1.0, 'subsample': 0.5, 'learning_rate': 0.4876432300195192, 'max_depth': 6, 'min_child_weight': 56}. Best is trial 24 with value: 29534.635959544008.\u001b[0m\n",
      "\u001b[32m[I 2023-10-08 14:24:45,239]\u001b[0m Trial 148 finished with value: 30791.54865809108 and parameters: {'colsample_bytree': 1.0, 'subsample': 0.5, 'learning_rate': 0.4836957941587446, 'max_depth': 6, 'min_child_weight': 12}. Best is trial 24 with value: 29534.635959544008.\u001b[0m\n",
      "\u001b[32m[I 2023-10-08 14:24:45,364]\u001b[0m Trial 149 finished with value: 30598.186638321084 and parameters: {'colsample_bytree': 1.0, 'subsample': 0.5, 'learning_rate': 0.4904248889612344, 'max_depth': 4, 'min_child_weight': 5}. Best is trial 24 with value: 29534.635959544008.\u001b[0m\n"
     ]
    },
    {
     "name": "stderr",
     "output_type": "stream",
     "text": [
      "\u001b[32m[I 2023-10-08 14:24:45,364]\u001b[0m Trial 151 finished with value: 30151.134540328396 and parameters: {'colsample_bytree': 1.0, 'subsample': 0.5, 'learning_rate': 0.38221733082431675, 'max_depth': 4, 'min_child_weight': 13}. Best is trial 24 with value: 29534.635959544008.\u001b[0m\n",
      "\u001b[32m[I 2023-10-08 14:24:45,364]\u001b[0m Trial 150 finished with value: 31414.022697924433 and parameters: {'colsample_bytree': 1.0, 'subsample': 0.5, 'learning_rate': 0.4906192860295038, 'max_depth': 13, 'min_child_weight': 12}. Best is trial 24 with value: 29534.635959544008.\u001b[0m\n",
      "\u001b[32m[I 2023-10-08 14:24:45,420]\u001b[0m Trial 152 finished with value: 29812.792552931583 and parameters: {'colsample_bytree': 0.4, 'subsample': 0.5, 'learning_rate': 0.3745902434030877, 'max_depth': 4, 'min_child_weight': 13}. Best is trial 24 with value: 29534.635959544008.\u001b[0m\n",
      "\u001b[32m[I 2023-10-08 14:24:45,584]\u001b[0m Trial 153 finished with value: 29947.871289754177 and parameters: {'colsample_bytree': 0.4, 'subsample': 0.5, 'learning_rate': 0.37637403236182887, 'max_depth': 5, 'min_child_weight': 13}. Best is trial 24 with value: 29534.635959544008.\u001b[0m\n",
      "\u001b[32m[I 2023-10-08 14:24:45,622]\u001b[0m Trial 154 finished with value: 29782.803965446383 and parameters: {'colsample_bytree': 0.4, 'subsample': 0.5, 'learning_rate': 0.37020112920506504, 'max_depth': 13, 'min_child_weight': 13}. Best is trial 24 with value: 29534.635959544008.\u001b[0m\n",
      "\u001b[32m[I 2023-10-08 14:24:45,642]\u001b[0m Trial 156 finished with value: 30801.61121620008 and parameters: {'colsample_bytree': 0.4, 'subsample': 0.8, 'learning_rate': 0.371121134546511, 'max_depth': 15, 'min_child_weight': 3}. Best is trial 24 with value: 29534.635959544008.\u001b[0m\n",
      "\u001b[32m[I 2023-10-08 14:24:45,643]\u001b[0m Trial 155 finished with value: 30699.888441770705 and parameters: {'colsample_bytree': 0.4, 'subsample': 0.8, 'learning_rate': 0.3630960180736622, 'max_depth': 15, 'min_child_weight': 4}. Best is trial 24 with value: 29534.635959544008.\u001b[0m\n",
      "\u001b[32m[I 2023-10-08 14:24:45,749]\u001b[0m Trial 157 finished with value: 31361.178490087852 and parameters: {'colsample_bytree': 0.4, 'subsample': 0.5, 'learning_rate': 0.37073834091473934, 'max_depth': 3, 'min_child_weight': 37}. Best is trial 24 with value: 29534.635959544008.\u001b[0m\n",
      "\u001b[32m[I 2023-10-08 14:24:45,779]\u001b[0m Trial 160 finished with value: 31341.387442860632 and parameters: {'colsample_bytree': 0.4, 'subsample': 0.5, 'learning_rate': 0.3644520146486412, 'max_depth': 3, 'min_child_weight': 33}. Best is trial 24 with value: 29534.635959544008.\u001b[0m\n",
      "\u001b[32m[I 2023-10-08 14:24:45,808]\u001b[0m Trial 158 finished with value: 31336.701133635943 and parameters: {'colsample_bytree': 0.4, 'subsample': 0.5, 'learning_rate': 0.3654068576840783, 'max_depth': 3, 'min_child_weight': 35}. Best is trial 24 with value: 29534.635959544008.\u001b[0m\n",
      "\u001b[32m[I 2023-10-08 14:24:45,809]\u001b[0m Trial 159 finished with value: 30480.219605879458 and parameters: {'colsample_bytree': 0.4, 'subsample': 0.5, 'learning_rate': 0.3725772192259223, 'max_depth': 3, 'min_child_weight': 17}. Best is trial 24 with value: 29534.635959544008.\u001b[0m\n",
      "\u001b[32m[I 2023-10-08 14:24:45,994]\u001b[0m Trial 162 finished with value: 32718.301759861723 and parameters: {'colsample_bytree': 0.4, 'subsample': 0.5, 'learning_rate': 0.2452186105284158, 'max_depth': 3, 'min_child_weight': 18}. Best is trial 24 with value: 29534.635959544008.\u001b[0m\n",
      "\u001b[32m[I 2023-10-08 14:24:46,039]\u001b[0m Trial 161 finished with value: 29889.97210024417 and parameters: {'colsample_bytree': 0.4, 'subsample': 0.5, 'learning_rate': 0.37427328815135463, 'max_depth': 14, 'min_child_weight': 14}. Best is trial 24 with value: 29534.635959544008.\u001b[0m\n",
      "\u001b[32m[I 2023-10-08 14:24:46,056]\u001b[0m Trial 163 finished with value: 32301.00947492942 and parameters: {'colsample_bytree': 0.4, 'subsample': 0.5, 'learning_rate': 0.23580210525735038, 'max_depth': 14, 'min_child_weight': 20}. Best is trial 24 with value: 29534.635959544008.\u001b[0m\n",
      "\u001b[32m[I 2023-10-08 14:24:46,070]\u001b[0m Trial 164 finished with value: 31849.548914620893 and parameters: {'colsample_bytree': 0.4, 'subsample': 0.5, 'learning_rate': 0.2385811047497153, 'max_depth': 14, 'min_child_weight': 15}. Best is trial 24 with value: 29534.635959544008.\u001b[0m\n",
      "\u001b[32m[I 2023-10-08 14:24:46,190]\u001b[0m Trial 166 finished with value: 32424.685388443217 and parameters: {'colsample_bytree': 0.4, 'subsample': 0.5, 'learning_rate': 0.2326164159415602, 'max_depth': 4, 'min_child_weight': 17}. Best is trial 24 with value: 29534.635959544008.\u001b[0m\n",
      "\u001b[32m[I 2023-10-08 14:24:46,190]\u001b[0m Trial 165 finished with value: 31308.759060516237 and parameters: {'colsample_bytree': 0.4, 'subsample': 0.5, 'learning_rate': 0.25607327191515705, 'max_depth': 13, 'min_child_weight': 14}. Best is trial 24 with value: 29534.635959544008.\u001b[0m\n",
      "\u001b[32m[I 2023-10-08 14:24:46,232]\u001b[0m Trial 168 finished with value: 32272.224650261654 and parameters: {'colsample_bytree': 0.4, 'subsample': 0.5, 'learning_rate': 0.22607661084595526, 'max_depth': 14, 'min_child_weight': 16}. Best is trial 24 with value: 29534.635959544008.\u001b[0m\n",
      "\u001b[32m[I 2023-10-08 14:24:46,259]\u001b[0m Trial 167 finished with value: 32082.242910625828 and parameters: {'colsample_bytree': 0.4, 'subsample': 0.5, 'learning_rate': 0.23019468414351515, 'max_depth': 14, 'min_child_weight': 15}. Best is trial 24 with value: 29534.635959544008.\u001b[0m\n",
      "\u001b[32m[I 2023-10-08 14:24:46,440]\u001b[0m Trial 170 finished with value: 30097.7030891553 and parameters: {'colsample_bytree': 0.4, 'subsample': 0.5, 'learning_rate': 0.3056902134113314, 'max_depth': 13, 'min_child_weight': 7}. Best is trial 24 with value: 29534.635959544008.\u001b[0m\n",
      "\u001b[32m[I 2023-10-08 14:24:46,440]\u001b[0m Trial 172 finished with value: 31556.2844004764 and parameters: {'colsample_bytree': 0.4, 'subsample': 0.5, 'learning_rate': 0.30754215182514233, 'max_depth': 13, 'min_child_weight': 28}. Best is trial 24 with value: 29534.635959544008.\u001b[0m\n",
      "\u001b[32m[I 2023-10-08 14:24:46,440]\u001b[0m Trial 169 finished with value: 30206.8417651086 and parameters: {'colsample_bytree': 0.4, 'subsample': 0.5, 'learning_rate': 0.30118394476952204, 'max_depth': 15, 'min_child_weight': 9}. Best is trial 24 with value: 29534.635959544008.\u001b[0m\n",
      "\u001b[32m[I 2023-10-08 14:24:46,492]\u001b[0m Trial 171 finished with value: 30273.136050989448 and parameters: {'colsample_bytree': 0.4, 'subsample': 0.5, 'learning_rate': 0.29193373434367026, 'max_depth': 4, 'min_child_weight': 9}. Best is trial 24 with value: 29534.635959544008.\u001b[0m\n",
      "\u001b[32m[I 2023-10-08 14:24:46,667]\u001b[0m Trial 173 finished with value: 29991.739517021546 and parameters: {'colsample_bytree': 0.4, 'subsample': 0.5, 'learning_rate': 0.3067413209126407, 'max_depth': 15, 'min_child_weight': 8}. Best is trial 24 with value: 29534.635959544008.\u001b[0m\n",
      "\u001b[32m[I 2023-10-08 14:24:46,667]\u001b[0m Trial 175 finished with value: 31099.49964876825 and parameters: {'colsample_bytree': 0.4, 'subsample': 0.5, 'learning_rate': 0.3046328369507118, 'max_depth': 15, 'min_child_weight': 1}. Best is trial 24 with value: 29534.635959544008.\u001b[0m\n",
      "\u001b[32m[I 2023-10-08 14:24:46,679]\u001b[0m Trial 174 finished with value: 30445.679394256946 and parameters: {'colsample_bytree': 0.7, 'subsample': 0.5, 'learning_rate': 0.30086010082237563, 'max_depth': 15, 'min_child_weight': 7}. Best is trial 24 with value: 29534.635959544008.\u001b[0m\n",
      "\u001b[32m[I 2023-10-08 14:24:46,706]\u001b[0m Trial 176 finished with value: 30010.275058693835 and parameters: {'colsample_bytree': 0.7, 'subsample': 0.5, 'learning_rate': 0.2998582872452998, 'max_depth': 4, 'min_child_weight': 1}. Best is trial 24 with value: 29534.635959544008.\u001b[0m\n",
      "\u001b[32m[I 2023-10-08 14:24:46,876]\u001b[0m Trial 177 finished with value: 31116.807567182277 and parameters: {'colsample_bytree': 0.4, 'subsample': 0.5, 'learning_rate': 0.3004112760619882, 'max_depth': 15, 'min_child_weight': 1}. Best is trial 24 with value: 29534.635959544008.\u001b[0m\n",
      "\u001b[32m[I 2023-10-08 14:24:46,876]\u001b[0m Trial 180 finished with value: 31140.549732386993 and parameters: {'colsample_bytree': 0.4, 'subsample': 0.5, 'learning_rate': 0.3000824461330422, 'max_depth': 15, 'min_child_weight': 1}. Best is trial 24 with value: 29534.635959544008.\u001b[0m\n",
      "\u001b[32m[I 2023-10-08 14:24:46,902]\u001b[0m Trial 179 finished with value: 30940.893488600443 and parameters: {'colsample_bytree': 0.4, 'subsample': 0.5, 'learning_rate': 0.29238254860544394, 'max_depth': 15, 'min_child_weight': 1}. Best is trial 24 with value: 29534.635959544008.\u001b[0m\n"
     ]
    },
    {
     "name": "stderr",
     "output_type": "stream",
     "text": [
      "\u001b[32m[I 2023-10-08 14:24:46,903]\u001b[0m Trial 178 finished with value: 31175.61545873147 and parameters: {'colsample_bytree': 0.4, 'subsample': 0.5, 'learning_rate': 0.3057431532572592, 'max_depth': 15, 'min_child_weight': 1}. Best is trial 24 with value: 29534.635959544008.\u001b[0m\n",
      "\u001b[32m[I 2023-10-08 14:24:47,084]\u001b[0m Trial 182 finished with value: 132244.13763286386 and parameters: {'colsample_bytree': 0.4, 'subsample': 0.5, 'learning_rate': 0.004222377305446295, 'max_depth': 15, 'min_child_weight': 1}. Best is trial 24 with value: 29534.635959544008.\u001b[0m\n",
      "\u001b[32m[I 2023-10-08 14:24:47,100]\u001b[0m Trial 181 finished with value: 30478.680471547712 and parameters: {'colsample_bytree': 0.4, 'subsample': 0.5, 'learning_rate': 0.3850111314751429, 'max_depth': 15, 'min_child_weight': 24}. Best is trial 24 with value: 29534.635959544008.\u001b[0m\n",
      "\u001b[32m[I 2023-10-08 14:24:47,132]\u001b[0m Trial 184 finished with value: 30280.59791805124 and parameters: {'colsample_bytree': 0.7, 'subsample': 0.5, 'learning_rate': 0.38008402051808193, 'max_depth': 15, 'min_child_weight': 8}. Best is trial 24 with value: 29534.635959544008.\u001b[0m\n",
      "\u001b[32m[I 2023-10-08 14:24:47,134]\u001b[0m Trial 183 finished with value: 29287.422827524246 and parameters: {'colsample_bytree': 0.4, 'subsample': 0.5, 'learning_rate': 0.3793048789303307, 'max_depth': 15, 'min_child_weight': 7}. Best is trial 183 with value: 29287.422827524246.\u001b[0m\n",
      "\u001b[32m[I 2023-10-08 14:24:47,280]\u001b[0m Trial 186 finished with value: 29943.150774077978 and parameters: {'colsample_bytree': 0.7, 'subsample': 0.5, 'learning_rate': 0.3630438293502729, 'max_depth': 4, 'min_child_weight': 10}. Best is trial 183 with value: 29287.422827524246.\u001b[0m\n",
      "\u001b[32m[I 2023-10-08 14:24:47,317]\u001b[0m Trial 185 finished with value: 30265.346595573752 and parameters: {'colsample_bytree': 0.7, 'subsample': 0.5, 'learning_rate': 0.38472702015663324, 'max_depth': 4, 'min_child_weight': 9}. Best is trial 183 with value: 29287.422827524246.\u001b[0m\n",
      "\u001b[32m[I 2023-10-08 14:24:47,327]\u001b[0m Trial 187 finished with value: 29875.484564164126 and parameters: {'colsample_bytree': 0.4, 'subsample': 0.5, 'learning_rate': 0.36747034215024094, 'max_depth': 4, 'min_child_weight': 9}. Best is trial 183 with value: 29287.422827524246.\u001b[0m\n",
      "\u001b[32m[I 2023-10-08 14:24:47,336]\u001b[0m Trial 188 finished with value: 30059.70669334778 and parameters: {'colsample_bytree': 0.4, 'subsample': 0.5, 'learning_rate': 0.3821391494842783, 'max_depth': 4, 'min_child_weight': 9}. Best is trial 183 with value: 29287.422827524246.\u001b[0m\n",
      "\u001b[32m[I 2023-10-08 14:24:47,528]\u001b[0m Trial 189 finished with value: 29794.486032457928 and parameters: {'colsample_bytree': 0.7, 'subsample': 0.5, 'learning_rate': 0.38405308414839706, 'max_depth': 14, 'min_child_weight': 22}. Best is trial 183 with value: 29287.422827524246.\u001b[0m\n",
      "\u001b[32m[I 2023-10-08 14:24:47,563]\u001b[0m Trial 190 finished with value: 30423.74800678523 and parameters: {'colsample_bytree': 0.7, 'subsample': 0.5, 'learning_rate': 0.38987888453876063, 'max_depth': 14, 'min_child_weight': 9}. Best is trial 183 with value: 29287.422827524246.\u001b[0m\n",
      "\u001b[32m[I 2023-10-08 14:24:47,591]\u001b[0m Trial 191 finished with value: 29896.294072412613 and parameters: {'colsample_bytree': 0.7, 'subsample': 0.5, 'learning_rate': 0.39409946319375205, 'max_depth': 14, 'min_child_weight': 23}. Best is trial 183 with value: 29287.422827524246.\u001b[0m\n",
      "\u001b[32m[I 2023-10-08 14:24:47,618]\u001b[0m Trial 192 finished with value: 30074.75505382631 and parameters: {'colsample_bytree': 0.7, 'subsample': 0.5, 'learning_rate': 0.39195076434982445, 'max_depth': 14, 'min_child_weight': 23}. Best is trial 183 with value: 29287.422827524246.\u001b[0m\n",
      "\u001b[32m[I 2023-10-08 14:24:47,685]\u001b[0m Trial 193 finished with value: 35875.68473718721 and parameters: {'colsample_bytree': 0.7, 'subsample': 0.5, 'learning_rate': 0.1823222476589352, 'max_depth': 4, 'min_child_weight': 21}. Best is trial 183 with value: 29287.422827524246.\u001b[0m\n",
      "\u001b[32m[I 2023-10-08 14:24:47,697]\u001b[0m Trial 194 finished with value: 35974.16551209906 and parameters: {'colsample_bytree': 0.7, 'subsample': 0.5, 'learning_rate': 0.18377338866757972, 'max_depth': 4, 'min_child_weight': 22}. Best is trial 183 with value: 29287.422827524246.\u001b[0m\n",
      "\u001b[32m[I 2023-10-08 14:24:47,752]\u001b[0m Trial 196 finished with value: 36408.72425948324 and parameters: {'colsample_bytree': 0.7, 'subsample': 0.5, 'learning_rate': 0.180166160094149, 'max_depth': 4, 'min_child_weight': 22}. Best is trial 183 with value: 29287.422827524246.\u001b[0m\n",
      "\u001b[32m[I 2023-10-08 14:24:47,772]\u001b[0m Trial 195 finished with value: 29848.241165602343 and parameters: {'colsample_bytree': 0.7, 'subsample': 0.5, 'learning_rate': 0.3782855907907373, 'max_depth': 4, 'min_child_weight': 21}. Best is trial 183 with value: 29287.422827524246.\u001b[0m\n",
      "\u001b[32m[I 2023-10-08 14:24:47,962]\u001b[0m Trial 197 finished with value: 30519.325696865282 and parameters: {'colsample_bytree': 0.7, 'subsample': 0.5, 'learning_rate': 0.34830323438175936, 'max_depth': 13, 'min_child_weight': 29}. Best is trial 183 with value: 29287.422827524246.\u001b[0m\n",
      "\u001b[32m[I 2023-10-08 14:24:48,009]\u001b[0m Trial 198 finished with value: 30521.346725808027 and parameters: {'colsample_bytree': 0.7, 'subsample': 0.5, 'learning_rate': 0.3474074536359234, 'max_depth': 13, 'min_child_weight': 29}. Best is trial 183 with value: 29287.422827524246.\u001b[0m\n",
      "\u001b[32m[I 2023-10-08 14:24:48,009]\u001b[0m Trial 199 finished with value: 30020.529697885824 and parameters: {'colsample_bytree': 0.7, 'subsample': 0.5, 'learning_rate': 0.3418114244201875, 'max_depth': 13, 'min_child_weight': 28}. Best is trial 183 with value: 29287.422827524246.\u001b[0m\n",
      "\u001b[32m[I 2023-10-08 14:24:48,072]\u001b[0m Trial 200 finished with value: 37372.67325651505 and parameters: {'colsample_bytree': 0.7, 'subsample': 0.5, 'learning_rate': 0.17422399162749033, 'max_depth': 13, 'min_child_weight': 29}. Best is trial 183 with value: 29287.422827524246.\u001b[0m\n",
      "\u001b[32m[I 2023-10-08 14:24:48,127]\u001b[0m Trial 202 finished with value: 30256.58347917187 and parameters: {'colsample_bytree': 0.7, 'subsample': 0.5, 'learning_rate': 0.3515721083089774, 'max_depth': 13, 'min_child_weight': 30}. Best is trial 183 with value: 29287.422827524246.\u001b[0m\n",
      "\u001b[32m[I 2023-10-08 14:24:48,143]\u001b[0m Trial 201 finished with value: 29645.872447304093 and parameters: {'colsample_bytree': 0.7, 'subsample': 0.5, 'learning_rate': 0.34271367641448136, 'max_depth': 13, 'min_child_weight': 14}. Best is trial 183 with value: 29287.422827524246.\u001b[0m\n",
      "\u001b[32m[I 2023-10-08 14:24:48,228]\u001b[0m Trial 203 finished with value: 31164.96809884322 and parameters: {'colsample_bytree': 0.7, 'subsample': 0.5, 'learning_rate': 0.25766432888772695, 'max_depth': 13, 'min_child_weight': 13}. Best is trial 183 with value: 29287.422827524246.\u001b[0m\n",
      "\u001b[32m[I 2023-10-08 14:24:48,256]\u001b[0m Trial 204 finished with value: 30820.6900289881 and parameters: {'colsample_bytree': 0.7, 'subsample': 0.5, 'learning_rate': 0.26356878878386675, 'max_depth': 14, 'min_child_weight': 13}. Best is trial 183 with value: 29287.422827524246.\u001b[0m\n",
      "\u001b[32m[I 2023-10-08 14:24:48,426]\u001b[0m Trial 205 finished with value: 30924.805945117027 and parameters: {'colsample_bytree': 0.7, 'subsample': 0.5, 'learning_rate': 0.2520175700113738, 'max_depth': 14, 'min_child_weight': 14}. Best is trial 183 with value: 29287.422827524246.\u001b[0m\n",
      "\u001b[32m[I 2023-10-08 14:24:48,437]\u001b[0m Trial 207 finished with value: 30436.597754167065 and parameters: {'colsample_bytree': 0.7, 'subsample': 0.5, 'learning_rate': 0.26209906306562697, 'max_depth': 14, 'min_child_weight': 14}. Best is trial 183 with value: 29287.422827524246.\u001b[0m\n",
      "\u001b[32m[I 2023-10-08 14:24:48,465]\u001b[0m Trial 206 finished with value: 30677.333566569763 and parameters: {'colsample_bytree': 0.7, 'subsample': 0.5, 'learning_rate': 0.25931294239305436, 'max_depth': 14, 'min_child_weight': 14}. Best is trial 183 with value: 29287.422827524246.\u001b[0m\n",
      "\u001b[32m[I 2023-10-08 14:24:48,516]\u001b[0m Trial 208 finished with value: 30782.646490414027 and parameters: {'colsample_bytree': 0.7, 'subsample': 0.5, 'learning_rate': 0.2657856500635042, 'max_depth': 14, 'min_child_weight': 20}. Best is trial 183 with value: 29287.422827524246.\u001b[0m\n",
      "\u001b[32m[I 2023-10-08 14:24:48,618]\u001b[0m Trial 210 finished with value: 30636.630023793987 and parameters: {'colsample_bytree': 0.7, 'subsample': 0.5, 'learning_rate': 0.2630296576897876, 'max_depth': 14, 'min_child_weight': 21}. Best is trial 183 with value: 29287.422827524246.\u001b[0m\n"
     ]
    },
    {
     "name": "stderr",
     "output_type": "stream",
     "text": [
      "\u001b[32m[I 2023-10-08 14:24:48,618]\u001b[0m Trial 209 finished with value: 31005.43986583292 and parameters: {'colsample_bytree': 0.7, 'subsample': 0.5, 'learning_rate': 0.25688988403526686, 'max_depth': 14, 'min_child_weight': 20}. Best is trial 183 with value: 29287.422827524246.\u001b[0m\n",
      "\u001b[32m[I 2023-10-08 14:24:48,750]\u001b[0m Trial 211 finished with value: 30675.389332415016 and parameters: {'colsample_bytree': 0.7, 'subsample': 0.5, 'learning_rate': 0.27066938012797775, 'max_depth': 14, 'min_child_weight': 22}. Best is trial 183 with value: 29287.422827524246.\u001b[0m\n",
      "\u001b[32m[I 2023-10-08 14:24:48,757]\u001b[0m Trial 212 finished with value: 30658.682330935448 and parameters: {'colsample_bytree': 0.7, 'subsample': 0.5, 'learning_rate': 0.26956159743698827, 'max_depth': 14, 'min_child_weight': 21}. Best is trial 183 with value: 29287.422827524246.\u001b[0m\n",
      "\u001b[32m[I 2023-10-08 14:24:48,938]\u001b[0m Trial 215 finished with value: 65816.24313373186 and parameters: {'colsample_bytree': 0.7, 'subsample': 0.5, 'learning_rate': 0.08187450167439057, 'max_depth': 12, 'min_child_weight': 7}. Best is trial 183 with value: 29287.422827524246.\u001b[0m\n",
      "\u001b[32m[I 2023-10-08 14:24:48,986]\u001b[0m Trial 213 finished with value: 30830.600707237227 and parameters: {'colsample_bytree': 0.7, 'subsample': 0.5, 'learning_rate': 0.3930789294159641, 'max_depth': 13, 'min_child_weight': 8}. Best is trial 183 with value: 29287.422827524246.\u001b[0m\n",
      "\u001b[32m[I 2023-10-08 14:24:48,993]\u001b[0m Trial 214 finished with value: 30427.682725739 and parameters: {'colsample_bytree': 0.7, 'subsample': 0.5, 'learning_rate': 0.3312108454918877, 'max_depth': 13, 'min_child_weight': 7}. Best is trial 183 with value: 29287.422827524246.\u001b[0m\n",
      "\u001b[32m[I 2023-10-08 14:24:49,105]\u001b[0m Trial 216 finished with value: 29789.163538225264 and parameters: {'colsample_bytree': 0.7, 'subsample': 0.5, 'learning_rate': 0.3256102224144995, 'max_depth': 4, 'min_child_weight': 7}. Best is trial 183 with value: 29287.422827524246.\u001b[0m\n",
      "\u001b[32m[I 2023-10-08 14:24:49,194]\u001b[0m Trial 217 finished with value: 30656.0856073327 and parameters: {'colsample_bytree': 0.7, 'subsample': 0.5, 'learning_rate': 0.4057301546075089, 'max_depth': 12, 'min_child_weight': 8}. Best is trial 183 with value: 29287.422827524246.\u001b[0m\n",
      "\u001b[32m[I 2023-10-08 14:24:49,252]\u001b[0m Trial 218 finished with value: 30827.19071999283 and parameters: {'colsample_bytree': 0.7, 'subsample': 0.5, 'learning_rate': 0.38901659694918206, 'max_depth': 12, 'min_child_weight': 10}. Best is trial 183 with value: 29287.422827524246.\u001b[0m\n",
      "\u001b[32m[I 2023-10-08 14:24:49,308]\u001b[0m Trial 219 finished with value: 29751.879809618702 and parameters: {'colsample_bytree': 0.4, 'subsample': 0.5, 'learning_rate': 0.38557015773160197, 'max_depth': 4, 'min_child_weight': 14}. Best is trial 183 with value: 29287.422827524246.\u001b[0m\n",
      "\u001b[32m[I 2023-10-08 14:24:49,403]\u001b[0m Trial 220 finished with value: 125656.09645501227 and parameters: {'colsample_bytree': 0.4, 'subsample': 0.5, 'learning_rate': 0.00979466032359605, 'max_depth': 4, 'min_child_weight': 8}. Best is trial 183 with value: 29287.422827524246.\u001b[0m\n",
      "\u001b[32m[I 2023-10-08 14:24:49,528]\u001b[0m Trial 221 finished with value: 29729.22675313886 and parameters: {'colsample_bytree': 0.5, 'subsample': 0.6, 'learning_rate': 0.40023826595568046, 'max_depth': 4, 'min_child_weight': 25}. Best is trial 183 with value: 29287.422827524246.\u001b[0m\n",
      "\u001b[32m[I 2023-10-08 14:24:49,593]\u001b[0m Trial 222 finished with value: 29817.51244450323 and parameters: {'colsample_bytree': 0.5, 'subsample': 0.6, 'learning_rate': 0.3976173673969613, 'max_depth': 4, 'min_child_weight': 26}. Best is trial 183 with value: 29287.422827524246.\u001b[0m\n",
      "\u001b[32m[I 2023-10-08 14:24:49,593]\u001b[0m Trial 223 finished with value: 30220.449799929127 and parameters: {'colsample_bytree': 0.4, 'subsample': 0.6, 'learning_rate': 0.3982410234540738, 'max_depth': 4, 'min_child_weight': 15}. Best is trial 183 with value: 29287.422827524246.\u001b[0m\n",
      "\u001b[32m[I 2023-10-08 14:24:49,647]\u001b[0m Trial 224 finished with value: 128257.15598119861 and parameters: {'colsample_bytree': 0.4, 'subsample': 0.6, 'learning_rate': 0.007545693680115558, 'max_depth': 4, 'min_child_weight': 17}. Best is trial 183 with value: 29287.422827524246.\u001b[0m\n",
      "\u001b[32m[I 2023-10-08 14:24:49,795]\u001b[0m Trial 225 finished with value: 30398.481886791713 and parameters: {'colsample_bytree': 0.4, 'subsample': 0.6, 'learning_rate': 0.3344358088164318, 'max_depth': 4, 'min_child_weight': 25}. Best is trial 183 with value: 29287.422827524246.\u001b[0m\n",
      "\u001b[32m[I 2023-10-08 14:24:49,861]\u001b[0m Trial 226 finished with value: 135583.72886558413 and parameters: {'colsample_bytree': 0.4, 'subsample': 1.0, 'learning_rate': 0.0014790460049386956, 'max_depth': 4, 'min_child_weight': 25}. Best is trial 183 with value: 29287.422827524246.\u001b[0m\n",
      "\u001b[32m[I 2023-10-08 14:24:49,926]\u001b[0m Trial 227 finished with value: 29960.127955031447 and parameters: {'colsample_bytree': 0.5, 'subsample': 0.6, 'learning_rate': 0.3342166074287077, 'max_depth': 4, 'min_child_weight': 26}. Best is trial 183 with value: 29287.422827524246.\u001b[0m\n",
      "\u001b[32m[I 2023-10-08 14:24:49,982]\u001b[0m Trial 228 finished with value: 30709.37436348128 and parameters: {'colsample_bytree': 0.4, 'subsample': 0.5, 'learning_rate': 0.3299914581987027, 'max_depth': 4, 'min_child_weight': 24}. Best is trial 183 with value: 29287.422827524246.\u001b[0m\n",
      "\u001b[32m[I 2023-10-08 14:24:50,076]\u001b[0m Trial 229 finished with value: 29951.57570935929 and parameters: {'colsample_bytree': 0.5, 'subsample': 0.6, 'learning_rate': 0.3354734691943147, 'max_depth': 4, 'min_child_weight': 26}. Best is trial 183 with value: 29287.422827524246.\u001b[0m\n",
      "\u001b[32m[I 2023-10-08 14:24:50,134]\u001b[0m Trial 230 finished with value: 30704.87803584277 and parameters: {'colsample_bytree': 0.5, 'subsample': 0.6, 'learning_rate': 0.34045293099001583, 'max_depth': 4, 'min_child_weight': 32}. Best is trial 183 with value: 29287.422827524246.\u001b[0m\n",
      "\u001b[32m[I 2023-10-08 14:24:50,160]\u001b[0m Trial 231 finished with value: 29981.509185585735 and parameters: {'colsample_bytree': 0.5, 'subsample': 0.6, 'learning_rate': 0.33284179702052846, 'max_depth': 4, 'min_child_weight': 27}. Best is trial 183 with value: 29287.422827524246.\u001b[0m\n",
      "\u001b[32m[I 2023-10-08 14:24:50,196]\u001b[0m Trial 232 finished with value: 30929.160946595148 and parameters: {'colsample_bytree': 0.5, 'subsample': 0.6, 'learning_rate': 0.33811174317452747, 'max_depth': 4, 'min_child_weight': 35}. Best is trial 183 with value: 29287.422827524246.\u001b[0m\n",
      "\u001b[32m[I 2023-10-08 14:24:50,292]\u001b[0m Trial 233 finished with value: 88078.04539655836 and parameters: {'colsample_bytree': 0.5, 'subsample': 0.6, 'learning_rate': 0.04933938853736526, 'max_depth': 4, 'min_child_weight': 33}. Best is trial 183 with value: 29287.422827524246.\u001b[0m\n",
      "\u001b[32m[I 2023-10-08 14:24:50,381]\u001b[0m Trial 234 finished with value: 30653.137265722362 and parameters: {'colsample_bytree': 0.5, 'subsample': 0.6, 'learning_rate': 0.32735793227803545, 'max_depth': 4, 'min_child_weight': 34}. Best is trial 183 with value: 29287.422827524246.\u001b[0m\n",
      "\u001b[32m[I 2023-10-08 14:24:50,447]\u001b[0m Trial 235 finished with value: 98526.16295247951 and parameters: {'colsample_bytree': 0.5, 'subsample': 0.6, 'learning_rate': 0.036432452684632494, 'max_depth': 4, 'min_child_weight': 17}. Best is trial 183 with value: 29287.422827524246.\u001b[0m\n",
      "\u001b[32m[I 2023-10-08 14:24:50,480]\u001b[0m Trial 236 finished with value: 108158.15793781794 and parameters: {'colsample_bytree': 0.5, 'subsample': 0.6, 'learning_rate': 0.026159945528294436, 'max_depth': 4, 'min_child_weight': 18}. Best is trial 183 with value: 29287.422827524246.\u001b[0m\n",
      "\u001b[32m[I 2023-10-08 14:24:50,577]\u001b[0m Trial 237 finished with value: 83281.9208791583 and parameters: {'colsample_bytree': 0.5, 'subsample': 0.6, 'learning_rate': 0.055241256506377595, 'max_depth': 4, 'min_child_weight': 16}. Best is trial 183 with value: 29287.422827524246.\u001b[0m\n",
      "\u001b[32m[I 2023-10-08 14:24:50,612]\u001b[0m Trial 238 finished with value: 134841.329499706 and parameters: {'colsample_bytree': 0.5, 'subsample': 0.6, 'learning_rate': 0.0020927296118743517, 'max_depth': 4, 'min_child_weight': 17}. Best is trial 183 with value: 29287.422827524246.\u001b[0m\n",
      "\u001b[32m[I 2023-10-08 14:24:50,641]\u001b[0m Trial 239 finished with value: 102144.3991626567 and parameters: {'colsample_bytree': 0.5, 'subsample': 0.6, 'learning_rate': 0.03325778569033751, 'max_depth': 4, 'min_child_weight': 278}. Best is trial 183 with value: 29287.422827524246.\u001b[0m\n"
     ]
    },
    {
     "name": "stderr",
     "output_type": "stream",
     "text": [
      "\u001b[32m[I 2023-10-08 14:24:50,697]\u001b[0m Trial 240 finished with value: 56154.73670973227 and parameters: {'colsample_bytree': 0.5, 'subsample': 0.6, 'learning_rate': 0.10338240480985159, 'max_depth': 4, 'min_child_weight': 16}. Best is trial 183 with value: 29287.422827524246.\u001b[0m\n",
      "\u001b[32m[I 2023-10-08 14:24:50,784]\u001b[0m Trial 241 finished with value: 29732.688776967163 and parameters: {'colsample_bytree': 0.5, 'subsample': 0.6, 'learning_rate': 0.4125058503680016, 'max_depth': 3, 'min_child_weight': 26}. Best is trial 183 with value: 29287.422827524246.\u001b[0m\n",
      "\u001b[32m[I 2023-10-08 14:24:50,939]\u001b[0m Trial 242 finished with value: 29788.970417172837 and parameters: {'colsample_bytree': 0.5, 'subsample': 0.6, 'learning_rate': 0.3841804018883683, 'max_depth': 3, 'min_child_weight': 27}. Best is trial 183 with value: 29287.422827524246.\u001b[0m\n",
      "\u001b[32m[I 2023-10-08 14:24:50,952]\u001b[0m Trial 243 finished with value: 114944.92771641111 and parameters: {'colsample_bytree': 0.5, 'subsample': 0.6, 'learning_rate': 0.01956193509497208, 'max_depth': 3, 'min_child_weight': 27}. Best is trial 183 with value: 29287.422827524246.\u001b[0m\n",
      "\u001b[32m[I 2023-10-08 14:24:51,028]\u001b[0m Trial 244 finished with value: 29747.037139876265 and parameters: {'colsample_bytree': 0.5, 'subsample': 0.6, 'learning_rate': 0.400495098602259, 'max_depth': 3, 'min_child_weight': 28}. Best is trial 183 with value: 29287.422827524246.\u001b[0m\n",
      "\u001b[32m[I 2023-10-08 14:24:51,063]\u001b[0m Trial 245 finished with value: 134680.32215712257 and parameters: {'colsample_bytree': 0.5, 'subsample': 0.6, 'learning_rate': 0.0022302926868768944, 'max_depth': 3, 'min_child_weight': 27}. Best is trial 183 with value: 29287.422827524246.\u001b[0m\n",
      "\u001b[32m[I 2023-10-08 14:24:51,092]\u001b[0m Trial 246 finished with value: 32383.70315741143 and parameters: {'colsample_bytree': 0.5, 'subsample': 0.6, 'learning_rate': 0.4054930709088376, 'max_depth': 3, 'min_child_weight': 229}. Best is trial 183 with value: 29287.422827524246.\u001b[0m\n",
      "\u001b[32m[I 2023-10-08 14:24:51,100]\u001b[0m Trial 247 finished with value: 29692.99456289858 and parameters: {'colsample_bytree': 0.5, 'subsample': 0.6, 'learning_rate': 0.40619763591745667, 'max_depth': 3, 'min_child_weight': 26}. Best is trial 183 with value: 29287.422827524246.\u001b[0m\n",
      "\u001b[32m[I 2023-10-08 14:24:51,109]\u001b[0m Trial 248 finished with value: 32389.607510626258 and parameters: {'colsample_bytree': 0.5, 'subsample': 0.6, 'learning_rate': 0.4075000328318335, 'max_depth': 4, 'min_child_weight': 223}. Best is trial 183 with value: 29287.422827524246.\u001b[0m\n",
      "\u001b[32m[I 2023-10-08 14:24:51,116]\u001b[0m Trial 249 finished with value: 29724.607324263197 and parameters: {'colsample_bytree': 0.5, 'subsample': 0.6, 'learning_rate': 0.40262497114777507, 'max_depth': 3, 'min_child_weight': 27}. Best is trial 183 with value: 29287.422827524246.\u001b[0m\n"
     ]
    }
   ],
   "source": [
    "study = optuna.create_study(direction=\"minimize\")\n",
    "study.optimize(objective, n_trials=250, n_jobs=-1)"
   ]
  },
  {
   "cell_type": "code",
   "execution_count": 14,
   "id": "4955c851",
   "metadata": {},
   "outputs": [
    {
     "name": "stdout",
     "output_type": "stream",
     "text": [
      "Optimized RMSE: 29287.4228\n",
      "Best params:\n",
      "\tcolsample_bytree: 0.4\n",
      "\tsubsample: 0.5\n",
      "\tlearning_rate: 0.3793048789303307\n",
      "\tmax_depth: 15\n",
      "\tmin_child_weight: 7\n"
     ]
    }
   ],
   "source": [
    "print(f\"Optimized RMSE: {study.best_value:.4f}\")\n",
    "print(\"Best params:\")\n",
    "for key, value in study.best_params.items():\n",
    "    print(f\"\\t{key}: {value}\")"
   ]
  },
  {
   "cell_type": "code",
   "execution_count": 15,
   "id": "f88ca3b4",
   "metadata": {},
   "outputs": [
    {
     "name": "stdout",
     "output_type": "stream",
     "text": [
      "{'TestDeger': 37466.167257092995, 'MSE': 1168503269.7887123, 'RMSE': 34183.37709748281, 'MAE': 25983.666026659605}\n"
     ]
    }
   ],
   "source": [
    "model = XGBRegressor(objective=\"reg:squarederror\",use_label_encoder=False)\n",
    "\n",
    "\n",
    "final_model = model.set_params(**study.best_params).fit(X_train,y_train)\n",
    "    \n",
    "cv_results = cross_validate(final_model,\n",
    "                            X_train, y_train,\n",
    "                            cv=5,\n",
    "                            scoring=\"neg_mean_squared_error\")\n",
    "    \n",
    "y_pred = final_model.predict(X_test)\n",
    "\n",
    "rmse = (np.sqrt(-cv_results['test_score'])).mean()\n",
    "data_list = {\"TestDeger\": rmse,\n",
    "             \"MSE\":mean_squared_error(y_test, y_pred),\n",
    "             \"RMSE\": (np.sqrt(mean_squared_error(y_test, y_pred))),\n",
    "             \"MAE\": mean_absolute_error(y_test, y_pred)}\n",
    "\n",
    "print(data_list)"
   ]
  },
  {
   "cell_type": "code",
   "execution_count": 16,
   "id": "7f4ad0bd",
   "metadata": {},
   "outputs": [
    {
     "data": {
      "text/plain": [
       "0.2332310534444676"
      ]
     },
     "execution_count": 16,
     "metadata": {},
     "output_type": "execute_result"
    }
   ],
   "source": [
    "r2 = r2_score(y_test, y_pred)\n",
    "r2"
   ]
  },
  {
   "cell_type": "code",
   "execution_count": 17,
   "id": "4ebb366e",
   "metadata": {},
   "outputs": [
    {
     "data": {
      "text/plain": [
       "0.21548763980516605"
      ]
     },
     "execution_count": 17,
     "metadata": {},
     "output_type": "execute_result"
    }
   ],
   "source": [
    "n= len(X_train)\n",
    "p =len(X.columns)\n",
    "adj_R2 = 1- ((1-r2) * (n-1)/(n-p-1))\n",
    "adj_R2"
   ]
  },
  {
   "cell_type": "code",
   "execution_count": 18,
   "id": "afcb6239",
   "metadata": {},
   "outputs": [],
   "source": [
    "marka_model = joblib.dump(final_model, \"Tofaş.pkl\")"
   ]
  },
  {
   "cell_type": "code",
   "execution_count": 19,
   "id": "c60f66fc",
   "metadata": {},
   "outputs": [
    {
     "data": {
      "image/png": "[encoded data removed]",
      "text/plain": [
       "<Figure size 700x700 with 1 Axes>"
      ]
     },
     "metadata": {},
     "output_type": "display_data"
    }
   ],
   "source": [
    "def plot_importance(model, features, num=len(X), save=False):\n",
    "    feature_imp = pd.DataFrame({\"Value\": model.feature_importances_, \"Feature\": features.columns})\n",
    "    plt.figure(figsize=(7, 7))\n",
    "    sns.set(font_scale=1)\n",
    "    sns.barplot(x=\"Value\", y=\"Feature\", data=feature_imp.sort_values(by=\"Value\", ascending=False)[0:15])\n",
    "    plt.title(\"Features\")\n",
    "    plt.tight_layout()\n",
    "    plt.show()\n",
    "    if save:\n",
    "        plt.savefig(\"importances.png\")\n",
    "plot_importance(final_model,X)"
   ]
  },
  {
   "cell_type": "code",
   "execution_count": null,
   "id": "e2b387bc",
   "metadata": {},
   "outputs": [],
   "source": []
  },
  {
   "cell_type": "code",
   "execution_count": 20,
   "id": "c3d984cb",
   "metadata": {},
   "outputs": [
    {
     "data": {
      "text/plain": [
       "(1770, 29)"
      ]
     },
     "execution_count": 20,
     "metadata": {},
     "output_type": "execute_result"
    }
   ],
   "source": [
    "df2.shape"
   ]
  },
  {
   "cell_type": "code",
   "execution_count": 21,
   "id": "2ac512e9",
   "metadata": {},
   "outputs": [],
   "source": [
    "y_test2 = list(y_test)"
   ]
  },
  {
   "cell_type": "code",
   "execution_count": 22,
   "id": "d3a108c8",
   "metadata": {},
   "outputs": [],
   "source": [
    "df3 = pd.DataFrame(list(zip(y_test, y_pred,(y_pred-y_test))),\n",
    "               columns =['test', 'pred',\"fark\"])"
   ]
  },
  {
   "cell_type": "code",
   "execution_count": 23,
   "id": "67b7d162",
   "metadata": {},
   "outputs": [
    {
     "data": {
      "text/html": [
       "<div>\n",
       "<style scoped>\n",
       "    .dataframe tbody tr th:only-of-type {\n",
       "        vertical-align: middle;\n",
       "    }\n",
       "\n",
       "    .dataframe tbody tr th {\n",
       "        vertical-align: top;\n",
       "    }\n",
       "\n",
       "    .dataframe thead th {\n",
       "        text-align: right;\n",
       "    }\n",
       "</style>\n",
       "<table border=\"1\" class=\"dataframe\">\n",
       "  <thead>\n",
       "    <tr style=\"text-align: right;\">\n",
       "      <th></th>\n",
       "      <th>test</th>\n",
       "      <th>pred</th>\n",
       "      <th>fark</th>\n",
       "    </tr>\n",
       "  </thead>\n",
       "  <tbody>\n",
       "    <tr>\n",
       "      <th>0</th>\n",
       "      <td>70000</td>\n",
       "      <td>90572.992188</td>\n",
       "      <td>20572.992188</td>\n",
       "    </tr>\n",
       "    <tr>\n",
       "      <th>1</th>\n",
       "      <td>150000</td>\n",
       "      <td>103583.648438</td>\n",
       "      <td>-46416.351562</td>\n",
       "    </tr>\n",
       "    <tr>\n",
       "      <th>2</th>\n",
       "      <td>167000</td>\n",
       "      <td>161818.781250</td>\n",
       "      <td>-5181.218750</td>\n",
       "    </tr>\n",
       "    <tr>\n",
       "      <th>3</th>\n",
       "      <td>130000</td>\n",
       "      <td>118464.250000</td>\n",
       "      <td>-11535.750000</td>\n",
       "    </tr>\n",
       "    <tr>\n",
       "      <th>4</th>\n",
       "      <td>79500</td>\n",
       "      <td>108364.710938</td>\n",
       "      <td>28864.710938</td>\n",
       "    </tr>\n",
       "    <tr>\n",
       "      <th>5</th>\n",
       "      <td>155000</td>\n",
       "      <td>102718.148438</td>\n",
       "      <td>-52281.851562</td>\n",
       "    </tr>\n",
       "    <tr>\n",
       "      <th>6</th>\n",
       "      <td>112000</td>\n",
       "      <td>136043.375000</td>\n",
       "      <td>24043.375000</td>\n",
       "    </tr>\n",
       "    <tr>\n",
       "      <th>7</th>\n",
       "      <td>187500</td>\n",
       "      <td>162391.984375</td>\n",
       "      <td>-25108.015625</td>\n",
       "    </tr>\n",
       "    <tr>\n",
       "      <th>8</th>\n",
       "      <td>113000</td>\n",
       "      <td>55713.585938</td>\n",
       "      <td>-57286.414062</td>\n",
       "    </tr>\n",
       "    <tr>\n",
       "      <th>9</th>\n",
       "      <td>135000</td>\n",
       "      <td>206209.796875</td>\n",
       "      <td>71209.796875</td>\n",
       "    </tr>\n",
       "    <tr>\n",
       "      <th>10</th>\n",
       "      <td>220000</td>\n",
       "      <td>197960.609375</td>\n",
       "      <td>-22039.390625</td>\n",
       "    </tr>\n",
       "    <tr>\n",
       "      <th>11</th>\n",
       "      <td>92000</td>\n",
       "      <td>116317.398438</td>\n",
       "      <td>24317.398438</td>\n",
       "    </tr>\n",
       "    <tr>\n",
       "      <th>12</th>\n",
       "      <td>200000</td>\n",
       "      <td>269861.500000</td>\n",
       "      <td>69861.500000</td>\n",
       "    </tr>\n",
       "    <tr>\n",
       "      <th>13</th>\n",
       "      <td>76750</td>\n",
       "      <td>115738.820312</td>\n",
       "      <td>38988.820312</td>\n",
       "    </tr>\n",
       "    <tr>\n",
       "      <th>14</th>\n",
       "      <td>170000</td>\n",
       "      <td>140104.000000</td>\n",
       "      <td>-29896.000000</td>\n",
       "    </tr>\n",
       "  </tbody>\n",
       "</table>\n",
       "</div>"
      ],
      "text/plain": [
       "      test           pred          fark\n",
       "0    70000   90572.992188  20572.992188\n",
       "1   150000  103583.648438 -46416.351562\n",
       "2   167000  161818.781250  -5181.218750\n",
       "3   130000  118464.250000 -11535.750000\n",
       "4    79500  108364.710938  28864.710938\n",
       "5   155000  102718.148438 -52281.851562\n",
       "6   112000  136043.375000  24043.375000\n",
       "7   187500  162391.984375 -25108.015625\n",
       "8   113000   55713.585938 -57286.414062\n",
       "9   135000  206209.796875  71209.796875\n",
       "10  220000  197960.609375 -22039.390625\n",
       "11   92000  116317.398438  24317.398438\n",
       "12  200000  269861.500000  69861.500000\n",
       "13   76750  115738.820312  38988.820312\n",
       "14  170000  140104.000000 -29896.000000"
      ]
     },
     "execution_count": 23,
     "metadata": {},
     "output_type": "execute_result"
    }
   ],
   "source": [
    "df3.head(15)"
   ]
  },
  {
   "cell_type": "code",
   "execution_count": 24,
   "id": "d30d8bef",
   "metadata": {},
   "outputs": [
    {
     "data": {
      "text/html": [
       "<div>\n",
       "<style scoped>\n",
       "    .dataframe tbody tr th:only-of-type {\n",
       "        vertical-align: middle;\n",
       "    }\n",
       "\n",
       "    .dataframe tbody tr th {\n",
       "        vertical-align: top;\n",
       "    }\n",
       "\n",
       "    .dataframe thead th {\n",
       "        text-align: right;\n",
       "    }\n",
       "</style>\n",
       "<table border=\"1\" class=\"dataframe\">\n",
       "  <thead>\n",
       "    <tr style=\"text-align: right;\">\n",
       "      <th></th>\n",
       "      <th>count</th>\n",
       "      <th>mean</th>\n",
       "      <th>std</th>\n",
       "      <th>min</th>\n",
       "      <th>5%</th>\n",
       "      <th>25%</th>\n",
       "      <th>50%</th>\n",
       "      <th>75%</th>\n",
       "      <th>90%</th>\n",
       "      <th>99%</th>\n",
       "      <th>max</th>\n",
       "    </tr>\n",
       "  </thead>\n",
       "  <tbody>\n",
       "    <tr>\n",
       "      <th>test</th>\n",
       "      <td>531.0</td>\n",
       "      <td>131800.286252</td>\n",
       "      <td>39074.374422</td>\n",
       "      <td>60000.000000</td>\n",
       "      <td>77875.000000</td>\n",
       "      <td>104999.500000</td>\n",
       "      <td>128000.000000</td>\n",
       "      <td>155000.000000</td>\n",
       "      <td>179000.000000</td>\n",
       "      <td>250000.000000</td>\n",
       "      <td>325000.0</td>\n",
       "    </tr>\n",
       "    <tr>\n",
       "      <th>pred</th>\n",
       "      <td>531.0</td>\n",
       "      <td>130605.875000</td>\n",
       "      <td>34334.847656</td>\n",
       "      <td>33276.507812</td>\n",
       "      <td>79324.847656</td>\n",
       "      <td>107200.093750</td>\n",
       "      <td>128655.148438</td>\n",
       "      <td>151810.710938</td>\n",
       "      <td>172912.671875</td>\n",
       "      <td>224227.214063</td>\n",
       "      <td>269861.5</td>\n",
       "    </tr>\n",
       "    <tr>\n",
       "      <th>fark</th>\n",
       "      <td>531.0</td>\n",
       "      <td>-1194.409877</td>\n",
       "      <td>34194.717227</td>\n",
       "      <td>-170666.046875</td>\n",
       "      <td>-57349.863281</td>\n",
       "      <td>-20982.035156</td>\n",
       "      <td>560.875000</td>\n",
       "      <td>20629.992188</td>\n",
       "      <td>38296.468750</td>\n",
       "      <td>74678.471875</td>\n",
       "      <td>101633.0</td>\n",
       "    </tr>\n",
       "  </tbody>\n",
       "</table>\n",
       "</div>"
      ],
      "text/plain": [
       "      count           mean           std            min            5%  \\\n",
       "test  531.0  131800.286252  39074.374422   60000.000000  77875.000000   \n",
       "pred  531.0  130605.875000  34334.847656   33276.507812  79324.847656   \n",
       "fark  531.0   -1194.409877  34194.717227 -170666.046875 -57349.863281   \n",
       "\n",
       "                25%            50%            75%            90%  \\\n",
       "test  104999.500000  128000.000000  155000.000000  179000.000000   \n",
       "pred  107200.093750  128655.148438  151810.710938  172912.671875   \n",
       "fark  -20982.035156     560.875000   20629.992188   38296.468750   \n",
       "\n",
       "                99%       max  \n",
       "test  250000.000000  325000.0  \n",
       "pred  224227.214063  269861.5  \n",
       "fark   74678.471875  101633.0  "
      ]
     },
     "execution_count": 24,
     "metadata": {},
     "output_type": "execute_result"
    }
   ],
   "source": [
    "df3.describe([0.05,0.25, 0.75,0.90,0.99]).T"
   ]
  },
  {
   "cell_type": "code",
   "execution_count": 25,
   "id": "db3d197d",
   "metadata": {},
   "outputs": [
    {
     "data": {
      "text/plain": [
       "325000"
      ]
     },
     "execution_count": 25,
     "metadata": {},
     "output_type": "execute_result"
    }
   ],
   "source": [
    "df3[\"test\"].max()"
   ]
  },
  {
   "cell_type": "code",
   "execution_count": 26,
   "id": "a84db0de",
   "metadata": {},
   "outputs": [
    {
     "data": {
      "text/plain": [
       "101633.0"
      ]
     },
     "execution_count": 26,
     "metadata": {},
     "output_type": "execute_result"
    }
   ],
   "source": [
    "df3[\"fark\"].max()"
   ]
  },
  {
   "cell_type": "code",
   "execution_count": 27,
   "id": "33c040ef",
   "metadata": {},
   "outputs": [
    {
     "data": {
      "text/html": [
       "<div>\n",
       "<style scoped>\n",
       "    .dataframe tbody tr th:only-of-type {\n",
       "        vertical-align: middle;\n",
       "    }\n",
       "\n",
       "    .dataframe tbody tr th {\n",
       "        vertical-align: top;\n",
       "    }\n",
       "\n",
       "    .dataframe thead th {\n",
       "        text-align: right;\n",
       "    }\n",
       "</style>\n",
       "<table border=\"1\" class=\"dataframe\">\n",
       "  <thead>\n",
       "    <tr style=\"text-align: right;\">\n",
       "      <th></th>\n",
       "      <th>test</th>\n",
       "      <th>pred</th>\n",
       "      <th>fark</th>\n",
       "    </tr>\n",
       "  </thead>\n",
       "  <tbody>\n",
       "  </tbody>\n",
       "</table>\n",
       "</div>"
      ],
      "text/plain": [
       "Empty DataFrame\n",
       "Columns: [test, pred, fark]\n",
       "Index: []"
      ]
     },
     "execution_count": 27,
     "metadata": {},
     "output_type": "execute_result"
    }
   ],
   "source": [
    "df3[df3[\"fark\"]==109832.15625]"
   ]
  },
  {
   "cell_type": "code",
   "execution_count": 28,
   "id": "7f0893de",
   "metadata": {},
   "outputs": [
    {
     "data": {
      "text/html": [
       "<div>\n",
       "<style scoped>\n",
       "    .dataframe tbody tr th:only-of-type {\n",
       "        vertical-align: middle;\n",
       "    }\n",
       "\n",
       "    .dataframe tbody tr th {\n",
       "        vertical-align: top;\n",
       "    }\n",
       "\n",
       "    .dataframe thead th {\n",
       "        text-align: right;\n",
       "    }\n",
       "</style>\n",
       "<table border=\"1\" class=\"dataframe\">\n",
       "  <thead>\n",
       "    <tr style=\"text-align: right;\">\n",
       "      <th></th>\n",
       "      <th>test</th>\n",
       "      <th>pred</th>\n",
       "      <th>fark</th>\n",
       "    </tr>\n",
       "  </thead>\n",
       "  <tbody>\n",
       "    <tr>\n",
       "      <th>523</th>\n",
       "      <td>325000</td>\n",
       "      <td>154333.953125</td>\n",
       "      <td>-170666.046875</td>\n",
       "    </tr>\n",
       "  </tbody>\n",
       "</table>\n",
       "</div>"
      ],
      "text/plain": [
       "       test           pred           fark\n",
       "523  325000  154333.953125 -170666.046875"
      ]
     },
     "execution_count": 28,
     "metadata": {},
     "output_type": "execute_result"
    }
   ],
   "source": [
    "df3[df3[\"test\"]==325000]"
   ]
  },
  {
   "cell_type": "code",
   "execution_count": 29,
   "id": "c8a8d208",
   "metadata": {},
   "outputs": [
    {
     "data": {
      "text/html": [
       "<div>\n",
       "<style scoped>\n",
       "    .dataframe tbody tr th:only-of-type {\n",
       "        vertical-align: middle;\n",
       "    }\n",
       "\n",
       "    .dataframe tbody tr th {\n",
       "        vertical-align: top;\n",
       "    }\n",
       "\n",
       "    .dataframe thead th {\n",
       "        text-align: right;\n",
       "    }\n",
       "</style>\n",
       "<table border=\"1\" class=\"dataframe\">\n",
       "  <thead>\n",
       "    <tr style=\"text-align: right;\">\n",
       "      <th></th>\n",
       "      <th>test</th>\n",
       "      <th>pred</th>\n",
       "      <th>fark</th>\n",
       "    </tr>\n",
       "  </thead>\n",
       "  <tbody>\n",
       "  </tbody>\n",
       "</table>\n",
       "</div>"
      ],
      "text/plain": [
       "Empty DataFrame\n",
       "Columns: [test, pred, fark]\n",
       "Index: []"
      ]
     },
     "execution_count": 29,
     "metadata": {},
     "output_type": "execute_result"
    }
   ],
   "source": [
    "df3[df3[\"test\"] > 400000]"
   ]
  },
  {
   "cell_type": "code",
   "execution_count": 30,
   "id": "6167d863",
   "metadata": {},
   "outputs": [],
   "source": [
    "y_train2 = list(y_train)"
   ]
  },
  {
   "cell_type": "code",
   "execution_count": 31,
   "id": "6cf3e71c",
   "metadata": {},
   "outputs": [
    {
     "name": "stdout",
     "output_type": "stream",
     "text": [
      "500000\n",
      "440000\n"
     ]
    }
   ],
   "source": [
    "for i in y_train2:\n",
    "    if i > 400000:\n",
    "        print(i)"
   ]
  },
  {
   "cell_type": "code",
   "execution_count": null,
   "id": "20a7d3cb",
   "metadata": {},
   "outputs": [],
   "source": []
  }
 ],
 "metadata": {
  "kernelspec": {
   "display_name": "Python 3 (ipykernel)",
   "language": "python",
   "name": "python3"
  },
  "language_info": {
   "codemirror_mode": {
    "name": "ipython",
    "version": 3
   },
   "file_extension": ".py",
   "mimetype": "text/x-python",
   "name": "python",
   "nbconvert_exporter": "python",
   "pygments_lexer": "ipython3",
   "version": "3.8.8"
  }
 },
 "nbformat": 4,
 "nbformat_minor": 5
}
