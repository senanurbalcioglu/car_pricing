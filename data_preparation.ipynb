{
 "cells": [
  {
   "cell_type": "code",
   "execution_count": 1,
   "metadata": {
    "id": "my0_Lz-NdYck"
   },
   "outputs": [],
   "source": [
    "import pandas as pd\n",
    "import seaborn as sns\n",
    "import matplotlib.pyplot as plt\n",
    "import numpy as np\n",
    "from sklearn.preprocessing import RobustScaler\n",
    "from sklearn.metrics import mean_absolute_error, mean_squared_error, accuracy_score\n",
    "from xgboost import XGBRegressor\n",
    "from lightgbm import LGBMRegressor\n",
    "from sklearn.ensemble import RandomForestRegressor, GradientBoostingRegressor\n",
    "from sklearn.linear_model import LinearRegression\n",
    "from sklearn.model_selection import GridSearchCV, cross_val_score,cross_validate, RandomizedSearchCV, train_test_split"
   ]
  },
  {
   "cell_type": "code",
   "execution_count": 2,
   "metadata": {
    "id": "xPI4PH5XQf-E"
   },
   "outputs": [],
   "source": [
    "import optuna\n",
    "import xgboost as xgb"
   ]
  },
  {
   "cell_type": "code",
   "execution_count": 3,
   "metadata": {
    "id": "W6S1m2xXdjRj"
   },
   "outputs": [],
   "source": [
    "# display settings\n",
    "\n",
    "pd.set_option('display.max_columns', None)\n",
    "#pd.set_option('display.max_rows', None)\n",
    "pd.set_option('display.float_format', lambda x: '%.3f' % x)\n",
    "pd.set_option('display.expand_frame_repr', False)\n",
    "pd.set_option('display.width', 500)"
   ]
  },
  {
   "cell_type": "code",
   "execution_count": 4,
   "metadata": {
    "id": "IOLGEVT1djkv"
   },
   "outputs": [],
   "source": [
    "df = pd.read_csv(\"output.csv\", encoding=\"utf16\")"
   ]
  },
  {
   "cell_type": "code",
   "execution_count": 5,
   "metadata": {
    "id": "dadde61b"
   },
   "outputs": [],
   "source": [
    "def check_df(dataframe, head=5):\n",
    "    print(\"INFO\".center(70,'='))\n",
    "    print(dataframe.info())\n",
    "\n",
    "    print(\"SHAPE\".center(70,'='))\n",
    "    print('Rows: {}'.format(dataframe.shape[0]))\n",
    "    print('Columns: {}'.format(dataframe.shape[1]))\n",
    "\n",
    "    print(\"TYPES\".center(70,'='))\n",
    "    print(dataframe.dtypes)\n",
    "\n",
    "    print(\"HEAD\".center(70, '='))\n",
    "    print(dataframe.head(head))\n",
    "\n",
    "    print(\"TAIL\".center(70,'='))\n",
    "    print(dataframe.tail(head))\n",
    "\n",
    "    print(\"NULL\".center(70,'='))\n",
    "    print(dataframe.isnull().sum())\n",
    "\n",
    "    print(\"QUANTILES\".center(70,'='))\n",
    "    print(dataframe.describe([0.05,0.25, 0.75,0.90,0.99]).T)"
   ]
  },
  {
   "cell_type": "code",
   "execution_count": 6,
   "metadata": {
    "colab": {
     "base_uri": "https://localhost:8080/"
    },
    "id": "F210RFuddzzB",
    "outputId": "26701b8f-ed21-46ca-91b8-e672b659a6bb",
    "scrolled": true
   },
   "outputs": [
    {
     "name": "stdout",
     "output_type": "stream",
     "text": [
      "=================================INFO=================================\n",
      "<class 'pandas.core.frame.DataFrame'>\n",
      "RangeIndex: 39140 entries, 0 to 39139\n",
      "Data columns (total 11 columns):\n",
      " #   Column        Non-Null Count  Dtype \n",
      "---  ------        --------------  ----- \n",
      " 0   Fiyat         39140 non-null  int64 \n",
      " 1   Marka         39140 non-null  object\n",
      " 2   Seri          39140 non-null  object\n",
      " 3   Model         39140 non-null  object\n",
      " 4   Yıl           39140 non-null  int64 \n",
      " 5   Yakıt Tipi    39140 non-null  object\n",
      " 6   Vites Tipi    39140 non-null  object\n",
      " 7   Motor Gücü    39140 non-null  int64 \n",
      " 8   Motor Hacmi   39140 non-null  int64 \n",
      " 9   Kilometre     39140 non-null  int64 \n",
      " 10  Boya-değişen  39140 non-null  object\n",
      "dtypes: int64(5), object(6)\n",
      "memory usage: 3.3+ MB\n",
      "None\n",
      "================================SHAPE=================================\n",
      "Rows: 39140\n",
      "Columns: 11\n",
      "================================TYPES=================================\n",
      "Fiyat            int64\n",
      "Marka           object\n",
      "Seri            object\n",
      "Model           object\n",
      "Yıl              int64\n",
      "Yakıt Tipi      object\n",
      "Vites Tipi      object\n",
      "Motor Gücü       int64\n",
      "Motor Hacmi      int64\n",
      "Kilometre        int64\n",
      "Boya-değişen    object\n",
      "dtype: object\n",
      "=================================HEAD=================================\n",
      "    Fiyat       Marka       Seri                     Model   Yıl    Yakıt Tipi     Vites Tipi  Motor Gücü  Motor Hacmi  Kilometre   Boya-değişen\n",
      "0  252250  Alfa Romeo        156       2.0 JTS Distinctive  2004  LPG & Benzin  Yarı Otomatik         165         1970     250000  Belirtilmemiş\n",
      "1  480000  Alfa Romeo  Giulietta       1.6 JTD Distinctive  2011         Dizel            Düz         105         1598     185000  Belirtilmemiş\n",
      "2  375000  Alfa Romeo       MiTo         1.4 T Distinctive  2009        Benzin            Düz         155         1368     151000  Belirtilmemiş\n",
      "3  226000  Alfa Romeo        147        1.6 TS Progression  2004  LPG & Benzin            Düz         120         1598     271500  Belirtilmemiş\n",
      "4  439000  Alfa Romeo  Giulietta  1.6 JTD Progression Plus  2012         Dizel            Düz         105         1598     280000       8 boyalı\n",
      "=================================TAIL=================================\n",
      "         Fiyat  Marka               Seri               Model   Yıl    Yakıt Tipi     Vites Tipi  Motor Gücü  Motor Hacmi  Kilometre    Boya-değişen\n",
      "39135   149000  Volvo                S40                 2.0  2001  LPG & Benzin            Düz         136         1948     322000   Belirtilmemiş\n",
      "39136   700000  Volvo  V40 Cross Country       1.6 D Premium  2013         Dizel            Düz         115         1560     104000   Belirtilmemiş\n",
      "39137  2275750  Volvo                S90  2.0 D5 Inscription  2017         Dizel       Otomatik         226         1801     135000   Belirtilmemiş\n",
      "39138   830000  Volvo                S60       1.6 D Premium  2015         Dizel  Yarı Otomatik         115         1560     202500  Tamamı orjinal\n",
      "39139   743000  Volvo                S60       1.6 D Premium  2015         Dizel  Yarı Otomatik         115         1560     125000        3 boyalı\n",
      "=================================NULL=================================\n",
      "Fiyat           0\n",
      "Marka           0\n",
      "Seri            0\n",
      "Model           0\n",
      "Yıl             0\n",
      "Yakıt Tipi      0\n",
      "Vites Tipi      0\n",
      "Motor Gücü      0\n",
      "Motor Hacmi     0\n",
      "Kilometre       0\n",
      "Boya-değişen    0\n",
      "dtype: int64\n",
      "==============================QUANTILES===============================\n",
      "                count       mean         std      min         5%        25%        50%        75%        90%         99%           max\n",
      "Fiyat       39140.000 573552.105 1230799.443 1425.000 125000.000 265000.000 415000.000 638750.000 965000.000 2843050.000 165000000.000\n",
      "Yıl         39140.000   2008.745       8.206 1949.000   1993.000   2004.000   2011.000   2015.000   2018.000    2022.000      2023.000\n",
      "Motor Gücü  39140.000    107.471      47.533    0.000     65.000     84.000    102.000    124.000    152.000     258.000      1599.000\n",
      "Motor Hacmi 39140.000   1518.146     414.857    0.000   1197.000   1390.000   1560.000   1598.000   1896.000    2987.000      6750.000\n",
      "Kilometre   39140.000 195519.775  816788.791    0.000  33000.000 114500.000 180000.000 249000.000 308000.000  460000.000  99999999.000\n"
     ]
    }
   ],
   "source": [
    "check_df(df)"
   ]
  },
  {
   "cell_type": "code",
   "execution_count": 7,
   "metadata": {
    "id": "oB6fF_59dz1c"
   },
   "outputs": [],
   "source": [
    "def data_prep(dataframe):\n",
    "  dataframe.drop(dataframe[(dataframe[\"Kilometre\"] == 0) & (dataframe[\"Yıl\"] < 2021)].index, axis=0, inplace=True)\n",
    "  dataframe.drop(dataframe[(dataframe[\"Motor Gücü\"] == 0) | (dataframe[\"Motor Hacmi\"] == 0)].index, axis=0, inplace=True)\n",
    " \n",
    "\n",
    "  # Boya-değişen sütununu düzenleme v iki ayrı sütun olarak ekleme\n",
    "  boya_sutunu = []\n",
    "  degisen_sutunu = []\n",
    "\n",
    "  for veri in dataframe[\"Boya-değişen\"]:   \n",
    "    if (\"değişen\" in veri) & (\"boyalı\" in veri):\n",
    "        sayi = veri.split()\n",
    "        degisen_sutunu.append(sayi[0])\n",
    "        boya_sutunu.append(sayi[2])\n",
    "        \n",
    "    elif (\"boyalı\" in veri) & (veri not in \"Tamamı boyalı\") :\n",
    "            sayi = veri.split()[0]\n",
    "            boya_sutunu.append(int(sayi))\n",
    "            degisen_sutunu.append(0)\n",
    "            \n",
    "    elif (\"değişen\" in veri) & (veri not in \"Tamamı değişmiş\"):\n",
    "            sayi = veri.split()[0]\n",
    "            degisen_sutunu.append(int(sayi))\n",
    "            boya_sutunu.append(0)\n",
    "            \n",
    "    else:\n",
    "        if veri == \"Tamamı değişmiş\":\n",
    "            boya_sutunu.append(0)\n",
    "            degisen_sutunu.append(12)\n",
    "        elif veri == \"Tamamı boyalı\":\n",
    "            boya_sutunu.append(12)\n",
    "            degisen_sutunu.append(0)\n",
    "            \n",
    "        elif veri == \"Tamamı orjinal\":\n",
    "            boya_sutunu.append(0)\n",
    "            degisen_sutunu.append(0)\n",
    "            \n",
    "        elif veri == \"Belirtilmemiş\":\n",
    "            boya_sutunu.append(np.nan)\n",
    "            degisen_sutunu.append(np.nan)\n",
    "  dataframe[\"Boya\"] = boya_sutunu\n",
    "  dataframe[\"Değişen\"] = degisen_sutunu\n",
    "\n",
    "  # Tipi object olan değişkenleri int yapma\n",
    "  dataframe['Boya'] = pd.to_numeric(dataframe['Boya'], errors='coerce').astype('Int64')\n",
    "  dataframe['Değişen'] = pd.to_numeric(dataframe['Değişen'], errors='coerce').astype('Int64')\n",
    "\n",
    "  dataframe.drop(\"Boya-değişen\", axis=1, inplace=True)\n",
    "\n",
    "  # Marka bazında sayısı 100'den küçük olanları sil\n",
    "  dataframe = dataframe[dataframe[\"Marka\"].isin(dataframe[\"Marka\"].value_counts()[dataframe[\"Marka\"].value_counts() >= 100].index)]\n",
    "\n",
    "  dataframe.drop(dataframe[(dataframe[\"Fiyat\"] < 50000) & (dataframe[\"Yıl\"] > 2009)].index, axis=0, inplace=True)\n",
    "\n",
    "  #165000000 olanı sil\n",
    "  dataframe.drop(dataframe[(dataframe[\"Marka\"]==\"Mercedes - Benz\") & (dataframe[\"Fiyat\"] > 50000000)].index, axis=0, inplace=True)\n",
    "\n",
    "  dataframe.drop(dataframe[(dataframe[\"Kilometre\"] > 3000000) & (dataframe[\"Marka\"]==\"Tofaş\")].index, axis=0, inplace=True)\n",
    "\n",
    "  return dataframe"
   ]
  },
  {
   "cell_type": "code",
   "execution_count": 8,
   "metadata": {
    "colab": {
     "base_uri": "https://localhost:8080/"
    },
    "id": "1QE_sR_6g88w",
    "outputId": "aedc8c94-10b8-48c6-f701-43e22c92e045"
   },
   "outputs": [
    {
     "name": "stderr",
     "output_type": "stream",
     "text": [
      "C:\\Users\\senab\\AppData\\Local\\Temp\\ipykernel_7376\\1233648156.py:53: SettingWithCopyWarning: \n",
      "A value is trying to be set on a copy of a slice from a DataFrame\n",
      "\n",
      "See the caveats in the documentation: https://pandas.pydata.org/pandas-docs/stable/user_guide/indexing.html#returning-a-view-versus-a-copy\n",
      "  dataframe.drop(dataframe[(dataframe[\"Fiyat\"] < 50000) & (dataframe[\"Yıl\"] > 2009)].index, axis=0, inplace=True)\n",
      "C:\\Users\\senab\\AppData\\Local\\Temp\\ipykernel_7376\\1233648156.py:56: SettingWithCopyWarning: \n",
      "A value is trying to be set on a copy of a slice from a DataFrame\n",
      "\n",
      "See the caveats in the documentation: https://pandas.pydata.org/pandas-docs/stable/user_guide/indexing.html#returning-a-view-versus-a-copy\n",
      "  dataframe.drop(dataframe[(dataframe[\"Marka\"]==\"Mercedes - Benz\") & (dataframe[\"Fiyat\"] > 50000000)].index, axis=0, inplace=True)\n",
      "C:\\Users\\senab\\AppData\\Local\\Temp\\ipykernel_7376\\1233648156.py:58: SettingWithCopyWarning: \n",
      "A value is trying to be set on a copy of a slice from a DataFrame\n",
      "\n",
      "See the caveats in the documentation: https://pandas.pydata.org/pandas-docs/stable/user_guide/indexing.html#returning-a-view-versus-a-copy\n",
      "  dataframe.drop(dataframe[(dataframe[\"Kilometre\"] > 3000000) & (dataframe[\"Marka\"]==\"Tofaş\")].index, axis=0, inplace=True)\n"
     ]
    }
   ],
   "source": [
    "df = data_prep(df)"
   ]
  },
  {
   "cell_type": "code",
   "execution_count": 9,
   "metadata": {
    "colab": {
     "base_uri": "https://localhost:8080/",
     "height": 363
    },
    "id": "K_GA9bachBYH",
    "outputId": "9883c7bc-8e6c-48c5-c910-e4ae7fa3b268"
   },
   "outputs": [
    {
     "data": {
      "text/html": [
       "<div>\n",
       "<style scoped>\n",
       "    .dataframe tbody tr th:only-of-type {\n",
       "        vertical-align: middle;\n",
       "    }\n",
       "\n",
       "    .dataframe tbody tr th {\n",
       "        vertical-align: top;\n",
       "    }\n",
       "\n",
       "    .dataframe thead th {\n",
       "        text-align: right;\n",
       "    }\n",
       "</style>\n",
       "<table border=\"1\" class=\"dataframe\">\n",
       "  <thead>\n",
       "    <tr style=\"text-align: right;\">\n",
       "      <th></th>\n",
       "      <th>Fiyat</th>\n",
       "      <th>Marka</th>\n",
       "      <th>Seri</th>\n",
       "      <th>Model</th>\n",
       "      <th>Yıl</th>\n",
       "      <th>Yakıt Tipi</th>\n",
       "      <th>Vites Tipi</th>\n",
       "      <th>Motor Gücü</th>\n",
       "      <th>Motor Hacmi</th>\n",
       "      <th>Kilometre</th>\n",
       "      <th>Boya</th>\n",
       "      <th>Değişen</th>\n",
       "    </tr>\n",
       "  </thead>\n",
       "  <tbody>\n",
       "    <tr>\n",
       "      <th>0</th>\n",
       "      <td>252250</td>\n",
       "      <td>Alfa Romeo</td>\n",
       "      <td>156</td>\n",
       "      <td>2.0 JTS Distinctive</td>\n",
       "      <td>2004</td>\n",
       "      <td>LPG &amp; Benzin</td>\n",
       "      <td>Yarı Otomatik</td>\n",
       "      <td>165</td>\n",
       "      <td>1970</td>\n",
       "      <td>250000</td>\n",
       "      <td>&lt;NA&gt;</td>\n",
       "      <td>&lt;NA&gt;</td>\n",
       "    </tr>\n",
       "    <tr>\n",
       "      <th>1</th>\n",
       "      <td>480000</td>\n",
       "      <td>Alfa Romeo</td>\n",
       "      <td>Giulietta</td>\n",
       "      <td>1.6 JTD Distinctive</td>\n",
       "      <td>2011</td>\n",
       "      <td>Dizel</td>\n",
       "      <td>Düz</td>\n",
       "      <td>105</td>\n",
       "      <td>1598</td>\n",
       "      <td>185000</td>\n",
       "      <td>&lt;NA&gt;</td>\n",
       "      <td>&lt;NA&gt;</td>\n",
       "    </tr>\n",
       "    <tr>\n",
       "      <th>2</th>\n",
       "      <td>375000</td>\n",
       "      <td>Alfa Romeo</td>\n",
       "      <td>MiTo</td>\n",
       "      <td>1.4 T Distinctive</td>\n",
       "      <td>2009</td>\n",
       "      <td>Benzin</td>\n",
       "      <td>Düz</td>\n",
       "      <td>155</td>\n",
       "      <td>1368</td>\n",
       "      <td>151000</td>\n",
       "      <td>&lt;NA&gt;</td>\n",
       "      <td>&lt;NA&gt;</td>\n",
       "    </tr>\n",
       "    <tr>\n",
       "      <th>3</th>\n",
       "      <td>226000</td>\n",
       "      <td>Alfa Romeo</td>\n",
       "      <td>147</td>\n",
       "      <td>1.6 TS Progression</td>\n",
       "      <td>2004</td>\n",
       "      <td>LPG &amp; Benzin</td>\n",
       "      <td>Düz</td>\n",
       "      <td>120</td>\n",
       "      <td>1598</td>\n",
       "      <td>271500</td>\n",
       "      <td>&lt;NA&gt;</td>\n",
       "      <td>&lt;NA&gt;</td>\n",
       "    </tr>\n",
       "    <tr>\n",
       "      <th>4</th>\n",
       "      <td>439000</td>\n",
       "      <td>Alfa Romeo</td>\n",
       "      <td>Giulietta</td>\n",
       "      <td>1.6 JTD Progression Plus</td>\n",
       "      <td>2012</td>\n",
       "      <td>Dizel</td>\n",
       "      <td>Düz</td>\n",
       "      <td>105</td>\n",
       "      <td>1598</td>\n",
       "      <td>280000</td>\n",
       "      <td>8</td>\n",
       "      <td>0</td>\n",
       "    </tr>\n",
       "    <tr>\n",
       "      <th>5</th>\n",
       "      <td>454900</td>\n",
       "      <td>Alfa Romeo</td>\n",
       "      <td>Giulietta</td>\n",
       "      <td>1.4 TB MultiAir Distinctive</td>\n",
       "      <td>2011</td>\n",
       "      <td>Benzin</td>\n",
       "      <td>Düz</td>\n",
       "      <td>120</td>\n",
       "      <td>1368</td>\n",
       "      <td>167245</td>\n",
       "      <td>10</td>\n",
       "      <td>0</td>\n",
       "    </tr>\n",
       "    <tr>\n",
       "      <th>6</th>\n",
       "      <td>570000</td>\n",
       "      <td>Alfa Romeo</td>\n",
       "      <td>Giulietta</td>\n",
       "      <td>1.4 TB MultiAir Distinctive</td>\n",
       "      <td>2012</td>\n",
       "      <td>Benzin</td>\n",
       "      <td>Otomatik</td>\n",
       "      <td>170</td>\n",
       "      <td>1368</td>\n",
       "      <td>140000</td>\n",
       "      <td>2</td>\n",
       "      <td>0</td>\n",
       "    </tr>\n",
       "    <tr>\n",
       "      <th>7</th>\n",
       "      <td>160000</td>\n",
       "      <td>Alfa Romeo</td>\n",
       "      <td>146</td>\n",
       "      <td>1.4 TS Ritmo</td>\n",
       "      <td>2000</td>\n",
       "      <td>LPG &amp; Benzin</td>\n",
       "      <td>Düz</td>\n",
       "      <td>103</td>\n",
       "      <td>1370</td>\n",
       "      <td>279000</td>\n",
       "      <td>12</td>\n",
       "      <td>0</td>\n",
       "    </tr>\n",
       "    <tr>\n",
       "      <th>8</th>\n",
       "      <td>849990</td>\n",
       "      <td>Alfa Romeo</td>\n",
       "      <td>Giulietta</td>\n",
       "      <td>1.4 TB MultiAir Distinctive</td>\n",
       "      <td>2015</td>\n",
       "      <td>Benzin</td>\n",
       "      <td>Otomatik</td>\n",
       "      <td>170</td>\n",
       "      <td>1368</td>\n",
       "      <td>65000</td>\n",
       "      <td>&lt;NA&gt;</td>\n",
       "      <td>&lt;NA&gt;</td>\n",
       "    </tr>\n",
       "    <tr>\n",
       "      <th>9</th>\n",
       "      <td>210000</td>\n",
       "      <td>Alfa Romeo</td>\n",
       "      <td>147</td>\n",
       "      <td>1.6 TS Progression</td>\n",
       "      <td>2004</td>\n",
       "      <td>LPG &amp; Benzin</td>\n",
       "      <td>Düz</td>\n",
       "      <td>120</td>\n",
       "      <td>1598</td>\n",
       "      <td>172000</td>\n",
       "      <td>3</td>\n",
       "      <td>0</td>\n",
       "    </tr>\n",
       "  </tbody>\n",
       "</table>\n",
       "</div>"
      ],
      "text/plain": [
       "    Fiyat       Marka       Seri                        Model   Yıl    Yakıt Tipi     Vites Tipi  Motor Gücü  Motor Hacmi  Kilometre  Boya  Değişen\n",
       "0  252250  Alfa Romeo        156          2.0 JTS Distinctive  2004  LPG & Benzin  Yarı Otomatik         165         1970     250000  <NA>     <NA>\n",
       "1  480000  Alfa Romeo  Giulietta          1.6 JTD Distinctive  2011         Dizel            Düz         105         1598     185000  <NA>     <NA>\n",
       "2  375000  Alfa Romeo       MiTo            1.4 T Distinctive  2009        Benzin            Düz         155         1368     151000  <NA>     <NA>\n",
       "3  226000  Alfa Romeo        147           1.6 TS Progression  2004  LPG & Benzin            Düz         120         1598     271500  <NA>     <NA>\n",
       "4  439000  Alfa Romeo  Giulietta     1.6 JTD Progression Plus  2012         Dizel            Düz         105         1598     280000     8        0\n",
       "5  454900  Alfa Romeo  Giulietta  1.4 TB MultiAir Distinctive  2011        Benzin            Düz         120         1368     167245    10        0\n",
       "6  570000  Alfa Romeo  Giulietta  1.4 TB MultiAir Distinctive  2012        Benzin       Otomatik         170         1368     140000     2        0\n",
       "7  160000  Alfa Romeo        146                 1.4 TS Ritmo  2000  LPG & Benzin            Düz         103         1370     279000    12        0\n",
       "8  849990  Alfa Romeo  Giulietta  1.4 TB MultiAir Distinctive  2015        Benzin       Otomatik         170         1368      65000  <NA>     <NA>\n",
       "9  210000  Alfa Romeo        147           1.6 TS Progression  2004  LPG & Benzin            Düz         120         1598     172000     3        0"
      ]
     },
     "execution_count": 9,
     "metadata": {},
     "output_type": "execute_result"
    }
   ],
   "source": [
    "df.head(10)"
   ]
  },
  {
   "cell_type": "code",
   "execution_count": 10,
   "metadata": {
    "colab": {
     "base_uri": "https://localhost:8080/"
    },
    "id": "CYyf8mC7iEWX",
    "outputId": "a1644b16-7cb4-4355-f78c-c2be97128551"
   },
   "outputs": [
    {
     "data": {
      "text/plain": [
       "(37180, 12)"
      ]
     },
     "execution_count": 10,
     "metadata": {},
     "output_type": "execute_result"
    }
   ],
   "source": [
    "df.shape"
   ]
  },
  {
   "cell_type": "code",
   "execution_count": 11,
   "metadata": {
    "colab": {
     "base_uri": "https://localhost:8080/"
    },
    "id": "bBxEq6OIiIAE",
    "outputId": "85a0262d-daa7-433b-fdba-1d1d8b3d616c"
   },
   "outputs": [
    {
     "name": "stdout",
     "output_type": "stream",
     "text": [
      "<class 'pandas.core.frame.DataFrame'>\n",
      "Int64Index: 37180 entries, 0 to 39139\n",
      "Data columns (total 12 columns):\n",
      " #   Column       Non-Null Count  Dtype \n",
      "---  ------       --------------  ----- \n",
      " 0   Fiyat        37180 non-null  int64 \n",
      " 1   Marka        37180 non-null  object\n",
      " 2   Seri         37180 non-null  object\n",
      " 3   Model        37180 non-null  object\n",
      " 4   Yıl          37180 non-null  int64 \n",
      " 5   Yakıt Tipi   37180 non-null  object\n",
      " 6   Vites Tipi   37180 non-null  object\n",
      " 7   Motor Gücü   37180 non-null  int64 \n",
      " 8   Motor Hacmi  37180 non-null  int64 \n",
      " 9   Kilometre    37180 non-null  int64 \n",
      " 10  Boya         23201 non-null  Int64 \n",
      " 11  Değişen      23201 non-null  Int64 \n",
      "dtypes: Int64(2), int64(5), object(5)\n",
      "memory usage: 3.8+ MB\n"
     ]
    }
   ],
   "source": [
    "df.info()"
   ]
  },
  {
   "cell_type": "code",
   "execution_count": 12,
   "metadata": {
    "id": "mivlIVIWiPc3"
   },
   "outputs": [],
   "source": [
    "def grab_col_names(dataframe, cat_th=10, car_th=20):\n",
    "    # cat_cols, cat_but_car\n",
    "    cat_cols = [col for col in dataframe.columns if dataframe[col].dtypes == \"O\"]\n",
    "    num_but_cat = [col for col in dataframe.columns if dataframe[col].nunique() < cat_th and\n",
    "                   dataframe[col].dtypes != \"O\"]\n",
    "    cat_but_car = [col for col in dataframe.columns if dataframe[col].nunique() > car_th and\n",
    "                   dataframe[col].dtypes == \"O\"]\n",
    "    cat_cols = cat_cols + num_but_cat\n",
    "    cat_cols = [col for col in cat_cols if col not in cat_but_car]\n",
    "\n",
    "    # num_cols\n",
    "    num_cols = [col for col in dataframe.columns if dataframe[col].dtypes != \"O\"]\n",
    "    num_cols = [col for col in num_cols if col not in num_but_cat]\n",
    "\n",
    "    print(f\"Observations: {dataframe.shape[0]}\")\n",
    "    print(f\"Variables: {dataframe.shape[1]}\")\n",
    "    print(f'cat_cols: {len(cat_cols)}')\n",
    "    print(f'num_cols: {len(num_cols)}')\n",
    "    print(f'cat_but_car: {len(cat_but_car)}')\n",
    "    print(f'num_but_cat: {len(num_but_cat)}')\n",
    "    return cat_cols, num_cols, cat_but_car,num_but_cat"
   ]
  },
  {
   "cell_type": "code",
   "execution_count": 13,
   "metadata": {
    "colab": {
     "base_uri": "https://localhost:8080/"
    },
    "id": "knJhvrKXiigl",
    "outputId": "abd05c56-0cd5-48d7-b26c-2c539ecc13e0"
   },
   "outputs": [
    {
     "name": "stdout",
     "output_type": "stream",
     "text": [
      "Observations: 37180\n",
      "Variables: 12\n",
      "cat_cols: 2\n",
      "num_cols: 7\n",
      "cat_but_car: 3\n",
      "num_but_cat: 0\n"
     ]
    }
   ],
   "source": [
    "cat_cols, num_cols, cat_but_car,num_but_cat = grab_col_names(df)"
   ]
  },
  {
   "cell_type": "code",
   "execution_count": 14,
   "metadata": {
    "id": "IuQ2jVmXikj8"
   },
   "outputs": [],
   "source": [
    "def cat_summary(dataframe, col_name, plot=False):\n",
    "    print(pd.DataFrame({col_name: dataframe[col_name].value_counts(),\n",
    "                       \"Ratio\": 100*dataframe[col_name].value_counts() / len(dataframe)}))\n",
    "    \n",
    "    print(\"===============================\")\n",
    "    \n",
    "    if plot:\n",
    "        sns.countplot(x = dataframe[col_name], data = dataframe)\n",
    "        plt.show()"
   ]
  },
  {
   "cell_type": "code",
   "execution_count": 15,
   "metadata": {
    "colab": {
     "base_uri": "https://localhost:8080/",
     "height": 1000
    },
    "id": "WGieSzViinI_",
    "outputId": "93efb90f-e47c-44cd-dc7a-1a48a529c77e",
    "scrolled": true
   },
   "outputs": [
    {
     "name": "stdout",
     "output_type": "stream",
     "text": [
      "              Yakıt Tipi  Ratio\n",
      "Dizel              15191 40.858\n",
      "LPG & Benzin       13833 37.205\n",
      "Benzin              8156 21.937\n",
      "===============================\n"
     ]
    },
    {
     "data": {
      "image/png": "[encoded data removed]",
      "text/plain": [
       "<Figure size 640x480 with 1 Axes>"
      ]
     },
     "metadata": {},
     "output_type": "display_data"
    },
    {
     "name": "stdout",
     "output_type": "stream",
     "text": [
      "               Vites Tipi  Ratio\n",
      "Düz                 22772 61.248\n",
      "Otomatik             8814 23.706\n",
      "Yarı Otomatik        5594 15.046\n",
      "===============================\n"
     ]
    },
    {
     "data": {
      "image/png": "[encoded data removed]",
      "text/plain": [
       "<Figure size 640x480 with 1 Axes>"
      ]
     },
     "metadata": {},
     "output_type": "display_data"
    }
   ],
   "source": [
    "for col in cat_cols:\n",
    "    cat_summary(df, col, plot = True)"
   ]
  },
  {
   "cell_type": "code",
   "execution_count": 16,
   "metadata": {
    "id": "88by41xBiqOZ"
   },
   "outputs": [],
   "source": [
    "def num_summary(dataframe, numerical_col, target,plot=False):\n",
    "    quantiles = [0.05, 0.10, 0.20, 0.30, 0.40, 0.50, 0.60, 0.70, 0.80, 0.90, 0.95, 0.99]\n",
    "    print(dataframe[numerical_col].describe(quantiles).T)\n",
    "\n",
    "    if plot:\n",
    "        #plt.hist(dataframe[numerical_col])\n",
    "        #dataframe[numerical_col].hist(bins=20)\n",
    "        sns.scatterplot(data=dataframe, x=col, y=target)\n",
    "        plt.xlabel(numerical_col)\n",
    "        plt.title(numerical_col)\n",
    "        plt.show()"
   ]
  },
  {
   "cell_type": "code",
   "execution_count": 17,
   "metadata": {
    "colab": {
     "base_uri": "https://localhost:8080/",
     "height": 1000
    },
    "id": "zJmqajPli3XX",
    "outputId": "c355d0d9-5d81-4506-8733-1bb93cd87a2a"
   },
   "outputs": [
    {
     "name": "stdout",
     "output_type": "stream",
     "text": [
      "count      37180.000\n",
      "mean      554880.739\n",
      "std       691540.145\n",
      "min        17500.000\n",
      "5%        130000.000\n",
      "10%       175000.000\n",
      "20%       245980.000\n",
      "30%       302000.000\n",
      "40%       360000.000\n",
      "50%       423000.000\n",
      "60%       493850.000\n",
      "70%       589900.000\n",
      "80%       715000.000\n",
      "90%       960000.000\n",
      "95%      1310000.000\n",
      "99%      2566050.000\n",
      "max     23850000.000\n",
      "Name: Fiyat, dtype: float64\n"
     ]
    },
    {
     "data": {
      "image/png": "[encoded data removed]",
      "text/plain": [
       "<Figure size 640x480 with 1 Axes>"
      ]
     },
     "metadata": {},
     "output_type": "display_data"
    },
    {
     "name": "stdout",
     "output_type": "stream",
     "text": [
      "count   37180.000\n",
      "mean     2009.051\n",
      "std         7.993\n",
      "min      1955.000\n",
      "5%       1993.000\n",
      "10%      1997.000\n",
      "20%      2002.000\n",
      "30%      2006.000\n",
      "40%      2008.000\n",
      "50%      2011.000\n",
      "60%      2012.000\n",
      "70%      2014.000\n",
      "80%      2016.000\n",
      "90%      2018.000\n",
      "95%      2020.000\n",
      "99%      2022.000\n",
      "max      2023.000\n",
      "Name: Yıl, dtype: float64\n"
     ]
    },
    {
     "data": {
      "image/png": "[encoded data removed]",
      "text/plain": [
       "<Figure size 640x480 with 1 Axes>"
      ]
     },
     "metadata": {},
     "output_type": "display_data"
    },
    {
     "name": "stdout",
     "output_type": "stream",
     "text": [
      "count   37180.000\n",
      "mean      110.071\n",
      "std        39.221\n",
      "min        39.000\n",
      "5%         70.000\n",
      "10%        75.000\n",
      "20%        83.000\n",
      "30%        90.000\n",
      "40%        95.000\n",
      "50%       102.000\n",
      "60%       110.000\n",
      "70%       118.000\n",
      "80%       125.000\n",
      "90%       152.000\n",
      "95%       177.000\n",
      "99%       245.000\n",
      "max      1599.000\n",
      "Name: Motor Gücü, dtype: float64\n"
     ]
    },
    {
     "data": {
      "image/png": "[encoded data removed]",
      "text/plain": [
       "<Figure size 640x480 with 1 Axes>"
      ]
     },
     "metadata": {},
     "output_type": "display_data"
    },
    {
     "name": "stdout",
     "output_type": "stream",
     "text": [
      "count   37180.000\n",
      "mean     1545.317\n",
      "std       305.418\n",
      "min       133.000\n",
      "5%       1200.000\n",
      "10%      1248.000\n",
      "20%      1368.000\n",
      "30%      1398.000\n",
      "40%      1493.000\n",
      "50%      1560.000\n",
      "60%      1587.000\n",
      "70%      1597.000\n",
      "80%      1598.000\n",
      "90%      1896.000\n",
      "95%      1995.000\n",
      "99%      2967.000\n",
      "max      6208.000\n",
      "Name: Motor Hacmi, dtype: float64\n"
     ]
    },
    {
     "data": {
      "image/png": "[encoded data removed]",
      "text/plain": [
       "<Figure size 640x480 with 1 Axes>"
      ]
     },
     "metadata": {},
     "output_type": "display_data"
    },
    {
     "name": "stdout",
     "output_type": "stream",
     "text": [
      "count     37180.000\n",
      "mean     186039.033\n",
      "std      107154.205\n",
      "min           0.000\n",
      "5%        33887.350\n",
      "10%       62000.000\n",
      "20%       99000.000\n",
      "30%      129000.000\n",
      "40%      155533.000\n",
      "50%      180000.000\n",
      "60%      205000.000\n",
      "70%      232000.000\n",
      "80%      263000.000\n",
      "90%      306050.000\n",
      "95%      350000.000\n",
      "99%      452210.000\n",
      "max     3600018.000\n",
      "Name: Kilometre, dtype: float64\n"
     ]
    },
    {
     "data": {
      "image/png": "[encoded data removed]",
      "text/plain": [
       "<Figure size 640x480 with 1 Axes>"
      ]
     },
     "metadata": {},
     "output_type": "display_data"
    },
    {
     "name": "stdout",
     "output_type": "stream",
     "text": [
      "count   23201.000\n",
      "mean        2.856\n",
      "std         3.388\n",
      "min         0.000\n",
      "5%          0.000\n",
      "10%         0.000\n",
      "20%         0.000\n",
      "30%         0.000\n",
      "40%         1.000\n",
      "50%         2.000\n",
      "60%         3.000\n",
      "70%         4.000\n",
      "80%         5.000\n",
      "90%         8.000\n",
      "95%        11.000\n",
      "99%        12.000\n",
      "max        12.000\n",
      "Name: Boya, dtype: Float64\n"
     ]
    },
    {
     "data": {
      "image/png": "[encoded data removed]",
      "text/plain": [
       "<Figure size 640x480 with 1 Axes>"
      ]
     },
     "metadata": {},
     "output_type": "display_data"
    },
    {
     "name": "stdout",
     "output_type": "stream",
     "text": [
      "count   23201.000\n",
      "mean        0.673\n",
      "std         1.016\n",
      "min         0.000\n",
      "5%          0.000\n",
      "10%         0.000\n",
      "20%         0.000\n",
      "30%         0.000\n",
      "40%         0.000\n",
      "50%         0.000\n",
      "60%         0.000\n",
      "70%         1.000\n",
      "80%         1.000\n",
      "90%         2.000\n",
      "95%         3.000\n",
      "99%         4.000\n",
      "max        12.000\n",
      "Name: Değişen, dtype: Float64\n"
     ]
    },
    {
     "data": {
      "image/png": "[encoded data removed]",
      "text/plain": [
       "<Figure size 640x480 with 1 Axes>"
      ]
     },
     "metadata": {},
     "output_type": "display_data"
    }
   ],
   "source": [
    "for col in num_cols:\n",
    "    num_summary(df, col,\"Fiyat\", plot=True)"
   ]
  },
  {
   "cell_type": "code",
   "execution_count": 18,
   "metadata": {
    "colab": {
     "base_uri": "https://localhost:8080/",
     "height": 605
    },
    "id": "qbWg9_dLi5qi",
    "outputId": "621a0ad6-fc3e-4a4f-8081-b067af9a9735"
   },
   "outputs": [
    {
     "name": "stderr",
     "output_type": "stream",
     "text": [
      "C:\\Users\\senab\\AppData\\Local\\Temp\\ipykernel_7376\\324059130.py:2: FutureWarning: The default value of numeric_only in DataFrame.corr is deprecated. In a future version, it will default to False. Select only valid columns or specify the value of numeric_only to silence this warning.\n",
      "  sns.heatmap(df.corr(), annot=True, fmt=\".2f\",ax=ax,cmap=\"coolwarm\")\n"
     ]
    },
    {
     "data": {
      "image/png": "[encoded data removed]",
      "text/plain": [
       "<Figure size 500x500 with 2 Axes>"
      ]
     },
     "metadata": {},
     "output_type": "display_data"
    }
   ],
   "source": [
    "f,ax=plt.subplots(figsize=[5,5])\n",
    "sns.heatmap(df.corr(), annot=True, fmt=\".2f\",ax=ax,cmap=\"coolwarm\")\n",
    "ax.set_title(\"Correlation Matrix\", fontsize=20)\n",
    "plt.show()"
   ]
  },
  {
   "cell_type": "code",
   "execution_count": 19,
   "metadata": {
    "id": "hiy8Q7bEi7VX"
   },
   "outputs": [],
   "source": [
    "def one_hot_encoder(dataframe, categorical_col, drop_first=False):\n",
    "    dataframe = pd.get_dummies(dataframe, columns = categorical_col, drop_first=drop_first)\n",
    "    return dataframe"
   ]
  },
  {
   "cell_type": "code",
   "execution_count": 20,
   "metadata": {
    "id": "yphcTDJajG7N"
   },
   "outputs": [],
   "source": [
    "cat_col_marka = [\"Seri\",\"Model\",\"Yakıt Tipi\",\"Vites Tipi\"]"
   ]
  },
  {
   "cell_type": "code",
   "execution_count": 21,
   "metadata": {
    "id": "m_sv1ygHouL1"
   },
   "outputs": [],
   "source": [
    "def robust_scaler(dataframe, numerical_col):\n",
    "  rs = RobustScaler()\n",
    "  dataframe[numerical_col] = rs.fit_transform(dataframe[numerical_col])\n",
    "\n",
    "  return dataframe"
   ]
  },
  {
   "cell_type": "code",
   "execution_count": 23,
   "metadata": {
    "colab": {
     "base_uri": "https://localhost:8080/"
    },
    "id": "xCv2xTwYjIC3",
    "outputId": "c7aac3df-3ddf-4f8f-87b3-18cd51f04bb4"
   },
   "outputs": [
    {
     "data": {
      "text/plain": [
       "['Yıl', 'Motor Gücü', 'Motor Hacmi', 'Kilometre']"
      ]
     },
     "execution_count": 23,
     "metadata": {},
     "output_type": "execute_result"
    }
   ],
   "source": [
    "num_cols = ['Yıl','Motor Gücü', 'Motor Hacmi', 'Kilometre']\n",
    "num_cols"
   ]
  },
  {
   "cell_type": "code",
   "execution_count": 24,
   "metadata": {},
   "outputs": [],
   "source": [
    "df['Marka'] = df['Marka'].str.replace('Mercedes - Benz', 'Mercedes')"
   ]
  },
  {
   "cell_type": "code",
   "execution_count": 25,
   "metadata": {},
   "outputs": [
    {
     "data": {
      "text/plain": [
       "array(['Alfa Romeo', 'Audi', 'BMW', 'Chevrolet', 'Citroen', 'Dacia',\n",
       "       'Fiat', 'Ford', 'Honda', 'Hyundai', 'Kia', 'Lada', 'Mazda',\n",
       "       'Mercedes', 'MINI', 'Mitsubishi', 'Nissan', 'Opel', 'Peugeot',\n",
       "       'Renault', 'Seat', 'Skoda', 'Suzuki', 'Tofaş', 'Toyota',\n",
       "       'Volkswagen', 'Volvo'], dtype=object)"
      ]
     },
     "execution_count": 25,
     "metadata": {},
     "output_type": "execute_result"
    }
   ],
   "source": [
    "df['Marka'].unique()"
   ]
  },
  {
   "cell_type": "code",
   "execution_count": 26,
   "metadata": {
    "id": "Wi_SmWlMpcdq"
   },
   "outputs": [],
   "source": [
    "df = robust_scaler(df, num_cols)"
   ]
  },
  {
   "cell_type": "code",
   "execution_count": 27,
   "metadata": {
    "colab": {
     "base_uri": "https://localhost:8080/",
     "height": 206
    },
    "id": "PR09lUTFqPCa",
    "outputId": "ecedfb1b-7fa5-4a32-bb6c-10ce895edb0c"
   },
   "outputs": [
    {
     "data": {
      "text/html": [
       "<div>\n",
       "<style scoped>\n",
       "    .dataframe tbody tr th:only-of-type {\n",
       "        vertical-align: middle;\n",
       "    }\n",
       "\n",
       "    .dataframe tbody tr th {\n",
       "        vertical-align: top;\n",
       "    }\n",
       "\n",
       "    .dataframe thead th {\n",
       "        text-align: right;\n",
       "    }\n",
       "</style>\n",
       "<table border=\"1\" class=\"dataframe\">\n",
       "  <thead>\n",
       "    <tr style=\"text-align: right;\">\n",
       "      <th></th>\n",
       "      <th>Fiyat</th>\n",
       "      <th>Marka</th>\n",
       "      <th>Seri</th>\n",
       "      <th>Model</th>\n",
       "      <th>Yıl</th>\n",
       "      <th>Yakıt Tipi</th>\n",
       "      <th>Vites Tipi</th>\n",
       "      <th>Motor Gücü</th>\n",
       "      <th>Motor Hacmi</th>\n",
       "      <th>Kilometre</th>\n",
       "      <th>Boya</th>\n",
       "      <th>Değişen</th>\n",
       "    </tr>\n",
       "  </thead>\n",
       "  <tbody>\n",
       "    <tr>\n",
       "      <th>0</th>\n",
       "      <td>252250</td>\n",
       "      <td>Alfa Romeo</td>\n",
       "      <td>156</td>\n",
       "      <td>2.0 JTS Distinctive</td>\n",
       "      <td>-0.636</td>\n",
       "      <td>LPG &amp; Benzin</td>\n",
       "      <td>Yarı Otomatik</td>\n",
       "      <td>1.750</td>\n",
       "      <td>1.971</td>\n",
       "      <td>0.524</td>\n",
       "      <td>&lt;NA&gt;</td>\n",
       "      <td>&lt;NA&gt;</td>\n",
       "    </tr>\n",
       "    <tr>\n",
       "      <th>1</th>\n",
       "      <td>480000</td>\n",
       "      <td>Alfa Romeo</td>\n",
       "      <td>Giulietta</td>\n",
       "      <td>1.6 JTD Distinctive</td>\n",
       "      <td>0.000</td>\n",
       "      <td>Dizel</td>\n",
       "      <td>Düz</td>\n",
       "      <td>0.083</td>\n",
       "      <td>0.183</td>\n",
       "      <td>0.037</td>\n",
       "      <td>&lt;NA&gt;</td>\n",
       "      <td>&lt;NA&gt;</td>\n",
       "    </tr>\n",
       "    <tr>\n",
       "      <th>2</th>\n",
       "      <td>375000</td>\n",
       "      <td>Alfa Romeo</td>\n",
       "      <td>MiTo</td>\n",
       "      <td>1.4 T Distinctive</td>\n",
       "      <td>-0.182</td>\n",
       "      <td>Benzin</td>\n",
       "      <td>Düz</td>\n",
       "      <td>1.472</td>\n",
       "      <td>-0.923</td>\n",
       "      <td>-0.217</td>\n",
       "      <td>&lt;NA&gt;</td>\n",
       "      <td>&lt;NA&gt;</td>\n",
       "    </tr>\n",
       "    <tr>\n",
       "      <th>3</th>\n",
       "      <td>226000</td>\n",
       "      <td>Alfa Romeo</td>\n",
       "      <td>147</td>\n",
       "      <td>1.6 TS Progression</td>\n",
       "      <td>-0.636</td>\n",
       "      <td>LPG &amp; Benzin</td>\n",
       "      <td>Düz</td>\n",
       "      <td>0.500</td>\n",
       "      <td>0.183</td>\n",
       "      <td>0.685</td>\n",
       "      <td>&lt;NA&gt;</td>\n",
       "      <td>&lt;NA&gt;</td>\n",
       "    </tr>\n",
       "    <tr>\n",
       "      <th>4</th>\n",
       "      <td>439000</td>\n",
       "      <td>Alfa Romeo</td>\n",
       "      <td>Giulietta</td>\n",
       "      <td>1.6 JTD Progression Plus</td>\n",
       "      <td>0.091</td>\n",
       "      <td>Dizel</td>\n",
       "      <td>Düz</td>\n",
       "      <td>0.083</td>\n",
       "      <td>0.183</td>\n",
       "      <td>0.749</td>\n",
       "      <td>8</td>\n",
       "      <td>0</td>\n",
       "    </tr>\n",
       "  </tbody>\n",
       "</table>\n",
       "</div>"
      ],
      "text/plain": [
       "    Fiyat       Marka       Seri                     Model    Yıl    Yakıt Tipi     Vites Tipi  Motor Gücü  Motor Hacmi  Kilometre  Boya  Değişen\n",
       "0  252250  Alfa Romeo        156       2.0 JTS Distinctive -0.636  LPG & Benzin  Yarı Otomatik       1.750        1.971      0.524  <NA>     <NA>\n",
       "1  480000  Alfa Romeo  Giulietta       1.6 JTD Distinctive  0.000         Dizel            Düz       0.083        0.183      0.037  <NA>     <NA>\n",
       "2  375000  Alfa Romeo       MiTo         1.4 T Distinctive -0.182        Benzin            Düz       1.472       -0.923     -0.217  <NA>     <NA>\n",
       "3  226000  Alfa Romeo        147        1.6 TS Progression -0.636  LPG & Benzin            Düz       0.500        0.183      0.685  <NA>     <NA>\n",
       "4  439000  Alfa Romeo  Giulietta  1.6 JTD Progression Plus  0.091         Dizel            Düz       0.083        0.183      0.749     8        0"
      ]
     },
     "execution_count": 27,
     "metadata": {},
     "output_type": "execute_result"
    }
   ],
   "source": [
    "df.head()"
   ]
  },
  {
   "cell_type": "code",
   "execution_count": 29,
   "metadata": {
    "id": "U186sZc6jH_J"
   },
   "outputs": [],
   "source": [
    "# Marka bazında ayrı excel dosyaları oluşturma\n",
    "for marka in df[\"Marka\"].unique():\n",
    "    name = marka + \".xlsx\"\n",
    "    df[df[\"Marka\"] == marka].to_excel(\"markaFile/\"+name)"
   ]
  },
  {
   "cell_type": "code",
   "execution_count": 30,
   "metadata": {
    "id": "2RQEW1FTjH9C",
    "scrolled": true
   },
   "outputs": [],
   "source": [
    "# one-hot encoding ve marka marka ayırma\n",
    "for marka in df[\"Marka\"].unique():\n",
    "    name = marka + \".xlsx\"\n",
    "    df_marka = pd.read_excel(\"markaFile/\"+name, sheet_name=\"Sheet1\")\n",
    "    df_marka.drop(\"Marka\",axis=1,inplace=True)\n",
    "    df_marka.drop(\"Unnamed: 0\",axis=1,inplace=True)\n",
    "    df_marka = one_hot_encoder(df_marka, cat_col_marka)\n",
    "    df_marka.to_excel(\"markaFile/\"+name)"
   ]
  },
  {
   "cell_type": "code",
   "execution_count": null,
   "metadata": {
    "id": "l93zZag5jIBH"
   },
   "outputs": [],
   "source": [
    "# MODELLEME"
   ]
  },
  {
   "cell_type": "code",
   "execution_count": 17,
   "metadata": {
    "id": "2Bnai768jIGU"
   },
   "outputs": [],
   "source": [
    "def set_model(model_list, X_train, X_test, y_train, y_test):\n",
    "    dataf = pd.DataFrame()\n",
    "\n",
    "    for i in range(len(model_list)):\n",
    "        algo_name = model_list[i][0]\n",
    "        algo = model_list[i][1]\n",
    "\n",
    "        model = algo.fit(X_train, y_train)\n",
    "\n",
    "        cv_result = cross_val_score(model,\n",
    "                                    X_train, y_train,\n",
    "                                    cv=5,\n",
    "                                    scoring=\"neg_mean_squared_error\")\n",
    "\n",
    "        y_pred = model.predict(X_test)\n",
    "        rmse = np.mean(np.sqrt(-cv_result))\n",
    "        data_list = {\"Model\": algo_name,\n",
    "                     \"TestDeger\": rmse,\n",
    "                     \"MSE\":mean_squared_error(y_test, y_pred),\n",
    "                     \"RMSE\": (np.sqrt(mean_squared_error(y_test, y_pred))),\n",
    "                     \"MAE\": mean_absolute_error(y_test, y_pred)}\n",
    "        dataf = dataf.append(data_list, ignore_index=True)\n",
    "\n",
    "    return dataf"
   ]
  },
  {
   "cell_type": "code",
   "execution_count": 18,
   "metadata": {
    "id": "FeKrMHvRv6Pb"
   },
   "outputs": [],
   "source": [
    "models = []\n",
    "#models.append(('Gradient Boosting Regressor', GradientBoostingRegressor()))\n",
    "models.append(('XGBModel', XGBRegressor(objective=\"reg:squarederror\",use_label_encoder=False)))\n",
    "#models.append(('LGBMModel', LGBMRegressor(use_missing=False)))\n",
    "#models.append(('LRModel', LinearRegression()))\n",
    "#models.append(('RFModel', RandomForestRegressor()))"
   ]
  },
  {
   "cell_type": "code",
   "execution_count": 19,
   "metadata": {
    "id": "PTLWQBVnxYn1"
   },
   "outputs": [],
   "source": [
    "df2 = pd.read_excel(\"markaFile/Alfa Romeo.xlsx\",sheet_name=\"Sheet1\")"
   ]
  },
  {
   "cell_type": "code",
   "execution_count": null,
   "metadata": {
    "colab": {
     "base_uri": "https://localhost:8080/",
     "height": 311
    },
    "id": "JtfWExrq3g23",
    "outputId": "d4e7d6fc-00f7-432f-c550-61445d42d98f",
    "scrolled": true
   },
   "outputs": [],
   "source": [
    "char_map = {\n",
    "    'ç': 'c',\n",
    "    'ğ': 'g',\n",
    "    'ı': 'i',\n",
    "    'ö': 'o',\n",
    "    'ş': 's',\n",
    "    'ü': 'u',\n",
    "    'Ç': 'C',\n",
    "    'Ğ': 'G',\n",
    "    'İ': 'I',\n",
    "    'Ö': 'O',\n",
    "    'Ş': 'S',\n",
    "    'Ü': 'U'\n",
    "}\n",
    "\n",
    "df2 = df2.rename(columns=lambda x: unidecode.unidecode(x).translate(str.maketrans(char_map)))"
   ]
  },
  {
   "cell_type": "code",
   "execution_count": null,
   "metadata": {
    "id": "MbMVsLz73hG6"
   },
   "outputs": [],
   "source": []
  },
  {
   "cell_type": "code",
   "execution_count": null,
   "metadata": {
    "id": "aNMzuPeE1u5c"
   },
   "outputs": [],
   "source": [
    "df2 = df2.rename(columns = {\"Yıl\":\"Yil\", \"Değişen\":\"Degisen\",\"Motor Gücü\":\"Motor Gucu\"})"
   ]
  },
  {
   "cell_type": "code",
   "execution_count": 22,
   "metadata": {
    "colab": {
     "base_uri": "https://localhost:8080/",
     "height": 357
    },
    "id": "8gXPT0gSxjiX",
    "outputId": "c94df078-cdef-42b8-9c60-0027096fb9d4"
   },
   "outputs": [
    {
     "data": {
      "text/html": [
       "<div>\n",
       "<style scoped>\n",
       "    .dataframe tbody tr th:only-of-type {\n",
       "        vertical-align: middle;\n",
       "    }\n",
       "\n",
       "    .dataframe tbody tr th {\n",
       "        vertical-align: top;\n",
       "    }\n",
       "\n",
       "    .dataframe thead th {\n",
       "        text-align: right;\n",
       "    }\n",
       "</style>\n",
       "<table border=\"1\" class=\"dataframe\">\n",
       "  <thead>\n",
       "    <tr style=\"text-align: right;\">\n",
       "      <th></th>\n",
       "      <th>Unnamed: 0</th>\n",
       "      <th>Fiyat</th>\n",
       "      <th>Yıl</th>\n",
       "      <th>Motor Gücü</th>\n",
       "      <th>Motor Hacmi</th>\n",
       "      <th>Kilometre</th>\n",
       "      <th>Boya</th>\n",
       "      <th>Değişen</th>\n",
       "      <th>Seri_146</th>\n",
       "      <th>Seri_147</th>\n",
       "      <th>Seri_156</th>\n",
       "      <th>Seri_159</th>\n",
       "      <th>Seri_164</th>\n",
       "      <th>Seri_166</th>\n",
       "      <th>Seri_GT</th>\n",
       "      <th>Seri_Giulietta</th>\n",
       "      <th>Seri_MiTo</th>\n",
       "      <th>Model_1.4 T Distinctive</th>\n",
       "      <th>Model_1.4 T MultiAir Quadrifoglio Verde</th>\n",
       "      <th>Model_1.4 TB Distinctive</th>\n",
       "      <th>Model_1.4 TB MultiAir Distinctive</th>\n",
       "      <th>Model_1.4 TB MultiAir Progression Pluse</th>\n",
       "      <th>Model_1.4 TB MultiAir Super TCT</th>\n",
       "      <th>Model_1.4 TB Progression Plus</th>\n",
       "      <th>Model_1.4 TS</th>\n",
       "      <th>Model_1.4 TS Ritmo</th>\n",
       "      <th>Model_1.4 TS STD</th>\n",
       "      <th>Model_1.6</th>\n",
       "      <th>Model_1.6 JTD Distinctive</th>\n",
       "      <th>Model_1.6 JTD Progression</th>\n",
       "      <th>Model_1.6 JTD Progression Plus</th>\n",
       "      <th>Model_1.6 JTD Super TCT</th>\n",
       "      <th>Model_1.6 JTDM-2</th>\n",
       "      <th>Model_1.6 JTDM-2 Sprint</th>\n",
       "      <th>Model_1.6 L</th>\n",
       "      <th>Model_1.6 TS</th>\n",
       "      <th>Model_1.6 TS Black Line</th>\n",
       "      <th>Model_1.6 TS Distinctive</th>\n",
       "      <th>Model_1.6 TS Progression</th>\n",
       "      <th>Model_1.9 JTD Distinctive</th>\n",
       "      <th>Model_1.9 JTD Distinctive Plus</th>\n",
       "      <th>Model_1.9 JTD Progression</th>\n",
       "      <th>Model_2.0 JTS Distinctive</th>\n",
       "      <th>Model_2.0 JTS Distinctive Selespeed</th>\n",
       "      <th>Model_2.0 TB</th>\n",
       "      <th>Model_2.0 TS</th>\n",
       "      <th>Model_2.0 TS Distinctive</th>\n",
       "      <th>Model_2.0 TS Executive</th>\n",
       "      <th>Model_2.0 TS Selespeed</th>\n",
       "      <th>Model_2.0 Turbo</th>\n",
       "      <th>Yakıt Tipi_Dizel</th>\n",
       "      <th>Yakıt Tipi_LPG &amp; Benzin</th>\n",
       "      <th>Vites Tipi_Otomatik</th>\n",
       "      <th>Vites Tipi_Yarı Otomatik</th>\n",
       "    </tr>\n",
       "  </thead>\n",
       "  <tbody>\n",
       "    <tr>\n",
       "      <th>0</th>\n",
       "      <td>0</td>\n",
       "      <td>252250</td>\n",
       "      <td>2004</td>\n",
       "      <td>1.750</td>\n",
       "      <td>1.971</td>\n",
       "      <td>0.524</td>\n",
       "      <td>NaN</td>\n",
       "      <td>NaN</td>\n",
       "      <td>0</td>\n",
       "      <td>0</td>\n",
       "      <td>1</td>\n",
       "      <td>0</td>\n",
       "      <td>0</td>\n",
       "      <td>0</td>\n",
       "      <td>0</td>\n",
       "      <td>0</td>\n",
       "      <td>0</td>\n",
       "      <td>0</td>\n",
       "      <td>0</td>\n",
       "      <td>0</td>\n",
       "      <td>0</td>\n",
       "      <td>0</td>\n",
       "      <td>0</td>\n",
       "      <td>0</td>\n",
       "      <td>0</td>\n",
       "      <td>0</td>\n",
       "      <td>0</td>\n",
       "      <td>0</td>\n",
       "      <td>0</td>\n",
       "      <td>0</td>\n",
       "      <td>0</td>\n",
       "      <td>0</td>\n",
       "      <td>0</td>\n",
       "      <td>0</td>\n",
       "      <td>0</td>\n",
       "      <td>0</td>\n",
       "      <td>0</td>\n",
       "      <td>0</td>\n",
       "      <td>0</td>\n",
       "      <td>0</td>\n",
       "      <td>0</td>\n",
       "      <td>0</td>\n",
       "      <td>1</td>\n",
       "      <td>0</td>\n",
       "      <td>0</td>\n",
       "      <td>0</td>\n",
       "      <td>0</td>\n",
       "      <td>0</td>\n",
       "      <td>0</td>\n",
       "      <td>0</td>\n",
       "      <td>0</td>\n",
       "      <td>1</td>\n",
       "      <td>0</td>\n",
       "      <td>1</td>\n",
       "    </tr>\n",
       "    <tr>\n",
       "      <th>1</th>\n",
       "      <td>1</td>\n",
       "      <td>480000</td>\n",
       "      <td>2011</td>\n",
       "      <td>0.083</td>\n",
       "      <td>0.183</td>\n",
       "      <td>0.037</td>\n",
       "      <td>NaN</td>\n",
       "      <td>NaN</td>\n",
       "      <td>0</td>\n",
       "      <td>0</td>\n",
       "      <td>0</td>\n",
       "      <td>0</td>\n",
       "      <td>0</td>\n",
       "      <td>0</td>\n",
       "      <td>0</td>\n",
       "      <td>1</td>\n",
       "      <td>0</td>\n",
       "      <td>0</td>\n",
       "      <td>0</td>\n",
       "      <td>0</td>\n",
       "      <td>0</td>\n",
       "      <td>0</td>\n",
       "      <td>0</td>\n",
       "      <td>0</td>\n",
       "      <td>0</td>\n",
       "      <td>0</td>\n",
       "      <td>0</td>\n",
       "      <td>0</td>\n",
       "      <td>1</td>\n",
       "      <td>0</td>\n",
       "      <td>0</td>\n",
       "      <td>0</td>\n",
       "      <td>0</td>\n",
       "      <td>0</td>\n",
       "      <td>0</td>\n",
       "      <td>0</td>\n",
       "      <td>0</td>\n",
       "      <td>0</td>\n",
       "      <td>0</td>\n",
       "      <td>0</td>\n",
       "      <td>0</td>\n",
       "      <td>0</td>\n",
       "      <td>0</td>\n",
       "      <td>0</td>\n",
       "      <td>0</td>\n",
       "      <td>0</td>\n",
       "      <td>0</td>\n",
       "      <td>0</td>\n",
       "      <td>0</td>\n",
       "      <td>0</td>\n",
       "      <td>1</td>\n",
       "      <td>0</td>\n",
       "      <td>0</td>\n",
       "      <td>0</td>\n",
       "    </tr>\n",
       "    <tr>\n",
       "      <th>2</th>\n",
       "      <td>2</td>\n",
       "      <td>375000</td>\n",
       "      <td>2009</td>\n",
       "      <td>1.472</td>\n",
       "      <td>-0.923</td>\n",
       "      <td>-0.217</td>\n",
       "      <td>NaN</td>\n",
       "      <td>NaN</td>\n",
       "      <td>0</td>\n",
       "      <td>0</td>\n",
       "      <td>0</td>\n",
       "      <td>0</td>\n",
       "      <td>0</td>\n",
       "      <td>0</td>\n",
       "      <td>0</td>\n",
       "      <td>0</td>\n",
       "      <td>1</td>\n",
       "      <td>1</td>\n",
       "      <td>0</td>\n",
       "      <td>0</td>\n",
       "      <td>0</td>\n",
       "      <td>0</td>\n",
       "      <td>0</td>\n",
       "      <td>0</td>\n",
       "      <td>0</td>\n",
       "      <td>0</td>\n",
       "      <td>0</td>\n",
       "      <td>0</td>\n",
       "      <td>0</td>\n",
       "      <td>0</td>\n",
       "      <td>0</td>\n",
       "      <td>0</td>\n",
       "      <td>0</td>\n",
       "      <td>0</td>\n",
       "      <td>0</td>\n",
       "      <td>0</td>\n",
       "      <td>0</td>\n",
       "      <td>0</td>\n",
       "      <td>0</td>\n",
       "      <td>0</td>\n",
       "      <td>0</td>\n",
       "      <td>0</td>\n",
       "      <td>0</td>\n",
       "      <td>0</td>\n",
       "      <td>0</td>\n",
       "      <td>0</td>\n",
       "      <td>0</td>\n",
       "      <td>0</td>\n",
       "      <td>0</td>\n",
       "      <td>0</td>\n",
       "      <td>0</td>\n",
       "      <td>0</td>\n",
       "      <td>0</td>\n",
       "      <td>0</td>\n",
       "    </tr>\n",
       "    <tr>\n",
       "      <th>3</th>\n",
       "      <td>3</td>\n",
       "      <td>226000</td>\n",
       "      <td>2004</td>\n",
       "      <td>0.500</td>\n",
       "      <td>0.183</td>\n",
       "      <td>0.685</td>\n",
       "      <td>NaN</td>\n",
       "      <td>NaN</td>\n",
       "      <td>0</td>\n",
       "      <td>1</td>\n",
       "      <td>0</td>\n",
       "      <td>0</td>\n",
       "      <td>0</td>\n",
       "      <td>0</td>\n",
       "      <td>0</td>\n",
       "      <td>0</td>\n",
       "      <td>0</td>\n",
       "      <td>0</td>\n",
       "      <td>0</td>\n",
       "      <td>0</td>\n",
       "      <td>0</td>\n",
       "      <td>0</td>\n",
       "      <td>0</td>\n",
       "      <td>0</td>\n",
       "      <td>0</td>\n",
       "      <td>0</td>\n",
       "      <td>0</td>\n",
       "      <td>0</td>\n",
       "      <td>0</td>\n",
       "      <td>0</td>\n",
       "      <td>0</td>\n",
       "      <td>0</td>\n",
       "      <td>0</td>\n",
       "      <td>0</td>\n",
       "      <td>0</td>\n",
       "      <td>0</td>\n",
       "      <td>0</td>\n",
       "      <td>0</td>\n",
       "      <td>1</td>\n",
       "      <td>0</td>\n",
       "      <td>0</td>\n",
       "      <td>0</td>\n",
       "      <td>0</td>\n",
       "      <td>0</td>\n",
       "      <td>0</td>\n",
       "      <td>0</td>\n",
       "      <td>0</td>\n",
       "      <td>0</td>\n",
       "      <td>0</td>\n",
       "      <td>0</td>\n",
       "      <td>0</td>\n",
       "      <td>1</td>\n",
       "      <td>0</td>\n",
       "      <td>0</td>\n",
       "    </tr>\n",
       "    <tr>\n",
       "      <th>4</th>\n",
       "      <td>4</td>\n",
       "      <td>439000</td>\n",
       "      <td>2012</td>\n",
       "      <td>0.083</td>\n",
       "      <td>0.183</td>\n",
       "      <td>0.749</td>\n",
       "      <td>8.000</td>\n",
       "      <td>0.000</td>\n",
       "      <td>0</td>\n",
       "      <td>0</td>\n",
       "      <td>0</td>\n",
       "      <td>0</td>\n",
       "      <td>0</td>\n",
       "      <td>0</td>\n",
       "      <td>0</td>\n",
       "      <td>1</td>\n",
       "      <td>0</td>\n",
       "      <td>0</td>\n",
       "      <td>0</td>\n",
       "      <td>0</td>\n",
       "      <td>0</td>\n",
       "      <td>0</td>\n",
       "      <td>0</td>\n",
       "      <td>0</td>\n",
       "      <td>0</td>\n",
       "      <td>0</td>\n",
       "      <td>0</td>\n",
       "      <td>0</td>\n",
       "      <td>0</td>\n",
       "      <td>0</td>\n",
       "      <td>1</td>\n",
       "      <td>0</td>\n",
       "      <td>0</td>\n",
       "      <td>0</td>\n",
       "      <td>0</td>\n",
       "      <td>0</td>\n",
       "      <td>0</td>\n",
       "      <td>0</td>\n",
       "      <td>0</td>\n",
       "      <td>0</td>\n",
       "      <td>0</td>\n",
       "      <td>0</td>\n",
       "      <td>0</td>\n",
       "      <td>0</td>\n",
       "      <td>0</td>\n",
       "      <td>0</td>\n",
       "      <td>0</td>\n",
       "      <td>0</td>\n",
       "      <td>0</td>\n",
       "      <td>0</td>\n",
       "      <td>1</td>\n",
       "      <td>0</td>\n",
       "      <td>0</td>\n",
       "      <td>0</td>\n",
       "    </tr>\n",
       "  </tbody>\n",
       "</table>\n",
       "</div>"
      ],
      "text/plain": [
       "   Unnamed: 0   Fiyat   Yıl  Motor Gücü  Motor Hacmi  Kilometre  Boya  Değişen  Seri_146  Seri_147  Seri_156  Seri_159  Seri_164  Seri_166  Seri_GT  Seri_Giulietta  Seri_MiTo  Model_1.4 T Distinctive  Model_1.4 T MultiAir Quadrifoglio Verde  Model_1.4 TB Distinctive  Model_1.4 TB MultiAir Distinctive  Model_1.4 TB MultiAir Progression Pluse  Model_1.4 TB MultiAir Super TCT  Model_1.4 TB Progression Plus  Model_1.4 TS  Model_1.4 TS Ritmo  Model_1.4 TS STD  Model_1.6  Model_1.6 JTD Distinctive  Model_1.6 JTD Progression  Model_1.6 JTD Progression Plus  Model_1.6 JTD Super TCT  Model_1.6 JTDM-2  Model_1.6 JTDM-2 Sprint  Model_1.6 L  Model_1.6 TS  Model_1.6 TS Black Line  Model_1.6 TS Distinctive  Model_1.6 TS Progression  Model_1.9 JTD Distinctive  Model_1.9 JTD Distinctive Plus  Model_1.9 JTD Progression  Model_2.0 JTS Distinctive  Model_2.0 JTS Distinctive Selespeed  Model_2.0 TB  Model_2.0 TS  Model_2.0 TS Distinctive  Model_2.0 TS Executive  Model_2.0 TS Selespeed  Model_2.0 Turbo  Yakıt Tipi_Dizel  Yakıt Tipi_LPG & Benzin  Vites Tipi_Otomatik  Vites Tipi_Yarı Otomatik\n",
       "0           0  252250  2004       1.750        1.971      0.524   NaN      NaN         0         0         1         0         0         0        0               0          0                        0                                        0                         0                                  0                                        0                                0                              0             0                   0                 0          0                          0                          0                               0                        0                 0                        0            0             0                        0                         0                         0                          0                               0                          0                          1                                    0             0             0                         0                       0                       0                0                 0                        1                    0                         1\n",
       "1           1  480000  2011       0.083        0.183      0.037   NaN      NaN         0         0         0         0         0         0        0               1          0                        0                                        0                         0                                  0                                        0                                0                              0             0                   0                 0          0                          1                          0                               0                        0                 0                        0            0             0                        0                         0                         0                          0                               0                          0                          0                                    0             0             0                         0                       0                       0                0                 1                        0                    0                         0\n",
       "2           2  375000  2009       1.472       -0.923     -0.217   NaN      NaN         0         0         0         0         0         0        0               0          1                        1                                        0                         0                                  0                                        0                                0                              0             0                   0                 0          0                          0                          0                               0                        0                 0                        0            0             0                        0                         0                         0                          0                               0                          0                          0                                    0             0             0                         0                       0                       0                0                 0                        0                    0                         0\n",
       "3           3  226000  2004       0.500        0.183      0.685   NaN      NaN         0         1         0         0         0         0        0               0          0                        0                                        0                         0                                  0                                        0                                0                              0             0                   0                 0          0                          0                          0                               0                        0                 0                        0            0             0                        0                         0                         1                          0                               0                          0                          0                                    0             0             0                         0                       0                       0                0                 0                        1                    0                         0\n",
       "4           4  439000  2012       0.083        0.183      0.749 8.000    0.000         0         0         0         0         0         0        0               1          0                        0                                        0                         0                                  0                                        0                                0                              0             0                   0                 0          0                          0                          0                               1                        0                 0                        0            0             0                        0                         0                         0                          0                               0                          0                          0                                    0             0             0                         0                       0                       0                0                 1                        0                    0                         0"
      ]
     },
     "execution_count": 22,
     "metadata": {},
     "output_type": "execute_result"
    }
   ],
   "source": [
    "df2.head()"
   ]
  },
  {
   "cell_type": "code",
   "execution_count": 23,
   "metadata": {
    "id": "vz4ii8sGxApw"
   },
   "outputs": [],
   "source": [
    "y = df2[\"Fiyat\"]\n",
    "X = df2.drop([\"Fiyat\"], axis=1)"
   ]
  },
  {
   "cell_type": "code",
   "execution_count": 24,
   "metadata": {
    "id": "mrXJUKm4xHc-"
   },
   "outputs": [],
   "source": [
    "X_train, X_test, y_train, y_test = train_test_split(X, y, test_size=0.30, random_state=42)"
   ]
  },
  {
   "cell_type": "code",
   "execution_count": 25,
   "metadata": {
    "colab": {
     "base_uri": "https://localhost:8080/",
     "height": 115
    },
    "id": "72D0gX1MxpaM",
    "outputId": "62a9fec2-6e1d-40c5-da62-2f052e83b47d"
   },
   "outputs": [
    {
     "name": "stderr",
     "output_type": "stream",
     "text": [
      "C:\\Users\\senab\\AppData\\Local\\Temp\\ipykernel_14880\\3059390516.py:22: FutureWarning: The frame.append method is deprecated and will be removed from pandas in a future version. Use pandas.concat instead.\n",
      "  dataf = dataf.append(data_list, ignore_index=True)\n"
     ]
    },
    {
     "data": {
      "text/html": [
       "<div>\n",
       "<style scoped>\n",
       "    .dataframe tbody tr th:only-of-type {\n",
       "        vertical-align: middle;\n",
       "    }\n",
       "\n",
       "    .dataframe tbody tr th {\n",
       "        vertical-align: top;\n",
       "    }\n",
       "\n",
       "    .dataframe thead th {\n",
       "        text-align: right;\n",
       "    }\n",
       "</style>\n",
       "<table border=\"1\" class=\"dataframe\">\n",
       "  <thead>\n",
       "    <tr style=\"text-align: right;\">\n",
       "      <th></th>\n",
       "      <th>Model</th>\n",
       "      <th>TestDeger</th>\n",
       "      <th>MSE</th>\n",
       "      <th>RMSE</th>\n",
       "      <th>MAE</th>\n",
       "    </tr>\n",
       "  </thead>\n",
       "  <tbody>\n",
       "    <tr>\n",
       "      <th>0</th>\n",
       "      <td>XGBModel</td>\n",
       "      <td>61364.388</td>\n",
       "      <td>6819368574.839</td>\n",
       "      <td>82579.468</td>\n",
       "      <td>62669.226</td>\n",
       "    </tr>\n",
       "  </tbody>\n",
       "</table>\n",
       "</div>"
      ],
      "text/plain": [
       "      Model  TestDeger            MSE      RMSE       MAE\n",
       "0  XGBModel  61364.388 6819368574.839 82579.468 62669.226"
      ]
     },
     "execution_count": 25,
     "metadata": {},
     "output_type": "execute_result"
    }
   ],
   "source": [
    "df2_model = set_model(models, X_train, X_test, y_train, y_test)\n",
    "df2_model"
   ]
  },
  {
   "cell_type": "code",
   "execution_count": null,
   "metadata": {
    "id": "qEiLtyq2QQ3T"
   },
   "outputs": [],
   "source": [
    "# OPTUNA"
   ]
  },
  {
   "cell_type": "code",
   "execution_count": null,
   "metadata": {
    "id": "Tb2CAh6FQrQM"
   },
   "outputs": [],
   "source": []
  },
  {
   "cell_type": "code",
   "execution_count": 26,
   "metadata": {
    "id": "NPte1lC1QDbk"
   },
   "outputs": [],
   "source": [
    "def objective(n_trials):\n",
    "  params = {\n",
    "        'colsample_bytree': n_trials.suggest_categorical('colsample_bytree', [0.3,0.4,0.5,0.6,0.7,0.8,0.9, 1.0]),\n",
    "        'subsample': n_trials.suggest_categorical('subsample', [0.4,0.5,0.6,0.7,0.8,1.0]),\n",
    "        \"learning_rate\": n_trials.suggest_float(\"learning_rate\", 1e-4, 0.5, log=True),\n",
    "        'n_estimators': 10000,\n",
    "        \"max_depth\": n_trials.suggest_int(\"max_depth\", 3, 15),\n",
    "        'min_child_weight': n_trials.suggest_int('min_child_weight', 1, 300),\n",
    "    }\n",
    "  dtrain = xgb.DMatrix(data = X_train, label = y_train)\n",
    "  dval = xgb.DMatrix(data = X_test, label = y_test)\n",
    "\n",
    "  regressor = xgb.train(params, dtrain) \n",
    "  y_pred = regressor.predict(dval)\n",
    "  rmse = mean_squared_error(y_test, y_pred, squared=False)\n",
    "\n",
    "  return rmse"
   ]
  },
  {
   "cell_type": "code",
   "execution_count": 27,
   "metadata": {
    "colab": {
     "base_uri": "https://localhost:8080/",
     "height": 747
    },
    "id": "O0Ldk7l2QPUy",
    "outputId": "dbb4dcdc-9f85-4235-fb55-218f3a3379ce"
   },
   "outputs": [
    {
     "name": "stderr",
     "output_type": "stream",
     "text": [
      "\u001b[32m[I 2023-05-17 19:31:15,336]\u001b[0m A new study created in memory with name: no-name-69c9482f-cad0-479d-af74-1f4e34baed25\u001b[0m\n",
      "\u001b[32m[I 2023-05-17 19:31:15,356]\u001b[0m Trial 0 finished with value: 411951.05434637755 and parameters: {'colsample_bytree': 0.6, 'subsample': 1.0, 'learning_rate': 0.056634199925253176, 'max_depth': 12, 'min_child_weight': 296}. Best is trial 0 with value: 411951.05434637755.\u001b[0m\n",
      "\u001b[32m[I 2023-05-17 19:31:15,373]\u001b[0m Trial 1 finished with value: 411951.05434637755 and parameters: {'colsample_bytree': 0.6, 'subsample': 0.5, 'learning_rate': 0.009544621501058054, 'max_depth': 15, 'min_child_weight': 78}. Best is trial 0 with value: 411951.05434637755.\u001b[0m\n",
      "\u001b[32m[I 2023-05-17 19:31:15,398]\u001b[0m Trial 2 finished with value: 411951.05434637755 and parameters: {'colsample_bytree': 1.0, 'subsample': 1.0, 'learning_rate': 0.0014892502596388995, 'max_depth': 3, 'min_child_weight': 155}. Best is trial 0 with value: 411951.05434637755.\u001b[0m\n",
      "\u001b[32m[I 2023-05-17 19:31:15,425]\u001b[0m Trial 3 finished with value: 411951.05434637755 and parameters: {'colsample_bytree': 0.9, 'subsample': 0.4, 'learning_rate': 0.004561086449134422, 'max_depth': 8, 'min_child_weight': 125}. Best is trial 0 with value: 411951.05434637755.\u001b[0m\n",
      "\u001b[32m[I 2023-05-17 19:31:15,451]\u001b[0m Trial 4 finished with value: 411951.05434637755 and parameters: {'colsample_bytree': 0.5, 'subsample': 1.0, 'learning_rate': 0.1764940979108902, 'max_depth': 8, 'min_child_weight': 223}. Best is trial 0 with value: 411951.05434637755.\u001b[0m\n",
      "\u001b[32m[I 2023-05-17 19:31:15,472]\u001b[0m Trial 5 finished with value: 411951.05434637755 and parameters: {'colsample_bytree': 0.4, 'subsample': 0.5, 'learning_rate': 0.0009982273721674212, 'max_depth': 10, 'min_child_weight': 103}. Best is trial 0 with value: 411951.05434637755.\u001b[0m\n",
      "\u001b[32m[I 2023-05-17 19:31:15,496]\u001b[0m Trial 6 finished with value: 411951.05434637755 and parameters: {'colsample_bytree': 0.5, 'subsample': 0.7, 'learning_rate': 0.011764759244906853, 'max_depth': 8, 'min_child_weight': 116}. Best is trial 0 with value: 411951.05434637755.\u001b[0m\n",
      "\u001b[32m[I 2023-05-17 19:31:15,520]\u001b[0m Trial 7 finished with value: 411951.05434637755 and parameters: {'colsample_bytree': 0.9, 'subsample': 0.7, 'learning_rate': 0.0001406726095864578, 'max_depth': 3, 'min_child_weight': 179}. Best is trial 0 with value: 411951.05434637755.\u001b[0m\n"
     ]
    },
    {
     "name": "stdout",
     "output_type": "stream",
     "text": [
      "[19:31:15] WARNING: C:\\buildkite-agent\\builds\\buildkite-windows-cpu-autoscaling-group-i-07593ffd91cd9da33-1\\xgboost\\xgboost-ci-windows\\src\\learner.cc:767: \n",
      "Parameters: { \"n_estimators\" } are not used.\n",
      "\n",
      "[19:31:15] WARNING: C:\\buildkite-agent\\builds\\buildkite-windows-cpu-autoscaling-group-i-07593ffd91cd9da33-1\\xgboost\\xgboost-ci-windows\\src\\learner.cc:767: \n",
      "Parameters: { \"n_estimators\" } are not used.\n",
      "\n",
      "[19:31:15] WARNING: C:\\buildkite-agent\\builds\\buildkite-windows-cpu-autoscaling-group-i-07593ffd91cd9da33-1\\xgboost\\xgboost-ci-windows\\src\\learner.cc:767: \n",
      "Parameters: { \"n_estimators\" } are not used.\n",
      "\n",
      "[19:31:15] WARNING: C:\\buildkite-agent\\builds\\buildkite-windows-cpu-autoscaling-group-i-07593ffd91cd9da33-1\\xgboost\\xgboost-ci-windows\\src\\learner.cc:767: \n",
      "Parameters: { \"n_estimators\" } are not used.\n",
      "\n",
      "[19:31:15] WARNING: C:\\buildkite-agent\\builds\\buildkite-windows-cpu-autoscaling-group-i-07593ffd91cd9da33-1\\xgboost\\xgboost-ci-windows\\src\\learner.cc:767: \n",
      "Parameters: { \"n_estimators\" } are not used.\n",
      "\n",
      "[19:31:15] WARNING: C:\\buildkite-agent\\builds\\buildkite-windows-cpu-autoscaling-group-i-07593ffd91cd9da33-1\\xgboost\\xgboost-ci-windows\\src\\learner.cc:767: \n",
      "Parameters: { \"n_estimators\" } are not used.\n",
      "\n",
      "[19:31:15] WARNING: C:\\buildkite-agent\\builds\\buildkite-windows-cpu-autoscaling-group-i-07593ffd91cd9da33-1\\xgboost\\xgboost-ci-windows\\src\\learner.cc:767: \n",
      "Parameters: { \"n_estimators\" } are not used.\n",
      "\n",
      "[19:31:15] WARNING: C:\\buildkite-agent\\builds\\buildkite-windows-cpu-autoscaling-group-i-07593ffd91cd9da33-1\\xgboost\\xgboost-ci-windows\\src\\learner.cc:767: \n",
      "Parameters: { \"n_estimators\" } are not used.\n",
      "\n"
     ]
    },
    {
     "name": "stderr",
     "output_type": "stream",
     "text": [
      "\u001b[32m[I 2023-05-17 19:31:15,545]\u001b[0m Trial 8 finished with value: 411951.05434637755 and parameters: {'colsample_bytree': 0.6, 'subsample': 0.8, 'learning_rate': 0.01745252368472766, 'max_depth': 7, 'min_child_weight': 212}. Best is trial 0 with value: 411951.05434637755.\u001b[0m\n",
      "\u001b[32m[I 2023-05-17 19:31:15,568]\u001b[0m Trial 9 finished with value: 411951.05434637755 and parameters: {'colsample_bytree': 0.4, 'subsample': 0.4, 'learning_rate': 0.0003157244501452953, 'max_depth': 4, 'min_child_weight': 71}. Best is trial 0 with value: 411951.05434637755.\u001b[0m\n",
      "\u001b[32m[I 2023-05-17 19:31:15,613]\u001b[0m Trial 10 finished with value: 411951.05434637755 and parameters: {'colsample_bytree': 0.7, 'subsample': 0.6, 'learning_rate': 0.4644601747845755, 'max_depth': 13, 'min_child_weight': 279}. Best is trial 0 with value: 411951.05434637755.\u001b[0m\n",
      "\u001b[32m[I 2023-05-17 19:31:15,655]\u001b[0m Trial 11 finished with value: 273493.31897582434 and parameters: {'colsample_bytree': 0.6, 'subsample': 0.5, 'learning_rate': 0.04508071592342605, 'max_depth': 15, 'min_child_weight': 2}. Best is trial 11 with value: 273493.31897582434.\u001b[0m\n",
      "\u001b[32m[I 2023-05-17 19:31:15,695]\u001b[0m Trial 12 finished with value: 248854.91563858133 and parameters: {'colsample_bytree': 0.6, 'subsample': 1.0, 'learning_rate': 0.056425051024736744, 'max_depth': 12, 'min_child_weight': 11}. Best is trial 12 with value: 248854.91563858133.\u001b[0m\n",
      "\u001b[32m[I 2023-05-17 19:31:15,736]\u001b[0m Trial 13 finished with value: 259071.52868883143 and parameters: {'colsample_bytree': 0.3, 'subsample': 0.5, 'learning_rate': 0.05171887811803474, 'max_depth': 15, 'min_child_weight': 1}. Best is trial 12 with value: 248854.91563858133.\u001b[0m\n"
     ]
    },
    {
     "name": "stdout",
     "output_type": "stream",
     "text": [
      "[19:31:15] WARNING: C:\\buildkite-agent\\builds\\buildkite-windows-cpu-autoscaling-group-i-07593ffd91cd9da33-1\\xgboost\\xgboost-ci-windows\\src\\learner.cc:767: \n",
      "Parameters: { \"n_estimators\" } are not used.\n",
      "\n",
      "[19:31:15] WARNING: C:\\buildkite-agent\\builds\\buildkite-windows-cpu-autoscaling-group-i-07593ffd91cd9da33-1\\xgboost\\xgboost-ci-windows\\src\\learner.cc:767: \n",
      "Parameters: { \"n_estimators\" } are not used.\n",
      "\n",
      "[19:31:15] WARNING: C:\\buildkite-agent\\builds\\buildkite-windows-cpu-autoscaling-group-i-07593ffd91cd9da33-1\\xgboost\\xgboost-ci-windows\\src\\learner.cc:767: \n",
      "Parameters: { \"n_estimators\" } are not used.\n",
      "\n",
      "[19:31:15] WARNING: C:\\buildkite-agent\\builds\\buildkite-windows-cpu-autoscaling-group-i-07593ffd91cd9da33-1\\xgboost\\xgboost-ci-windows\\src\\learner.cc:767: \n",
      "Parameters: { \"n_estimators\" } are not used.\n",
      "\n",
      "[19:31:15] WARNING: C:\\buildkite-agent\\builds\\buildkite-windows-cpu-autoscaling-group-i-07593ffd91cd9da33-1\\xgboost\\xgboost-ci-windows\\src\\learner.cc:767: \n",
      "Parameters: { \"n_estimators\" } are not used.\n",
      "\n",
      "[19:31:15] WARNING: C:\\buildkite-agent\\builds\\buildkite-windows-cpu-autoscaling-group-i-07593ffd91cd9da33-1\\xgboost\\xgboost-ci-windows\\src\\learner.cc:767: \n",
      "Parameters: { \"n_estimators\" } are not used.\n",
      "\n"
     ]
    },
    {
     "name": "stderr",
     "output_type": "stream",
     "text": [
      "\u001b[32m[I 2023-05-17 19:31:15,780]\u001b[0m Trial 14 finished with value: 200650.32802670426 and parameters: {'colsample_bytree': 0.3, 'subsample': 0.8, 'learning_rate': 0.08439204664271606, 'max_depth': 12, 'min_child_weight': 8}. Best is trial 14 with value: 200650.32802670426.\u001b[0m\n",
      "\u001b[32m[I 2023-05-17 19:31:15,822]\u001b[0m Trial 15 finished with value: 181936.50692666552 and parameters: {'colsample_bytree': 0.3, 'subsample': 0.8, 'learning_rate': 0.15657435938376743, 'max_depth': 11, 'min_child_weight': 41}. Best is trial 15 with value: 181936.50692666552.\u001b[0m\n",
      "\u001b[32m[I 2023-05-17 19:31:15,868]\u001b[0m Trial 16 finished with value: 176494.28217140632 and parameters: {'colsample_bytree': 0.3, 'subsample': 0.8, 'learning_rate': 0.2656966166763518, 'max_depth': 10, 'min_child_weight': 45}. Best is trial 16 with value: 176494.28217140632.\u001b[0m\n",
      "\u001b[32m[I 2023-05-17 19:31:15,908]\u001b[0m Trial 17 finished with value: 178297.6951538514 and parameters: {'colsample_bytree': 0.8, 'subsample': 0.8, 'learning_rate': 0.4048159603097184, 'max_depth': 10, 'min_child_weight': 46}. Best is trial 16 with value: 176494.28217140632.\u001b[0m\n",
      "\u001b[32m[I 2023-05-17 19:31:15,953]\u001b[0m Trial 18 finished with value: 178043.24941304245 and parameters: {'colsample_bytree': 0.8, 'subsample': 0.8, 'learning_rate': 0.371469361655249, 'max_depth': 10, 'min_child_weight': 52}. Best is trial 16 with value: 176494.28217140632.\u001b[0m\n"
     ]
    },
    {
     "name": "stdout",
     "output_type": "stream",
     "text": [
      "[19:31:15] WARNING: C:\\buildkite-agent\\builds\\buildkite-windows-cpu-autoscaling-group-i-07593ffd91cd9da33-1\\xgboost\\xgboost-ci-windows\\src\\learner.cc:767: \n",
      "Parameters: { \"n_estimators\" } are not used.\n",
      "\n",
      "[19:31:15] WARNING: C:\\buildkite-agent\\builds\\buildkite-windows-cpu-autoscaling-group-i-07593ffd91cd9da33-1\\xgboost\\xgboost-ci-windows\\src\\learner.cc:767: \n",
      "Parameters: { \"n_estimators\" } are not used.\n",
      "\n",
      "[19:31:15] WARNING: C:\\buildkite-agent\\builds\\buildkite-windows-cpu-autoscaling-group-i-07593ffd91cd9da33-1\\xgboost\\xgboost-ci-windows\\src\\learner.cc:767: \n",
      "Parameters: { \"n_estimators\" } are not used.\n",
      "\n",
      "[19:31:15] WARNING: C:\\buildkite-agent\\builds\\buildkite-windows-cpu-autoscaling-group-i-07593ffd91cd9da33-1\\xgboost\\xgboost-ci-windows\\src\\learner.cc:767: \n",
      "Parameters: { \"n_estimators\" } are not used.\n",
      "\n",
      "[19:31:15] WARNING: C:\\buildkite-agent\\builds\\buildkite-windows-cpu-autoscaling-group-i-07593ffd91cd9da33-1\\xgboost\\xgboost-ci-windows\\src\\learner.cc:767: \n",
      "Parameters: { \"n_estimators\" } are not used.\n",
      "\n"
     ]
    },
    {
     "name": "stderr",
     "output_type": "stream",
     "text": [
      "\u001b[32m[I 2023-05-17 19:31:15,996]\u001b[0m Trial 19 finished with value: 178564.62169784005 and parameters: {'colsample_bytree': 0.8, 'subsample': 0.8, 'learning_rate': 0.4772499194625262, 'max_depth': 6, 'min_child_weight': 52}. Best is trial 16 with value: 176494.28217140632.\u001b[0m\n",
      "\u001b[32m[I 2023-05-17 19:31:16,035]\u001b[0m Trial 20 finished with value: 411951.05434637755 and parameters: {'colsample_bytree': 0.8, 'subsample': 0.6, 'learning_rate': 0.1730928940783559, 'max_depth': 6, 'min_child_weight': 89}. Best is trial 16 with value: 176494.28217140632.\u001b[0m\n",
      "\u001b[32m[I 2023-05-17 19:31:16,073]\u001b[0m Trial 21 finished with value: 178507.34227909232 and parameters: {'colsample_bytree': 0.8, 'subsample': 0.8, 'learning_rate': 0.4531875670877141, 'max_depth': 10, 'min_child_weight': 48}. Best is trial 16 with value: 176494.28217140632.\u001b[0m\n",
      "\u001b[32m[I 2023-05-17 19:31:16,116]\u001b[0m Trial 22 finished with value: 91952.073311765 and parameters: {'colsample_bytree': 0.8, 'subsample': 0.8, 'learning_rate': 0.21522951267963922, 'max_depth': 10, 'min_child_weight': 32}. Best is trial 22 with value: 91952.073311765.\u001b[0m\n",
      "\u001b[32m[I 2023-05-17 19:31:16,158]\u001b[0m Trial 23 finished with value: 101518.02994127183 and parameters: {'colsample_bytree': 0.8, 'subsample': 0.8, 'learning_rate': 0.19493873133336298, 'max_depth': 9, 'min_child_weight': 33}. Best is trial 22 with value: 91952.073311765.\u001b[0m\n",
      "\u001b[32m[I 2023-05-17 19:31:16,202]\u001b[0m Trial 24 finished with value: 321514.0549372739 and parameters: {'colsample_bytree': 1.0, 'subsample': 0.8, 'learning_rate': 0.028433234673978448, 'max_depth': 9, 'min_child_weight': 30}. Best is trial 22 with value: 91952.073311765.\u001b[0m\n"
     ]
    },
    {
     "name": "stdout",
     "output_type": "stream",
     "text": [
      "[19:31:15] WARNING: C:\\buildkite-agent\\builds\\buildkite-windows-cpu-autoscaling-group-i-07593ffd91cd9da33-1\\xgboost\\xgboost-ci-windows\\src\\learner.cc:767: \n",
      "Parameters: { \"n_estimators\" } are not used.\n",
      "\n",
      "[19:31:16] WARNING: C:\\buildkite-agent\\builds\\buildkite-windows-cpu-autoscaling-group-i-07593ffd91cd9da33-1\\xgboost\\xgboost-ci-windows\\src\\learner.cc:767: \n",
      "Parameters: { \"n_estimators\" } are not used.\n",
      "\n",
      "[19:31:16] WARNING: C:\\buildkite-agent\\builds\\buildkite-windows-cpu-autoscaling-group-i-07593ffd91cd9da33-1\\xgboost\\xgboost-ci-windows\\src\\learner.cc:767: \n",
      "Parameters: { \"n_estimators\" } are not used.\n",
      "\n",
      "[19:31:16] WARNING: C:\\buildkite-agent\\builds\\buildkite-windows-cpu-autoscaling-group-i-07593ffd91cd9da33-1\\xgboost\\xgboost-ci-windows\\src\\learner.cc:767: \n",
      "Parameters: { \"n_estimators\" } are not used.\n",
      "\n",
      "[19:31:16] WARNING: C:\\buildkite-agent\\builds\\buildkite-windows-cpu-autoscaling-group-i-07593ffd91cd9da33-1\\xgboost\\xgboost-ci-windows\\src\\learner.cc:767: \n",
      "Parameters: { \"n_estimators\" } are not used.\n",
      "\n",
      "[19:31:16] WARNING: C:\\buildkite-agent\\builds\\buildkite-windows-cpu-autoscaling-group-i-07593ffd91cd9da33-1\\xgboost\\xgboost-ci-windows\\src\\learner.cc:767: \n",
      "Parameters: { \"n_estimators\" } are not used.\n",
      "\n"
     ]
    },
    {
     "name": "stderr",
     "output_type": "stream",
     "text": [
      "\u001b[32m[I 2023-05-17 19:31:16,245]\u001b[0m Trial 25 finished with value: 411951.05434637755 and parameters: {'colsample_bytree': 0.7, 'subsample': 0.8, 'learning_rate': 0.11685794006577263, 'max_depth': 9, 'min_child_weight': 137}. Best is trial 22 with value: 91952.073311765.\u001b[0m\n",
      "\u001b[32m[I 2023-05-17 19:31:16,289]\u001b[0m Trial 26 finished with value: 186054.91265066643 and parameters: {'colsample_bytree': 0.3, 'subsample': 0.8, 'learning_rate': 0.22798086389181813, 'max_depth': 13, 'min_child_weight': 68}. Best is trial 22 with value: 91952.073311765.\u001b[0m\n",
      "\u001b[32m[I 2023-05-17 19:31:16,334]\u001b[0m Trial 27 finished with value: 178029.486669794 and parameters: {'colsample_bytree': 0.8, 'subsample': 0.8, 'learning_rate': 0.09546530561947159, 'max_depth': 11, 'min_child_weight': 21}. Best is trial 22 with value: 91952.073311765.\u001b[0m\n",
      "\u001b[32m[I 2023-05-17 19:31:16,384]\u001b[0m Trial 28 finished with value: 411951.05434637755 and parameters: {'colsample_bytree': 0.8, 'subsample': 0.4, 'learning_rate': 0.23926385142946427, 'max_depth': 6, 'min_child_weight': 95}. Best is trial 22 with value: 91952.073311765.\u001b[0m\n",
      "\u001b[32m[I 2023-05-17 19:31:16,428]\u001b[0m Trial 29 finished with value: 411951.05434637755 and parameters: {'colsample_bytree': 0.3, 'subsample': 0.6, 'learning_rate': 0.07516551089312747, 'max_depth': 11, 'min_child_weight': 159}. Best is trial 22 with value: 91952.073311765.\u001b[0m\n"
     ]
    },
    {
     "name": "stdout",
     "output_type": "stream",
     "text": [
      "[19:31:16] WARNING: C:\\buildkite-agent\\builds\\buildkite-windows-cpu-autoscaling-group-i-07593ffd91cd9da33-1\\xgboost\\xgboost-ci-windows\\src\\learner.cc:767: \n",
      "Parameters: { \"n_estimators\" } are not used.\n",
      "\n",
      "[19:31:16] WARNING: C:\\buildkite-agent\\builds\\buildkite-windows-cpu-autoscaling-group-i-07593ffd91cd9da33-1\\xgboost\\xgboost-ci-windows\\src\\learner.cc:767: \n",
      "Parameters: { \"n_estimators\" } are not used.\n",
      "\n",
      "[19:31:16] WARNING: C:\\buildkite-agent\\builds\\buildkite-windows-cpu-autoscaling-group-i-07593ffd91cd9da33-1\\xgboost\\xgboost-ci-windows\\src\\learner.cc:767: \n",
      "Parameters: { \"n_estimators\" } are not used.\n",
      "\n",
      "[19:31:16] WARNING: C:\\buildkite-agent\\builds\\buildkite-windows-cpu-autoscaling-group-i-07593ffd91cd9da33-1\\xgboost\\xgboost-ci-windows\\src\\learner.cc:767: \n",
      "Parameters: { \"n_estimators\" } are not used.\n",
      "\n",
      "[19:31:16] WARNING: C:\\buildkite-agent\\builds\\buildkite-windows-cpu-autoscaling-group-i-07593ffd91cd9da33-1\\xgboost\\xgboost-ci-windows\\src\\learner.cc:767: \n",
      "Parameters: { \"n_estimators\" } are not used.\n",
      "\n"
     ]
    },
    {
     "name": "stderr",
     "output_type": "stream",
     "text": [
      "\u001b[32m[I 2023-05-17 19:31:16,475]\u001b[0m Trial 30 finished with value: 301732.68369940337 and parameters: {'colsample_bytree': 0.8, 'subsample': 0.7, 'learning_rate': 0.03533617170355671, 'max_depth': 13, 'min_child_weight': 27}. Best is trial 22 with value: 91952.073311765.\u001b[0m\n",
      "\u001b[32m[I 2023-05-17 19:31:16,522]\u001b[0m Trial 31 finished with value: 157179.40604405804 and parameters: {'colsample_bytree': 0.8, 'subsample': 0.8, 'learning_rate': 0.1137069735007723, 'max_depth': 11, 'min_child_weight': 29}. Best is trial 22 with value: 91952.073311765.\u001b[0m\n",
      "\u001b[32m[I 2023-05-17 19:31:16,567]\u001b[0m Trial 32 finished with value: 411951.05434637755 and parameters: {'colsample_bytree': 0.8, 'subsample': 0.8, 'learning_rate': 0.11018050982162378, 'max_depth': 9, 'min_child_weight': 75}. Best is trial 22 with value: 91952.073311765.\u001b[0m\n",
      "\u001b[32m[I 2023-05-17 19:31:16,614]\u001b[0m Trial 33 finished with value: 90378.63562147532 and parameters: {'colsample_bytree': 1.0, 'subsample': 0.8, 'learning_rate': 0.24273695558285346, 'max_depth': 11, 'min_child_weight': 30}. Best is trial 33 with value: 90378.63562147532.\u001b[0m\n"
     ]
    },
    {
     "name": "stdout",
     "output_type": "stream",
     "text": [
      "[19:31:16] WARNING: C:\\buildkite-agent\\builds\\buildkite-windows-cpu-autoscaling-group-i-07593ffd91cd9da33-1\\xgboost\\xgboost-ci-windows\\src\\learner.cc:767: \n",
      "Parameters: { \"n_estimators\" } are not used.\n",
      "\n",
      "[19:31:16] WARNING: C:\\buildkite-agent\\builds\\buildkite-windows-cpu-autoscaling-group-i-07593ffd91cd9da33-1\\xgboost\\xgboost-ci-windows\\src\\learner.cc:767: \n",
      "Parameters: { \"n_estimators\" } are not used.\n",
      "\n",
      "[19:31:16] WARNING: C:\\buildkite-agent\\builds\\buildkite-windows-cpu-autoscaling-group-i-07593ffd91cd9da33-1\\xgboost\\xgboost-ci-windows\\src\\learner.cc:767: \n",
      "Parameters: { \"n_estimators\" } are not used.\n",
      "\n",
      "[19:31:16] WARNING: C:\\buildkite-agent\\builds\\buildkite-windows-cpu-autoscaling-group-i-07593ffd91cd9da33-1\\xgboost\\xgboost-ci-windows\\src\\learner.cc:767: \n",
      "Parameters: { \"n_estimators\" } are not used.\n",
      "\n",
      "[19:31:16] WARNING: C:\\buildkite-agent\\builds\\buildkite-windows-cpu-autoscaling-group-i-07593ffd91cd9da33-1\\xgboost\\xgboost-ci-windows\\src\\learner.cc:767: \n",
      "Parameters: { \"n_estimators\" } are not used.\n",
      "\n"
     ]
    },
    {
     "name": "stderr",
     "output_type": "stream",
     "text": [
      "\u001b[32m[I 2023-05-17 19:31:16,666]\u001b[0m Trial 34 finished with value: 153398.23093147506 and parameters: {'colsample_bytree': 1.0, 'subsample': 0.8, 'learning_rate': 0.11939983695423681, 'max_depth': 11, 'min_child_weight': 28}. Best is trial 33 with value: 90378.63562147532.\u001b[0m\n",
      "\u001b[32m[I 2023-05-17 19:31:16,742]\u001b[0m Trial 35 finished with value: 176705.7184820699 and parameters: {'colsample_bytree': 1.0, 'subsample': 1.0, 'learning_rate': 0.28059877966059704, 'max_depth': 14, 'min_child_weight': 64}. Best is trial 33 with value: 90378.63562147532.\u001b[0m\n",
      "\u001b[32m[I 2023-05-17 19:31:16,813]\u001b[0m Trial 36 finished with value: 411951.05434637755 and parameters: {'colsample_bytree': 1.0, 'subsample': 0.8, 'learning_rate': 0.20364483881504217, 'max_depth': 12, 'min_child_weight': 86}. Best is trial 33 with value: 90378.63562147532.\u001b[0m\n",
      "\u001b[32m[I 2023-05-17 19:31:16,890]\u001b[0m Trial 37 finished with value: 411951.05434637755 and parameters: {'colsample_bytree': 1.0, 'subsample': 0.4, 'learning_rate': 0.13980794219023474, 'max_depth': 9, 'min_child_weight': 115}. Best is trial 33 with value: 90378.63562147532.\u001b[0m\n"
     ]
    },
    {
     "name": "stdout",
     "output_type": "stream",
     "text": [
      "[19:31:16] WARNING: C:\\buildkite-agent\\builds\\buildkite-windows-cpu-autoscaling-group-i-07593ffd91cd9da33-1\\xgboost\\xgboost-ci-windows\\src\\learner.cc:767: \n",
      "Parameters: { \"n_estimators\" } are not used.\n",
      "\n",
      "[19:31:16] WARNING: C:\\buildkite-agent\\builds\\buildkite-windows-cpu-autoscaling-group-i-07593ffd91cd9da33-1\\xgboost\\xgboost-ci-windows\\src\\learner.cc:767: \n",
      "Parameters: { \"n_estimators\" } are not used.\n",
      "\n",
      "[19:31:16] WARNING: C:\\buildkite-agent\\builds\\buildkite-windows-cpu-autoscaling-group-i-07593ffd91cd9da33-1\\xgboost\\xgboost-ci-windows\\src\\learner.cc:767: \n",
      "Parameters: { \"n_estimators\" } are not used.\n",
      "\n"
     ]
    },
    {
     "name": "stderr",
     "output_type": "stream",
     "text": [
      "\u001b[32m[I 2023-05-17 19:31:16,969]\u001b[0m Trial 38 finished with value: 411951.05434637755 and parameters: {'colsample_bytree': 1.0, 'subsample': 0.8, 'learning_rate': 0.06498917721274453, 'max_depth': 8, 'min_child_weight': 280}. Best is trial 33 with value: 90378.63562147532.\u001b[0m\n",
      "\u001b[32m[I 2023-05-17 19:31:17,020]\u001b[0m Trial 39 finished with value: 347121.0134900373 and parameters: {'colsample_bytree': 0.5, 'subsample': 0.7, 'learning_rate': 0.018979338168714006, 'max_depth': 7, 'min_child_weight': 29}. Best is trial 33 with value: 90378.63562147532.\u001b[0m\n",
      "\u001b[32m[I 2023-05-17 19:31:17,069]\u001b[0m Trial 40 finished with value: 411951.05434637755 and parameters: {'colsample_bytree': 0.9, 'subsample': 0.5, 'learning_rate': 0.005773275729709569, 'max_depth': 7, 'min_child_weight': 194}. Best is trial 33 with value: 90378.63562147532.\u001b[0m\n",
      "\u001b[32m[I 2023-05-17 19:31:17,112]\u001b[0m Trial 41 finished with value: 134931.55457822955 and parameters: {'colsample_bytree': 1.0, 'subsample': 0.8, 'learning_rate': 0.13010452904441303, 'max_depth': 11, 'min_child_weight': 23}. Best is trial 33 with value: 90378.63562147532.\u001b[0m\n"
     ]
    },
    {
     "name": "stdout",
     "output_type": "stream",
     "text": [
      "[19:31:16] WARNING: C:\\buildkite-agent\\builds\\buildkite-windows-cpu-autoscaling-group-i-07593ffd91cd9da33-1\\xgboost\\xgboost-ci-windows\\src\\learner.cc:767: \n",
      "Parameters: { \"n_estimators\" } are not used.\n",
      "\n",
      "[19:31:17] WARNING: C:\\buildkite-agent\\builds\\buildkite-windows-cpu-autoscaling-group-i-07593ffd91cd9da33-1\\xgboost\\xgboost-ci-windows\\src\\learner.cc:767: \n",
      "Parameters: { \"n_estimators\" } are not used.\n",
      "\n",
      "[19:31:17] WARNING: C:\\buildkite-agent\\builds\\buildkite-windows-cpu-autoscaling-group-i-07593ffd91cd9da33-1\\xgboost\\xgboost-ci-windows\\src\\learner.cc:767: \n",
      "Parameters: { \"n_estimators\" } are not used.\n",
      "\n",
      "[19:31:17] WARNING: C:\\buildkite-agent\\builds\\buildkite-windows-cpu-autoscaling-group-i-07593ffd91cd9da33-1\\xgboost\\xgboost-ci-windows\\src\\learner.cc:767: \n",
      "Parameters: { \"n_estimators\" } are not used.\n",
      "\n",
      "[19:31:17] WARNING: C:\\buildkite-agent\\builds\\buildkite-windows-cpu-autoscaling-group-i-07593ffd91cd9da33-1\\xgboost\\xgboost-ci-windows\\src\\learner.cc:767: \n",
      "Parameters: { \"n_estimators\" } are not used.\n",
      "\n"
     ]
    },
    {
     "name": "stderr",
     "output_type": "stream",
     "text": [
      "\u001b[32m[I 2023-05-17 19:31:17,162]\u001b[0m Trial 42 finished with value: 110626.92411012895 and parameters: {'colsample_bytree': 1.0, 'subsample': 0.8, 'learning_rate': 0.17348249313413192, 'max_depth': 12, 'min_child_weight': 16}. Best is trial 33 with value: 90378.63562147532.\u001b[0m\n",
      "\u001b[32m[I 2023-05-17 19:31:17,216]\u001b[0m Trial 43 finished with value: 111431.13404726514 and parameters: {'colsample_bytree': 1.0, 'subsample': 0.8, 'learning_rate': 0.1761094285576291, 'max_depth': 12, 'min_child_weight': 17}. Best is trial 33 with value: 90378.63562147532.\u001b[0m\n",
      "\u001b[32m[I 2023-05-17 19:31:17,262]\u001b[0m Trial 44 finished with value: 177018.71673500972 and parameters: {'colsample_bytree': 0.4, 'subsample': 1.0, 'learning_rate': 0.2993440377301691, 'max_depth': 12, 'min_child_weight': 61}. Best is trial 33 with value: 90378.63562147532.\u001b[0m\n",
      "\u001b[32m[I 2023-05-17 19:31:17,308]\u001b[0m Trial 45 finished with value: 85296.82729185757 and parameters: {'colsample_bytree': 1.0, 'subsample': 0.8, 'learning_rate': 0.19086585286392246, 'max_depth': 14, 'min_child_weight': 7}. Best is trial 45 with value: 85296.82729185757.\u001b[0m\n",
      "\u001b[32m[I 2023-05-17 19:31:17,356]\u001b[0m Trial 46 finished with value: 217292.10271281327 and parameters: {'colsample_bytree': 1.0, 'subsample': 0.6, 'learning_rate': 0.07497275925228429, 'max_depth': 14, 'min_child_weight': 3}. Best is trial 45 with value: 85296.82729185757.\u001b[0m\n",
      "\u001b[32m[I 2023-05-17 19:31:17,402]\u001b[0m Trial 47 finished with value: 411951.05434637755 and parameters: {'colsample_bytree': 0.7, 'subsample': 0.8, 'learning_rate': 0.3289430276644884, 'max_depth': 14, 'min_child_weight': 241}. Best is trial 45 with value: 85296.82729185757.\u001b[0m\n"
     ]
    },
    {
     "name": "stdout",
     "output_type": "stream",
     "text": [
      "[19:31:17] WARNING: C:\\buildkite-agent\\builds\\buildkite-windows-cpu-autoscaling-group-i-07593ffd91cd9da33-1\\xgboost\\xgboost-ci-windows\\src\\learner.cc:767: \n",
      "Parameters: { \"n_estimators\" } are not used.\n",
      "\n",
      "[19:31:17] WARNING: C:\\buildkite-agent\\builds\\buildkite-windows-cpu-autoscaling-group-i-07593ffd91cd9da33-1\\xgboost\\xgboost-ci-windows\\src\\learner.cc:767: \n",
      "Parameters: { \"n_estimators\" } are not used.\n",
      "\n",
      "[19:31:17] WARNING: C:\\buildkite-agent\\builds\\buildkite-windows-cpu-autoscaling-group-i-07593ffd91cd9da33-1\\xgboost\\xgboost-ci-windows\\src\\learner.cc:767: \n",
      "Parameters: { \"n_estimators\" } are not used.\n",
      "\n",
      "[19:31:17] WARNING: C:\\buildkite-agent\\builds\\buildkite-windows-cpu-autoscaling-group-i-07593ffd91cd9da33-1\\xgboost\\xgboost-ci-windows\\src\\learner.cc:767: \n",
      "Parameters: { \"n_estimators\" } are not used.\n",
      "\n",
      "[19:31:17] WARNING: C:\\buildkite-agent\\builds\\buildkite-windows-cpu-autoscaling-group-i-07593ffd91cd9da33-1\\xgboost\\xgboost-ci-windows\\src\\learner.cc:767: \n",
      "Parameters: { \"n_estimators\" } are not used.\n",
      "\n"
     ]
    },
    {
     "name": "stderr",
     "output_type": "stream",
     "text": [
      "\u001b[32m[I 2023-05-17 19:31:17,449]\u001b[0m Trial 48 finished with value: 254977.0034098583 and parameters: {'colsample_bytree': 0.5, 'subsample': 0.4, 'learning_rate': 0.18849009259108454, 'max_depth': 13, 'min_child_weight': 37}. Best is trial 45 with value: 85296.82729185757.\u001b[0m\n",
      "\u001b[32m[I 2023-05-17 19:31:17,499]\u001b[0m Trial 49 finished with value: 271267.7732500547 and parameters: {'colsample_bytree': 0.9, 'subsample': 0.5, 'learning_rate': 0.04838324588139206, 'max_depth': 15, 'min_child_weight': 13}. Best is trial 45 with value: 85296.82729185757.\u001b[0m\n"
     ]
    },
    {
     "name": "stdout",
     "output_type": "stream",
     "text": [
      "[19:31:17] WARNING: C:\\buildkite-agent\\builds\\buildkite-windows-cpu-autoscaling-group-i-07593ffd91cd9da33-1\\xgboost\\xgboost-ci-windows\\src\\learner.cc:767: \n",
      "Parameters: { \"n_estimators\" } are not used.\n",
      "\n",
      "[19:31:17] WARNING: C:\\buildkite-agent\\builds\\buildkite-windows-cpu-autoscaling-group-i-07593ffd91cd9da33-1\\xgboost\\xgboost-ci-windows\\src\\learner.cc:767: \n",
      "Parameters: { \"n_estimators\" } are not used.\n",
      "\n",
      "[19:31:17] WARNING: C:\\buildkite-agent\\builds\\buildkite-windows-cpu-autoscaling-group-i-07593ffd91cd9da33-1\\xgboost\\xgboost-ci-windows\\src\\learner.cc:767: \n",
      "Parameters: { \"n_estimators\" } are not used.\n",
      "\n"
     ]
    },
    {
     "name": "stderr",
     "output_type": "stream",
     "text": [
      "\u001b[32m[I 2023-05-17 19:31:17,649]\u001b[0m Trial 50 finished with value: 176462.4201048853 and parameters: {'colsample_bytree': 0.6, 'subsample': 0.7, 'learning_rate': 0.2906718525281567, 'max_depth': 10, 'min_child_weight': 59}. Best is trial 45 with value: 85296.82729185757.\u001b[0m\n",
      "\u001b[32m[I 2023-05-17 19:31:17,701]\u001b[0m Trial 51 finished with value: 109553.24843091168 and parameters: {'colsample_bytree': 1.0, 'subsample': 0.8, 'learning_rate': 0.17754996522985045, 'max_depth': 12, 'min_child_weight': 16}. Best is trial 45 with value: 85296.82729185757.\u001b[0m\n",
      "\u001b[32m[I 2023-05-17 19:31:17,750]\u001b[0m Trial 52 finished with value: 99257.38283241223 and parameters: {'colsample_bytree': 1.0, 'subsample': 0.8, 'learning_rate': 0.18241433248942837, 'max_depth': 14, 'min_child_weight': 14}. Best is trial 45 with value: 85296.82729185757.\u001b[0m\n",
      "\u001b[32m[I 2023-05-17 19:31:17,796]\u001b[0m Trial 53 finished with value: 177800.50152072325 and parameters: {'colsample_bytree': 1.0, 'subsample': 0.8, 'learning_rate': 0.3486941006174422, 'max_depth': 14, 'min_child_weight': 38}. Best is trial 45 with value: 85296.82729185757.\u001b[0m\n",
      "\u001b[32m[I 2023-05-17 19:31:17,842]\u001b[0m Trial 54 finished with value: 201309.2020981502 and parameters: {'colsample_bytree': 1.0, 'subsample': 0.8, 'learning_rate': 0.07973891149816711, 'max_depth': 13, 'min_child_weight': 2}. Best is trial 45 with value: 85296.82729185757.\u001b[0m\n",
      "\u001b[32m[I 2023-05-17 19:31:17,891]\u001b[0m Trial 55 finished with value: 176172.42163282842 and parameters: {'colsample_bytree': 1.0, 'subsample': 0.8, 'learning_rate': 0.2336044878354869, 'max_depth': 15, 'min_child_weight': 40}. Best is trial 45 with value: 85296.82729185757.\u001b[0m\n"
     ]
    },
    {
     "name": "stdout",
     "output_type": "stream",
     "text": [
      "[19:31:17] WARNING: C:\\buildkite-agent\\builds\\buildkite-windows-cpu-autoscaling-group-i-07593ffd91cd9da33-1\\xgboost\\xgboost-ci-windows\\src\\learner.cc:767: \n",
      "Parameters: { \"n_estimators\" } are not used.\n",
      "\n",
      "[19:31:17] WARNING: C:\\buildkite-agent\\builds\\buildkite-windows-cpu-autoscaling-group-i-07593ffd91cd9da33-1\\xgboost\\xgboost-ci-windows\\src\\learner.cc:767: \n",
      "Parameters: { \"n_estimators\" } are not used.\n",
      "\n",
      "[19:31:17] WARNING: C:\\buildkite-agent\\builds\\buildkite-windows-cpu-autoscaling-group-i-07593ffd91cd9da33-1\\xgboost\\xgboost-ci-windows\\src\\learner.cc:767: \n",
      "Parameters: { \"n_estimators\" } are not used.\n",
      "\n",
      "[19:31:17] WARNING: C:\\buildkite-agent\\builds\\buildkite-windows-cpu-autoscaling-group-i-07593ffd91cd9da33-1\\xgboost\\xgboost-ci-windows\\src\\learner.cc:767: \n",
      "Parameters: { \"n_estimators\" } are not used.\n",
      "\n",
      "[19:31:17] WARNING: C:\\buildkite-agent\\builds\\buildkite-windows-cpu-autoscaling-group-i-07593ffd91cd9da33-1\\xgboost\\xgboost-ci-windows\\src\\learner.cc:767: \n",
      "Parameters: { \"n_estimators\" } are not used.\n",
      "\n"
     ]
    },
    {
     "name": "stderr",
     "output_type": "stream",
     "text": [
      "\u001b[32m[I 2023-05-17 19:31:17,946]\u001b[0m Trial 56 finished with value: 78948.49418088682 and parameters: {'colsample_bytree': 0.4, 'subsample': 0.8, 'learning_rate': 0.44041559338061154, 'max_depth': 8, 'min_child_weight': 13}. Best is trial 56 with value: 78948.49418088682.\u001b[0m\n",
      "\u001b[32m[I 2023-05-17 19:31:17,995]\u001b[0m Trial 57 finished with value: 178452.3815136153 and parameters: {'colsample_bytree': 0.4, 'subsample': 1.0, 'learning_rate': 0.4628179890995677, 'max_depth': 8, 'min_child_weight': 55}. Best is trial 56 with value: 78948.49418088682.\u001b[0m\n",
      "\u001b[32m[I 2023-05-17 19:31:18,042]\u001b[0m Trial 58 finished with value: 73915.21763562568 and parameters: {'colsample_bytree': 0.4, 'subsample': 0.8, 'learning_rate': 0.38925994977289335, 'max_depth': 8, 'min_child_weight': 11}. Best is trial 58 with value: 73915.21763562568.\u001b[0m\n",
      "\u001b[32m[I 2023-05-17 19:31:18,094]\u001b[0m Trial 59 finished with value: 84774.74039655147 and parameters: {'colsample_bytree': 0.4, 'subsample': 0.8, 'learning_rate': 0.48701082227281234, 'max_depth': 5, 'min_child_weight': 8}. Best is trial 58 with value: 73915.21763562568.\u001b[0m\n",
      "\u001b[32m[I 2023-05-17 19:31:18,143]\u001b[0m Trial 60 finished with value: 83117.9166713524 and parameters: {'colsample_bytree': 0.4, 'subsample': 0.8, 'learning_rate': 0.475974170733094, 'max_depth': 4, 'min_child_weight': 8}. Best is trial 58 with value: 73915.21763562568.\u001b[0m\n"
     ]
    },
    {
     "name": "stdout",
     "output_type": "stream",
     "text": [
      "[19:31:17] WARNING: C:\\buildkite-agent\\builds\\buildkite-windows-cpu-autoscaling-group-i-07593ffd91cd9da33-1\\xgboost\\xgboost-ci-windows\\src\\learner.cc:767: \n",
      "Parameters: { \"n_estimators\" } are not used.\n",
      "\n",
      "[19:31:17] WARNING: C:\\buildkite-agent\\builds\\buildkite-windows-cpu-autoscaling-group-i-07593ffd91cd9da33-1\\xgboost\\xgboost-ci-windows\\src\\learner.cc:767: \n",
      "Parameters: { \"n_estimators\" } are not used.\n",
      "\n",
      "[19:31:18] WARNING: C:\\buildkite-agent\\builds\\buildkite-windows-cpu-autoscaling-group-i-07593ffd91cd9da33-1\\xgboost\\xgboost-ci-windows\\src\\learner.cc:767: \n",
      "Parameters: { \"n_estimators\" } are not used.\n",
      "\n",
      "[19:31:18] WARNING: C:\\buildkite-agent\\builds\\buildkite-windows-cpu-autoscaling-group-i-07593ffd91cd9da33-1\\xgboost\\xgboost-ci-windows\\src\\learner.cc:767: \n",
      "Parameters: { \"n_estimators\" } are not used.\n",
      "\n",
      "[19:31:18] WARNING: C:\\buildkite-agent\\builds\\buildkite-windows-cpu-autoscaling-group-i-07593ffd91cd9da33-1\\xgboost\\xgboost-ci-windows\\src\\learner.cc:767: \n",
      "Parameters: { \"n_estimators\" } are not used.\n",
      "\n"
     ]
    },
    {
     "name": "stderr",
     "output_type": "stream",
     "text": [
      "\u001b[32m[I 2023-05-17 19:31:18,200]\u001b[0m Trial 61 finished with value: 91288.84429072535 and parameters: {'colsample_bytree': 0.4, 'subsample': 0.8, 'learning_rate': 0.4925436029583853, 'max_depth': 4, 'min_child_weight': 3}. Best is trial 58 with value: 73915.21763562568.\u001b[0m\n",
      "\u001b[32m[I 2023-05-17 19:31:18,255]\u001b[0m Trial 62 finished with value: 75604.11678698793 and parameters: {'colsample_bytree': 0.4, 'subsample': 0.8, 'learning_rate': 0.37430818280476974, 'max_depth': 4, 'min_child_weight': 1}. Best is trial 58 with value: 73915.21763562568.\u001b[0m\n",
      "\u001b[32m[I 2023-05-17 19:31:18,309]\u001b[0m Trial 63 finished with value: 82437.300351805 and parameters: {'colsample_bytree': 0.4, 'subsample': 0.8, 'learning_rate': 0.3544613194248797, 'max_depth': 4, 'min_child_weight': 8}. Best is trial 58 with value: 73915.21763562568.\u001b[0m\n",
      "\u001b[32m[I 2023-05-17 19:31:18,364]\u001b[0m Trial 64 finished with value: 83189.57944055757 and parameters: {'colsample_bytree': 0.4, 'subsample': 0.8, 'learning_rate': 0.3597281482945506, 'max_depth': 4, 'min_child_weight': 10}. Best is trial 58 with value: 73915.21763562568.\u001b[0m\n"
     ]
    },
    {
     "name": "stdout",
     "output_type": "stream",
     "text": [
      "[19:31:18] WARNING: C:\\buildkite-agent\\builds\\buildkite-windows-cpu-autoscaling-group-i-07593ffd91cd9da33-1\\xgboost\\xgboost-ci-windows\\src\\learner.cc:767: \n",
      "Parameters: { \"n_estimators\" } are not used.\n",
      "\n",
      "[19:31:18] WARNING: C:\\buildkite-agent\\builds\\buildkite-windows-cpu-autoscaling-group-i-07593ffd91cd9da33-1\\xgboost\\xgboost-ci-windows\\src\\learner.cc:767: \n",
      "Parameters: { \"n_estimators\" } are not used.\n",
      "\n",
      "[19:31:18] WARNING: C:\\buildkite-agent\\builds\\buildkite-windows-cpu-autoscaling-group-i-07593ffd91cd9da33-1\\xgboost\\xgboost-ci-windows\\src\\learner.cc:767: \n",
      "Parameters: { \"n_estimators\" } are not used.\n",
      "\n",
      "[19:31:18] WARNING: C:\\buildkite-agent\\builds\\buildkite-windows-cpu-autoscaling-group-i-07593ffd91cd9da33-1\\xgboost\\xgboost-ci-windows\\src\\learner.cc:767: \n",
      "Parameters: { \"n_estimators\" } are not used.\n",
      "\n"
     ]
    },
    {
     "name": "stderr",
     "output_type": "stream",
     "text": [
      "\u001b[32m[I 2023-05-17 19:31:18,418]\u001b[0m Trial 65 finished with value: 74005.60300170767 and parameters: {'colsample_bytree': 0.4, 'subsample': 0.6, 'learning_rate': 0.3821776908847528, 'max_depth': 4, 'min_child_weight': 10}. Best is trial 58 with value: 73915.21763562568.\u001b[0m\n",
      "\u001b[32m[I 2023-05-17 19:31:18,468]\u001b[0m Trial 66 finished with value: 176363.84099442884 and parameters: {'colsample_bytree': 0.4, 'subsample': 0.6, 'learning_rate': 0.3494728436592009, 'max_depth': 3, 'min_child_weight': 48}. Best is trial 58 with value: 73915.21763562568.\u001b[0m\n",
      "\u001b[32m[I 2023-05-17 19:31:18,517]\u001b[0m Trial 67 finished with value: 83463.29975050928 and parameters: {'colsample_bytree': 0.4, 'subsample': 0.6, 'learning_rate': 0.37682977022008896, 'max_depth': 4, 'min_child_weight': 22}. Best is trial 58 with value: 73915.21763562568.\u001b[0m\n",
      "\u001b[32m[I 2023-05-17 19:31:18,568]\u001b[0m Trial 68 finished with value: 68585.12745406975 and parameters: {'colsample_bytree': 0.4, 'subsample': 0.6, 'learning_rate': 0.37168019404101926, 'max_depth': 5, 'min_child_weight': 11}. Best is trial 68 with value: 68585.12745406975.\u001b[0m\n"
     ]
    },
    {
     "name": "stdout",
     "output_type": "stream",
     "text": [
      "[19:31:18] WARNING: C:\\buildkite-agent\\builds\\buildkite-windows-cpu-autoscaling-group-i-07593ffd91cd9da33-1\\xgboost\\xgboost-ci-windows\\src\\learner.cc:767: \n",
      "Parameters: { \"n_estimators\" } are not used.\n",
      "\n",
      "[19:31:18] WARNING: C:\\buildkite-agent\\builds\\buildkite-windows-cpu-autoscaling-group-i-07593ffd91cd9da33-1\\xgboost\\xgboost-ci-windows\\src\\learner.cc:767: \n",
      "Parameters: { \"n_estimators\" } are not used.\n",
      "\n",
      "[19:31:18] WARNING: C:\\buildkite-agent\\builds\\buildkite-windows-cpu-autoscaling-group-i-07593ffd91cd9da33-1\\xgboost\\xgboost-ci-windows\\src\\learner.cc:767: \n",
      "Parameters: { \"n_estimators\" } are not used.\n",
      "\n",
      "[19:31:18] WARNING: C:\\buildkite-agent\\builds\\buildkite-windows-cpu-autoscaling-group-i-07593ffd91cd9da33-1\\xgboost\\xgboost-ci-windows\\src\\learner.cc:767: \n",
      "Parameters: { \"n_estimators\" } are not used.\n",
      "\n"
     ]
    },
    {
     "name": "stderr",
     "output_type": "stream",
     "text": [
      "\u001b[32m[I 2023-05-17 19:31:18,627]\u001b[0m Trial 69 finished with value: 176174.84046454594 and parameters: {'colsample_bytree': 0.4, 'subsample': 0.6, 'learning_rate': 0.28032929438000737, 'max_depth': 5, 'min_child_weight': 43}. Best is trial 68 with value: 68585.12745406975.\u001b[0m\n",
      "\u001b[32m[I 2023-05-17 19:31:18,683]\u001b[0m Trial 70 finished with value: 74647.46348860489 and parameters: {'colsample_bytree': 0.4, 'subsample': 0.6, 'learning_rate': 0.388733810634551, 'max_depth': 5, 'min_child_weight': 1}. Best is trial 68 with value: 68585.12745406975.\u001b[0m\n",
      "\u001b[32m[I 2023-05-17 19:31:18,737]\u001b[0m Trial 71 finished with value: 75541.93726244268 and parameters: {'colsample_bytree': 0.4, 'subsample': 0.6, 'learning_rate': 0.3223806540480137, 'max_depth': 5, 'min_child_weight': 20}. Best is trial 68 with value: 68585.12745406975.\u001b[0m\n",
      "\u001b[32m[I 2023-05-17 19:31:18,790]\u001b[0m Trial 72 finished with value: 73010.0014593758 and parameters: {'colsample_bytree': 0.4, 'subsample': 0.6, 'learning_rate': 0.36434143526713214, 'max_depth': 5, 'min_child_weight': 16}. Best is trial 68 with value: 68585.12745406975.\u001b[0m\n"
     ]
    },
    {
     "name": "stdout",
     "output_type": "stream",
     "text": [
      "[19:31:18] WARNING: C:\\buildkite-agent\\builds\\buildkite-windows-cpu-autoscaling-group-i-07593ffd91cd9da33-1\\xgboost\\xgboost-ci-windows\\src\\learner.cc:767: \n",
      "Parameters: { \"n_estimators\" } are not used.\n",
      "\n",
      "[19:31:18] WARNING: C:\\buildkite-agent\\builds\\buildkite-windows-cpu-autoscaling-group-i-07593ffd91cd9da33-1\\xgboost\\xgboost-ci-windows\\src\\learner.cc:767: \n",
      "Parameters: { \"n_estimators\" } are not used.\n",
      "\n",
      "[19:31:18] WARNING: C:\\buildkite-agent\\builds\\buildkite-windows-cpu-autoscaling-group-i-07593ffd91cd9da33-1\\xgboost\\xgboost-ci-windows\\src\\learner.cc:767: \n",
      "Parameters: { \"n_estimators\" } are not used.\n",
      "\n",
      "[19:31:18] WARNING: C:\\buildkite-agent\\builds\\buildkite-windows-cpu-autoscaling-group-i-07593ffd91cd9da33-1\\xgboost\\xgboost-ci-windows\\src\\learner.cc:767: \n",
      "Parameters: { \"n_estimators\" } are not used.\n",
      "\n"
     ]
    },
    {
     "name": "stderr",
     "output_type": "stream",
     "text": [
      "\u001b[32m[I 2023-05-17 19:31:18,844]\u001b[0m Trial 73 finished with value: 74665.10083015925 and parameters: {'colsample_bytree': 0.4, 'subsample': 0.6, 'learning_rate': 0.25897937012792727, 'max_depth': 5, 'min_child_weight': 21}. Best is trial 68 with value: 68585.12745406975.\u001b[0m\n",
      "\u001b[32m[I 2023-05-17 19:31:18,898]\u001b[0m Trial 74 finished with value: 75036.55635219182 and parameters: {'colsample_bytree': 0.4, 'subsample': 0.6, 'learning_rate': 0.28604215888147727, 'max_depth': 5, 'min_child_weight': 20}. Best is trial 68 with value: 68585.12745406975.\u001b[0m\n",
      "\u001b[32m[I 2023-05-17 19:31:18,948]\u001b[0m Trial 75 finished with value: 76911.72440693964 and parameters: {'colsample_bytree': 0.4, 'subsample': 0.6, 'learning_rate': 0.2641815347981352, 'max_depth': 5, 'min_child_weight': 20}. Best is trial 68 with value: 68585.12745406975.\u001b[0m\n",
      "\u001b[32m[I 2023-05-17 19:31:19,003]\u001b[0m Trial 76 finished with value: 77884.57791726346 and parameters: {'colsample_bytree': 0.4, 'subsample': 0.6, 'learning_rate': 0.24154761254796675, 'max_depth': 6, 'min_child_weight': 22}. Best is trial 68 with value: 68585.12745406975.\u001b[0m\n"
     ]
    },
    {
     "name": "stdout",
     "output_type": "stream",
     "text": [
      "[19:31:18] WARNING: C:\\buildkite-agent\\builds\\buildkite-windows-cpu-autoscaling-group-i-07593ffd91cd9da33-1\\xgboost\\xgboost-ci-windows\\src\\learner.cc:767: \n",
      "Parameters: { \"n_estimators\" } are not used.\n",
      "\n",
      "[19:31:18] WARNING: C:\\buildkite-agent\\builds\\buildkite-windows-cpu-autoscaling-group-i-07593ffd91cd9da33-1\\xgboost\\xgboost-ci-windows\\src\\learner.cc:767: \n",
      "Parameters: { \"n_estimators\" } are not used.\n",
      "\n",
      "[19:31:18] WARNING: C:\\buildkite-agent\\builds\\buildkite-windows-cpu-autoscaling-group-i-07593ffd91cd9da33-1\\xgboost\\xgboost-ci-windows\\src\\learner.cc:767: \n",
      "Parameters: { \"n_estimators\" } are not used.\n",
      "\n",
      "[19:31:18] WARNING: C:\\buildkite-agent\\builds\\buildkite-windows-cpu-autoscaling-group-i-07593ffd91cd9da33-1\\xgboost\\xgboost-ci-windows\\src\\learner.cc:767: \n",
      "Parameters: { \"n_estimators\" } are not used.\n",
      "\n"
     ]
    },
    {
     "name": "stderr",
     "output_type": "stream",
     "text": [
      "\u001b[32m[I 2023-05-17 19:31:19,059]\u001b[0m Trial 77 finished with value: 191016.1520778386 and parameters: {'colsample_bytree': 0.4, 'subsample': 0.6, 'learning_rate': 0.134407440645876, 'max_depth': 5, 'min_child_weight': 34}. Best is trial 68 with value: 68585.12745406975.\u001b[0m\n",
      "\u001b[32m[I 2023-05-17 19:31:19,112]\u001b[0m Trial 78 finished with value: 126931.42882338268 and parameters: {'colsample_bytree': 0.4, 'subsample': 0.6, 'learning_rate': 0.1518460785878542, 'max_depth': 6, 'min_child_weight': 25}. Best is trial 68 with value: 68585.12745406975.\u001b[0m\n",
      "\u001b[32m[I 2023-05-17 19:31:19,161]\u001b[0m Trial 79 finished with value: 247239.8187133964 and parameters: {'colsample_bytree': 0.4, 'subsample': 0.6, 'learning_rate': 0.09629601740238894, 'max_depth': 3, 'min_child_weight': 51}. Best is trial 68 with value: 68585.12745406975.\u001b[0m\n",
      "\u001b[32m[I 2023-05-17 19:31:19,214]\u001b[0m Trial 80 finished with value: 411951.05434637755 and parameters: {'colsample_bytree': 0.4, 'subsample': 0.6, 'learning_rate': 0.23440167091946293, 'max_depth': 5, 'min_child_weight': 79}. Best is trial 68 with value: 68585.12745406975.\u001b[0m\n"
     ]
    },
    {
     "name": "stdout",
     "output_type": "stream",
     "text": [
      "[19:31:19] WARNING: C:\\buildkite-agent\\builds\\buildkite-windows-cpu-autoscaling-group-i-07593ffd91cd9da33-1\\xgboost\\xgboost-ci-windows\\src\\learner.cc:767: \n",
      "Parameters: { \"n_estimators\" } are not used.\n",
      "\n",
      "[19:31:19] WARNING: C:\\buildkite-agent\\builds\\buildkite-windows-cpu-autoscaling-group-i-07593ffd91cd9da33-1\\xgboost\\xgboost-ci-windows\\src\\learner.cc:767: \n",
      "Parameters: { \"n_estimators\" } are not used.\n",
      "\n",
      "[19:31:19] WARNING: C:\\buildkite-agent\\builds\\buildkite-windows-cpu-autoscaling-group-i-07593ffd91cd9da33-1\\xgboost\\xgboost-ci-windows\\src\\learner.cc:767: \n",
      "Parameters: { \"n_estimators\" } are not used.\n",
      "\n",
      "[19:31:19] WARNING: C:\\buildkite-agent\\builds\\buildkite-windows-cpu-autoscaling-group-i-07593ffd91cd9da33-1\\xgboost\\xgboost-ci-windows\\src\\learner.cc:767: \n",
      "Parameters: { \"n_estimators\" } are not used.\n",
      "\n",
      "[19:31:19] WARNING: C:\\buildkite-agent\\builds\\buildkite-windows-cpu-autoscaling-group-i-07593ffd91cd9da33-1\\xgboost\\xgboost-ci-windows\\src\\learner.cc:767: \n",
      "Parameters: { \"n_estimators\" } are not used.\n",
      "\n"
     ]
    },
    {
     "name": "stderr",
     "output_type": "stream",
     "text": [
      "\u001b[32m[I 2023-05-17 19:31:19,267]\u001b[0m Trial 81 finished with value: 176232.24978754437 and parameters: {'colsample_bytree': 0.4, 'subsample': 0.6, 'learning_rate': 0.30474225324167137, 'max_depth': 5, 'min_child_weight': 37}. Best is trial 68 with value: 68585.12745406975.\u001b[0m\n",
      "\u001b[32m[I 2023-05-17 19:31:19,320]\u001b[0m Trial 82 finished with value: 72909.13451541575 and parameters: {'colsample_bytree': 0.4, 'subsample': 0.6, 'learning_rate': 0.387061204458299, 'max_depth': 3, 'min_child_weight': 1}. Best is trial 68 with value: 68585.12745406975.\u001b[0m\n",
      "\u001b[32m[I 2023-05-17 19:31:19,368]\u001b[0m Trial 83 finished with value: 411951.05434637755 and parameters: {'colsample_bytree': 0.4, 'subsample': 0.6, 'learning_rate': 0.401062907915355, 'max_depth': 3, 'min_child_weight': 143}. Best is trial 68 with value: 68585.12745406975.\u001b[0m\n",
      "\u001b[32m[I 2023-05-17 19:31:19,415]\u001b[0m Trial 84 finished with value: 77797.95953727078 and parameters: {'colsample_bytree': 0.4, 'subsample': 0.6, 'learning_rate': 0.3135166676131039, 'max_depth': 6, 'min_child_weight': 18}. Best is trial 68 with value: 68585.12745406975.\u001b[0m\n",
      "\u001b[32m[I 2023-05-17 19:31:19,468]\u001b[0m Trial 85 finished with value: 87261.66462989585 and parameters: {'colsample_bytree': 0.4, 'subsample': 0.6, 'learning_rate': 0.23384067914511203, 'max_depth': 3, 'min_child_weight': 23}. Best is trial 68 with value: 68585.12745406975.\u001b[0m\n",
      "\u001b[32m[I 2023-05-17 19:31:19,522]\u001b[0m Trial 86 finished with value: 411951.05434637755 and parameters: {'colsample_bytree': 0.6, 'subsample': 0.6, 'learning_rate': 0.15618178794007576, 'max_depth': 5, 'min_child_weight': 237}. Best is trial 68 with value: 68585.12745406975.\u001b[0m\n"
     ]
    },
    {
     "name": "stdout",
     "output_type": "stream",
     "text": [
      "[19:31:19] WARNING: C:\\buildkite-agent\\builds\\buildkite-windows-cpu-autoscaling-group-i-07593ffd91cd9da33-1\\xgboost\\xgboost-ci-windows\\src\\learner.cc:767: \n",
      "Parameters: { \"n_estimators\" } are not used.\n",
      "\n",
      "[19:31:19] WARNING: C:\\buildkite-agent\\builds\\buildkite-windows-cpu-autoscaling-group-i-07593ffd91cd9da33-1\\xgboost\\xgboost-ci-windows\\src\\learner.cc:767: \n",
      "Parameters: { \"n_estimators\" } are not used.\n",
      "\n",
      "[19:31:19] WARNING: C:\\buildkite-agent\\builds\\buildkite-windows-cpu-autoscaling-group-i-07593ffd91cd9da33-1\\xgboost\\xgboost-ci-windows\\src\\learner.cc:767: \n",
      "Parameters: { \"n_estimators\" } are not used.\n",
      "\n",
      "[19:31:19] WARNING: C:\\buildkite-agent\\builds\\buildkite-windows-cpu-autoscaling-group-i-07593ffd91cd9da33-1\\xgboost\\xgboost-ci-windows\\src\\learner.cc:767: \n",
      "Parameters: { \"n_estimators\" } are not used.\n",
      "\n",
      "[19:31:19] WARNING: C:\\buildkite-agent\\builds\\buildkite-windows-cpu-autoscaling-group-i-07593ffd91cd9da33-1\\xgboost\\xgboost-ci-windows\\src\\learner.cc:767: \n",
      "Parameters: { \"n_estimators\" } are not used.\n",
      "\n"
     ]
    },
    {
     "name": "stderr",
     "output_type": "stream",
     "text": [
      "\u001b[32m[I 2023-05-17 19:31:19,577]\u001b[0m Trial 87 finished with value: 176427.95920189275 and parameters: {'colsample_bytree': 0.7, 'subsample': 0.6, 'learning_rate': 0.4034438331135989, 'max_depth': 6, 'min_child_weight': 32}. Best is trial 68 with value: 68585.12745406975.\u001b[0m\n",
      "\u001b[32m[I 2023-05-17 19:31:19,628]\u001b[0m Trial 88 finished with value: 71422.29275027184 and parameters: {'colsample_bytree': 0.4, 'subsample': 0.6, 'learning_rate': 0.4980802896437001, 'max_depth': 7, 'min_child_weight': 11}. Best is trial 68 with value: 68585.12745406975.\u001b[0m\n",
      "\u001b[32m[I 2023-05-17 19:31:19,678]\u001b[0m Trial 89 finished with value: 73683.48734702996 and parameters: {'colsample_bytree': 0.5, 'subsample': 0.6, 'learning_rate': 0.4874374025491218, 'max_depth': 7, 'min_child_weight': 12}. Best is trial 68 with value: 68585.12745406975.\u001b[0m\n",
      "\u001b[32m[I 2023-05-17 19:31:19,731]\u001b[0m Trial 90 finished with value: 80150.42864913294 and parameters: {'colsample_bytree': 0.5, 'subsample': 0.6, 'learning_rate': 0.4962144425324021, 'max_depth': 7, 'min_child_weight': 2}. Best is trial 68 with value: 68585.12745406975.\u001b[0m\n"
     ]
    },
    {
     "name": "stdout",
     "output_type": "stream",
     "text": [
      "[19:31:19] WARNING: C:\\buildkite-agent\\builds\\buildkite-windows-cpu-autoscaling-group-i-07593ffd91cd9da33-1\\xgboost\\xgboost-ci-windows\\src\\learner.cc:767: \n",
      "Parameters: { \"n_estimators\" } are not used.\n",
      "\n",
      "[19:31:19] WARNING: C:\\buildkite-agent\\builds\\buildkite-windows-cpu-autoscaling-group-i-07593ffd91cd9da33-1\\xgboost\\xgboost-ci-windows\\src\\learner.cc:767: \n",
      "Parameters: { \"n_estimators\" } are not used.\n",
      "\n",
      "[19:31:19] WARNING: C:\\buildkite-agent\\builds\\buildkite-windows-cpu-autoscaling-group-i-07593ffd91cd9da33-1\\xgboost\\xgboost-ci-windows\\src\\learner.cc:767: \n",
      "Parameters: { \"n_estimators\" } are not used.\n",
      "\n",
      "[19:31:19] WARNING: C:\\buildkite-agent\\builds\\buildkite-windows-cpu-autoscaling-group-i-07593ffd91cd9da33-1\\xgboost\\xgboost-ci-windows\\src\\learner.cc:767: \n",
      "Parameters: { \"n_estimators\" } are not used.\n",
      "\n"
     ]
    },
    {
     "name": "stderr",
     "output_type": "stream",
     "text": [
      "\u001b[32m[I 2023-05-17 19:31:19,796]\u001b[0m Trial 91 finished with value: 70748.74903851963 and parameters: {'colsample_bytree': 0.5, 'subsample': 0.6, 'learning_rate': 0.27500785573590303, 'max_depth': 7, 'min_child_weight': 12}. Best is trial 68 with value: 68585.12745406975.\u001b[0m\n",
      "\u001b[32m[I 2023-05-17 19:31:19,852]\u001b[0m Trial 92 finished with value: 83517.72005714528 and parameters: {'colsample_bytree': 0.5, 'subsample': 0.6, 'learning_rate': 0.3917230390149152, 'max_depth': 7, 'min_child_weight': 10}. Best is trial 68 with value: 68585.12745406975.\u001b[0m\n",
      "\u001b[32m[I 2023-05-17 19:31:19,904]\u001b[0m Trial 93 finished with value: 78898.39928302077 and parameters: {'colsample_bytree': 0.5, 'subsample': 0.6, 'learning_rate': 0.22018493839037573, 'max_depth': 7, 'min_child_weight': 11}. Best is trial 68 with value: 68585.12745406975.\u001b[0m\n",
      "\u001b[32m[I 2023-05-17 19:31:19,956]\u001b[0m Trial 94 finished with value: 165144.22811165795 and parameters: {'colsample_bytree': 0.5, 'subsample': 0.6, 'learning_rate': 0.2728021505394215, 'max_depth': 8, 'min_child_weight': 29}. Best is trial 68 with value: 68585.12745406975.\u001b[0m\n"
     ]
    },
    {
     "name": "stdout",
     "output_type": "stream",
     "text": [
      "[19:31:19] WARNING: C:\\buildkite-agent\\builds\\buildkite-windows-cpu-autoscaling-group-i-07593ffd91cd9da33-1\\xgboost\\xgboost-ci-windows\\src\\learner.cc:767: \n",
      "Parameters: { \"n_estimators\" } are not used.\n",
      "\n",
      "[19:31:19] WARNING: C:\\buildkite-agent\\builds\\buildkite-windows-cpu-autoscaling-group-i-07593ffd91cd9da33-1\\xgboost\\xgboost-ci-windows\\src\\learner.cc:767: \n",
      "Parameters: { \"n_estimators\" } are not used.\n",
      "\n",
      "[19:31:19] WARNING: C:\\buildkite-agent\\builds\\buildkite-windows-cpu-autoscaling-group-i-07593ffd91cd9da33-1\\xgboost\\xgboost-ci-windows\\src\\learner.cc:767: \n",
      "Parameters: { \"n_estimators\" } are not used.\n",
      "\n",
      "[19:31:19] WARNING: C:\\buildkite-agent\\builds\\buildkite-windows-cpu-autoscaling-group-i-07593ffd91cd9da33-1\\xgboost\\xgboost-ci-windows\\src\\learner.cc:767: \n",
      "Parameters: { \"n_estimators\" } are not used.\n",
      "\n"
     ]
    },
    {
     "name": "stderr",
     "output_type": "stream",
     "text": [
      "\u001b[32m[I 2023-05-17 19:31:20,008]\u001b[0m Trial 95 finished with value: 176428.54401108527 and parameters: {'colsample_bytree': 0.5, 'subsample': 0.6, 'learning_rate': 0.4096899273585623, 'max_depth': 7, 'min_child_weight': 44}. Best is trial 68 with value: 68585.12745406975.\u001b[0m\n",
      "\u001b[32m[I 2023-05-17 19:31:20,063]\u001b[0m Trial 96 finished with value: 73306.13448590379 and parameters: {'colsample_bytree': 0.5, 'subsample': 0.6, 'learning_rate': 0.3121706726521739, 'max_depth': 7, 'min_child_weight': 1}. Best is trial 68 with value: 68585.12745406975.\u001b[0m\n",
      "\u001b[32m[I 2023-05-17 19:31:20,114]\u001b[0m Trial 97 finished with value: 91658.20720111429 and parameters: {'colsample_bytree': 0.5, 'subsample': 0.5, 'learning_rate': 0.19506130866048077, 'max_depth': 8, 'min_child_weight': 6}. Best is trial 68 with value: 68585.12745406975.\u001b[0m\n",
      "\u001b[32m[I 2023-05-17 19:31:20,166]\u001b[0m Trial 98 finished with value: 411951.05434637755 and parameters: {'colsample_bytree': 0.5, 'subsample': 0.4, 'learning_rate': 0.3236892458360617, 'max_depth': 7, 'min_child_weight': 169}. Best is trial 68 with value: 68585.12745406975.\u001b[0m\n"
     ]
    },
    {
     "name": "stdout",
     "output_type": "stream",
     "text": [
      "[19:31:20] WARNING: C:\\buildkite-agent\\builds\\buildkite-windows-cpu-autoscaling-group-i-07593ffd91cd9da33-1\\xgboost\\xgboost-ci-windows\\src\\learner.cc:767: \n",
      "Parameters: { \"n_estimators\" } are not used.\n",
      "\n",
      "[19:31:20] WARNING: C:\\buildkite-agent\\builds\\buildkite-windows-cpu-autoscaling-group-i-07593ffd91cd9da33-1\\xgboost\\xgboost-ci-windows\\src\\learner.cc:767: \n",
      "Parameters: { \"n_estimators\" } are not used.\n",
      "\n",
      "[19:31:20] WARNING: C:\\buildkite-agent\\builds\\buildkite-windows-cpu-autoscaling-group-i-07593ffd91cd9da33-1\\xgboost\\xgboost-ci-windows\\src\\learner.cc:767: \n",
      "Parameters: { \"n_estimators\" } are not used.\n",
      "\n",
      "[19:31:20] WARNING: C:\\buildkite-agent\\builds\\buildkite-windows-cpu-autoscaling-group-i-07593ffd91cd9da33-1\\xgboost\\xgboost-ci-windows\\src\\learner.cc:767: \n",
      "Parameters: { \"n_estimators\" } are not used.\n",
      "\n",
      "[19:31:20] WARNING: C:\\buildkite-agent\\builds\\buildkite-windows-cpu-autoscaling-group-i-07593ffd91cd9da33-1\\xgboost\\xgboost-ci-windows\\src\\learner.cc:767: \n",
      "Parameters: { \"n_estimators\" } are not used.\n",
      "\n"
     ]
    },
    {
     "name": "stderr",
     "output_type": "stream",
     "text": [
      "\u001b[32m[I 2023-05-17 19:31:20,226]\u001b[0m Trial 99 finished with value: 74838.55369277328 and parameters: {'colsample_bytree': 0.9, 'subsample': 0.6, 'learning_rate': 0.49669217458365483, 'max_depth': 6, 'min_child_weight': 14}. Best is trial 68 with value: 68585.12745406975.\u001b[0m\n",
      "\u001b[32m[I 2023-05-17 19:31:20,284]\u001b[0m Trial 100 finished with value: 83032.84331872045 and parameters: {'colsample_bytree': 0.5, 'subsample': 0.7, 'learning_rate': 0.39450427064671906, 'max_depth': 6, 'min_child_weight': 1}. Best is trial 68 with value: 68585.12745406975.\u001b[0m\n",
      "\u001b[32m[I 2023-05-17 19:31:20,335]\u001b[0m Trial 101 finished with value: 72367.23927993978 and parameters: {'colsample_bytree': 0.5, 'subsample': 0.6, 'learning_rate': 0.26340541885718316, 'max_depth': 8, 'min_child_weight': 13}. Best is trial 68 with value: 68585.12745406975.\u001b[0m\n",
      "\u001b[32m[I 2023-05-17 19:31:20,386]\u001b[0m Trial 102 finished with value: 81170.78654668326 and parameters: {'colsample_bytree': 0.5, 'subsample': 0.6, 'learning_rate': 0.21450438114420325, 'max_depth': 8, 'min_child_weight': 13}. Best is trial 68 with value: 68585.12745406975.\u001b[0m\n",
      "\u001b[32m[I 2023-05-17 19:31:20,436]\u001b[0m Trial 103 finished with value: 163736.76267861415 and parameters: {'colsample_bytree': 0.5, 'subsample': 0.6, 'learning_rate': 0.329597593665823, 'max_depth': 7, 'min_child_weight': 29}. Best is trial 68 with value: 68585.12745406975.\u001b[0m\n",
      "\u001b[32m[I 2023-05-17 19:31:20,488]\u001b[0m Trial 104 finished with value: 83340.53495362737 and parameters: {'colsample_bytree': 0.5, 'subsample': 0.6, 'learning_rate': 0.42801516977172493, 'max_depth': 9, 'min_child_weight': 6}. Best is trial 68 with value: 68585.12745406975.\u001b[0m\n"
     ]
    },
    {
     "name": "stdout",
     "output_type": "stream",
     "text": [
      "[19:31:20] WARNING: C:\\buildkite-agent\\builds\\buildkite-windows-cpu-autoscaling-group-i-07593ffd91cd9da33-1\\xgboost\\xgboost-ci-windows\\src\\learner.cc:767: \n",
      "Parameters: { \"n_estimators\" } are not used.\n",
      "\n",
      "[19:31:20] WARNING: C:\\buildkite-agent\\builds\\buildkite-windows-cpu-autoscaling-group-i-07593ffd91cd9da33-1\\xgboost\\xgboost-ci-windows\\src\\learner.cc:767: \n",
      "Parameters: { \"n_estimators\" } are not used.\n",
      "\n",
      "[19:31:20] WARNING: C:\\buildkite-agent\\builds\\buildkite-windows-cpu-autoscaling-group-i-07593ffd91cd9da33-1\\xgboost\\xgboost-ci-windows\\src\\learner.cc:767: \n",
      "Parameters: { \"n_estimators\" } are not used.\n",
      "\n",
      "[19:31:20] WARNING: C:\\buildkite-agent\\builds\\buildkite-windows-cpu-autoscaling-group-i-07593ffd91cd9da33-1\\xgboost\\xgboost-ci-windows\\src\\learner.cc:767: \n",
      "Parameters: { \"n_estimators\" } are not used.\n",
      "\n",
      "[19:31:20] WARNING: C:\\buildkite-agent\\builds\\buildkite-windows-cpu-autoscaling-group-i-07593ffd91cd9da33-1\\xgboost\\xgboost-ci-windows\\src\\learner.cc:767: \n",
      "Parameters: { \"n_estimators\" } are not used.\n",
      "\n"
     ]
    },
    {
     "name": "stderr",
     "output_type": "stream",
     "text": [
      "\u001b[32m[I 2023-05-17 19:31:20,542]\u001b[0m Trial 105 finished with value: 122730.60684640228 and parameters: {'colsample_bytree': 0.3, 'subsample': 0.6, 'learning_rate': 0.1523850031404397, 'max_depth': 8, 'min_child_weight': 15}. Best is trial 68 with value: 68585.12745406975.\u001b[0m\n",
      "\u001b[32m[I 2023-05-17 19:31:20,597]\u001b[0m Trial 106 finished with value: 75111.56964230521 and parameters: {'colsample_bytree': 0.5, 'subsample': 1.0, 'learning_rate': 0.29007683286564384, 'max_depth': 9, 'min_child_weight': 1}. Best is trial 68 with value: 68585.12745406975.\u001b[0m\n",
      "\u001b[32m[I 2023-05-17 19:31:20,648]\u001b[0m Trial 107 finished with value: 411951.05434637755 and parameters: {'colsample_bytree': 0.7, 'subsample': 0.6, 'learning_rate': 0.20911062176109177, 'max_depth': 4, 'min_child_weight': 114}. Best is trial 68 with value: 68585.12745406975.\u001b[0m\n",
      "\u001b[32m[I 2023-05-17 19:31:20,699]\u001b[0m Trial 108 finished with value: 75607.52308817905 and parameters: {'colsample_bytree': 0.6, 'subsample': 0.6, 'learning_rate': 0.40120549986589354, 'max_depth': 7, 'min_child_weight': 10}. Best is trial 68 with value: 68585.12745406975.\u001b[0m\n"
     ]
    },
    {
     "name": "stdout",
     "output_type": "stream",
     "text": [
      "[19:31:20] WARNING: C:\\buildkite-agent\\builds\\buildkite-windows-cpu-autoscaling-group-i-07593ffd91cd9da33-1\\xgboost\\xgboost-ci-windows\\src\\learner.cc:767: \n",
      "Parameters: { \"n_estimators\" } are not used.\n",
      "\n",
      "[19:31:20] WARNING: C:\\buildkite-agent\\builds\\buildkite-windows-cpu-autoscaling-group-i-07593ffd91cd9da33-1\\xgboost\\xgboost-ci-windows\\src\\learner.cc:767: \n",
      "Parameters: { \"n_estimators\" } are not used.\n",
      "\n",
      "[19:31:20] WARNING: C:\\buildkite-agent\\builds\\buildkite-windows-cpu-autoscaling-group-i-07593ffd91cd9da33-1\\xgboost\\xgboost-ci-windows\\src\\learner.cc:767: \n",
      "Parameters: { \"n_estimators\" } are not used.\n",
      "\n",
      "[19:31:20] WARNING: C:\\buildkite-agent\\builds\\buildkite-windows-cpu-autoscaling-group-i-07593ffd91cd9da33-1\\xgboost\\xgboost-ci-windows\\src\\learner.cc:767: \n",
      "Parameters: { \"n_estimators\" } are not used.\n",
      "\n"
     ]
    },
    {
     "name": "stderr",
     "output_type": "stream",
     "text": [
      "\u001b[32m[I 2023-05-17 19:31:20,761]\u001b[0m Trial 109 finished with value: 411951.05434637755 and parameters: {'colsample_bytree': 0.5, 'subsample': 0.6, 'learning_rate': 0.3265060174184575, 'max_depth': 8, 'min_child_weight': 197}. Best is trial 68 with value: 68585.12745406975.\u001b[0m\n",
      "\u001b[32m[I 2023-05-17 19:31:20,816]\u001b[0m Trial 110 finished with value: 98341.95524407653 and parameters: {'colsample_bytree': 0.9, 'subsample': 0.6, 'learning_rate': 0.2585438307812214, 'max_depth': 3, 'min_child_weight': 26}. Best is trial 68 with value: 68585.12745406975.\u001b[0m\n",
      "\u001b[32m[I 2023-05-17 19:31:20,868]\u001b[0m Trial 111 finished with value: 75306.92812406165 and parameters: {'colsample_bytree': 0.4, 'subsample': 0.6, 'learning_rate': 0.258134705732033, 'max_depth': 4, 'min_child_weight': 17}. Best is trial 68 with value: 68585.12745406975.\u001b[0m\n",
      "\u001b[32m[I 2023-05-17 19:31:20,920]\u001b[0m Trial 112 finished with value: 176421.5901226058 and parameters: {'colsample_bytree': 0.4, 'subsample': 0.6, 'learning_rate': 0.43316935058144446, 'max_depth': 6, 'min_child_weight': 35}. Best is trial 68 with value: 68585.12745406975.\u001b[0m\n"
     ]
    },
    {
     "name": "stdout",
     "output_type": "stream",
     "text": [
      "[19:31:20] WARNING: C:\\buildkite-agent\\builds\\buildkite-windows-cpu-autoscaling-group-i-07593ffd91cd9da33-1\\xgboost\\xgboost-ci-windows\\src\\learner.cc:767: \n",
      "Parameters: { \"n_estimators\" } are not used.\n",
      "\n",
      "[19:31:20] WARNING: C:\\buildkite-agent\\builds\\buildkite-windows-cpu-autoscaling-group-i-07593ffd91cd9da33-1\\xgboost\\xgboost-ci-windows\\src\\learner.cc:767: \n",
      "Parameters: { \"n_estimators\" } are not used.\n",
      "\n",
      "[19:31:20] WARNING: C:\\buildkite-agent\\builds\\buildkite-windows-cpu-autoscaling-group-i-07593ffd91cd9da33-1\\xgboost\\xgboost-ci-windows\\src\\learner.cc:767: \n",
      "Parameters: { \"n_estimators\" } are not used.\n",
      "\n",
      "[19:31:20] WARNING: C:\\buildkite-agent\\builds\\buildkite-windows-cpu-autoscaling-group-i-07593ffd91cd9da33-1\\xgboost\\xgboost-ci-windows\\src\\learner.cc:767: \n",
      "Parameters: { \"n_estimators\" } are not used.\n",
      "\n"
     ]
    },
    {
     "name": "stderr",
     "output_type": "stream",
     "text": [
      "\u001b[32m[I 2023-05-17 19:31:20,975]\u001b[0m Trial 113 finished with value: 103257.58734153536 and parameters: {'colsample_bytree': 0.4, 'subsample': 0.6, 'learning_rate': 0.3457731017750329, 'max_depth': 7, 'min_child_weight': 26}. Best is trial 68 with value: 68585.12745406975.\u001b[0m\n",
      "\u001b[32m[I 2023-05-17 19:31:21,035]\u001b[0m Trial 114 finished with value: 77984.3999706007 and parameters: {'colsample_bytree': 0.4, 'subsample': 0.6, 'learning_rate': 0.49402875396007234, 'max_depth': 5, 'min_child_weight': 6}. Best is trial 68 with value: 68585.12745406975.\u001b[0m\n",
      "\u001b[32m[I 2023-05-17 19:31:21,094]\u001b[0m Trial 115 finished with value: 107150.44328040179 and parameters: {'colsample_bytree': 0.4, 'subsample': 0.5, 'learning_rate': 0.16965008754027508, 'max_depth': 4, 'min_child_weight': 17}. Best is trial 68 with value: 68585.12745406975.\u001b[0m\n",
      "\u001b[32m[I 2023-05-17 19:31:21,148]\u001b[0m Trial 116 finished with value: 176835.40476313207 and parameters: {'colsample_bytree': 0.4, 'subsample': 0.4, 'learning_rate': 0.25872549900654024, 'max_depth': 6, 'min_child_weight': 22}. Best is trial 68 with value: 68585.12745406975.\u001b[0m\n"
     ]
    },
    {
     "name": "stdout",
     "output_type": "stream",
     "text": [
      "[19:31:20] WARNING: C:\\buildkite-agent\\builds\\buildkite-windows-cpu-autoscaling-group-i-07593ffd91cd9da33-1\\xgboost\\xgboost-ci-windows\\src\\learner.cc:767: \n",
      "Parameters: { \"n_estimators\" } are not used.\n",
      "\n",
      "[19:31:21] WARNING: C:\\buildkite-agent\\builds\\buildkite-windows-cpu-autoscaling-group-i-07593ffd91cd9da33-1\\xgboost\\xgboost-ci-windows\\src\\learner.cc:767: \n",
      "Parameters: { \"n_estimators\" } are not used.\n",
      "\n",
      "[19:31:21] WARNING: C:\\buildkite-agent\\builds\\buildkite-windows-cpu-autoscaling-group-i-07593ffd91cd9da33-1\\xgboost\\xgboost-ci-windows\\src\\learner.cc:767: \n",
      "Parameters: { \"n_estimators\" } are not used.\n",
      "\n",
      "[19:31:21] WARNING: C:\\buildkite-agent\\builds\\buildkite-windows-cpu-autoscaling-group-i-07593ffd91cd9da33-1\\xgboost\\xgboost-ci-windows\\src\\learner.cc:767: \n",
      "Parameters: { \"n_estimators\" } are not used.\n",
      "\n"
     ]
    },
    {
     "name": "stderr",
     "output_type": "stream",
     "text": [
      "\u001b[32m[I 2023-05-17 19:31:21,208]\u001b[0m Trial 117 finished with value: 177271.45414389094 and parameters: {'colsample_bytree': 0.3, 'subsample': 0.6, 'learning_rate': 0.20982447139019436, 'max_depth': 8, 'min_child_weight': 41}. Best is trial 68 with value: 68585.12745406975.\u001b[0m\n",
      "\u001b[32m[I 2023-05-17 19:31:21,271]\u001b[0m Trial 118 finished with value: 135502.346793073 and parameters: {'colsample_bytree': 0.5, 'subsample': 0.7, 'learning_rate': 0.1289760651402634, 'max_depth': 7, 'min_child_weight': 11}. Best is trial 68 with value: 68585.12745406975.\u001b[0m\n",
      "\u001b[32m[I 2023-05-17 19:31:21,330]\u001b[0m Trial 119 finished with value: 68090.48412179839 and parameters: {'colsample_bytree': 0.4, 'subsample': 0.6, 'learning_rate': 0.300754416724585, 'max_depth': 3, 'min_child_weight': 1}. Best is trial 119 with value: 68090.48412179839.\u001b[0m\n",
      "\u001b[32m[I 2023-05-17 19:31:21,388]\u001b[0m Trial 120 finished with value: 76251.72926756622 and parameters: {'colsample_bytree': 0.4, 'subsample': 0.6, 'learning_rate': 0.3437476025116393, 'max_depth': 3, 'min_child_weight': 7}. Best is trial 119 with value: 68090.48412179839.\u001b[0m\n"
     ]
    },
    {
     "name": "stdout",
     "output_type": "stream",
     "text": [
      "[19:31:21] WARNING: C:\\buildkite-agent\\builds\\buildkite-windows-cpu-autoscaling-group-i-07593ffd91cd9da33-1\\xgboost\\xgboost-ci-windows\\src\\learner.cc:767: \n",
      "Parameters: { \"n_estimators\" } are not used.\n",
      "\n",
      "[19:31:21] WARNING: C:\\buildkite-agent\\builds\\buildkite-windows-cpu-autoscaling-group-i-07593ffd91cd9da33-1\\xgboost\\xgboost-ci-windows\\src\\learner.cc:767: \n",
      "Parameters: { \"n_estimators\" } are not used.\n",
      "\n",
      "[19:31:21] WARNING: C:\\buildkite-agent\\builds\\buildkite-windows-cpu-autoscaling-group-i-07593ffd91cd9da33-1\\xgboost\\xgboost-ci-windows\\src\\learner.cc:767: \n",
      "Parameters: { \"n_estimators\" } are not used.\n",
      "\n",
      "[19:31:21] WARNING: C:\\buildkite-agent\\builds\\buildkite-windows-cpu-autoscaling-group-i-07593ffd91cd9da33-1\\xgboost\\xgboost-ci-windows\\src\\learner.cc:767: \n",
      "Parameters: { \"n_estimators\" } are not used.\n",
      "\n"
     ]
    },
    {
     "name": "stderr",
     "output_type": "stream",
     "text": [
      "\u001b[32m[I 2023-05-17 19:31:21,440]\u001b[0m Trial 121 finished with value: 64915.739323059 and parameters: {'colsample_bytree': 0.4, 'subsample': 0.6, 'learning_rate': 0.28443967702581235, 'max_depth': 3, 'min_child_weight': 1}. Best is trial 121 with value: 64915.739323059.\u001b[0m\n",
      "\u001b[32m[I 2023-05-17 19:31:21,497]\u001b[0m Trial 122 finished with value: 81273.01762772945 and parameters: {'colsample_bytree': 0.4, 'subsample': 0.6, 'learning_rate': 0.42479289429070616, 'max_depth': 3, 'min_child_weight': 1}. Best is trial 121 with value: 64915.739323059.\u001b[0m\n",
      "\u001b[32m[I 2023-05-17 19:31:21,551]\u001b[0m Trial 123 finished with value: 74923.96466032355 and parameters: {'colsample_bytree': 0.4, 'subsample': 0.6, 'learning_rate': 0.3013541749850374, 'max_depth': 3, 'min_child_weight': 14}. Best is trial 121 with value: 64915.739323059.\u001b[0m\n",
      "\u001b[32m[I 2023-05-17 19:31:21,605]\u001b[0m Trial 124 finished with value: 75270.56124340663 and parameters: {'colsample_bytree': 0.4, 'subsample': 0.6, 'learning_rate': 0.3855006010452794, 'max_depth': 4, 'min_child_weight': 7}. Best is trial 121 with value: 64915.739323059.\u001b[0m\n"
     ]
    },
    {
     "name": "stdout",
     "output_type": "stream",
     "text": [
      "[19:31:21] WARNING: C:\\buildkite-agent\\builds\\buildkite-windows-cpu-autoscaling-group-i-07593ffd91cd9da33-1\\xgboost\\xgboost-ci-windows\\src\\learner.cc:767: \n",
      "Parameters: { \"n_estimators\" } are not used.\n",
      "\n",
      "[19:31:21] WARNING: C:\\buildkite-agent\\builds\\buildkite-windows-cpu-autoscaling-group-i-07593ffd91cd9da33-1\\xgboost\\xgboost-ci-windows\\src\\learner.cc:767: \n",
      "Parameters: { \"n_estimators\" } are not used.\n",
      "\n",
      "[19:31:21] WARNING: C:\\buildkite-agent\\builds\\buildkite-windows-cpu-autoscaling-group-i-07593ffd91cd9da33-1\\xgboost\\xgboost-ci-windows\\src\\learner.cc:767: \n",
      "Parameters: { \"n_estimators\" } are not used.\n",
      "\n",
      "[19:31:21] WARNING: C:\\buildkite-agent\\builds\\buildkite-windows-cpu-autoscaling-group-i-07593ffd91cd9da33-1\\xgboost\\xgboost-ci-windows\\src\\learner.cc:767: \n",
      "Parameters: { \"n_estimators\" } are not used.\n",
      "\n"
     ]
    },
    {
     "name": "stderr",
     "output_type": "stream",
     "text": [
      "\u001b[32m[I 2023-05-17 19:31:21,665]\u001b[0m Trial 125 finished with value: 75281.46963030267 and parameters: {'colsample_bytree': 0.4, 'subsample': 0.6, 'learning_rate': 0.2947561247520111, 'max_depth': 3, 'min_child_weight': 15}. Best is trial 121 with value: 64915.739323059.\u001b[0m\n",
      "\u001b[32m[I 2023-05-17 19:31:21,758]\u001b[0m Trial 126 finished with value: 91306.31237080348 and parameters: {'colsample_bytree': 0.5, 'subsample': 1.0, 'learning_rate': 0.18329362442803962, 'max_depth': 3, 'min_child_weight': 1}. Best is trial 121 with value: 64915.739323059.\u001b[0m\n",
      "\u001b[32m[I 2023-05-17 19:31:21,843]\u001b[0m Trial 127 finished with value: 100213.13773566207 and parameters: {'colsample_bytree': 0.4, 'subsample': 0.6, 'learning_rate': 0.22457321244631373, 'max_depth': 4, 'min_child_weight': 25}. Best is trial 121 with value: 64915.739323059.\u001b[0m\n"
     ]
    },
    {
     "name": "stdout",
     "output_type": "stream",
     "text": [
      "[19:31:21] WARNING: C:\\buildkite-agent\\builds\\buildkite-windows-cpu-autoscaling-group-i-07593ffd91cd9da33-1\\xgboost\\xgboost-ci-windows\\src\\learner.cc:767: \n",
      "Parameters: { \"n_estimators\" } are not used.\n",
      "\n",
      "[19:31:21] WARNING: C:\\buildkite-agent\\builds\\buildkite-windows-cpu-autoscaling-group-i-07593ffd91cd9da33-1\\xgboost\\xgboost-ci-windows\\src\\learner.cc:767: \n",
      "Parameters: { \"n_estimators\" } are not used.\n",
      "\n",
      "[19:31:21] WARNING: C:\\buildkite-agent\\builds\\buildkite-windows-cpu-autoscaling-group-i-07593ffd91cd9da33-1\\xgboost\\xgboost-ci-windows\\src\\learner.cc:767: \n",
      "Parameters: { \"n_estimators\" } are not used.\n",
      "\n"
     ]
    },
    {
     "name": "stderr",
     "output_type": "stream",
     "text": [
      "\u001b[32m[I 2023-05-17 19:31:21,936]\u001b[0m Trial 128 finished with value: 71308.18219553072 and parameters: {'colsample_bytree': 0.4, 'subsample': 0.6, 'learning_rate': 0.4926631348541209, 'max_depth': 9, 'min_child_weight': 9}. Best is trial 121 with value: 64915.739323059.\u001b[0m\n",
      "\u001b[32m[I 2023-05-17 19:31:22,031]\u001b[0m Trial 129 finished with value: 176359.95478376016 and parameters: {'colsample_bytree': 0.7, 'subsample': 0.6, 'learning_rate': 0.4974205293664826, 'max_depth': 9, 'min_child_weight': 34}. Best is trial 121 with value: 64915.739323059.\u001b[0m\n"
     ]
    },
    {
     "name": "stdout",
     "output_type": "stream",
     "text": [
      "[19:31:21] WARNING: C:\\buildkite-agent\\builds\\buildkite-windows-cpu-autoscaling-group-i-07593ffd91cd9da33-1\\xgboost\\xgboost-ci-windows\\src\\learner.cc:767: \n",
      "Parameters: { \"n_estimators\" } are not used.\n",
      "\n",
      "[19:31:22] WARNING: C:\\buildkite-agent\\builds\\buildkite-windows-cpu-autoscaling-group-i-07593ffd91cd9da33-1\\xgboost\\xgboost-ci-windows\\src\\learner.cc:767: \n",
      "Parameters: { \"n_estimators\" } are not used.\n",
      "\n",
      "[19:31:22] WARNING: C:\\buildkite-agent\\builds\\buildkite-windows-cpu-autoscaling-group-i-07593ffd91cd9da33-1\\xgboost\\xgboost-ci-windows\\src\\learner.cc:767: \n",
      "Parameters: { \"n_estimators\" } are not used.\n",
      "\n"
     ]
    },
    {
     "name": "stderr",
     "output_type": "stream",
     "text": [
      "\u001b[32m[I 2023-05-17 19:31:22,134]\u001b[0m Trial 130 finished with value: 75573.70129329668 and parameters: {'colsample_bytree': 0.4, 'subsample': 0.6, 'learning_rate': 0.36481437258266003, 'max_depth': 9, 'min_child_weight': 10}. Best is trial 121 with value: 64915.739323059.\u001b[0m\n",
      "\u001b[32m[I 2023-05-17 19:31:22,199]\u001b[0m Trial 131 finished with value: 67329.8642494157 and parameters: {'colsample_bytree': 0.4, 'subsample': 0.6, 'learning_rate': 0.4249319717543898, 'max_depth': 8, 'min_child_weight': 7}. Best is trial 121 with value: 64915.739323059.\u001b[0m\n",
      "\u001b[32m[I 2023-05-17 19:31:22,263]\u001b[0m Trial 132 finished with value: 78176.08602035181 and parameters: {'colsample_bytree': 0.4, 'subsample': 0.6, 'learning_rate': 0.30675952063186906, 'max_depth': 8, 'min_child_weight': 18}. Best is trial 121 with value: 64915.739323059.\u001b[0m\n",
      "\u001b[32m[I 2023-05-17 19:31:22,323]\u001b[0m Trial 133 finished with value: 72173.76019730151 and parameters: {'colsample_bytree': 0.4, 'subsample': 0.6, 'learning_rate': 0.4458859423030904, 'max_depth': 8, 'min_child_weight': 7}. Best is trial 121 with value: 64915.739323059.\u001b[0m\n",
      "\u001b[32m[I 2023-05-17 19:31:22,380]\u001b[0m Trial 134 finished with value: 74674.23963680914 and parameters: {'colsample_bytree': 0.4, 'subsample': 0.6, 'learning_rate': 0.4975015394245087, 'max_depth': 8, 'min_child_weight': 7}. Best is trial 121 with value: 64915.739323059.\u001b[0m\n"
     ]
    },
    {
     "name": "stdout",
     "output_type": "stream",
     "text": [
      "[19:31:22] WARNING: C:\\buildkite-agent\\builds\\buildkite-windows-cpu-autoscaling-group-i-07593ffd91cd9da33-1\\xgboost\\xgboost-ci-windows\\src\\learner.cc:767: \n",
      "Parameters: { \"n_estimators\" } are not used.\n",
      "\n",
      "[19:31:22] WARNING: C:\\buildkite-agent\\builds\\buildkite-windows-cpu-autoscaling-group-i-07593ffd91cd9da33-1\\xgboost\\xgboost-ci-windows\\src\\learner.cc:767: \n",
      "Parameters: { \"n_estimators\" } are not used.\n",
      "\n",
      "[19:31:22] WARNING: C:\\buildkite-agent\\builds\\buildkite-windows-cpu-autoscaling-group-i-07593ffd91cd9da33-1\\xgboost\\xgboost-ci-windows\\src\\learner.cc:767: \n",
      "Parameters: { \"n_estimators\" } are not used.\n",
      "\n",
      "[19:31:22] WARNING: C:\\buildkite-agent\\builds\\buildkite-windows-cpu-autoscaling-group-i-07593ffd91cd9da33-1\\xgboost\\xgboost-ci-windows\\src\\learner.cc:767: \n",
      "Parameters: { \"n_estimators\" } are not used.\n",
      "\n"
     ]
    },
    {
     "name": "stderr",
     "output_type": "stream",
     "text": [
      "\u001b[32m[I 2023-05-17 19:31:22,441]\u001b[0m Trial 135 finished with value: 71508.64438701796 and parameters: {'colsample_bytree': 0.5, 'subsample': 0.6, 'learning_rate': 0.4197929862738255, 'max_depth': 9, 'min_child_weight': 20}. Best is trial 121 with value: 64915.739323059.\u001b[0m\n",
      "\u001b[32m[I 2023-05-17 19:31:22,502]\u001b[0m Trial 136 finished with value: 77150.31407880785 and parameters: {'colsample_bytree': 0.5, 'subsample': 0.6, 'learning_rate': 0.27424778342899253, 'max_depth': 10, 'min_child_weight': 19}. Best is trial 121 with value: 64915.739323059.\u001b[0m\n",
      "\u001b[32m[I 2023-05-17 19:31:22,562]\u001b[0m Trial 137 finished with value: 112308.22845831732 and parameters: {'colsample_bytree': 0.5, 'subsample': 0.6, 'learning_rate': 0.43357868695486146, 'max_depth': 9, 'min_child_weight': 28}. Best is trial 121 with value: 64915.739323059.\u001b[0m\n",
      "\u001b[32m[I 2023-05-17 19:31:22,623]\u001b[0m Trial 138 finished with value: 79260.53546645939 and parameters: {'colsample_bytree': 0.5, 'subsample': 0.6, 'learning_rate': 0.33696767709191733, 'max_depth': 9, 'min_child_weight': 14}. Best is trial 121 with value: 64915.739323059.\u001b[0m\n"
     ]
    },
    {
     "name": "stdout",
     "output_type": "stream",
     "text": [
      "[19:31:22] WARNING: C:\\buildkite-agent\\builds\\buildkite-windows-cpu-autoscaling-group-i-07593ffd91cd9da33-1\\xgboost\\xgboost-ci-windows\\src\\learner.cc:767: \n",
      "Parameters: { \"n_estimators\" } are not used.\n",
      "\n",
      "[19:31:22] WARNING: C:\\buildkite-agent\\builds\\buildkite-windows-cpu-autoscaling-group-i-07593ffd91cd9da33-1\\xgboost\\xgboost-ci-windows\\src\\learner.cc:767: \n",
      "Parameters: { \"n_estimators\" } are not used.\n",
      "\n",
      "[19:31:22] WARNING: C:\\buildkite-agent\\builds\\buildkite-windows-cpu-autoscaling-group-i-07593ffd91cd9da33-1\\xgboost\\xgboost-ci-windows\\src\\learner.cc:767: \n",
      "Parameters: { \"n_estimators\" } are not used.\n",
      "\n",
      "[19:31:22] WARNING: C:\\buildkite-agent\\builds\\buildkite-windows-cpu-autoscaling-group-i-07593ffd91cd9da33-1\\xgboost\\xgboost-ci-windows\\src\\learner.cc:767: \n",
      "Parameters: { \"n_estimators\" } are not used.\n",
      "\n"
     ]
    },
    {
     "name": "stderr",
     "output_type": "stream",
     "text": [
      "\u001b[32m[I 2023-05-17 19:31:22,682]\u001b[0m Trial 139 finished with value: 71869.46288503178 and parameters: {'colsample_bytree': 0.5, 'subsample': 0.6, 'learning_rate': 0.24087920916137145, 'max_depth': 7, 'min_child_weight': 6}. Best is trial 121 with value: 64915.739323059.\u001b[0m\n",
      "\u001b[32m[I 2023-05-17 19:31:22,742]\u001b[0m Trial 140 finished with value: 72512.04540575696 and parameters: {'colsample_bytree': 0.5, 'subsample': 0.6, 'learning_rate': 0.2362132315054641, 'max_depth': 8, 'min_child_weight': 6}. Best is trial 121 with value: 64915.739323059.\u001b[0m\n",
      "\u001b[32m[I 2023-05-17 19:31:22,798]\u001b[0m Trial 141 finished with value: 65896.23170554293 and parameters: {'colsample_bytree': 0.5, 'subsample': 0.6, 'learning_rate': 0.24870402776673534, 'max_depth': 8, 'min_child_weight': 1}. Best is trial 121 with value: 64915.739323059.\u001b[0m\n",
      "\u001b[32m[I 2023-05-17 19:31:22,856]\u001b[0m Trial 142 finished with value: 72262.80019541294 and parameters: {'colsample_bytree': 0.5, 'subsample': 0.6, 'learning_rate': 0.23793902027978395, 'max_depth': 8, 'min_child_weight': 6}. Best is trial 121 with value: 64915.739323059.\u001b[0m\n"
     ]
    },
    {
     "name": "stdout",
     "output_type": "stream",
     "text": [
      "[19:31:22] WARNING: C:\\buildkite-agent\\builds\\buildkite-windows-cpu-autoscaling-group-i-07593ffd91cd9da33-1\\xgboost\\xgboost-ci-windows\\src\\learner.cc:767: \n",
      "Parameters: { \"n_estimators\" } are not used.\n",
      "\n",
      "[19:31:22] WARNING: C:\\buildkite-agent\\builds\\buildkite-windows-cpu-autoscaling-group-i-07593ffd91cd9da33-1\\xgboost\\xgboost-ci-windows\\src\\learner.cc:767: \n",
      "Parameters: { \"n_estimators\" } are not used.\n",
      "\n",
      "[19:31:22] WARNING: C:\\buildkite-agent\\builds\\buildkite-windows-cpu-autoscaling-group-i-07593ffd91cd9da33-1\\xgboost\\xgboost-ci-windows\\src\\learner.cc:767: \n",
      "Parameters: { \"n_estimators\" } are not used.\n",
      "\n",
      "[19:31:22] WARNING: C:\\buildkite-agent\\builds\\buildkite-windows-cpu-autoscaling-group-i-07593ffd91cd9da33-1\\xgboost\\xgboost-ci-windows\\src\\learner.cc:767: \n",
      "Parameters: { \"n_estimators\" } are not used.\n",
      "\n"
     ]
    },
    {
     "name": "stderr",
     "output_type": "stream",
     "text": [
      "\u001b[32m[I 2023-05-17 19:31:22,920]\u001b[0m Trial 143 finished with value: 88202.5326225308 and parameters: {'colsample_bytree': 0.5, 'subsample': 0.6, 'learning_rate': 0.192252061067907, 'max_depth': 8, 'min_child_weight': 9}. Best is trial 121 with value: 64915.739323059.\u001b[0m\n",
      "\u001b[32m[I 2023-05-17 19:31:22,978]\u001b[0m Trial 144 finished with value: 154988.01986209804 and parameters: {'colsample_bytree': 0.5, 'subsample': 0.6, 'learning_rate': 0.10592238445872036, 'max_depth': 8, 'min_child_weight': 6}. Best is trial 121 with value: 64915.739323059.\u001b[0m\n",
      "\u001b[32m[I 2023-05-17 19:31:23,037]\u001b[0m Trial 145 finished with value: 121394.8380147511 and parameters: {'colsample_bytree': 0.5, 'subsample': 0.6, 'learning_rate': 0.14774071411172537, 'max_depth': 9, 'min_child_weight': 24}. Best is trial 121 with value: 64915.739323059.\u001b[0m\n",
      "\u001b[32m[I 2023-05-17 19:31:23,099]\u001b[0m Trial 146 finished with value: 67186.52088698135 and parameters: {'colsample_bytree': 0.5, 'subsample': 0.6, 'learning_rate': 0.23366631167034388, 'max_depth': 8, 'min_child_weight': 1}. Best is trial 121 with value: 64915.739323059.\u001b[0m\n"
     ]
    },
    {
     "name": "stdout",
     "output_type": "stream",
     "text": [
      "[19:31:22] WARNING: C:\\buildkite-agent\\builds\\buildkite-windows-cpu-autoscaling-group-i-07593ffd91cd9da33-1\\xgboost\\xgboost-ci-windows\\src\\learner.cc:767: \n",
      "Parameters: { \"n_estimators\" } are not used.\n",
      "\n",
      "[19:31:22] WARNING: C:\\buildkite-agent\\builds\\buildkite-windows-cpu-autoscaling-group-i-07593ffd91cd9da33-1\\xgboost\\xgboost-ci-windows\\src\\learner.cc:767: \n",
      "Parameters: { \"n_estimators\" } are not used.\n",
      "\n",
      "[19:31:23] WARNING: C:\\buildkite-agent\\builds\\buildkite-windows-cpu-autoscaling-group-i-07593ffd91cd9da33-1\\xgboost\\xgboost-ci-windows\\src\\learner.cc:767: \n",
      "Parameters: { \"n_estimators\" } are not used.\n",
      "\n",
      "[19:31:23] WARNING: C:\\buildkite-agent\\builds\\buildkite-windows-cpu-autoscaling-group-i-07593ffd91cd9da33-1\\xgboost\\xgboost-ci-windows\\src\\learner.cc:767: \n",
      "Parameters: { \"n_estimators\" } are not used.\n",
      "\n"
     ]
    },
    {
     "name": "stderr",
     "output_type": "stream",
     "text": [
      "\u001b[32m[I 2023-05-17 19:31:23,175]\u001b[0m Trial 147 finished with value: 75982.99612939586 and parameters: {'colsample_bytree': 0.5, 'subsample': 0.5, 'learning_rate': 0.22541537001652043, 'max_depth': 8, 'min_child_weight': 6}. Best is trial 121 with value: 64915.739323059.\u001b[0m\n",
      "\u001b[32m[I 2023-05-17 19:31:23,263]\u001b[0m Trial 148 finished with value: 78666.28023278712 and parameters: {'colsample_bytree': 0.5, 'subsample': 0.6, 'learning_rate': 0.2429109030584366, 'max_depth': 8, 'min_child_weight': 21}. Best is trial 121 with value: 64915.739323059.\u001b[0m\n",
      "\u001b[32m[I 2023-05-17 19:31:23,361]\u001b[0m Trial 149 finished with value: 159160.92678974112 and parameters: {'colsample_bytree': 0.5, 'subsample': 0.4, 'learning_rate': 0.1229927595383369, 'max_depth': 9, 'min_child_weight': 17}. Best is trial 121 with value: 64915.739323059.\u001b[0m\n"
     ]
    },
    {
     "name": "stdout",
     "output_type": "stream",
     "text": [
      "[19:31:23] WARNING: C:\\buildkite-agent\\builds\\buildkite-windows-cpu-autoscaling-group-i-07593ffd91cd9da33-1\\xgboost\\xgboost-ci-windows\\src\\learner.cc:767: \n",
      "Parameters: { \"n_estimators\" } are not used.\n",
      "\n",
      "[19:31:23] WARNING: C:\\buildkite-agent\\builds\\buildkite-windows-cpu-autoscaling-group-i-07593ffd91cd9da33-1\\xgboost\\xgboost-ci-windows\\src\\learner.cc:767: \n",
      "Parameters: { \"n_estimators\" } are not used.\n",
      "\n",
      "[19:31:23] WARNING: C:\\buildkite-agent\\builds\\buildkite-windows-cpu-autoscaling-group-i-07593ffd91cd9da33-1\\xgboost\\xgboost-ci-windows\\src\\learner.cc:767: \n",
      "Parameters: { \"n_estimators\" } are not used.\n",
      "\n"
     ]
    },
    {
     "name": "stderr",
     "output_type": "stream",
     "text": [
      "\u001b[32m[I 2023-05-17 19:31:23,435]\u001b[0m Trial 150 finished with value: 92989.15653164515 and parameters: {'colsample_bytree': 0.5, 'subsample': 0.6, 'learning_rate': 0.16258527841034967, 'max_depth': 8, 'min_child_weight': 1}. Best is trial 121 with value: 64915.739323059.\u001b[0m\n",
      "\u001b[32m[I 2023-05-17 19:31:23,496]\u001b[0m Trial 151 finished with value: 74525.07907456103 and parameters: {'colsample_bytree': 0.6, 'subsample': 0.6, 'learning_rate': 0.24659384351130553, 'max_depth': 8, 'min_child_weight': 7}. Best is trial 121 with value: 64915.739323059.\u001b[0m\n",
      "\u001b[32m[I 2023-05-17 19:31:23,572]\u001b[0m Trial 152 finished with value: 80648.65704613332 and parameters: {'colsample_bytree': 0.5, 'subsample': 0.6, 'learning_rate': 0.2005214866720529, 'max_depth': 10, 'min_child_weight': 1}. Best is trial 121 with value: 64915.739323059.\u001b[0m\n"
     ]
    },
    {
     "name": "stdout",
     "output_type": "stream",
     "text": [
      "[19:31:23] WARNING: C:\\buildkite-agent\\builds\\buildkite-windows-cpu-autoscaling-group-i-07593ffd91cd9da33-1\\xgboost\\xgboost-ci-windows\\src\\learner.cc:767: \n",
      "Parameters: { \"n_estimators\" } are not used.\n",
      "\n",
      "[19:31:23] WARNING: C:\\buildkite-agent\\builds\\buildkite-windows-cpu-autoscaling-group-i-07593ffd91cd9da33-1\\xgboost\\xgboost-ci-windows\\src\\learner.cc:767: \n",
      "Parameters: { \"n_estimators\" } are not used.\n",
      "\n",
      "[19:31:23] WARNING: C:\\buildkite-agent\\builds\\buildkite-windows-cpu-autoscaling-group-i-07593ffd91cd9da33-1\\xgboost\\xgboost-ci-windows\\src\\learner.cc:767: \n",
      "Parameters: { \"n_estimators\" } are not used.\n",
      "\n"
     ]
    },
    {
     "name": "stderr",
     "output_type": "stream",
     "text": [
      "\u001b[32m[I 2023-05-17 19:31:23,665]\u001b[0m Trial 153 finished with value: 72706.67466201319 and parameters: {'colsample_bytree': 0.5, 'subsample': 0.6, 'learning_rate': 0.28563646194655523, 'max_depth': 9, 'min_child_weight': 12}. Best is trial 121 with value: 64915.739323059.\u001b[0m\n",
      "\u001b[32m[I 2023-05-17 19:31:23,753]\u001b[0m Trial 154 finished with value: 70802.61999931892 and parameters: {'colsample_bytree': 0.5, 'subsample': 0.6, 'learning_rate': 0.27444722152462386, 'max_depth': 9, 'min_child_weight': 12}. Best is trial 121 with value: 64915.739323059.\u001b[0m\n",
      "\u001b[32m[I 2023-05-17 19:31:23,830]\u001b[0m Trial 155 finished with value: 411951.05434637755 and parameters: {'colsample_bytree': 0.5, 'subsample': 0.6, 'learning_rate': 0.1699737065909694, 'max_depth': 9, 'min_child_weight': 128}. Best is trial 121 with value: 64915.739323059.\u001b[0m\n"
     ]
    },
    {
     "name": "stdout",
     "output_type": "stream",
     "text": [
      "[19:31:23] WARNING: C:\\buildkite-agent\\builds\\buildkite-windows-cpu-autoscaling-group-i-07593ffd91cd9da33-1\\xgboost\\xgboost-ci-windows\\src\\learner.cc:767: \n",
      "Parameters: { \"n_estimators\" } are not used.\n",
      "\n",
      "[19:31:23] WARNING: C:\\buildkite-agent\\builds\\buildkite-windows-cpu-autoscaling-group-i-07593ffd91cd9da33-1\\xgboost\\xgboost-ci-windows\\src\\learner.cc:767: \n",
      "Parameters: { \"n_estimators\" } are not used.\n",
      "\n",
      "[19:31:23] WARNING: C:\\buildkite-agent\\builds\\buildkite-windows-cpu-autoscaling-group-i-07593ffd91cd9da33-1\\xgboost\\xgboost-ci-windows\\src\\learner.cc:767: \n",
      "Parameters: { \"n_estimators\" } are not used.\n",
      "\n"
     ]
    },
    {
     "name": "stderr",
     "output_type": "stream",
     "text": [
      "\u001b[32m[I 2023-05-17 19:31:23,895]\u001b[0m Trial 156 finished with value: 75908.69159184798 and parameters: {'colsample_bytree': 0.5, 'subsample': 0.6, 'learning_rate': 0.25741544034494745, 'max_depth': 10, 'min_child_weight': 19}. Best is trial 121 with value: 64915.739323059.\u001b[0m\n",
      "\u001b[32m[I 2023-05-17 19:31:23,974]\u001b[0m Trial 157 finished with value: 189501.0637889558 and parameters: {'colsample_bytree': 0.5, 'subsample': 0.7, 'learning_rate': 0.09157852189698569, 'max_depth': 8, 'min_child_weight': 30}. Best is trial 121 with value: 64915.739323059.\u001b[0m\n",
      "\u001b[32m[I 2023-05-17 19:31:24,068]\u001b[0m Trial 158 finished with value: 262792.31131367286 and parameters: {'colsample_bytree': 0.9, 'subsample': 0.6, 'learning_rate': 0.05388205603738244, 'max_depth': 7, 'min_child_weight': 13}. Best is trial 121 with value: 64915.739323059.\u001b[0m\n"
     ]
    },
    {
     "name": "stdout",
     "output_type": "stream",
     "text": [
      "[19:31:23] WARNING: C:\\buildkite-agent\\builds\\buildkite-windows-cpu-autoscaling-group-i-07593ffd91cd9da33-1\\xgboost\\xgboost-ci-windows\\src\\learner.cc:767: \n",
      "Parameters: { \"n_estimators\" } are not used.\n",
      "\n",
      "[19:31:23] WARNING: C:\\buildkite-agent\\builds\\buildkite-windows-cpu-autoscaling-group-i-07593ffd91cd9da33-1\\xgboost\\xgboost-ci-windows\\src\\learner.cc:767: \n",
      "Parameters: { \"n_estimators\" } are not used.\n",
      "\n",
      "[19:31:24] WARNING: C:\\buildkite-agent\\builds\\buildkite-windows-cpu-autoscaling-group-i-07593ffd91cd9da33-1\\xgboost\\xgboost-ci-windows\\src\\learner.cc:767: \n",
      "Parameters: { \"n_estimators\" } are not used.\n",
      "\n"
     ]
    },
    {
     "name": "stderr",
     "output_type": "stream",
     "text": [
      "\u001b[32m[I 2023-05-17 19:31:24,148]\u001b[0m Trial 159 finished with value: 360486.5226422975 and parameters: {'colsample_bytree': 0.5, 'subsample': 0.6, 'learning_rate': 0.014930316999748977, 'max_depth': 9, 'min_child_weight': 7}. Best is trial 121 with value: 64915.739323059.\u001b[0m\n",
      "\u001b[32m[I 2023-05-17 19:31:24,208]\u001b[0m Trial 160 finished with value: 101221.92028736508 and parameters: {'colsample_bytree': 0.8, 'subsample': 0.6, 'learning_rate': 0.20055940901265107, 'max_depth': 8, 'min_child_weight': 25}. Best is trial 121 with value: 64915.739323059.\u001b[0m\n",
      "\u001b[32m[I 2023-05-17 19:31:24,267]\u001b[0m Trial 161 finished with value: 78868.29057693991 and parameters: {'colsample_bytree': 0.5, 'subsample': 0.6, 'learning_rate': 0.28976152087558604, 'max_depth': 9, 'min_child_weight': 15}. Best is trial 121 with value: 64915.739323059.\u001b[0m\n",
      "\u001b[32m[I 2023-05-17 19:31:24,356]\u001b[0m Trial 162 finished with value: 81618.38289728975 and parameters: {'colsample_bytree': 0.5, 'subsample': 0.6, 'learning_rate': 0.3449925786112424, 'max_depth': 9, 'min_child_weight': 11}. Best is trial 121 with value: 64915.739323059.\u001b[0m\n"
     ]
    },
    {
     "name": "stdout",
     "output_type": "stream",
     "text": [
      "[19:31:24] WARNING: C:\\buildkite-agent\\builds\\buildkite-windows-cpu-autoscaling-group-i-07593ffd91cd9da33-1\\xgboost\\xgboost-ci-windows\\src\\learner.cc:767: \n",
      "Parameters: { \"n_estimators\" } are not used.\n",
      "\n",
      "[19:31:24] WARNING: C:\\buildkite-agent\\builds\\buildkite-windows-cpu-autoscaling-group-i-07593ffd91cd9da33-1\\xgboost\\xgboost-ci-windows\\src\\learner.cc:767: \n",
      "Parameters: { \"n_estimators\" } are not used.\n",
      "\n",
      "[19:31:24] WARNING: C:\\buildkite-agent\\builds\\buildkite-windows-cpu-autoscaling-group-i-07593ffd91cd9da33-1\\xgboost\\xgboost-ci-windows\\src\\learner.cc:767: \n",
      "Parameters: { \"n_estimators\" } are not used.\n",
      "\n",
      "[19:31:24] WARNING: C:\\buildkite-agent\\builds\\buildkite-windows-cpu-autoscaling-group-i-07593ffd91cd9da33-1\\xgboost\\xgboost-ci-windows\\src\\learner.cc:767: \n",
      "Parameters: { \"n_estimators\" } are not used.\n",
      "\n"
     ]
    },
    {
     "name": "stderr",
     "output_type": "stream",
     "text": [
      "\u001b[32m[I 2023-05-17 19:31:24,447]\u001b[0m Trial 163 finished with value: 411951.05434637755 and parameters: {'colsample_bytree': 0.5, 'subsample': 0.6, 'learning_rate': 0.27508573339526154, 'max_depth': 8, 'min_child_weight': 296}. Best is trial 121 with value: 64915.739323059.\u001b[0m\n",
      "\u001b[32m[I 2023-05-17 19:31:24,514]\u001b[0m Trial 164 finished with value: 283825.2605322627 and parameters: {'colsample_bytree': 0.5, 'subsample': 0.6, 'learning_rate': 0.041480951599680495, 'max_depth': 9, 'min_child_weight': 7}. Best is trial 121 with value: 64915.739323059.\u001b[0m\n",
      "\u001b[32m[I 2023-05-17 19:31:24,573]\u001b[0m Trial 165 finished with value: 108309.57382297257 and parameters: {'colsample_bytree': 0.3, 'subsample': 1.0, 'learning_rate': 0.2269331067404689, 'max_depth': 10, 'min_child_weight': 20}. Best is trial 121 with value: 64915.739323059.\u001b[0m\n",
      "\u001b[32m[I 2023-05-17 19:31:24,633]\u001b[0m Trial 166 finished with value: 74288.59612363398 and parameters: {'colsample_bytree': 0.5, 'subsample': 0.6, 'learning_rate': 0.42362161371255236, 'max_depth': 7, 'min_child_weight': 13}. Best is trial 121 with value: 64915.739323059.\u001b[0m\n"
     ]
    },
    {
     "name": "stdout",
     "output_type": "stream",
     "text": [
      "[19:31:24] WARNING: C:\\buildkite-agent\\builds\\buildkite-windows-cpu-autoscaling-group-i-07593ffd91cd9da33-1\\xgboost\\xgboost-ci-windows\\src\\learner.cc:767: \n",
      "Parameters: { \"n_estimators\" } are not used.\n",
      "\n",
      "[19:31:24] WARNING: C:\\buildkite-agent\\builds\\buildkite-windows-cpu-autoscaling-group-i-07593ffd91cd9da33-1\\xgboost\\xgboost-ci-windows\\src\\learner.cc:767: \n",
      "Parameters: { \"n_estimators\" } are not used.\n",
      "\n",
      "[19:31:24] WARNING: C:\\buildkite-agent\\builds\\buildkite-windows-cpu-autoscaling-group-i-07593ffd91cd9da33-1\\xgboost\\xgboost-ci-windows\\src\\learner.cc:767: \n",
      "Parameters: { \"n_estimators\" } are not used.\n",
      "\n",
      "[19:31:24] WARNING: C:\\buildkite-agent\\builds\\buildkite-windows-cpu-autoscaling-group-i-07593ffd91cd9da33-1\\xgboost\\xgboost-ci-windows\\src\\learner.cc:767: \n",
      "Parameters: { \"n_estimators\" } are not used.\n",
      "\n"
     ]
    },
    {
     "name": "stderr",
     "output_type": "stream",
     "text": [
      "\u001b[32m[I 2023-05-17 19:31:24,696]\u001b[0m Trial 167 finished with value: 411951.05434637755 and parameters: {'colsample_bytree': 0.5, 'subsample': 0.6, 'learning_rate': 0.32685286058777274, 'max_depth': 8, 'min_child_weight': 99}. Best is trial 121 with value: 64915.739323059.\u001b[0m\n",
      "\u001b[32m[I 2023-05-17 19:31:24,759]\u001b[0m Trial 168 finished with value: 405541.611631655 and parameters: {'colsample_bytree': 0.5, 'subsample': 0.6, 'learning_rate': 0.0017078495918544105, 'max_depth': 8, 'min_child_weight': 1}. Best is trial 121 with value: 64915.739323059.\u001b[0m\n",
      "\u001b[32m[I 2023-05-17 19:31:24,819]\u001b[0m Trial 169 finished with value: 325079.0744614056 and parameters: {'colsample_bytree': 0.5, 'subsample': 0.6, 'learning_rate': 0.026488405988817142, 'max_depth': 7, 'min_child_weight': 10}. Best is trial 121 with value: 64915.739323059.\u001b[0m\n",
      "\u001b[32m[I 2023-05-17 19:31:24,882]\u001b[0m Trial 170 finished with value: 78275.55825820108 and parameters: {'colsample_bytree': 0.5, 'subsample': 0.6, 'learning_rate': 0.287883205336389, 'max_depth': 9, 'min_child_weight': 23}. Best is trial 121 with value: 64915.739323059.\u001b[0m\n"
     ]
    },
    {
     "name": "stdout",
     "output_type": "stream",
     "text": [
      "[19:31:24] WARNING: C:\\buildkite-agent\\builds\\buildkite-windows-cpu-autoscaling-group-i-07593ffd91cd9da33-1\\xgboost\\xgboost-ci-windows\\src\\learner.cc:767: \n",
      "Parameters: { \"n_estimators\" } are not used.\n",
      "\n",
      "[19:31:24] WARNING: C:\\buildkite-agent\\builds\\buildkite-windows-cpu-autoscaling-group-i-07593ffd91cd9da33-1\\xgboost\\xgboost-ci-windows\\src\\learner.cc:767: \n",
      "Parameters: { \"n_estimators\" } are not used.\n",
      "\n",
      "[19:31:24] WARNING: C:\\buildkite-agent\\builds\\buildkite-windows-cpu-autoscaling-group-i-07593ffd91cd9da33-1\\xgboost\\xgboost-ci-windows\\src\\learner.cc:767: \n",
      "Parameters: { \"n_estimators\" } are not used.\n",
      "\n",
      "[19:31:24] WARNING: C:\\buildkite-agent\\builds\\buildkite-windows-cpu-autoscaling-group-i-07593ffd91cd9da33-1\\xgboost\\xgboost-ci-windows\\src\\learner.cc:767: \n",
      "Parameters: { \"n_estimators\" } are not used.\n",
      "\n"
     ]
    },
    {
     "name": "stderr",
     "output_type": "stream",
     "text": [
      "\u001b[32m[I 2023-05-17 19:31:24,948]\u001b[0m Trial 171 finished with value: 75842.38843543996 and parameters: {'colsample_bytree': 0.4, 'subsample': 0.6, 'learning_rate': 0.39853812758736745, 'max_depth': 8, 'min_child_weight': 1}. Best is trial 121 with value: 64915.739323059.\u001b[0m\n",
      "\u001b[32m[I 2023-05-17 19:31:25,018]\u001b[0m Trial 172 finished with value: 79999.93553619768 and parameters: {'colsample_bytree': 0.4, 'subsample': 0.6, 'learning_rate': 0.33619270316669403, 'max_depth': 9, 'min_child_weight': 6}. Best is trial 121 with value: 64915.739323059.\u001b[0m\n",
      "\u001b[32m[I 2023-05-17 19:31:25,085]\u001b[0m Trial 173 finished with value: 76888.59713746622 and parameters: {'colsample_bytree': 0.7, 'subsample': 0.6, 'learning_rate': 0.42668126005504675, 'max_depth': 7, 'min_child_weight': 14}. Best is trial 121 with value: 64915.739323059.\u001b[0m\n",
      "\u001b[32m[I 2023-05-17 19:31:25,145]\u001b[0m Trial 174 finished with value: 75212.24585035145 and parameters: {'colsample_bytree': 0.6, 'subsample': 0.6, 'learning_rate': 0.2473380255805384, 'max_depth': 9, 'min_child_weight': 6}. Best is trial 121 with value: 64915.739323059.\u001b[0m\n"
     ]
    },
    {
     "name": "stdout",
     "output_type": "stream",
     "text": [
      "[19:31:24] WARNING: C:\\buildkite-agent\\builds\\buildkite-windows-cpu-autoscaling-group-i-07593ffd91cd9da33-1\\xgboost\\xgboost-ci-windows\\src\\learner.cc:767: \n",
      "Parameters: { \"n_estimators\" } are not used.\n",
      "\n",
      "[19:31:25] WARNING: C:\\buildkite-agent\\builds\\buildkite-windows-cpu-autoscaling-group-i-07593ffd91cd9da33-1\\xgboost\\xgboost-ci-windows\\src\\learner.cc:767: \n",
      "Parameters: { \"n_estimators\" } are not used.\n",
      "\n",
      "[19:31:25] WARNING: C:\\buildkite-agent\\builds\\buildkite-windows-cpu-autoscaling-group-i-07593ffd91cd9da33-1\\xgboost\\xgboost-ci-windows\\src\\learner.cc:767: \n",
      "Parameters: { \"n_estimators\" } are not used.\n",
      "\n",
      "[19:31:25] WARNING: C:\\buildkite-agent\\builds\\buildkite-windows-cpu-autoscaling-group-i-07593ffd91cd9da33-1\\xgboost\\xgboost-ci-windows\\src\\learner.cc:767: \n",
      "Parameters: { \"n_estimators\" } are not used.\n",
      "\n"
     ]
    },
    {
     "name": "stderr",
     "output_type": "stream",
     "text": [
      "\u001b[32m[I 2023-05-17 19:31:25,210]\u001b[0m Trial 175 finished with value: 74657.46511538046 and parameters: {'colsample_bytree': 0.5, 'subsample': 0.6, 'learning_rate': 0.38924748813177706, 'max_depth': 3, 'min_child_weight': 17}. Best is trial 121 with value: 64915.739323059.\u001b[0m\n",
      "\u001b[32m[I 2023-05-17 19:31:25,275]\u001b[0m Trial 176 finished with value: 91964.0913356846 and parameters: {'colsample_bytree': 0.4, 'subsample': 0.6, 'learning_rate': 0.19016947879809282, 'max_depth': 8, 'min_child_weight': 11}. Best is trial 121 with value: 64915.739323059.\u001b[0m\n",
      "\u001b[32m[I 2023-05-17 19:31:25,348]\u001b[0m Trial 177 finished with value: 107805.25624600553 and parameters: {'colsample_bytree': 0.5, 'subsample': 0.6, 'learning_rate': 0.14370989384734079, 'max_depth': 8, 'min_child_weight': 1}. Best is trial 121 with value: 64915.739323059.\u001b[0m\n"
     ]
    },
    {
     "name": "stdout",
     "output_type": "stream",
     "text": [
      "[19:31:25] WARNING: C:\\buildkite-agent\\builds\\buildkite-windows-cpu-autoscaling-group-i-07593ffd91cd9da33-1\\xgboost\\xgboost-ci-windows\\src\\learner.cc:767: \n",
      "Parameters: { \"n_estimators\" } are not used.\n",
      "\n",
      "[19:31:25] WARNING: C:\\buildkite-agent\\builds\\buildkite-windows-cpu-autoscaling-group-i-07593ffd91cd9da33-1\\xgboost\\xgboost-ci-windows\\src\\learner.cc:767: \n",
      "Parameters: { \"n_estimators\" } are not used.\n",
      "\n",
      "[19:31:25] WARNING: C:\\buildkite-agent\\builds\\buildkite-windows-cpu-autoscaling-group-i-07593ffd91cd9da33-1\\xgboost\\xgboost-ci-windows\\src\\learner.cc:767: \n",
      "Parameters: { \"n_estimators\" } are not used.\n",
      "\n",
      "[19:31:25] WARNING: C:\\buildkite-agent\\builds\\buildkite-windows-cpu-autoscaling-group-i-07593ffd91cd9da33-1\\xgboost\\xgboost-ci-windows\\src\\learner.cc:767: \n",
      "Parameters: { \"n_estimators\" } are not used.\n",
      "\n"
     ]
    },
    {
     "name": "stderr",
     "output_type": "stream",
     "text": [
      "\u001b[32m[I 2023-05-17 19:31:25,417]\u001b[0m Trial 178 finished with value: 75299.03833847155 and parameters: {'colsample_bytree': 0.4, 'subsample': 0.6, 'learning_rate': 0.30287884095915063, 'max_depth': 7, 'min_child_weight': 7}. Best is trial 121 with value: 64915.739323059.\u001b[0m\n",
      "\u001b[32m[I 2023-05-17 19:31:25,481]\u001b[0m Trial 179 finished with value: 71716.7198431902 and parameters: {'colsample_bytree': 0.9, 'subsample': 0.5, 'learning_rate': 0.3676444510479545, 'max_depth': 9, 'min_child_weight': 19}. Best is trial 121 with value: 64915.739323059.\u001b[0m\n",
      "\u001b[32m[I 2023-05-17 19:31:25,541]\u001b[0m Trial 180 finished with value: 176178.8673709034 and parameters: {'colsample_bytree': 0.8, 'subsample': 0.5, 'learning_rate': 0.495084920260333, 'max_depth': 9, 'min_child_weight': 26}. Best is trial 121 with value: 64915.739323059.\u001b[0m\n",
      "\u001b[32m[I 2023-05-17 19:31:25,599]\u001b[0m Trial 181 finished with value: 68210.09885555919 and parameters: {'colsample_bytree': 0.9, 'subsample': 0.5, 'learning_rate': 0.353600192077298, 'max_depth': 10, 'min_child_weight': 18}. Best is trial 121 with value: 64915.739323059.\u001b[0m\n",
      "\u001b[32m[I 2023-05-17 19:31:25,662]\u001b[0m Trial 182 finished with value: 75399.96450554472 and parameters: {'colsample_bytree': 0.9, 'subsample': 0.5, 'learning_rate': 0.2704191439070021, 'max_depth': 10, 'min_child_weight': 17}. Best is trial 121 with value: 64915.739323059.\u001b[0m\n"
     ]
    },
    {
     "name": "stdout",
     "output_type": "stream",
     "text": [
      "[19:31:25] WARNING: C:\\buildkite-agent\\builds\\buildkite-windows-cpu-autoscaling-group-i-07593ffd91cd9da33-1\\xgboost\\xgboost-ci-windows\\src\\learner.cc:767: \n",
      "Parameters: { \"n_estimators\" } are not used.\n",
      "\n",
      "[19:31:25] WARNING: C:\\buildkite-agent\\builds\\buildkite-windows-cpu-autoscaling-group-i-07593ffd91cd9da33-1\\xgboost\\xgboost-ci-windows\\src\\learner.cc:767: \n",
      "Parameters: { \"n_estimators\" } are not used.\n",
      "\n",
      "[19:31:25] WARNING: C:\\buildkite-agent\\builds\\buildkite-windows-cpu-autoscaling-group-i-07593ffd91cd9da33-1\\xgboost\\xgboost-ci-windows\\src\\learner.cc:767: \n",
      "Parameters: { \"n_estimators\" } are not used.\n",
      "\n",
      "[19:31:25] WARNING: C:\\buildkite-agent\\builds\\buildkite-windows-cpu-autoscaling-group-i-07593ffd91cd9da33-1\\xgboost\\xgboost-ci-windows\\src\\learner.cc:767: \n",
      "Parameters: { \"n_estimators\" } are not used.\n",
      "\n"
     ]
    },
    {
     "name": "stderr",
     "output_type": "stream",
     "text": [
      "\u001b[32m[I 2023-05-17 19:31:25,730]\u001b[0m Trial 183 finished with value: 71787.5475350979 and parameters: {'colsample_bytree': 0.9, 'subsample': 0.5, 'learning_rate': 0.3510624410792493, 'max_depth': 9, 'min_child_weight': 20}. Best is trial 121 with value: 64915.739323059.\u001b[0m\n",
      "\u001b[32m[I 2023-05-17 19:31:25,797]\u001b[0m Trial 184 finished with value: 176171.5833994313 and parameters: {'colsample_bytree': 0.9, 'subsample': 0.5, 'learning_rate': 0.3575918791913233, 'max_depth': 10, 'min_child_weight': 35}. Best is trial 121 with value: 64915.739323059.\u001b[0m\n",
      "\u001b[32m[I 2023-05-17 19:31:25,858]\u001b[0m Trial 185 finished with value: 229913.63908197745 and parameters: {'colsample_bytree': 0.9, 'subsample': 0.5, 'learning_rate': 0.07022114146586111, 'max_depth': 8, 'min_child_weight': 21}. Best is trial 121 with value: 64915.739323059.\u001b[0m\n",
      "\u001b[32m[I 2023-05-17 19:31:25,918]\u001b[0m Trial 186 finished with value: 177378.97680615672 and parameters: {'colsample_bytree': 0.9, 'subsample': 0.5, 'learning_rate': 0.22239826715701497, 'max_depth': 10, 'min_child_weight': 30}. Best is trial 121 with value: 64915.739323059.\u001b[0m\n"
     ]
    },
    {
     "name": "stdout",
     "output_type": "stream",
     "text": [
      "[19:31:25] WARNING: C:\\buildkite-agent\\builds\\buildkite-windows-cpu-autoscaling-group-i-07593ffd91cd9da33-1\\xgboost\\xgboost-ci-windows\\src\\learner.cc:767: \n",
      "Parameters: { \"n_estimators\" } are not used.\n",
      "\n",
      "[19:31:25] WARNING: C:\\buildkite-agent\\builds\\buildkite-windows-cpu-autoscaling-group-i-07593ffd91cd9da33-1\\xgboost\\xgboost-ci-windows\\src\\learner.cc:767: \n",
      "Parameters: { \"n_estimators\" } are not used.\n",
      "\n",
      "[19:31:25] WARNING: C:\\buildkite-agent\\builds\\buildkite-windows-cpu-autoscaling-group-i-07593ffd91cd9da33-1\\xgboost\\xgboost-ci-windows\\src\\learner.cc:767: \n",
      "Parameters: { \"n_estimators\" } are not used.\n",
      "\n",
      "[19:31:25] WARNING: C:\\buildkite-agent\\builds\\buildkite-windows-cpu-autoscaling-group-i-07593ffd91cd9da33-1\\xgboost\\xgboost-ci-windows\\src\\learner.cc:767: \n",
      "Parameters: { \"n_estimators\" } are not used.\n",
      "\n"
     ]
    },
    {
     "name": "stderr",
     "output_type": "stream",
     "text": [
      "\u001b[32m[I 2023-05-17 19:31:25,980]\u001b[0m Trial 187 finished with value: 383029.9209457533 and parameters: {'colsample_bytree': 0.9, 'subsample': 0.5, 'learning_rate': 0.0084201130445777, 'max_depth': 9, 'min_child_weight': 20}. Best is trial 121 with value: 64915.739323059.\u001b[0m\n",
      "\u001b[32m[I 2023-05-17 19:31:26,043]\u001b[0m Trial 188 finished with value: 72301.39655609551 and parameters: {'colsample_bytree': 0.9, 'subsample': 0.5, 'learning_rate': 0.44174663218824556, 'max_depth': 11, 'min_child_weight': 11}. Best is trial 121 with value: 64915.739323059.\u001b[0m\n",
      "\u001b[32m[I 2023-05-17 19:31:26,105]\u001b[0m Trial 189 finished with value: 69812.35144498962 and parameters: {'colsample_bytree': 0.9, 'subsample': 0.5, 'learning_rate': 0.43454018385096366, 'max_depth': 11, 'min_child_weight': 13}. Best is trial 121 with value: 64915.739323059.\u001b[0m\n",
      "\u001b[32m[I 2023-05-17 19:31:26,168]\u001b[0m Trial 190 finished with value: 90284.89476677374 and parameters: {'colsample_bytree': 0.9, 'subsample': 0.5, 'learning_rate': 0.43227857853084894, 'max_depth': 11, 'min_child_weight': 23}. Best is trial 121 with value: 64915.739323059.\u001b[0m\n"
     ]
    },
    {
     "name": "stdout",
     "output_type": "stream",
     "text": [
      "[19:31:25] WARNING: C:\\buildkite-agent\\builds\\buildkite-windows-cpu-autoscaling-group-i-07593ffd91cd9da33-1\\xgboost\\xgboost-ci-windows\\src\\learner.cc:767: \n",
      "Parameters: { \"n_estimators\" } are not used.\n",
      "\n",
      "[19:31:26] WARNING: C:\\buildkite-agent\\builds\\buildkite-windows-cpu-autoscaling-group-i-07593ffd91cd9da33-1\\xgboost\\xgboost-ci-windows\\src\\learner.cc:767: \n",
      "Parameters: { \"n_estimators\" } are not used.\n",
      "\n",
      "[19:31:26] WARNING: C:\\buildkite-agent\\builds\\buildkite-windows-cpu-autoscaling-group-i-07593ffd91cd9da33-1\\xgboost\\xgboost-ci-windows\\src\\learner.cc:767: \n",
      "Parameters: { \"n_estimators\" } are not used.\n",
      "\n",
      "[19:31:26] WARNING: C:\\buildkite-agent\\builds\\buildkite-windows-cpu-autoscaling-group-i-07593ffd91cd9da33-1\\xgboost\\xgboost-ci-windows\\src\\learner.cc:767: \n",
      "Parameters: { \"n_estimators\" } are not used.\n",
      "\n"
     ]
    },
    {
     "name": "stderr",
     "output_type": "stream",
     "text": [
      "\u001b[32m[I 2023-05-17 19:31:26,233]\u001b[0m Trial 191 finished with value: 77450.69495111043 and parameters: {'colsample_bytree': 0.9, 'subsample': 0.5, 'learning_rate': 0.49763238730402054, 'max_depth': 11, 'min_child_weight': 13}. Best is trial 121 with value: 64915.739323059.\u001b[0m\n",
      "\u001b[32m[I 2023-05-17 19:31:26,330]\u001b[0m Trial 192 finished with value: 66004.78450108638 and parameters: {'colsample_bytree': 0.9, 'subsample': 0.5, 'learning_rate': 0.351877910949074, 'max_depth': 11, 'min_child_weight': 11}. Best is trial 121 with value: 64915.739323059.\u001b[0m\n"
     ]
    },
    {
     "name": "stdout",
     "output_type": "stream",
     "text": [
      "[19:31:26] WARNING: C:\\buildkite-agent\\builds\\buildkite-windows-cpu-autoscaling-group-i-07593ffd91cd9da33-1\\xgboost\\xgboost-ci-windows\\src\\learner.cc:767: \n",
      "Parameters: { \"n_estimators\" } are not used.\n",
      "\n",
      "[19:31:26] WARNING: C:\\buildkite-agent\\builds\\buildkite-windows-cpu-autoscaling-group-i-07593ffd91cd9da33-1\\xgboost\\xgboost-ci-windows\\src\\learner.cc:767: \n",
      "Parameters: { \"n_estimators\" } are not used.\n",
      "\n"
     ]
    },
    {
     "name": "stderr",
     "output_type": "stream",
     "text": [
      "\u001b[32m[I 2023-05-17 19:31:26,453]\u001b[0m Trial 193 finished with value: 61997.0952287244 and parameters: {'colsample_bytree': 0.9, 'subsample': 0.5, 'learning_rate': 0.36071555543393347, 'max_depth': 11, 'min_child_weight': 8}. Best is trial 193 with value: 61997.0952287244.\u001b[0m\n",
      "\u001b[32m[I 2023-05-17 19:31:26,531]\u001b[0m Trial 194 finished with value: 63513.97679622517 and parameters: {'colsample_bytree': 0.9, 'subsample': 0.5, 'learning_rate': 0.36326063789680463, 'max_depth': 12, 'min_child_weight': 6}. Best is trial 193 with value: 61997.0952287244.\u001b[0m\n",
      "\u001b[32m[I 2023-05-17 19:31:26,599]\u001b[0m Trial 195 finished with value: 72216.3938453506 and parameters: {'colsample_bytree': 0.9, 'subsample': 0.5, 'learning_rate': 0.3465024809128064, 'max_depth': 11, 'min_child_weight': 17}. Best is trial 193 with value: 61997.0952287244.\u001b[0m\n"
     ]
    },
    {
     "name": "stdout",
     "output_type": "stream",
     "text": [
      "[19:31:26] WARNING: C:\\buildkite-agent\\builds\\buildkite-windows-cpu-autoscaling-group-i-07593ffd91cd9da33-1\\xgboost\\xgboost-ci-windows\\src\\learner.cc:767: \n",
      "Parameters: { \"n_estimators\" } are not used.\n",
      "\n",
      "[19:31:26] WARNING: C:\\buildkite-agent\\builds\\buildkite-windows-cpu-autoscaling-group-i-07593ffd91cd9da33-1\\xgboost\\xgboost-ci-windows\\src\\learner.cc:767: \n",
      "Parameters: { \"n_estimators\" } are not used.\n",
      "\n",
      "[19:31:26] WARNING: C:\\buildkite-agent\\builds\\buildkite-windows-cpu-autoscaling-group-i-07593ffd91cd9da33-1\\xgboost\\xgboost-ci-windows\\src\\learner.cc:767: \n",
      "Parameters: { \"n_estimators\" } are not used.\n",
      "\n"
     ]
    },
    {
     "name": "stderr",
     "output_type": "stream",
     "text": [
      "\u001b[32m[I 2023-05-17 19:31:26,674]\u001b[0m Trial 196 finished with value: 65547.96035513144 and parameters: {'colsample_bytree': 0.9, 'subsample': 0.5, 'learning_rate': 0.36913832111066697, 'max_depth': 11, 'min_child_weight': 6}. Best is trial 193 with value: 61997.0952287244.\u001b[0m\n",
      "\u001b[32m[I 2023-05-17 19:31:26,747]\u001b[0m Trial 197 finished with value: 88755.39726945315 and parameters: {'colsample_bytree': 0.9, 'subsample': 0.5, 'learning_rate': 0.3649075339174737, 'max_depth': 12, 'min_child_weight': 1}. Best is trial 193 with value: 61997.0952287244.\u001b[0m\n",
      "\u001b[32m[I 2023-05-17 19:31:26,824]\u001b[0m Trial 198 finished with value: 69249.91624066816 and parameters: {'colsample_bytree': 0.9, 'subsample': 0.5, 'learning_rate': 0.3299108763434013, 'max_depth': 12, 'min_child_weight': 18}. Best is trial 193 with value: 61997.0952287244.\u001b[0m\n"
     ]
    },
    {
     "name": "stdout",
     "output_type": "stream",
     "text": [
      "[19:31:26] WARNING: C:\\buildkite-agent\\builds\\buildkite-windows-cpu-autoscaling-group-i-07593ffd91cd9da33-1\\xgboost\\xgboost-ci-windows\\src\\learner.cc:767: \n",
      "Parameters: { \"n_estimators\" } are not used.\n",
      "\n",
      "[19:31:26] WARNING: C:\\buildkite-agent\\builds\\buildkite-windows-cpu-autoscaling-group-i-07593ffd91cd9da33-1\\xgboost\\xgboost-ci-windows\\src\\learner.cc:767: \n",
      "Parameters: { \"n_estimators\" } are not used.\n",
      "\n",
      "[19:31:26] WARNING: C:\\buildkite-agent\\builds\\buildkite-windows-cpu-autoscaling-group-i-07593ffd91cd9da33-1\\xgboost\\xgboost-ci-windows\\src\\learner.cc:767: \n",
      "Parameters: { \"n_estimators\" } are not used.\n",
      "\n"
     ]
    },
    {
     "name": "stderr",
     "output_type": "stream",
     "text": [
      "\u001b[32m[I 2023-05-17 19:31:26,899]\u001b[0m Trial 199 finished with value: 176174.2483277784 and parameters: {'colsample_bytree': 0.9, 'subsample': 0.5, 'learning_rate': 0.33028979593219504, 'max_depth': 12, 'min_child_weight': 31}. Best is trial 193 with value: 61997.0952287244.\u001b[0m\n",
      "\u001b[32m[I 2023-05-17 19:31:26,964]\u001b[0m Trial 200 finished with value: 153355.66696178142 and parameters: {'colsample_bytree': 0.9, 'subsample': 0.5, 'learning_rate': 0.3877503128602801, 'max_depth': 12, 'min_child_weight': 25}. Best is trial 193 with value: 61997.0952287244.\u001b[0m\n",
      "\u001b[32m[I 2023-05-17 19:31:27,027]\u001b[0m Trial 201 finished with value: 74816.99181565222 and parameters: {'colsample_bytree': 0.9, 'subsample': 0.5, 'learning_rate': 0.31338510242568374, 'max_depth': 11, 'min_child_weight': 16}. Best is trial 193 with value: 61997.0952287244.\u001b[0m\n",
      "\u001b[32m[I 2023-05-17 19:31:27,095]\u001b[0m Trial 202 finished with value: 80982.26538237576 and parameters: {'colsample_bytree': 0.9, 'subsample': 0.5, 'learning_rate': 0.3816100668025404, 'max_depth': 12, 'min_child_weight': 9}. Best is trial 193 with value: 61997.0952287244.\u001b[0m\n"
     ]
    },
    {
     "name": "stdout",
     "output_type": "stream",
     "text": [
      "[19:31:26] WARNING: C:\\buildkite-agent\\builds\\buildkite-windows-cpu-autoscaling-group-i-07593ffd91cd9da33-1\\xgboost\\xgboost-ci-windows\\src\\learner.cc:767: \n",
      "Parameters: { \"n_estimators\" } are not used.\n",
      "\n",
      "[19:31:26] WARNING: C:\\buildkite-agent\\builds\\buildkite-windows-cpu-autoscaling-group-i-07593ffd91cd9da33-1\\xgboost\\xgboost-ci-windows\\src\\learner.cc:767: \n",
      "Parameters: { \"n_estimators\" } are not used.\n",
      "\n",
      "[19:31:27] WARNING: C:\\buildkite-agent\\builds\\buildkite-windows-cpu-autoscaling-group-i-07593ffd91cd9da33-1\\xgboost\\xgboost-ci-windows\\src\\learner.cc:767: \n",
      "Parameters: { \"n_estimators\" } are not used.\n",
      "\n",
      "[19:31:27] WARNING: C:\\buildkite-agent\\builds\\buildkite-windows-cpu-autoscaling-group-i-07593ffd91cd9da33-1\\xgboost\\xgboost-ci-windows\\src\\learner.cc:767: \n",
      "Parameters: { \"n_estimators\" } are not used.\n",
      "\n"
     ]
    },
    {
     "name": "stderr",
     "output_type": "stream",
     "text": [
      "\u001b[32m[I 2023-05-17 19:31:27,160]\u001b[0m Trial 203 finished with value: 72675.2123957179 and parameters: {'colsample_bytree': 0.9, 'subsample': 0.5, 'learning_rate': 0.30730520104648296, 'max_depth': 13, 'min_child_weight': 19}. Best is trial 193 with value: 61997.0952287244.\u001b[0m\n",
      "\u001b[32m[I 2023-05-17 19:31:27,223]\u001b[0m Trial 204 finished with value: 71271.59083257588 and parameters: {'colsample_bytree': 0.9, 'subsample': 0.5, 'learning_rate': 0.4255943317214468, 'max_depth': 11, 'min_child_weight': 11}. Best is trial 193 with value: 61997.0952287244.\u001b[0m\n",
      "\u001b[32m[I 2023-05-17 19:31:27,288]\u001b[0m Trial 205 finished with value: 73032.33539795813 and parameters: {'colsample_bytree': 0.9, 'subsample': 0.5, 'learning_rate': 0.43966695268029604, 'max_depth': 11, 'min_child_weight': 12}. Best is trial 193 with value: 61997.0952287244.\u001b[0m\n",
      "\u001b[32m[I 2023-05-17 19:31:27,355]\u001b[0m Trial 206 finished with value: 71978.77122082308 and parameters: {'colsample_bytree': 0.9, 'subsample': 0.5, 'learning_rate': 0.36169536864220514, 'max_depth': 11, 'min_child_weight': 19}. Best is trial 193 with value: 61997.0952287244.\u001b[0m\n"
     ]
    },
    {
     "name": "stdout",
     "output_type": "stream",
     "text": [
      "[19:31:27] WARNING: C:\\buildkite-agent\\builds\\buildkite-windows-cpu-autoscaling-group-i-07593ffd91cd9da33-1\\xgboost\\xgboost-ci-windows\\src\\learner.cc:767: \n",
      "Parameters: { \"n_estimators\" } are not used.\n",
      "\n",
      "[19:31:27] WARNING: C:\\buildkite-agent\\builds\\buildkite-windows-cpu-autoscaling-group-i-07593ffd91cd9da33-1\\xgboost\\xgboost-ci-windows\\src\\learner.cc:767: \n",
      "Parameters: { \"n_estimators\" } are not used.\n",
      "\n",
      "[19:31:27] WARNING: C:\\buildkite-agent\\builds\\buildkite-windows-cpu-autoscaling-group-i-07593ffd91cd9da33-1\\xgboost\\xgboost-ci-windows\\src\\learner.cc:767: \n",
      "Parameters: { \"n_estimators\" } are not used.\n",
      "\n",
      "[19:31:27] WARNING: C:\\buildkite-agent\\builds\\buildkite-windows-cpu-autoscaling-group-i-07593ffd91cd9da33-1\\xgboost\\xgboost-ci-windows\\src\\learner.cc:767: \n",
      "Parameters: { \"n_estimators\" } are not used.\n",
      "\n"
     ]
    },
    {
     "name": "stderr",
     "output_type": "stream",
     "text": [
      "\u001b[32m[I 2023-05-17 19:31:27,428]\u001b[0m Trial 207 finished with value: 411951.05434637755 and parameters: {'colsample_bytree': 0.9, 'subsample': 0.5, 'learning_rate': 0.4982185802282917, 'max_depth': 11, 'min_child_weight': 260}. Best is trial 193 with value: 61997.0952287244.\u001b[0m\n",
      "\u001b[32m[I 2023-05-17 19:31:27,493]\u001b[0m Trial 208 finished with value: 66981.45113737085 and parameters: {'colsample_bytree': 0.9, 'subsample': 0.5, 'learning_rate': 0.3880019368052349, 'max_depth': 12, 'min_child_weight': 12}. Best is trial 193 with value: 61997.0952287244.\u001b[0m\n",
      "\u001b[32m[I 2023-05-17 19:31:27,560]\u001b[0m Trial 209 finished with value: 59708.47373267724 and parameters: {'colsample_bytree': 0.9, 'subsample': 0.5, 'learning_rate': 0.4161242407027994, 'max_depth': 12, 'min_child_weight': 6}. Best is trial 209 with value: 59708.47373267724.\u001b[0m\n",
      "\u001b[32m[I 2023-05-17 19:31:27,629]\u001b[0m Trial 210 finished with value: 62978.6425038368 and parameters: {'colsample_bytree': 0.9, 'subsample': 0.5, 'learning_rate': 0.43257910138414557, 'max_depth': 12, 'min_child_weight': 6}. Best is trial 209 with value: 59708.47373267724.\u001b[0m\n"
     ]
    },
    {
     "name": "stdout",
     "output_type": "stream",
     "text": [
      "[19:31:27] WARNING: C:\\buildkite-agent\\builds\\buildkite-windows-cpu-autoscaling-group-i-07593ffd91cd9da33-1\\xgboost\\xgboost-ci-windows\\src\\learner.cc:767: \n",
      "Parameters: { \"n_estimators\" } are not used.\n",
      "\n",
      "[19:31:27] WARNING: C:\\buildkite-agent\\builds\\buildkite-windows-cpu-autoscaling-group-i-07593ffd91cd9da33-1\\xgboost\\xgboost-ci-windows\\src\\learner.cc:767: \n",
      "Parameters: { \"n_estimators\" } are not used.\n",
      "\n",
      "[19:31:27] WARNING: C:\\buildkite-agent\\builds\\buildkite-windows-cpu-autoscaling-group-i-07593ffd91cd9da33-1\\xgboost\\xgboost-ci-windows\\src\\learner.cc:767: \n",
      "Parameters: { \"n_estimators\" } are not used.\n",
      "\n",
      "[19:31:27] WARNING: C:\\buildkite-agent\\builds\\buildkite-windows-cpu-autoscaling-group-i-07593ffd91cd9da33-1\\xgboost\\xgboost-ci-windows\\src\\learner.cc:767: \n",
      "Parameters: { \"n_estimators\" } are not used.\n",
      "\n"
     ]
    },
    {
     "name": "stderr",
     "output_type": "stream",
     "text": [
      "\u001b[32m[I 2023-05-17 19:31:27,699]\u001b[0m Trial 211 finished with value: 61468.23478575964 and parameters: {'colsample_bytree': 0.9, 'subsample': 0.5, 'learning_rate': 0.41935053452585874, 'max_depth': 12, 'min_child_weight': 6}. Best is trial 209 with value: 59708.47373267724.\u001b[0m\n",
      "\u001b[32m[I 2023-05-17 19:31:27,770]\u001b[0m Trial 212 finished with value: 91220.16866333307 and parameters: {'colsample_bytree': 0.9, 'subsample': 0.5, 'learning_rate': 0.4271619087336063, 'max_depth': 12, 'min_child_weight': 1}. Best is trial 209 with value: 59708.47373267724.\u001b[0m\n",
      "\u001b[32m[I 2023-05-17 19:31:27,837]\u001b[0m Trial 213 finished with value: 66268.3025141603 and parameters: {'colsample_bytree': 0.9, 'subsample': 0.5, 'learning_rate': 0.3155358970133876, 'max_depth': 12, 'min_child_weight': 6}. Best is trial 209 with value: 59708.47373267724.\u001b[0m\n"
     ]
    },
    {
     "name": "stdout",
     "output_type": "stream",
     "text": [
      "[19:31:27] WARNING: C:\\buildkite-agent\\builds\\buildkite-windows-cpu-autoscaling-group-i-07593ffd91cd9da33-1\\xgboost\\xgboost-ci-windows\\src\\learner.cc:767: \n",
      "Parameters: { \"n_estimators\" } are not used.\n",
      "\n",
      "[19:31:27] WARNING: C:\\buildkite-agent\\builds\\buildkite-windows-cpu-autoscaling-group-i-07593ffd91cd9da33-1\\xgboost\\xgboost-ci-windows\\src\\learner.cc:767: \n",
      "Parameters: { \"n_estimators\" } are not used.\n",
      "\n",
      "[19:31:27] WARNING: C:\\buildkite-agent\\builds\\buildkite-windows-cpu-autoscaling-group-i-07593ffd91cd9da33-1\\xgboost\\xgboost-ci-windows\\src\\learner.cc:767: \n",
      "Parameters: { \"n_estimators\" } are not used.\n",
      "\n",
      "[19:31:27] WARNING: C:\\buildkite-agent\\builds\\buildkite-windows-cpu-autoscaling-group-i-07593ffd91cd9da33-1\\xgboost\\xgboost-ci-windows\\src\\learner.cc:767: \n",
      "Parameters: { \"n_estimators\" } are not used.\n",
      "\n"
     ]
    },
    {
     "name": "stderr",
     "output_type": "stream",
     "text": [
      "\u001b[32m[I 2023-05-17 19:31:27,908]\u001b[0m Trial 214 finished with value: 70744.44755244088 and parameters: {'colsample_bytree': 0.9, 'subsample': 0.5, 'learning_rate': 0.29603259634699847, 'max_depth': 12, 'min_child_weight': 5}. Best is trial 209 with value: 59708.47373267724.\u001b[0m\n",
      "\u001b[32m[I 2023-05-17 19:31:27,991]\u001b[0m Trial 215 finished with value: 68577.65393540784 and parameters: {'colsample_bytree': 0.9, 'subsample': 0.5, 'learning_rate': 0.2952532665309073, 'max_depth': 12, 'min_child_weight': 6}. Best is trial 209 with value: 59708.47373267724.\u001b[0m\n",
      "\u001b[32m[I 2023-05-17 19:31:28,062]\u001b[0m Trial 216 finished with value: 73966.1170002885 and parameters: {'colsample_bytree': 0.9, 'subsample': 0.5, 'learning_rate': 0.28745711923875067, 'max_depth': 12, 'min_child_weight': 5}. Best is trial 209 with value: 59708.47373267724.\u001b[0m\n",
      "\u001b[32m[I 2023-05-17 19:31:28,131]\u001b[0m Trial 217 finished with value: 87487.9834333308 and parameters: {'colsample_bytree': 0.9, 'subsample': 0.5, 'learning_rate': 0.3097384664137014, 'max_depth': 13, 'min_child_weight': 1}. Best is trial 209 with value: 59708.47373267724.\u001b[0m\n"
     ]
    },
    {
     "name": "stdout",
     "output_type": "stream",
     "text": [
      "[19:31:27] WARNING: C:\\buildkite-agent\\builds\\buildkite-windows-cpu-autoscaling-group-i-07593ffd91cd9da33-1\\xgboost\\xgboost-ci-windows\\src\\learner.cc:767: \n",
      "Parameters: { \"n_estimators\" } are not used.\n",
      "\n",
      "[19:31:28] WARNING: C:\\buildkite-agent\\builds\\buildkite-windows-cpu-autoscaling-group-i-07593ffd91cd9da33-1\\xgboost\\xgboost-ci-windows\\src\\learner.cc:767: \n",
      "Parameters: { \"n_estimators\" } are not used.\n",
      "\n",
      "[19:31:28] WARNING: C:\\buildkite-agent\\builds\\buildkite-windows-cpu-autoscaling-group-i-07593ffd91cd9da33-1\\xgboost\\xgboost-ci-windows\\src\\learner.cc:767: \n",
      "Parameters: { \"n_estimators\" } are not used.\n",
      "\n"
     ]
    },
    {
     "name": "stderr",
     "output_type": "stream",
     "text": [
      "\u001b[32m[I 2023-05-17 19:31:28,211]\u001b[0m Trial 218 finished with value: 64970.0160242198 and parameters: {'colsample_bytree': 0.9, 'subsample': 0.5, 'learning_rate': 0.280487299908802, 'max_depth': 12, 'min_child_weight': 7}. Best is trial 209 with value: 59708.47373267724.\u001b[0m\n",
      "\u001b[32m[I 2023-05-17 19:31:28,281]\u001b[0m Trial 219 finished with value: 63816.1021042275 and parameters: {'colsample_bytree': 0.9, 'subsample': 0.5, 'learning_rate': 0.3090919198256095, 'max_depth': 12, 'min_child_weight': 7}. Best is trial 209 with value: 59708.47373267724.\u001b[0m\n",
      "\u001b[32m[I 2023-05-17 19:31:28,355]\u001b[0m Trial 220 finished with value: 66736.52763524414 and parameters: {'colsample_bytree': 0.9, 'subsample': 0.5, 'learning_rate': 0.32879434008023467, 'max_depth': 12, 'min_child_weight': 6}. Best is trial 209 with value: 59708.47373267724.\u001b[0m\n"
     ]
    },
    {
     "name": "stdout",
     "output_type": "stream",
     "text": [
      "[19:31:28] WARNING: C:\\buildkite-agent\\builds\\buildkite-windows-cpu-autoscaling-group-i-07593ffd91cd9da33-1\\xgboost\\xgboost-ci-windows\\src\\learner.cc:767: \n",
      "Parameters: { \"n_estimators\" } are not used.\n",
      "\n",
      "[19:31:28] WARNING: C:\\buildkite-agent\\builds\\buildkite-windows-cpu-autoscaling-group-i-07593ffd91cd9da33-1\\xgboost\\xgboost-ci-windows\\src\\learner.cc:767: \n",
      "Parameters: { \"n_estimators\" } are not used.\n",
      "\n",
      "[19:31:28] WARNING: C:\\buildkite-agent\\builds\\buildkite-windows-cpu-autoscaling-group-i-07593ffd91cd9da33-1\\xgboost\\xgboost-ci-windows\\src\\learner.cc:767: \n",
      "Parameters: { \"n_estimators\" } are not used.\n",
      "\n",
      "[19:31:28] WARNING: C:\\buildkite-agent\\builds\\buildkite-windows-cpu-autoscaling-group-i-07593ffd91cd9da33-1\\xgboost\\xgboost-ci-windows\\src\\learner.cc:767: \n",
      "Parameters: { \"n_estimators\" } are not used.\n",
      "\n"
     ]
    },
    {
     "name": "stderr",
     "output_type": "stream",
     "text": [
      "\u001b[32m[I 2023-05-17 19:31:28,429]\u001b[0m Trial 221 finished with value: 68031.35528208732 and parameters: {'colsample_bytree': 0.9, 'subsample': 0.5, 'learning_rate': 0.3369713857074729, 'max_depth': 12, 'min_child_weight': 6}. Best is trial 209 with value: 59708.47373267724.\u001b[0m\n",
      "\u001b[32m[I 2023-05-17 19:31:28,505]\u001b[0m Trial 222 finished with value: 68032.95880517067 and parameters: {'colsample_bytree': 0.9, 'subsample': 0.5, 'learning_rate': 0.3369125327842749, 'max_depth': 12, 'min_child_weight': 6}. Best is trial 209 with value: 59708.47373267724.\u001b[0m\n",
      "\u001b[32m[I 2023-05-17 19:31:28,582]\u001b[0m Trial 223 finished with value: 82181.74592321111 and parameters: {'colsample_bytree': 0.9, 'subsample': 0.5, 'learning_rate': 0.34029668800281293, 'max_depth': 12, 'min_child_weight': 1}. Best is trial 209 with value: 59708.47373267724.\u001b[0m\n",
      "\u001b[32m[I 2023-05-17 19:31:28,651]\u001b[0m Trial 224 finished with value: 66774.6473209434 and parameters: {'colsample_bytree': 0.9, 'subsample': 0.5, 'learning_rate': 0.3257436985295229, 'max_depth': 12, 'min_child_weight': 6}. Best is trial 209 with value: 59708.47373267724.\u001b[0m\n"
     ]
    },
    {
     "name": "stdout",
     "output_type": "stream",
     "text": [
      "[19:31:28] WARNING: C:\\buildkite-agent\\builds\\buildkite-windows-cpu-autoscaling-group-i-07593ffd91cd9da33-1\\xgboost\\xgboost-ci-windows\\src\\learner.cc:767: \n",
      "Parameters: { \"n_estimators\" } are not used.\n",
      "\n",
      "[19:31:28] WARNING: C:\\buildkite-agent\\builds\\buildkite-windows-cpu-autoscaling-group-i-07593ffd91cd9da33-1\\xgboost\\xgboost-ci-windows\\src\\learner.cc:767: \n",
      "Parameters: { \"n_estimators\" } are not used.\n",
      "\n",
      "[19:31:28] WARNING: C:\\buildkite-agent\\builds\\buildkite-windows-cpu-autoscaling-group-i-07593ffd91cd9da33-1\\xgboost\\xgboost-ci-windows\\src\\learner.cc:767: \n",
      "Parameters: { \"n_estimators\" } are not used.\n",
      "\n",
      "[19:31:28] WARNING: C:\\buildkite-agent\\builds\\buildkite-windows-cpu-autoscaling-group-i-07593ffd91cd9da33-1\\xgboost\\xgboost-ci-windows\\src\\learner.cc:767: \n",
      "Parameters: { \"n_estimators\" } are not used.\n",
      "\n"
     ]
    },
    {
     "name": "stderr",
     "output_type": "stream",
     "text": [
      "\u001b[32m[I 2023-05-17 19:31:28,720]\u001b[0m Trial 225 finished with value: 74671.25728644808 and parameters: {'colsample_bytree': 0.9, 'subsample': 0.5, 'learning_rate': 0.260435974153547, 'max_depth': 12, 'min_child_weight': 6}. Best is trial 209 with value: 59708.47373267724.\u001b[0m\n",
      "\u001b[32m[I 2023-05-17 19:31:28,799]\u001b[0m Trial 226 finished with value: 66725.55379924811 and parameters: {'colsample_bytree': 0.9, 'subsample': 0.5, 'learning_rate': 0.3626125179979368, 'max_depth': 12, 'min_child_weight': 5}. Best is trial 209 with value: 59708.47373267724.\u001b[0m\n",
      "\u001b[32m[I 2023-05-17 19:31:28,870]\u001b[0m Trial 227 finished with value: 66181.18072910991 and parameters: {'colsample_bytree': 0.9, 'subsample': 0.5, 'learning_rate': 0.319521294992415, 'max_depth': 12, 'min_child_weight': 6}. Best is trial 209 with value: 59708.47373267724.\u001b[0m\n",
      "\u001b[32m[I 2023-05-17 19:31:28,940]\u001b[0m Trial 228 finished with value: 83637.10916741019 and parameters: {'colsample_bytree': 0.9, 'subsample': 0.5, 'learning_rate': 0.3347579887072383, 'max_depth': 13, 'min_child_weight': 1}. Best is trial 209 with value: 59708.47373267724.\u001b[0m\n"
     ]
    },
    {
     "name": "stdout",
     "output_type": "stream",
     "text": [
      "[19:31:28] WARNING: C:\\buildkite-agent\\builds\\buildkite-windows-cpu-autoscaling-group-i-07593ffd91cd9da33-1\\xgboost\\xgboost-ci-windows\\src\\learner.cc:767: \n",
      "Parameters: { \"n_estimators\" } are not used.\n",
      "\n",
      "[19:31:28] WARNING: C:\\buildkite-agent\\builds\\buildkite-windows-cpu-autoscaling-group-i-07593ffd91cd9da33-1\\xgboost\\xgboost-ci-windows\\src\\learner.cc:767: \n",
      "Parameters: { \"n_estimators\" } are not used.\n",
      "\n",
      "[19:31:28] WARNING: C:\\buildkite-agent\\builds\\buildkite-windows-cpu-autoscaling-group-i-07593ffd91cd9da33-1\\xgboost\\xgboost-ci-windows\\src\\learner.cc:767: \n",
      "Parameters: { \"n_estimators\" } are not used.\n",
      "\n"
     ]
    },
    {
     "name": "stderr",
     "output_type": "stream",
     "text": [
      "\u001b[32m[I 2023-05-17 19:31:29,015]\u001b[0m Trial 229 finished with value: 317838.70755997824 and parameters: {'colsample_bytree': 0.9, 'subsample': 0.5, 'learning_rate': 0.030677864400509493, 'max_depth': 13, 'min_child_weight': 7}. Best is trial 209 with value: 59708.47373267724.\u001b[0m\n",
      "\u001b[32m[I 2023-05-17 19:31:29,087]\u001b[0m Trial 230 finished with value: 66181.78315466823 and parameters: {'colsample_bytree': 0.9, 'subsample': 0.5, 'learning_rate': 0.38158784231338727, 'max_depth': 12, 'min_child_weight': 6}. Best is trial 209 with value: 59708.47373267724.\u001b[0m\n",
      "\u001b[32m[I 2023-05-17 19:31:29,159]\u001b[0m Trial 231 finished with value: 240069.65005048813 and parameters: {'colsample_bytree': 0.9, 'subsample': 0.5, 'learning_rate': 0.06321125475726669, 'max_depth': 12, 'min_child_weight': 6}. Best is trial 209 with value: 59708.47373267724.\u001b[0m\n"
     ]
    },
    {
     "name": "stdout",
     "output_type": "stream",
     "text": [
      "[19:31:29] WARNING: C:\\buildkite-agent\\builds\\buildkite-windows-cpu-autoscaling-group-i-07593ffd91cd9da33-1\\xgboost\\xgboost-ci-windows\\src\\learner.cc:767: \n",
      "Parameters: { \"n_estimators\" } are not used.\n",
      "\n",
      "[19:31:29] WARNING: C:\\buildkite-agent\\builds\\buildkite-windows-cpu-autoscaling-group-i-07593ffd91cd9da33-1\\xgboost\\xgboost-ci-windows\\src\\learner.cc:767: \n",
      "Parameters: { \"n_estimators\" } are not used.\n",
      "\n",
      "[19:31:29] WARNING: C:\\buildkite-agent\\builds\\buildkite-windows-cpu-autoscaling-group-i-07593ffd91cd9da33-1\\xgboost\\xgboost-ci-windows\\src\\learner.cc:767: \n",
      "Parameters: { \"n_estimators\" } are not used.\n",
      "\n"
     ]
    },
    {
     "name": "stderr",
     "output_type": "stream",
     "text": [
      "\u001b[32m[I 2023-05-17 19:31:29,236]\u001b[0m Trial 232 finished with value: 87789.5431711488 and parameters: {'colsample_bytree': 0.9, 'subsample': 0.5, 'learning_rate': 0.3896707270866468, 'max_depth': 12, 'min_child_weight': 1}. Best is trial 209 with value: 59708.47373267724.\u001b[0m\n",
      "\u001b[32m[I 2023-05-17 19:31:29,305]\u001b[0m Trial 233 finished with value: 392686.3373980905 and parameters: {'colsample_bytree': 0.9, 'subsample': 0.5, 'learning_rate': 0.005516888104476998, 'max_depth': 12, 'min_child_weight': 8}. Best is trial 209 with value: 59708.47373267724.\u001b[0m\n",
      "\u001b[32m[I 2023-05-17 19:31:29,373]\u001b[0m Trial 234 finished with value: 63386.93907160958 and parameters: {'colsample_bytree': 0.9, 'subsample': 0.5, 'learning_rate': 0.36339203971830525, 'max_depth': 12, 'min_child_weight': 9}. Best is trial 209 with value: 59708.47373267724.\u001b[0m\n"
     ]
    },
    {
     "name": "stdout",
     "output_type": "stream",
     "text": [
      "[19:31:29] WARNING: C:\\buildkite-agent\\builds\\buildkite-windows-cpu-autoscaling-group-i-07593ffd91cd9da33-1\\xgboost\\xgboost-ci-windows\\src\\learner.cc:767: \n",
      "Parameters: { \"n_estimators\" } are not used.\n",
      "\n",
      "[19:31:29] WARNING: C:\\buildkite-agent\\builds\\buildkite-windows-cpu-autoscaling-group-i-07593ffd91cd9da33-1\\xgboost\\xgboost-ci-windows\\src\\learner.cc:767: \n",
      "Parameters: { \"n_estimators\" } are not used.\n",
      "\n",
      "[19:31:29] WARNING: C:\\buildkite-agent\\builds\\buildkite-windows-cpu-autoscaling-group-i-07593ffd91cd9da33-1\\xgboost\\xgboost-ci-windows\\src\\learner.cc:767: \n",
      "Parameters: { \"n_estimators\" } are not used.\n",
      "\n"
     ]
    },
    {
     "name": "stderr",
     "output_type": "stream",
     "text": [
      "\u001b[32m[I 2023-05-17 19:31:29,450]\u001b[0m Trial 235 finished with value: 78321.38079705044 and parameters: {'colsample_bytree': 0.9, 'subsample': 0.5, 'learning_rate': 0.26385162756682934, 'max_depth': 12, 'min_child_weight': 8}. Best is trial 209 with value: 59708.47373267724.\u001b[0m\n",
      "\u001b[32m[I 2023-05-17 19:31:29,526]\u001b[0m Trial 236 finished with value: 88795.0603888559 and parameters: {'colsample_bytree': 0.9, 'subsample': 0.5, 'learning_rate': 0.36575749539338615, 'max_depth': 12, 'min_child_weight': 1}. Best is trial 209 with value: 59708.47373267724.\u001b[0m\n",
      "\u001b[32m[I 2023-05-17 19:31:29,596]\u001b[0m Trial 237 finished with value: 95898.24158021079 and parameters: {'colsample_bytree': 0.9, 'subsample': 0.5, 'learning_rate': 0.2184193501825296, 'max_depth': 12, 'min_child_weight': 10}. Best is trial 209 with value: 59708.47373267724.\u001b[0m\n"
     ]
    },
    {
     "name": "stdout",
     "output_type": "stream",
     "text": [
      "[19:31:29] WARNING: C:\\buildkite-agent\\builds\\buildkite-windows-cpu-autoscaling-group-i-07593ffd91cd9da33-1\\xgboost\\xgboost-ci-windows\\src\\learner.cc:767: \n",
      "Parameters: { \"n_estimators\" } are not used.\n",
      "\n",
      "[19:31:29] WARNING: C:\\buildkite-agent\\builds\\buildkite-windows-cpu-autoscaling-group-i-07593ffd91cd9da33-1\\xgboost\\xgboost-ci-windows\\src\\learner.cc:767: \n",
      "Parameters: { \"n_estimators\" } are not used.\n",
      "\n",
      "[19:31:29] WARNING: C:\\buildkite-agent\\builds\\buildkite-windows-cpu-autoscaling-group-i-07593ffd91cd9da33-1\\xgboost\\xgboost-ci-windows\\src\\learner.cc:767: \n",
      "Parameters: { \"n_estimators\" } are not used.\n",
      "\n"
     ]
    },
    {
     "name": "stderr",
     "output_type": "stream",
     "text": [
      "\u001b[32m[I 2023-05-17 19:31:29,672]\u001b[0m Trial 238 finished with value: 64446.70327880844 and parameters: {'colsample_bytree': 0.9, 'subsample': 0.5, 'learning_rate': 0.3097783108191914, 'max_depth': 12, 'min_child_weight': 6}. Best is trial 209 with value: 59708.47373267724.\u001b[0m\n",
      "\u001b[32m[I 2023-05-17 19:31:29,745]\u001b[0m Trial 239 finished with value: 66721.29451626677 and parameters: {'colsample_bytree': 0.9, 'subsample': 0.5, 'learning_rate': 0.3938704711981866, 'max_depth': 12, 'min_child_weight': 12}. Best is trial 209 with value: 59708.47373267724.\u001b[0m\n",
      "\u001b[32m[I 2023-05-17 19:31:29,821]\u001b[0m Trial 240 finished with value: 411534.67291806254 and parameters: {'colsample_bytree': 0.9, 'subsample': 0.5, 'learning_rate': 0.00011636870764397202, 'max_depth': 12, 'min_child_weight': 13}. Best is trial 209 with value: 59708.47373267724.\u001b[0m\n"
     ]
    },
    {
     "name": "stdout",
     "output_type": "stream",
     "text": [
      "[19:31:29] WARNING: C:\\buildkite-agent\\builds\\buildkite-windows-cpu-autoscaling-group-i-07593ffd91cd9da33-1\\xgboost\\xgboost-ci-windows\\src\\learner.cc:767: \n",
      "Parameters: { \"n_estimators\" } are not used.\n",
      "\n",
      "[19:31:29] WARNING: C:\\buildkite-agent\\builds\\buildkite-windows-cpu-autoscaling-group-i-07593ffd91cd9da33-1\\xgboost\\xgboost-ci-windows\\src\\learner.cc:767: \n",
      "Parameters: { \"n_estimators\" } are not used.\n",
      "\n",
      "[19:31:29] WARNING: C:\\buildkite-agent\\builds\\buildkite-windows-cpu-autoscaling-group-i-07593ffd91cd9da33-1\\xgboost\\xgboost-ci-windows\\src\\learner.cc:767: \n",
      "Parameters: { \"n_estimators\" } are not used.\n",
      "\n"
     ]
    },
    {
     "name": "stderr",
     "output_type": "stream",
     "text": [
      "\u001b[32m[I 2023-05-17 19:31:29,900]\u001b[0m Trial 241 finished with value: 58522.1355498213 and parameters: {'colsample_bytree': 0.9, 'subsample': 0.5, 'learning_rate': 0.40213338022391637, 'max_depth': 12, 'min_child_weight': 7}. Best is trial 241 with value: 58522.1355498213.\u001b[0m\n",
      "\u001b[32m[I 2023-05-17 19:31:29,970]\u001b[0m Trial 242 finished with value: 376498.8205329049 and parameters: {'colsample_bytree': 0.9, 'subsample': 0.5, 'learning_rate': 0.010477098841861543, 'max_depth': 12, 'min_child_weight': 11}. Best is trial 241 with value: 58522.1355498213.\u001b[0m\n",
      "\u001b[32m[I 2023-05-17 19:31:30,048]\u001b[0m Trial 243 finished with value: 61414.16514729125 and parameters: {'colsample_bytree': 0.9, 'subsample': 0.5, 'learning_rate': 0.4040626762800967, 'max_depth': 13, 'min_child_weight': 6}. Best is trial 241 with value: 58522.1355498213.\u001b[0m\n"
     ]
    },
    {
     "name": "stdout",
     "output_type": "stream",
     "text": [
      "[19:31:29] WARNING: C:\\buildkite-agent\\builds\\buildkite-windows-cpu-autoscaling-group-i-07593ffd91cd9da33-1\\xgboost\\xgboost-ci-windows\\src\\learner.cc:767: \n",
      "Parameters: { \"n_estimators\" } are not used.\n",
      "\n",
      "[19:31:29] WARNING: C:\\buildkite-agent\\builds\\buildkite-windows-cpu-autoscaling-group-i-07593ffd91cd9da33-1\\xgboost\\xgboost-ci-windows\\src\\learner.cc:767: \n",
      "Parameters: { \"n_estimators\" } are not used.\n",
      "\n",
      "[19:31:30] WARNING: C:\\buildkite-agent\\builds\\buildkite-windows-cpu-autoscaling-group-i-07593ffd91cd9da33-1\\xgboost\\xgboost-ci-windows\\src\\learner.cc:767: \n",
      "Parameters: { \"n_estimators\" } are not used.\n",
      "\n"
     ]
    },
    {
     "name": "stderr",
     "output_type": "stream",
     "text": [
      "\u001b[32m[I 2023-05-17 19:31:30,125]\u001b[0m Trial 244 finished with value: 71313.70310214453 and parameters: {'colsample_bytree': 0.9, 'subsample': 0.5, 'learning_rate': 0.4316296273413052, 'max_depth': 13, 'min_child_weight': 11}. Best is trial 241 with value: 58522.1355498213.\u001b[0m\n",
      "\u001b[32m[I 2023-05-17 19:31:30,194]\u001b[0m Trial 245 finished with value: 61438.98298260891 and parameters: {'colsample_bytree': 0.9, 'subsample': 0.5, 'learning_rate': 0.40524893393061634, 'max_depth': 13, 'min_child_weight': 6}. Best is trial 241 with value: 58522.1355498213.\u001b[0m\n",
      "\u001b[32m[I 2023-05-17 19:31:30,299]\u001b[0m Trial 246 finished with value: 344795.1325313191 and parameters: {'colsample_bytree': 0.9, 'subsample': 0.5, 'learning_rate': 0.02046924007821853, 'max_depth': 13, 'min_child_weight': 1}. Best is trial 241 with value: 58522.1355498213.\u001b[0m\n"
     ]
    },
    {
     "name": "stdout",
     "output_type": "stream",
     "text": [
      "[19:31:30] WARNING: C:\\buildkite-agent\\builds\\buildkite-windows-cpu-autoscaling-group-i-07593ffd91cd9da33-1\\xgboost\\xgboost-ci-windows\\src\\learner.cc:767: \n",
      "Parameters: { \"n_estimators\" } are not used.\n",
      "\n",
      "[19:31:30] WARNING: C:\\buildkite-agent\\builds\\buildkite-windows-cpu-autoscaling-group-i-07593ffd91cd9da33-1\\xgboost\\xgboost-ci-windows\\src\\learner.cc:767: \n",
      "Parameters: { \"n_estimators\" } are not used.\n",
      "\n",
      "[19:31:30] WARNING: C:\\buildkite-agent\\builds\\buildkite-windows-cpu-autoscaling-group-i-07593ffd91cd9da33-1\\xgboost\\xgboost-ci-windows\\src\\learner.cc:767: \n",
      "Parameters: { \"n_estimators\" } are not used.\n",
      "\n"
     ]
    },
    {
     "name": "stderr",
     "output_type": "stream",
     "text": [
      "\u001b[32m[I 2023-05-17 19:31:30,377]\u001b[0m Trial 247 finished with value: 66491.30597716715 and parameters: {'colsample_bytree': 0.9, 'subsample': 0.5, 'learning_rate': 0.3908703493939634, 'max_depth': 13, 'min_child_weight': 14}. Best is trial 241 with value: 58522.1355498213.\u001b[0m\n",
      "\u001b[32m[I 2023-05-17 19:31:30,465]\u001b[0m Trial 248 finished with value: 67544.69694458351 and parameters: {'colsample_bytree': 0.9, 'subsample': 0.5, 'learning_rate': 0.3973515182622073, 'max_depth': 13, 'min_child_weight': 14}. Best is trial 241 with value: 58522.1355498213.\u001b[0m\n",
      "\u001b[32m[I 2023-05-17 19:31:30,537]\u001b[0m Trial 249 finished with value: 66745.64088239979 and parameters: {'colsample_bytree': 0.9, 'subsample': 0.5, 'learning_rate': 0.39329945452835136, 'max_depth': 13, 'min_child_weight': 12}. Best is trial 241 with value: 58522.1355498213.\u001b[0m\n"
     ]
    },
    {
     "name": "stdout",
     "output_type": "stream",
     "text": [
      "[19:31:30] WARNING: C:\\buildkite-agent\\builds\\buildkite-windows-cpu-autoscaling-group-i-07593ffd91cd9da33-1\\xgboost\\xgboost-ci-windows\\src\\learner.cc:767: \n",
      "Parameters: { \"n_estimators\" } are not used.\n",
      "\n",
      "[19:31:30] WARNING: C:\\buildkite-agent\\builds\\buildkite-windows-cpu-autoscaling-group-i-07593ffd91cd9da33-1\\xgboost\\xgboost-ci-windows\\src\\learner.cc:767: \n",
      "Parameters: { \"n_estimators\" } are not used.\n",
      "\n",
      "[19:31:30] WARNING: C:\\buildkite-agent\\builds\\buildkite-windows-cpu-autoscaling-group-i-07593ffd91cd9da33-1\\xgboost\\xgboost-ci-windows\\src\\learner.cc:767: \n",
      "Parameters: { \"n_estimators\" } are not used.\n",
      "\n"
     ]
    }
   ],
   "source": [
    "study = optuna.create_study(direction=\"minimize\")\n",
    "study.optimize(objective, n_trials=250, n_jobs=1)"
   ]
  },
  {
   "cell_type": "code",
   "execution_count": 28,
   "metadata": {
    "colab": {
     "base_uri": "https://localhost:8080/"
    },
    "id": "LKUZWFTbQPfN",
    "outputId": "76cacc61-e727-44a2-e2e5-52244ff651ad"
   },
   "outputs": [
    {
     "name": "stdout",
     "output_type": "stream",
     "text": [
      "Optimized RMSE: 58522.1355\n",
      "Best params:\n",
      "\tcolsample_bytree: 0.9\n",
      "\tsubsample: 0.5\n",
      "\tlearning_rate: 0.40213338022391637\n",
      "\tmax_depth: 12\n",
      "\tmin_child_weight: 7\n"
     ]
    }
   ],
   "source": [
    "print(f\"Optimized RMSE: {study.best_value:.4f}\")\n",
    "print(\"Best params:\")\n",
    "for key, value in study.best_params.items():\n",
    "    print(f\"\\t{key}: {value}\")"
   ]
  },
  {
   "cell_type": "code",
   "execution_count": null,
   "metadata": {
    "id": "mA_9A_ltQPrD"
   },
   "outputs": [],
   "source": []
  },
  {
   "cell_type": "code",
   "execution_count": 37,
   "metadata": {
    "id": "GgNmg11hxyaT"
   },
   "outputs": [],
   "source": [
    "xgboost_params = {\"learning_rate\": [0.1, 0.01,0.4],\n",
    "                  \"max_depth\": [5, 10, 20],\n",
    "                  \"n_estimators\": [100, 200, 500]}"
   ]
  },
  {
   "cell_type": "code",
   "execution_count": null,
   "metadata": {
    "colab": {
     "base_uri": "https://localhost:8080/"
    },
    "id": "zvLwouZQ5_Lp",
    "outputId": "87b75bb5-0571-4123-e22e-ed4493677292"
   },
   "outputs": [],
   "source": [
    "model = XGBRegressor(objective=\"reg:squarederror\",use_label_encoder=False)\n",
    "rf_random = RandomizedSearchCV(estimator=model,\n",
    "                                  param_distributions=xgboost_params,\n",
    "                                  n_iter = 100,\n",
    "                                  cv=3,\n",
    "                                  verbose=True,\n",
    "                                  n_jobs=1)\n",
    "rf_random.fit(X_train,y_train)\n",
    "    \n",
    "rf_random_final = model.set_params(**rf_random.best_params_).fit(X_train,y_train)\n",
    "cv_result = cross_validate(rf_random_final,\n",
    "                            X_train, y_train,\n",
    "                            cv=5,\n",
    "                            scoring=\"neg_mean_squared_error\")\n",
    "        \n",
    "print(\"BEST PARAMS: \",rf_random.best_params_)\n",
    "y_pred = rf_random_final.predict(X_test)\n",
    "\n",
    "rmse = (np.sqrt(-cv_result['test_score'])).mean()\n",
    "data_list = {\"TestDeger\": rmse,\n",
    "             \"MSE\":mean_squared_error(y_test, y_pred),\n",
    "             \"RMSE\": (np.sqrt(mean_squared_error(y_test, y_pred))),\n",
    "             \"MAE\": mean_absolute_error(y_test, y_pred)}\n",
    "\n",
    "print(data_list)\n",
    "\n"
   ]
  },
  {
   "cell_type": "code",
   "execution_count": 29,
   "metadata": {
    "id": "NpPjsMsGQPlY"
   },
   "outputs": [
    {
     "data": {
      "text/plain": [
       "{'colsample_bytree': 0.9,\n",
       " 'subsample': 0.5,\n",
       " 'learning_rate': 0.40213338022391637,\n",
       " 'max_depth': 12,\n",
       " 'min_child_weight': 7}"
      ]
     },
     "execution_count": 29,
     "metadata": {},
     "output_type": "execute_result"
    }
   ],
   "source": [
    "study.best_params"
   ]
  },
  {
   "cell_type": "code",
   "execution_count": 32,
   "metadata": {
    "colab": {
     "base_uri": "https://localhost:8080/",
     "height": 1000
    },
    "id": "h_j1dfcm7Nay",
    "outputId": "32583c96-acef-4557-ae82-94ea43d80fab"
   },
   "outputs": [
    {
     "name": "stdout",
     "output_type": "stream",
     "text": [
      "Fitting 3 folds for each of 12 candidates, totalling 36 fits\n",
      "BEST PARAMS:  {'colsample_bytree': 0.9, 'learning_rate': 0.1, 'max_depth': 9, 'min_child_weight': 7, 'n_estimators': 500, 'subsample': 0.5}\n",
      "{'TestDeger': 66875.56871942851, 'MSE': 5917343589.564922, 'RMSE': 76924.27178443044, 'MAE': 58494.92228618421}\n"
     ]
    }
   ],
   "source": [
    "model = XGBRegressor(objective=\"reg:squarederror\",use_label_encoder=False)\n",
    "grid_params = {\"learning_rate\": [0.1, 0.4],\n",
    "                  \"max_depth\": [9,12],\n",
    "                  \"n_estimators\": [500,750,1000],\n",
    "               'colsample_bytree': [0.9],\n",
    "               'subsample': [0.5],\n",
    "               'min_child_weight': [7]\n",
    "              }\n",
    "\n",
    "grid_model = GridSearchCV(estimator=model,\n",
    "                                  param_grid=grid_params,\n",
    "                                  cv=3,\n",
    "                                  verbose=True,\n",
    "                                  n_jobs=1).fit(X_train,y_train)\n",
    "\n",
    "\n",
    "grid_final_model = model.set_params(**grid_model.best_params_).fit(X_train,y_train)\n",
    "    \n",
    "cv_results = cross_validate(grid_final_model,\n",
    "                            X_train, y_train,\n",
    "                            cv=5,\n",
    "                            scoring=\"neg_mean_squared_error\")\n",
    "print(\"BEST PARAMS: \", grid_model.best_params_)\n",
    "    \n",
    "y_pred = grid_final_model.predict(X_test)\n",
    "\n",
    "rmse = (np.sqrt(-cv_results['test_score'])).mean()\n",
    "data_list = {\"TestDeger\": rmse,\n",
    "             \"MSE\":mean_squared_error(y_test, y_pred),\n",
    "             \"RMSE\": (np.sqrt(mean_squared_error(y_test, y_pred))),\n",
    "             \"MAE\": mean_absolute_error(y_test, y_pred)}\n",
    "\n",
    "print(data_list)"
   ]
  },
  {
   "cell_type": "code",
   "execution_count": 33,
   "metadata": {},
   "outputs": [],
   "source": [
    "from sklearn.metrics import r2_score "
   ]
  },
  {
   "cell_type": "code",
   "execution_count": 34,
   "metadata": {},
   "outputs": [
    {
     "data": {
      "text/plain": [
       "0.8093417888371206"
      ]
     },
     "execution_count": 34,
     "metadata": {},
     "output_type": "execute_result"
    }
   ],
   "source": [
    "r2_score(y_test, y_pred)"
   ]
  },
  {
   "cell_type": "code",
   "execution_count": 42,
   "metadata": {},
   "outputs": [
    {
     "data": {
      "text/plain": [
       "Text(0, 100000, 'r-squared = 0.912')"
      ]
     },
     "execution_count": 42,
     "metadata": {},
     "output_type": "execute_result"
    },
    {
     "data": {
      "image/png": "[encoded data removed]",
      "text/plain": [
       "<Figure size 640x480 with 1 Axes>"
      ]
     },
     "metadata": {},
     "output_type": "display_data"
    }
   ],
   "source": [
    "plt.annotate(\"r-squared = {:.3f}\".format(r2_score(y_test, y_pred)), (0, 100000))"
   ]
  },
  {
   "cell_type": "code",
   "execution_count": 35,
   "metadata": {},
   "outputs": [
    {
     "ename": "AttributeError",
     "evalue": "'Series' object has no attribute 'reshape'",
     "output_type": "error",
     "traceback": [
      "\u001b[1;31m---------------------------------------------------------------------------\u001b[0m",
      "\u001b[1;31mAttributeError\u001b[0m                            Traceback (most recent call last)",
      "Cell \u001b[1;32mIn[35], line 7\u001b[0m\n\u001b[0;32m      5\u001b[0m ax\u001b[38;5;241m.\u001b[39mset_ylabel(\u001b[38;5;124m'\u001b[39m\u001b[38;5;124mPredicted\u001b[39m\u001b[38;5;124m'\u001b[39m)\n\u001b[0;32m      6\u001b[0m \u001b[38;5;66;03m#regression line\u001b[39;00m\n\u001b[1;32m----> 7\u001b[0m y_test, y_pred \u001b[38;5;241m=\u001b[39m \u001b[43my_test\u001b[49m\u001b[38;5;241;43m.\u001b[39;49m\u001b[43mreshape\u001b[49m(\u001b[38;5;241m-\u001b[39m\u001b[38;5;241m1\u001b[39m,\u001b[38;5;241m1\u001b[39m), y_pred\u001b[38;5;241m.\u001b[39mreshape(\u001b[38;5;241m-\u001b[39m\u001b[38;5;241m1\u001b[39m,\u001b[38;5;241m1\u001b[39m)\n\u001b[0;32m      8\u001b[0m ax\u001b[38;5;241m.\u001b[39mplot(y_test, LinearRegression()\u001b[38;5;241m.\u001b[39mfit(y_test, y_pred)\u001b[38;5;241m.\u001b[39mpredict(y_test))\n\u001b[0;32m     10\u001b[0m plt\u001b[38;5;241m.\u001b[39mshow()\n",
      "File \u001b[1;32m~\\anaconda3\\envs\\main.py\\lib\\site-packages\\pandas\\core\\generic.py:5902\u001b[0m, in \u001b[0;36mNDFrame.__getattr__\u001b[1;34m(self, name)\u001b[0m\n\u001b[0;32m   5895\u001b[0m \u001b[38;5;28;01mif\u001b[39;00m (\n\u001b[0;32m   5896\u001b[0m     name \u001b[38;5;129;01mnot\u001b[39;00m \u001b[38;5;129;01min\u001b[39;00m \u001b[38;5;28mself\u001b[39m\u001b[38;5;241m.\u001b[39m_internal_names_set\n\u001b[0;32m   5897\u001b[0m     \u001b[38;5;129;01mand\u001b[39;00m name \u001b[38;5;129;01mnot\u001b[39;00m \u001b[38;5;129;01min\u001b[39;00m \u001b[38;5;28mself\u001b[39m\u001b[38;5;241m.\u001b[39m_metadata\n\u001b[0;32m   5898\u001b[0m     \u001b[38;5;129;01mand\u001b[39;00m name \u001b[38;5;129;01mnot\u001b[39;00m \u001b[38;5;129;01min\u001b[39;00m \u001b[38;5;28mself\u001b[39m\u001b[38;5;241m.\u001b[39m_accessors\n\u001b[0;32m   5899\u001b[0m     \u001b[38;5;129;01mand\u001b[39;00m \u001b[38;5;28mself\u001b[39m\u001b[38;5;241m.\u001b[39m_info_axis\u001b[38;5;241m.\u001b[39m_can_hold_identifiers_and_holds_name(name)\n\u001b[0;32m   5900\u001b[0m ):\n\u001b[0;32m   5901\u001b[0m     \u001b[38;5;28;01mreturn\u001b[39;00m \u001b[38;5;28mself\u001b[39m[name]\n\u001b[1;32m-> 5902\u001b[0m \u001b[38;5;28;01mreturn\u001b[39;00m \u001b[38;5;28;43mobject\u001b[39;49m\u001b[38;5;241;43m.\u001b[39;49m\u001b[38;5;21;43m__getattribute__\u001b[39;49m\u001b[43m(\u001b[49m\u001b[38;5;28;43mself\u001b[39;49m\u001b[43m,\u001b[49m\u001b[43m \u001b[49m\u001b[43mname\u001b[49m\u001b[43m)\u001b[49m\n",
      "\u001b[1;31mAttributeError\u001b[0m: 'Series' object has no attribute 'reshape'"
     ]
    },
    {
     "data": {
      "image/png": "[encoded data removed]",
      "text/plain": [
       "<Figure size 640x480 with 1 Axes>"
      ]
     },
     "metadata": {},
     "output_type": "display_data"
    }
   ],
   "source": [
    "fig, ax = plt.subplots()\n",
    "ax.scatter(y_test, y_pred)\n",
    "ax.plot([y.min(), y.max()], [y.min(), y.max()], 'k--', lw=4)\n",
    "ax.set_xlabel('Actual')\n",
    "ax.set_ylabel('Predicted')\n",
    "#regression line\n",
    "y_test, y_pred = y_test.reshape(-1,1), y_pred.reshape(-1,1)\n",
    "ax.plot(y_test, LinearRegression().fit(y_test, y_pred).predict(y_test))\n",
    "\n",
    "plt.show()"
   ]
  },
  {
   "cell_type": "code",
   "execution_count": 43,
   "metadata": {},
   "outputs": [],
   "source": [
    "df3 = [y_test,y_pred]"
   ]
  },
  {
   "cell_type": "code",
   "execution_count": 44,
   "metadata": {},
   "outputs": [
    {
     "data": {
      "text/plain": [
       "[188      599999\n",
       " 2084     805000\n",
       " 1675    1275000\n",
       " 1089     255000\n",
       " 1378     380000\n",
       "          ...   \n",
       " 1356     550000\n",
       " 394     1350000\n",
       " 1543    1800000\n",
       " 1402     615000\n",
       " 39      1299000\n",
       " Name: Fiyat, Length: 682, dtype: int64,\n",
       " array([ 633872.25,  816781.1 , 1236089.8 ,  231382.97,  364592.94,\n",
       "         219977.05, 1247067.8 ,  690535.75,  322692.97,  704427.3 ,\n",
       "         426186.7 , 1112757.1 ,  643705.3 , 1080078.  ,  351218.3 ,\n",
       "         584511.56,  628717.25,  346809.34, 1775809.5 ,  862531.9 ,\n",
       "        6019907.  ,  357891.62,  361712.94,  946583.8 ,  730440.9 ,\n",
       "        1255527.2 , 1160855.8 , 1307220.9 ,  355882.7 , 1176619.2 ,\n",
       "         617014.44, 1502516.2 ,  759350.1 , 1484517.9 ,  994001.56,\n",
       "        1526197.5 ,  724387.75,  466639.22,  316811.47, 1468103.5 ,\n",
       "         947007.  , 1853116.8 ,  776243.9 , 1508593.2 ,  380782.2 ,\n",
       "        1781466.2 ,  795592.75,  634111.44,  577672.56,  550114.44,\n",
       "        2019220.1 , 1391381.  , 1246787.9 , 1306160.8 , 2559799.5 ,\n",
       "         731153.4 ,  400449.8 ,  476588.72, 1538547.  , 2336925.5 ,\n",
       "         390916.34,  675708.5 ,  994062.4 , 1925634.  , 1242559.4 ,\n",
       "        3119458.  , 1664634.6 , 1140339.5 ,  691765.56,  606311.5 ,\n",
       "        1015756.5 ,  701680.  ,  521154.97,  945520.3 ,  707964.9 ,\n",
       "        1946875.6 ,  761412.6 ,  668707.56,  464142.7 ,  233454.2 ,\n",
       "         219731.03,  623709.8 ,  370433.88, 1112214.5 ,  271563.97,\n",
       "        2320781.8 ,  554826.6 ,  249863.42,  202021.66, 2280168.  ,\n",
       "         557183.4 ,  230418.7 , 1485348.1 ,  938187.6 , 1001310.3 ,\n",
       "         518628.06,  811927.  , 1983596.5 , 2185908.  ,  751785.9 ,\n",
       "        2152824.5 ,  373344.34,  917639.3 , 2793635.  , 1039810.7 ,\n",
       "        1489634.5 , 1697577.8 , 1326994.6 ,  321550.84,  655133.94,\n",
       "        2025049.8 ,  354219.56,  934916.56, 1859961.8 , 1326226.1 ,\n",
       "        1192012.8 , 2991273.5 ,  665367.56,  804805.8 , 1532829.8 ,\n",
       "        1192875.2 , 2165677.5 , 1230485.1 ,  361774.44, 1391516.6 ,\n",
       "         202666.83,  315920.03, 1401804.1 , 1070067.  ,  952133.6 ,\n",
       "         681889.06,  616535.25,  892350.9 , 1208841.8 , 2092900.6 ,\n",
       "        1139020.8 ,  573194.  ,  420151.1 ,  769549.2 , 1848569.5 ,\n",
       "        2462809.2 ,  188213.6 ,  696479.06,  577225.3 , 1271828.  ,\n",
       "        1265252.2 , 1285090.8 ,  215003.55,  552437.3 , 1167212.2 ,\n",
       "        6258691.5 ,  550460.4 ,  693657.2 , 4532549.  , 3076969.8 ,\n",
       "        4491874.  ,  648077.25,  993689.25, 1573744.6 ,  394043.53,\n",
       "        1597307.5 , 3220856.5 ,  247886.3 ,  740292.4 , 4231113.  ,\n",
       "         555949.1 ,  893201.4 ,  316452.25, 1140995.2 , 1174069.2 ,\n",
       "        1337772.6 ,  356896.  ,  801576.44, 1543541.8 ,  249741.02,\n",
       "        1402342.4 , 2012462.9 ,  380010.7 , 1044922.06, 1178921.6 ,\n",
       "        1481498.9 , 2532051.5 , 1339467.5 , 1254718.2 ,  926832.  ,\n",
       "        1367093.4 , 1413002.  ,  638497.  , 1635663.9 ,  874649.3 ,\n",
       "        1456668.  ,  934603.7 ,  248446.11,  799461.4 , 1157223.5 ,\n",
       "         675272.  ,  839252.9 ,  507637.25, 1158849.8 , 1070495.9 ,\n",
       "        2263759.2 , 1197990.6 , 1504933.  , 1251447.6 , 1125268.4 ,\n",
       "        1347907.8 , 1074269.9 ,  427337.25, 1388269.8 , 1329486.4 ,\n",
       "         208738.95,  215889.31, 2130324.5 ,  359846.22,  497038.66,\n",
       "         559760.5 , 1237153.6 , 1173624.1 ,  354545.22, 1160999.4 ,\n",
       "        1596156.2 ,  539760.3 ,  327912.22, 1837779.2 , 1132096.4 ,\n",
       "         894302.06,  199795.48,  230363.9 , 1016431.1 ,  374535.8 ,\n",
       "        2696774.8 ,  427058.1 , 7894269.  , 1315656.4 , 2795193.  ,\n",
       "        3842008.2 ,  439533.66, 1444986.  , 1306830.1 ,  449035.97,\n",
       "         713488.06, 1389853.2 ,  827574.75,  877501.56, 1418436.1 ,\n",
       "         700792.5 , 1141060.6 ,  605180.8 ,  604222.9 ,  637287.  ,\n",
       "        1790966.5 ,  971850.9 ,  213809.78, 1498328.  ,  582400.4 ,\n",
       "         862977.75,  660011.  ,  535779.6 ,  705122.3 , 1948344.6 ,\n",
       "         468020.66, 1051660.5 , 1245885.5 , 1291114.  ,  275798.7 ,\n",
       "        2031431.9 ,  661172.  ,  323535.5 ,  584739.5 ,  314640.3 ,\n",
       "        1505635.4 ,  573568.1 , 1548239.2 ,  335867.25, 1276070.5 ,\n",
       "        3071147.2 , 2020903.5 ,  905499.8 , 1143222.9 , 1900218.6 ,\n",
       "         519169.78,  859581.5 , 1450787.5 , 1373566.4 , 1593147.6 ,\n",
       "         370736.7 ,  810882.1 , 1428918.5 , 1829955.9 ,  980545.4 ,\n",
       "        1260876.9 ,  740749.4 ,  606479.94, 1379434.6 ,  332889.2 ,\n",
       "        1401259.1 ,  281023.34,  195016.95, 1178957.5 ,  320555.72,\n",
       "         493547.22, 1186129.9 , 1567482.8 ,  591213.06, 1382298.6 ,\n",
       "         501833.62, 1436689.2 ,  515737.72, 1484191.2 , 1093006.2 ,\n",
       "        1456010.5 ,  614398.56,  774549.7 ,  910801.7 ,  561991.5 ,\n",
       "         251414.6 , 1250414.5 ,  501764.22, 2428636.5 , 1139111.1 ,\n",
       "        1206251.9 , 1130427.1 , 1109776.2 ,  776000.5 ,  684812.6 ,\n",
       "        1376419.5 ,  335559.75,  585535.25,  563364.1 , 1099651.5 ,\n",
       "         468220.25, 1253646.4 ,  224859.94,  509216.75,  602546.6 ,\n",
       "        1308701.6 , 1641671.6 ,  548976.4 , 1189355.1 ,  343142.9 ,\n",
       "        1177696.9 ,  321890.38, 1039415.56,  964836.44,  386591.8 ,\n",
       "         405960.28,  341915.8 , 3724233.8 ,  643892.8 , 2576957.  ,\n",
       "        1399142.6 ,  162270.03, 1210335.  , 2880954.  ,  255905.06,\n",
       "         333915.16, 1849917.2 ,  860649.3 , 1053950.4 , 1315815.2 ,\n",
       "         438014.  , 1435587.9 , 1084663.1 , 1434692.1 , 1156969.  ,\n",
       "         553236.8 ,  852756.  , 1443158.9 ,  315981.7 ,  653917.  ,\n",
       "         460224.97,  783315.8 ,  948455.1 , 1296652.2 ,  756988.75,\n",
       "         947695.25,  683391.4 , 1466556.9 ,  382097.78, 1005102.6 ,\n",
       "         444636.38,  323688.12,  836290.6 ,  969792.75,  562361.44,\n",
       "        1189057.9 , 1422336.5 ,  462117.78, 1582677.  , 1321931.1 ,\n",
       "        1626563.6 , 1491960.8 , 1026842.4 , 1550249.6 , 2317827.8 ,\n",
       "         661315.8 , 1106569.2 ,  569541.7 , 1547361.  , 1482169.8 ,\n",
       "         265951.84, 1457763.5 , 1193131.1 , 1106007.  ,  901609.8 ,\n",
       "         437011.22, 1016065.44,  817169.3 , 1415371.4 , 1006675.6 ,\n",
       "        2671832.5 ,  583628.  ,  292755.8 ,  464898.88,  777790.56,\n",
       "        1446544.2 ,  241377.14, 1048126.44,  331275.25, 3405830.8 ,\n",
       "        1170746.5 ,  824281.25,  379154.97,  940061.2 ,  610675.06,\n",
       "        1400935.  ,  650161.6 , 1460530.8 ,  251717.05,  171128.89,\n",
       "         852574.75, 1152254.5 ,  386082.97, 1083975.8 ,  636579.25,\n",
       "         640831.2 , 1504358.5 ,  311232.75, 1568411.  , 1203282.  ,\n",
       "         619439.8 , 2817599.  ,  614522.2 , 1264138.1 , 1263990.1 ,\n",
       "         492521.56, 2737154.2 , 1873840.6 , 1898912.5 , 1416893.9 ,\n",
       "         245043.05, 1052082.6 ,  179662.05, 1142926.4 , 2362822.8 ,\n",
       "         428524.44,  644658.94,  624117.56, 1155380.5 , 1197121.2 ,\n",
       "         605012.9 ,  390307.22, 1403892.5 ,  522252.84, 1061318.2 ,\n",
       "         869627.2 ,  585847.  ,  303887.38, 1504825.4 , 1011565.06,\n",
       "        2133804.2 ,  897640.9 , 1569292.2 ,  547879.1 ,  641651.2 ,\n",
       "        1137146.1 , 1069788.  ,  847140.75,  261270.94,  499457.75,\n",
       "        1109031.5 ,  580313.4 ,  727185.6 ,  604984.25,  336266.  ,\n",
       "        2239453.  ,  825505.25,  775519.25,  400317.2 , 1109379.1 ,\n",
       "        1931611.5 , 1315665.5 ,  561721.1 ,  331942.9 , 1040707.1 ,\n",
       "         996165.7 ,  765905.3 ,  352012.94,  742077.9 ,  722287.8 ,\n",
       "         499360.38,  949192.25,  550331.2 ,  630154.6 , 1453444.9 ,\n",
       "        1910284.4 ,  236575.67, 2707402.2 , 1338947.4 , 1122862.8 ,\n",
       "         953630.25, 1307296.6 , 1944626.  ,  902836.  , 1540236.1 ,\n",
       "         305690.16, 2040085.1 , 1314590.2 ,  680826.2 , 1253476.9 ,\n",
       "         209054.22, 1472332.4 ,  304460.6 ,  198678.19, 2744974.  ,\n",
       "        1964353.  , 2841534.5 ,  493374.1 , 1105866.1 , 1138664.2 ,\n",
       "         900338.9 , 1268048.4 ,  349388.44,  773300.94,  856326.56,\n",
       "         719499.5 , 1395958.2 , 1335126.6 ,  216324.58, 1978105.6 ,\n",
       "         394319.47,  465950.22,  166736.95,  404870.9 , 1550196.6 ,\n",
       "         671290.25,  197736.16, 1103647.  , 1539836.2 ,  194890.56,\n",
       "         239265.02,  681267.75,  704008.75,  468014.7 ,  380769.8 ,\n",
       "        1389359.9 , 1571088.4 ,  256431.25,  494287.88,  596883.9 ,\n",
       "        1051336.4 , 2052483.2 ,  848224.25,  559110.75,  188633.28,\n",
       "        1880002.  ,  793602.75, 1115170.5 ,  212042.02, 1205500.4 ,\n",
       "         837836.  ,  717525.  ,  796893.1 , 1118033.8 ,  869211.75,\n",
       "        1004381.  , 1391608.9 , 1302797.5 , 1233541.8 ,  718203.25,\n",
       "         793002.44, 1868110.9 , 1268924.2 , 1317882.  ,  691328.3 ,\n",
       "         860088.06,  625926.56, 1022609.2 , 1254336.4 , 2083907.9 ,\n",
       "         961467.56,  865808.5 ,  223177.69, 1154938.1 ,  424874.2 ,\n",
       "         692607.4 ,  274357.1 , 1577860.1 ,  591935.06,  652622.4 ,\n",
       "        1610502.1 ,  539131.25, 2532217.5 ,  862550.7 ,  309037.8 ,\n",
       "         572806.25, 1907945.1 , 1900226.1 ,  457269.16,  532230.  ,\n",
       "         684940.06, 1308239.1 ,  586302.3 , 1653355.8 , 1634659.6 ,\n",
       "         229084.31,  721206.2 ,  445968.  , 1252240.2 , 2266111.2 ,\n",
       "         671553.44,  281105.97,  606912.75, 3142272.8 ,  658907.5 ,\n",
       "        1021243.5 ,  656414.06,  716522.7 ,  650117.25,  798568.5 ,\n",
       "         279086.84,  755456.56,  457368.1 ,  219549.12,  496276.72,\n",
       "         795763.6 ,  290689.97,  553814.1 ,  759804.25,  186824.16,\n",
       "         293130.12,  753955.94, 1374064.4 , 2176923.5 ,  963608.25,\n",
       "         459266.06,  744352.75, 1077712.8 , 1269054.1 , 3004700.  ,\n",
       "         613205.2 , 1492898.1 , 2232329.5 ,  707501.9 ,  827029.4 ,\n",
       "         233856.61,  742209.9 ,  920291.75, 2646136.5 ,  618870.2 ,\n",
       "         636441.44,  576676.1 , 1165084.6 ,  340064.88, 2656750.2 ,\n",
       "        2102668.  ,  865708.06, 2228449.5 ,  493951.5 ,  476515.97,\n",
       "         333180.28,  357141.34, 1266229.1 ,  685635.25,  866390.6 ,\n",
       "         863454.56,  535124.5 ,  617777.06, 1153099.6 , 1510978.2 ,\n",
       "         710086.25, 1268132.5 ], dtype=float32)]"
      ]
     },
     "execution_count": 44,
     "metadata": {},
     "output_type": "execute_result"
    }
   ],
   "source": [
    "df3"
   ]
  },
  {
   "cell_type": "code",
   "execution_count": 36,
   "metadata": {},
   "outputs": [],
   "source": [
    "y_test2 = list(y_test)"
   ]
  },
  {
   "cell_type": "code",
   "execution_count": null,
   "metadata": {},
   "outputs": [],
   "source": [
    "df3 = [y_test2, y_pred]"
   ]
  },
  {
   "cell_type": "code",
   "execution_count": 37,
   "metadata": {},
   "outputs": [],
   "source": [
    "df3 = pd.DataFrame(list(zip(y_test, y_pred,(y_pred-y_test))),\n",
    "               columns =['test', 'pred',\"fark\"])"
   ]
  },
  {
   "cell_type": "code",
   "execution_count": 47,
   "metadata": {},
   "outputs": [
    {
     "data": {
      "text/html": [
       "<div>\n",
       "<style scoped>\n",
       "    .dataframe tbody tr th:only-of-type {\n",
       "        vertical-align: middle;\n",
       "    }\n",
       "\n",
       "    .dataframe tbody tr th {\n",
       "        vertical-align: top;\n",
       "    }\n",
       "\n",
       "    .dataframe thead th {\n",
       "        text-align: right;\n",
       "    }\n",
       "</style>\n",
       "<table border=\"1\" class=\"dataframe\">\n",
       "  <thead>\n",
       "    <tr style=\"text-align: right;\">\n",
       "      <th></th>\n",
       "      <th>test</th>\n",
       "      <th>pred</th>\n",
       "      <th>fark</th>\n",
       "    </tr>\n",
       "  </thead>\n",
       "  <tbody>\n",
       "    <tr>\n",
       "      <th>0</th>\n",
       "      <td>599999</td>\n",
       "      <td>633872.250</td>\n",
       "      <td>33873.250</td>\n",
       "    </tr>\n",
       "    <tr>\n",
       "      <th>1</th>\n",
       "      <td>805000</td>\n",
       "      <td>816781.125</td>\n",
       "      <td>11781.125</td>\n",
       "    </tr>\n",
       "    <tr>\n",
       "      <th>2</th>\n",
       "      <td>1275000</td>\n",
       "      <td>1236089.750</td>\n",
       "      <td>-38910.250</td>\n",
       "    </tr>\n",
       "    <tr>\n",
       "      <th>3</th>\n",
       "      <td>255000</td>\n",
       "      <td>231382.969</td>\n",
       "      <td>-23617.031</td>\n",
       "    </tr>\n",
       "    <tr>\n",
       "      <th>4</th>\n",
       "      <td>380000</td>\n",
       "      <td>364592.938</td>\n",
       "      <td>-15407.062</td>\n",
       "    </tr>\n",
       "    <tr>\n",
       "      <th>...</th>\n",
       "      <td>...</td>\n",
       "      <td>...</td>\n",
       "      <td>...</td>\n",
       "    </tr>\n",
       "    <tr>\n",
       "      <th>677</th>\n",
       "      <td>550000</td>\n",
       "      <td>617777.062</td>\n",
       "      <td>67777.062</td>\n",
       "    </tr>\n",
       "    <tr>\n",
       "      <th>678</th>\n",
       "      <td>1350000</td>\n",
       "      <td>1153099.625</td>\n",
       "      <td>-196900.375</td>\n",
       "    </tr>\n",
       "    <tr>\n",
       "      <th>679</th>\n",
       "      <td>1800000</td>\n",
       "      <td>1510978.250</td>\n",
       "      <td>-289021.750</td>\n",
       "    </tr>\n",
       "    <tr>\n",
       "      <th>680</th>\n",
       "      <td>615000</td>\n",
       "      <td>710086.250</td>\n",
       "      <td>95086.250</td>\n",
       "    </tr>\n",
       "    <tr>\n",
       "      <th>681</th>\n",
       "      <td>1299000</td>\n",
       "      <td>1268132.500</td>\n",
       "      <td>-30867.500</td>\n",
       "    </tr>\n",
       "  </tbody>\n",
       "</table>\n",
       "<p>682 rows × 3 columns</p>\n",
       "</div>"
      ],
      "text/plain": [
       "        test        pred        fark\n",
       "0     599999  633872.250   33873.250\n",
       "1     805000  816781.125   11781.125\n",
       "2    1275000 1236089.750  -38910.250\n",
       "3     255000  231382.969  -23617.031\n",
       "4     380000  364592.938  -15407.062\n",
       "..       ...         ...         ...\n",
       "677   550000  617777.062   67777.062\n",
       "678  1350000 1153099.625 -196900.375\n",
       "679  1800000 1510978.250 -289021.750\n",
       "680   615000  710086.250   95086.250\n",
       "681  1299000 1268132.500  -30867.500\n",
       "\n",
       "[682 rows x 3 columns]"
      ]
     },
     "execution_count": 47,
     "metadata": {},
     "output_type": "execute_result"
    }
   ],
   "source": [
    "df3"
   ]
  },
  {
   "cell_type": "code",
   "execution_count": 38,
   "metadata": {},
   "outputs": [
    {
     "data": {
      "text/plain": [
       "749750"
      ]
     },
     "execution_count": 38,
     "metadata": {},
     "output_type": "execute_result"
    }
   ],
   "source": [
    "df3[\"test\"].max()"
   ]
  },
  {
   "cell_type": "code",
   "execution_count": 40,
   "metadata": {},
   "outputs": [
    {
     "data": {
      "text/html": [
       "<div>\n",
       "<style scoped>\n",
       "    .dataframe tbody tr th:only-of-type {\n",
       "        vertical-align: middle;\n",
       "    }\n",
       "\n",
       "    .dataframe tbody tr th {\n",
       "        vertical-align: top;\n",
       "    }\n",
       "\n",
       "    .dataframe thead th {\n",
       "        text-align: right;\n",
       "    }\n",
       "</style>\n",
       "<table border=\"1\" class=\"dataframe\">\n",
       "  <thead>\n",
       "    <tr style=\"text-align: right;\">\n",
       "      <th></th>\n",
       "      <th>test</th>\n",
       "      <th>pred</th>\n",
       "      <th>fark</th>\n",
       "    </tr>\n",
       "  </thead>\n",
       "  <tbody>\n",
       "    <tr>\n",
       "      <th>4</th>\n",
       "      <td>749750</td>\n",
       "      <td>800196.125</td>\n",
       "      <td>50446.125</td>\n",
       "    </tr>\n",
       "  </tbody>\n",
       "</table>\n",
       "</div>"
      ],
      "text/plain": [
       "     test       pred      fark\n",
       "4  749750 800196.125 50446.125"
      ]
     },
     "execution_count": 40,
     "metadata": {},
     "output_type": "execute_result"
    }
   ],
   "source": [
    "df3[df3[\"test\"]==749750]"
   ]
  },
  {
   "cell_type": "code",
   "execution_count": 41,
   "metadata": {},
   "outputs": [
    {
     "data": {
      "text/html": [
       "<div>\n",
       "<style scoped>\n",
       "    .dataframe tbody tr th:only-of-type {\n",
       "        vertical-align: middle;\n",
       "    }\n",
       "\n",
       "    .dataframe tbody tr th {\n",
       "        vertical-align: top;\n",
       "    }\n",
       "\n",
       "    .dataframe thead th {\n",
       "        text-align: right;\n",
       "    }\n",
       "</style>\n",
       "<table border=\"1\" class=\"dataframe\">\n",
       "  <thead>\n",
       "    <tr style=\"text-align: right;\">\n",
       "      <th></th>\n",
       "      <th>count</th>\n",
       "      <th>mean</th>\n",
       "      <th>std</th>\n",
       "      <th>min</th>\n",
       "      <th>5%</th>\n",
       "      <th>25%</th>\n",
       "      <th>50%</th>\n",
       "      <th>75%</th>\n",
       "      <th>90%</th>\n",
       "      <th>99%</th>\n",
       "      <th>max</th>\n",
       "    </tr>\n",
       "  </thead>\n",
       "  <tbody>\n",
       "    <tr>\n",
       "      <th>test</th>\n",
       "      <td>38.000</td>\n",
       "      <td>372381.053</td>\n",
       "      <td>178536.318</td>\n",
       "      <td>120000.000</td>\n",
       "      <td>138500.000</td>\n",
       "      <td>237500.000</td>\n",
       "      <td>321500.000</td>\n",
       "      <td>490375.000</td>\n",
       "      <td>644500.000</td>\n",
       "      <td>723942.500</td>\n",
       "      <td>749750.000</td>\n",
       "    </tr>\n",
       "    <tr>\n",
       "      <th>pred</th>\n",
       "      <td>38.000</td>\n",
       "      <td>374880.594</td>\n",
       "      <td>179311.656</td>\n",
       "      <td>133655.938</td>\n",
       "      <td>196546.669</td>\n",
       "      <td>246021.770</td>\n",
       "      <td>313995.125</td>\n",
       "      <td>468510.961</td>\n",
       "      <td>668980.625</td>\n",
       "      <td>792592.186</td>\n",
       "      <td>800196.125</td>\n",
       "    </tr>\n",
       "    <tr>\n",
       "      <th>fark</th>\n",
       "      <td>38.000</td>\n",
       "      <td>2499.544</td>\n",
       "      <td>77915.693</td>\n",
       "      <td>-226440.188</td>\n",
       "      <td>-124536.738</td>\n",
       "      <td>-35988.840</td>\n",
       "      <td>8832.680</td>\n",
       "      <td>49878.141</td>\n",
       "      <td>100052.931</td>\n",
       "      <td>134554.074</td>\n",
       "      <td>137602.250</td>\n",
       "    </tr>\n",
       "  </tbody>\n",
       "</table>\n",
       "</div>"
      ],
      "text/plain": [
       "      count       mean        std         min          5%        25%        50%        75%        90%        99%        max\n",
       "test 38.000 372381.053 178536.318  120000.000  138500.000 237500.000 321500.000 490375.000 644500.000 723942.500 749750.000\n",
       "pred 38.000 374880.594 179311.656  133655.938  196546.669 246021.770 313995.125 468510.961 668980.625 792592.186 800196.125\n",
       "fark 38.000   2499.544  77915.693 -226440.188 -124536.738 -35988.840   8832.680  49878.141 100052.931 134554.074 137602.250"
      ]
     },
     "execution_count": 41,
     "metadata": {},
     "output_type": "execute_result"
    }
   ],
   "source": [
    "df3.describe([0.05,0.25, 0.75,0.90,0.99]).T"
   ]
  },
  {
   "cell_type": "code",
   "execution_count": null,
   "metadata": {},
   "outputs": [],
   "source": []
  },
  {
   "cell_type": "code",
   "execution_count": 42,
   "metadata": {},
   "outputs": [],
   "source": [
    "import joblib"
   ]
  },
  {
   "cell_type": "code",
   "execution_count": 43,
   "metadata": {},
   "outputs": [],
   "source": [
    "marka_model = joblib.dump(grid_final_model, \"Alfa Romeo.pkl\")"
   ]
  },
  {
   "cell_type": "code",
   "execution_count": null,
   "metadata": {},
   "outputs": [],
   "source": []
  }
 ],
 "metadata": {
  "colab": {
   "provenance": []
  },
  "kernelspec": {
   "display_name": "Python 3 (ipykernel)",
   "language": "python",
   "name": "python3"
  },
  "language_info": {
   "codemirror_mode": {
    "name": "ipython",
    "version": 3
   },
   "file_extension": ".py",
   "mimetype": "text/x-python",
   "name": "python",
   "nbconvert_exporter": "python",
   "pygments_lexer": "ipython3",
   "version": "3.8.8"
  }
 },
 "nbformat": 4,
 "nbformat_minor": 1
}
